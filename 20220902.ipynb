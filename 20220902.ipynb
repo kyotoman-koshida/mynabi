{
 "cells": [
  {
   "cell_type": "markdown",
   "metadata": {},
   "source": [
    "### lightGBMで分析をする"
   ]
  },
  {
   "cell_type": "markdown",
   "metadata": {},
   "source": [
    "まずは下準備"
   ]
  },
  {
   "cell_type": "code",
   "execution_count": 515,
   "metadata": {},
   "outputs": [],
   "source": [
    "import pandas as pd\n",
    "import numpy as np\n",
    "import lightgbm as lgb"
   ]
  },
  {
   "cell_type": "markdown",
   "metadata": {},
   "source": [
    "まずは、きのう（20220901.ipynb）で抽出した特徴量を読み込む"
   ]
  },
  {
   "cell_type": "code",
   "execution_count": 516,
   "metadata": {},
   "outputs": [],
   "source": [
    "rent = pd.read_csv('rent.csv')\n",
    "area_size = pd.read_csv('area_size.csv')\n",
    "house_age = pd.read_csv('house_age.csv')\n",
    "n_floor = pd.read_csv('n_floor.csv')\n",
    "room_arrange = pd.read_csv('room_arrange.csv')\n",
    "contract_span = pd.read_csv('contract_span.csv')"
   ]
  },
  {
   "cell_type": "code",
   "execution_count": 517,
   "metadata": {},
   "outputs": [],
   "source": [
    "X_train = pd.concat([house_age, area_size], axis=1)"
   ]
  },
  {
   "cell_type": "code",
   "execution_count": 518,
   "metadata": {},
   "outputs": [],
   "source": [
    "y_train = rent"
   ]
  },
  {
   "cell_type": "markdown",
   "metadata": {},
   "source": [
    "訓練データと検証データを分割しておく。"
   ]
  },
  {
   "cell_type": "code",
   "execution_count": 519,
   "metadata": {},
   "outputs": [],
   "source": [
    "from sklearn.model_selection import train_test_split\n",
    "\n",
    "X_train, X_valid, y_train, y_valid = train_test_split(X_train, y_train, test_size=0.3, random_state=0)"
   ]
  },
  {
   "cell_type": "code",
   "execution_count": 520,
   "metadata": {},
   "outputs": [],
   "source": [
    "test_area_size = pd.read_csv('test_area_size.csv')\n",
    "test_house_age = pd.read_csv('test_house_age.csv')\n",
    "test_n_floor = pd.read_csv('test_n_floor.csv')\n",
    "test_room_arrange = pd.read_csv('test_room_arrange.csv')\n",
    "test_contract_span = pd.read_csv('test_contract_span.csv')"
   ]
  },
  {
   "cell_type": "markdown",
   "metadata": {},
   "source": [
    "ひとまず、比較的単純で扱いやすい築年数(test_house_age)と面積(area_size)だけでlightGBMを使ってみる。"
   ]
  },
  {
   "cell_type": "code",
   "execution_count": 521,
   "metadata": {},
   "outputs": [],
   "source": [
    "X_test = pd.concat([test_house_age, test_area_size], axis=1)"
   ]
  },
  {
   "cell_type": "code",
   "execution_count": 522,
   "metadata": {},
   "outputs": [
    {
     "name": "stderr",
     "output_type": "stream",
     "text": [
      "/Users/koshidatatsuo/python/signate/mynabi/venv/lib/python3.10/site-packages/lightgbm/engine.py:181: UserWarning: 'early_stopping_rounds' argument is deprecated and will be removed in a future release of LightGBM. Pass 'early_stopping()' callback via 'callbacks' argument instead.\n",
      "  _log_warning(\"'early_stopping_rounds' argument is deprecated and will be removed in a future release of LightGBM. \"\n",
      "/Users/koshidatatsuo/python/signate/mynabi/venv/lib/python3.10/site-packages/lightgbm/engine.py:239: UserWarning: 'verbose_eval' argument is deprecated and will be removed in a future release of LightGBM. Pass 'log_evaluation()' callback via 'callbacks' argument instead.\n",
      "  _log_warning(\"'verbose_eval' argument is deprecated and will be removed in a future release of LightGBM. \"\n",
      "/Users/koshidatatsuo/python/signate/mynabi/venv/lib/python3.10/site-packages/lightgbm/basic.py:1487: UserWarning: params keyword has been found in `params` and will be ignored.\n",
      "Please use params argument of the Dataset constructor to pass this parameter.\n",
      "  _log_warning(f'{key} keyword has been found in `params` and will be ignored.\\n'\n"
     ]
    },
    {
     "name": "stdout",
     "output_type": "stream",
     "text": [
      "[LightGBM] [Warning] Unknown parameter: params\n",
      "[LightGBM] [Warning] Unknown parameter: params\n",
      "[LightGBM] [Warning] Auto-choosing row-wise multi-threading, the overhead of testing was 0.001421 seconds.\n",
      "You can set `force_row_wise=true` to remove the overhead.\n",
      "And if memory is not enough, you can set `force_col_wise=true`.\n",
      "[LightGBM] [Info] Total Bins 510\n",
      "[LightGBM] [Info] Number of data points in the train set: 22029, number of used features: 2\n",
      "[LightGBM] [Warning] Unknown parameter: params\n",
      "[LightGBM] [Info] Start training from score 118651.337373\n",
      "Training until validation scores don't improve for 10 rounds\n",
      "[10]\ttraining's l2: 2.06477e+09\tvalid_1's l2: 2.48908e+09\n",
      "[20]\ttraining's l2: 1.58646e+09\tvalid_1's l2: 2.11262e+09\n",
      "[30]\ttraining's l2: 1.46379e+09\tvalid_1's l2: 2.03611e+09\n",
      "[40]\ttraining's l2: 1.4094e+09\tvalid_1's l2: 1.99866e+09\n",
      "[50]\ttraining's l2: 1.37179e+09\tvalid_1's l2: 1.97978e+09\n",
      "[60]\ttraining's l2: 1.34303e+09\tvalid_1's l2: 1.95681e+09\n",
      "[70]\ttraining's l2: 1.32483e+09\tvalid_1's l2: 1.94649e+09\n",
      "[80]\ttraining's l2: 1.30224e+09\tvalid_1's l2: 1.9259e+09\n",
      "[90]\ttraining's l2: 1.28021e+09\tvalid_1's l2: 1.90427e+09\n",
      "[100]\ttraining's l2: 1.2591e+09\tvalid_1's l2: 1.89371e+09\n",
      "[110]\ttraining's l2: 1.24262e+09\tvalid_1's l2: 1.88111e+09\n",
      "[120]\ttraining's l2: 1.229e+09\tvalid_1's l2: 1.87253e+09\n",
      "[130]\ttraining's l2: 1.21466e+09\tvalid_1's l2: 1.86268e+09\n",
      "[140]\ttraining's l2: 1.20216e+09\tvalid_1's l2: 1.85666e+09\n",
      "[150]\ttraining's l2: 1.18354e+09\tvalid_1's l2: 1.84108e+09\n",
      "[160]\ttraining's l2: 1.16974e+09\tvalid_1's l2: 1.83309e+09\n",
      "[170]\ttraining's l2: 1.1567e+09\tvalid_1's l2: 1.82497e+09\n",
      "[180]\ttraining's l2: 1.14257e+09\tvalid_1's l2: 1.81385e+09\n",
      "[190]\ttraining's l2: 1.13324e+09\tvalid_1's l2: 1.80693e+09\n",
      "[200]\ttraining's l2: 1.12287e+09\tvalid_1's l2: 1.80237e+09\n",
      "[210]\ttraining's l2: 1.11154e+09\tvalid_1's l2: 1.7936e+09\n",
      "[220]\ttraining's l2: 1.10094e+09\tvalid_1's l2: 1.78673e+09\n",
      "[230]\ttraining's l2: 1.08855e+09\tvalid_1's l2: 1.78148e+09\n",
      "[240]\ttraining's l2: 1.07816e+09\tvalid_1's l2: 1.77379e+09\n",
      "[250]\ttraining's l2: 1.06934e+09\tvalid_1's l2: 1.76643e+09\n",
      "[260]\ttraining's l2: 1.06203e+09\tvalid_1's l2: 1.76177e+09\n",
      "[270]\ttraining's l2: 1.05205e+09\tvalid_1's l2: 1.756e+09\n",
      "[280]\ttraining's l2: 1.04313e+09\tvalid_1's l2: 1.7533e+09\n",
      "[290]\ttraining's l2: 1.03476e+09\tvalid_1's l2: 1.75077e+09\n",
      "[300]\ttraining's l2: 1.02798e+09\tvalid_1's l2: 1.74702e+09\n",
      "[310]\ttraining's l2: 1.02224e+09\tvalid_1's l2: 1.74354e+09\n",
      "[320]\ttraining's l2: 1.01504e+09\tvalid_1's l2: 1.74016e+09\n",
      "[330]\ttraining's l2: 1.00657e+09\tvalid_1's l2: 1.7331e+09\n",
      "[340]\ttraining's l2: 9.99587e+08\tvalid_1's l2: 1.73073e+09\n",
      "[350]\ttraining's l2: 9.94205e+08\tvalid_1's l2: 1.72498e+09\n",
      "[360]\ttraining's l2: 9.89352e+08\tvalid_1's l2: 1.71957e+09\n",
      "[370]\ttraining's l2: 9.83597e+08\tvalid_1's l2: 1.7164e+09\n",
      "[380]\ttraining's l2: 9.7814e+08\tvalid_1's l2: 1.71391e+09\n",
      "[390]\ttraining's l2: 9.71408e+08\tvalid_1's l2: 1.70904e+09\n",
      "[400]\ttraining's l2: 9.66046e+08\tvalid_1's l2: 1.70837e+09\n",
      "[410]\ttraining's l2: 9.62688e+08\tvalid_1's l2: 1.70738e+09\n",
      "[420]\ttraining's l2: 9.58021e+08\tvalid_1's l2: 1.70333e+09\n",
      "[430]\ttraining's l2: 9.52623e+08\tvalid_1's l2: 1.69647e+09\n",
      "[440]\ttraining's l2: 9.47204e+08\tvalid_1's l2: 1.69186e+09\n",
      "[450]\ttraining's l2: 9.40677e+08\tvalid_1's l2: 1.68792e+09\n",
      "[460]\ttraining's l2: 9.35928e+08\tvalid_1's l2: 1.68992e+09\n",
      "Early stopping, best iteration is:\n",
      "[450]\ttraining's l2: 9.40677e+08\tvalid_1's l2: 1.68792e+09\n"
     ]
    }
   ],
   "source": [
    "lgb_train = lgb.Dataset(X_train, y_train)\n",
    "lgb_eval = lgb.Dataset(X_valid, y_valid, reference=lgb_train)\n",
    "\n",
    "params = {\n",
    "    'objective':'regression',\n",
    "    'params':'rmse'\n",
    "}\n",
    "\n",
    "model = lgb.train(params, lgb_train, valid_sets=[lgb_train, lgb_eval], verbose_eval=10, num_boost_round=1000, early_stopping_rounds=10)\n",
    "\n",
    "y_pred = model.predict(X_test, num_iteration=model.best_iteration)"
   ]
  },
  {
   "cell_type": "markdown",
   "metadata": {},
   "source": [
    "誤差が大きすぎてお話にならない"
   ]
  },
  {
   "cell_type": "markdown",
   "metadata": {},
   "source": [
    "次に特徴量に間取りを加えてみる"
   ]
  },
  {
   "cell_type": "markdown",
   "metadata": {},
   "source": [
    "LDKに得点をふる。LとDとKに1点を加える。また、たまに現れるSにも1点を加える。そして居室の数をそれらの合計点に足す。<br>\n",
    "例えば、３LDKなら3+1+1+1=6点である。1Rなら1点である。"
   ]
  },
  {
   "cell_type": "code",
   "execution_count": 523,
   "metadata": {},
   "outputs": [],
   "source": [
    "room_arrange_scores = []\n",
    "for ldks in room_arrange['間取り']:\n",
    "    room_arrange_score = 0\n",
    "    for s in ldks:\n",
    "        if s.isdigit():\n",
    "            room_arrange_score += int(s)\n",
    "        elif (s in ['L', 'D', 'K', 'S']):\n",
    "            room_arrange_score += 1\n",
    "        else:\n",
    "            pass\n",
    "    \n",
    "    room_arrange_scores.append(room_arrange_score)"
   ]
  },
  {
   "cell_type": "code",
   "execution_count": 524,
   "metadata": {},
   "outputs": [],
   "source": [
    "room_arrange_scores = pd.Series(room_arrange_scores)"
   ]
  },
  {
   "cell_type": "markdown",
   "metadata": {},
   "source": [
    "room_arrangeの特典群を最大値と最小値を見ると、まあ妥当そうである。"
   ]
  },
  {
   "cell_type": "code",
   "execution_count": 525,
   "metadata": {},
   "outputs": [
    {
     "name": "stdout",
     "output_type": "stream",
     "text": [
      "9\n",
      "1\n"
     ]
    }
   ],
   "source": [
    "print(max(room_arrange_scores))\n",
    "print(min(room_arrange_scores))"
   ]
  },
  {
   "cell_type": "markdown",
   "metadata": {},
   "source": [
    "テストデータも作る"
   ]
  },
  {
   "cell_type": "code",
   "execution_count": 526,
   "metadata": {},
   "outputs": [],
   "source": [
    "test_room_arrange_scores = []\n",
    "for ldks in test_room_arrange['間取り']:\n",
    "    test_room_arrange_score = 0\n",
    "    for s in ldks:\n",
    "        if s.isdigit():\n",
    "            test_room_arrange_score += int(s)\n",
    "        elif (s in ['L', 'D', 'K', 'S']):\n",
    "            test_room_arrange_score += 1\n",
    "        else:\n",
    "            pass\n",
    "    \n",
    "    test_room_arrange_scores.append(test_room_arrange_score)"
   ]
  },
  {
   "cell_type": "code",
   "execution_count": 527,
   "metadata": {},
   "outputs": [],
   "source": [
    "test_room_arrange_scores = pd.Series(test_room_arrange_scores)"
   ]
  },
  {
   "cell_type": "markdown",
   "metadata": {},
   "source": [
    "こちらも問題なさそう"
   ]
  },
  {
   "cell_type": "code",
   "execution_count": 528,
   "metadata": {},
   "outputs": [
    {
     "name": "stdout",
     "output_type": "stream",
     "text": [
      "11\n",
      "1\n"
     ]
    }
   ],
   "source": [
    "print(max(test_room_arrange_scores))\n",
    "print(min(test_room_arrange_scores))"
   ]
  },
  {
   "cell_type": "markdown",
   "metadata": {},
   "source": [
    "それでは改めて、今作ったroom_arrange_scoresと、面積(area_size)と築年数(house_age)でlightGBMを動かす。"
   ]
  },
  {
   "cell_type": "code",
   "execution_count": 529,
   "metadata": {},
   "outputs": [],
   "source": [
    "X_train = pd.concat([house_age, area_size, room_arrange_scores], axis=1)"
   ]
  },
  {
   "cell_type": "code",
   "execution_count": 530,
   "metadata": {},
   "outputs": [],
   "source": [
    "y_train = rent"
   ]
  },
  {
   "cell_type": "code",
   "execution_count": 531,
   "metadata": {},
   "outputs": [],
   "source": [
    "X_train, X_valid, y_train, y_valid = train_test_split(X_train, y_train, test_size=0.3, random_state=0)"
   ]
  },
  {
   "cell_type": "code",
   "execution_count": 532,
   "metadata": {},
   "outputs": [],
   "source": [
    "X_test = pd.concat([test_house_age, test_area_size, test_room_arrange_scores], axis=1)"
   ]
  },
  {
   "cell_type": "code",
   "execution_count": 533,
   "metadata": {},
   "outputs": [
    {
     "name": "stdout",
     "output_type": "stream",
     "text": [
      "[LightGBM] [Warning] Unknown parameter: params\n",
      "[LightGBM] [Warning] Unknown parameter: params\n",
      "[LightGBM] [Warning] Auto-choosing col-wise multi-threading, the overhead of testing was 0.000630 seconds.\n",
      "You can set `force_col_wise=true` to remove the overhead.\n",
      "[LightGBM] [Info] Total Bins 520\n",
      "[LightGBM] [Info] Number of data points in the train set: 22029, number of used features: 3\n",
      "[LightGBM] [Warning] Unknown parameter: params\n",
      "[LightGBM] [Info] Start training from score 118651.337373\n",
      "Training until validation scores don't improve for 10 rounds\n",
      "[10]\ttraining's l2: 1.99721e+09\tvalid_1's l2: 2.41298e+09\n",
      "[20]\ttraining's l2: 1.48397e+09\tvalid_1's l2: 2.02411e+09\n",
      "[30]\ttraining's l2: 1.35231e+09\tvalid_1's l2: 1.95022e+09\n",
      "[40]\ttraining's l2: 1.29264e+09\tvalid_1's l2: 1.92746e+09\n",
      "[50]\ttraining's l2: 1.25185e+09\tvalid_1's l2: 1.89602e+09\n",
      "[60]\ttraining's l2: 1.21793e+09\tvalid_1's l2: 1.87348e+09\n"
     ]
    },
    {
     "name": "stderr",
     "output_type": "stream",
     "text": [
      "/Users/koshidatatsuo/python/signate/mynabi/venv/lib/python3.10/site-packages/lightgbm/engine.py:181: UserWarning: 'early_stopping_rounds' argument is deprecated and will be removed in a future release of LightGBM. Pass 'early_stopping()' callback via 'callbacks' argument instead.\n",
      "  _log_warning(\"'early_stopping_rounds' argument is deprecated and will be removed in a future release of LightGBM. \"\n",
      "/Users/koshidatatsuo/python/signate/mynabi/venv/lib/python3.10/site-packages/lightgbm/engine.py:239: UserWarning: 'verbose_eval' argument is deprecated and will be removed in a future release of LightGBM. Pass 'log_evaluation()' callback via 'callbacks' argument instead.\n",
      "  _log_warning(\"'verbose_eval' argument is deprecated and will be removed in a future release of LightGBM. \"\n",
      "/Users/koshidatatsuo/python/signate/mynabi/venv/lib/python3.10/site-packages/lightgbm/basic.py:1487: UserWarning: params keyword has been found in `params` and will be ignored.\n",
      "Please use params argument of the Dataset constructor to pass this parameter.\n",
      "  _log_warning(f'{key} keyword has been found in `params` and will be ignored.\\n'\n"
     ]
    },
    {
     "name": "stdout",
     "output_type": "stream",
     "text": [
      "[70]\ttraining's l2: 1.19107e+09\tvalid_1's l2: 1.8545e+09\n",
      "[80]\ttraining's l2: 1.1725e+09\tvalid_1's l2: 1.84695e+09\n",
      "[90]\ttraining's l2: 1.15241e+09\tvalid_1's l2: 1.83298e+09\n",
      "[100]\ttraining's l2: 1.13693e+09\tvalid_1's l2: 1.81906e+09\n",
      "[110]\ttraining's l2: 1.12522e+09\tvalid_1's l2: 1.81591e+09\n",
      "[120]\ttraining's l2: 1.10784e+09\tvalid_1's l2: 1.80278e+09\n",
      "[130]\ttraining's l2: 1.09168e+09\tvalid_1's l2: 1.78432e+09\n",
      "[140]\ttraining's l2: 1.07279e+09\tvalid_1's l2: 1.77055e+09\n",
      "[150]\ttraining's l2: 1.05701e+09\tvalid_1's l2: 1.75931e+09\n",
      "[160]\ttraining's l2: 1.04223e+09\tvalid_1's l2: 1.74911e+09\n",
      "[170]\ttraining's l2: 1.02962e+09\tvalid_1's l2: 1.74024e+09\n",
      "[180]\ttraining's l2: 1.014e+09\tvalid_1's l2: 1.72312e+09\n",
      "[190]\ttraining's l2: 1.00031e+09\tvalid_1's l2: 1.71233e+09\n",
      "[200]\ttraining's l2: 9.89271e+08\tvalid_1's l2: 1.70859e+09\n",
      "[210]\ttraining's l2: 9.77892e+08\tvalid_1's l2: 1.70187e+09\n",
      "[220]\ttraining's l2: 9.68978e+08\tvalid_1's l2: 1.69949e+09\n",
      "[230]\ttraining's l2: 9.57378e+08\tvalid_1's l2: 1.69149e+09\n",
      "[240]\ttraining's l2: 9.47502e+08\tvalid_1's l2: 1.68643e+09\n",
      "[250]\ttraining's l2: 9.40039e+08\tvalid_1's l2: 1.68498e+09\n",
      "[260]\ttraining's l2: 9.31163e+08\tvalid_1's l2: 1.67532e+09\n",
      "[270]\ttraining's l2: 9.2178e+08\tvalid_1's l2: 1.66547e+09\n",
      "[280]\ttraining's l2: 9.13404e+08\tvalid_1's l2: 1.66223e+09\n",
      "[290]\ttraining's l2: 9.06326e+08\tvalid_1's l2: 1.65806e+09\n",
      "[300]\ttraining's l2: 8.99636e+08\tvalid_1's l2: 1.6574e+09\n",
      "[310]\ttraining's l2: 8.92549e+08\tvalid_1's l2: 1.65166e+09\n",
      "[320]\ttraining's l2: 8.86893e+08\tvalid_1's l2: 1.64866e+09\n",
      "[330]\ttraining's l2: 8.79417e+08\tvalid_1's l2: 1.64179e+09\n",
      "[340]\ttraining's l2: 8.71348e+08\tvalid_1's l2: 1.63776e+09\n",
      "[350]\ttraining's l2: 8.64657e+08\tvalid_1's l2: 1.63582e+09\n",
      "[360]\ttraining's l2: 8.58776e+08\tvalid_1's l2: 1.63235e+09\n",
      "[370]\ttraining's l2: 8.47622e+08\tvalid_1's l2: 1.621e+09\n",
      "[380]\ttraining's l2: 8.40494e+08\tvalid_1's l2: 1.62209e+09\n",
      "Early stopping, best iteration is:\n",
      "[371]\ttraining's l2: 8.46796e+08\tvalid_1's l2: 1.61893e+09\n"
     ]
    }
   ],
   "source": [
    "lgb_train = lgb.Dataset(X_train, y_train)\n",
    "lgb_eval = lgb.Dataset(X_valid, y_valid, reference=lgb_train)\n",
    "\n",
    "params = {\n",
    "    'objective':'regression',\n",
    "    'params':'rmse'\n",
    "}\n",
    "\n",
    "model = lgb.train(params, lgb_train, valid_sets=[lgb_train, lgb_eval], verbose_eval=10, num_boost_round=1000, early_stopping_rounds=10)\n",
    "\n",
    "y_pred = model.predict(X_test, num_iteration=model.best_iteration)"
   ]
  },
  {
   "cell_type": "markdown",
   "metadata": {},
   "source": [
    "まだまともな結果が出ていない"
   ]
  },
  {
   "cell_type": "markdown",
   "metadata": {},
   "source": [
    "以下では試しに、「面積」「築年数」「間取り」「契約期間」「階数」を全て入れてみる。"
   ]
  },
  {
   "cell_type": "markdown",
   "metadata": {},
   "source": [
    "その前に「階数」はlightGBMに入れるための加工が済んでいないので、ここで加工しておく。"
   ]
  },
  {
   "cell_type": "markdown",
   "metadata": {},
   "source": [
    "階数の指標をfloor_scoreとFloor＿scoreの二つに分ける。<br>\n",
    "ここで<br>\n",
    "floor_score=(その部屋のある階数)<br>\n",
    "Floor_score=(全体の階数)<br>\n",
    "である。"
   ]
  },
  {
   "cell_type": "markdown",
   "metadata": {},
   "source": [
    "↓訓練データと検証データ用"
   ]
  },
  {
   "cell_type": "code",
   "execution_count": 535,
   "metadata": {},
   "outputs": [],
   "source": [
    "floor_scores = []\n",
    "Floor_scores = []\n",
    "for n in n_floor:\n",
    "    if (n == \"\" or \"所在階\"):\n",
    "        continue\n",
    "    else:\n",
    "        floor_score = int(n[0])\n",
    "        Floor_score = int(n[0])\n",
    "    floor_scores.append(floor_score)\n",
    "    Floor_scores.append(Floor_score)\n"
   ]
  },
  {
   "cell_type": "code",
   "execution_count": 536,
   "metadata": {},
   "outputs": [
    {
     "name": "stderr",
     "output_type": "stream",
     "text": [
      "/var/folders/qh/20ftf7rn5_58_rk3l25kt1nr0000gn/T/ipykernel_2651/1242462671.py:1: FutureWarning: The default dtype for empty Series will be 'object' instead of 'float64' in a future version. Specify a dtype explicitly to silence this warning.\n",
      "  floor_scores = pd.Series(floor_scores)\n",
      "/var/folders/qh/20ftf7rn5_58_rk3l25kt1nr0000gn/T/ipykernel_2651/1242462671.py:2: FutureWarning: The default dtype for empty Series will be 'object' instead of 'float64' in a future version. Specify a dtype explicitly to silence this warning.\n",
      "  Floor_scores = pd.Series(Floor_scores)\n"
     ]
    }
   ],
   "source": [
    "floor_scores = pd.Series(floor_scores)\n",
    "Floor_scores = pd.Series(Floor_scores)"
   ]
  },
  {
   "cell_type": "markdown",
   "metadata": {},
   "source": [
    "↓テストデータ用"
   ]
  },
  {
   "cell_type": "code",
   "execution_count": 537,
   "metadata": {},
   "outputs": [],
   "source": [
    "test_floor_scores = []\n",
    "test_Floor_scores = []\n",
    "for n in test_n_floor:\n",
    "    if (n == \"\" or \"所在階\"):\n",
    "        continue\n",
    "    else:\n",
    "        test_floor_score = int(n[0])\n",
    "        test_Floor_score = int(n[0])\n",
    "    test_floor_scores.append(test_floor_score)\n",
    "    test_Floor_scores.append(test_Floor_score)"
   ]
  },
  {
   "cell_type": "code",
   "execution_count": 538,
   "metadata": {},
   "outputs": [
    {
     "name": "stderr",
     "output_type": "stream",
     "text": [
      "/var/folders/qh/20ftf7rn5_58_rk3l25kt1nr0000gn/T/ipykernel_2651/816745274.py:1: FutureWarning: The default dtype for empty Series will be 'object' instead of 'float64' in a future version. Specify a dtype explicitly to silence this warning.\n",
      "  test_floor_scores = pd.Series(test_floor_scores)\n",
      "/var/folders/qh/20ftf7rn5_58_rk3l25kt1nr0000gn/T/ipykernel_2651/816745274.py:2: FutureWarning: The default dtype for empty Series will be 'object' instead of 'float64' in a future version. Specify a dtype explicitly to silence this warning.\n",
      "  test_Floor_scores = pd.Series(test_Floor_scores)\n"
     ]
    }
   ],
   "source": [
    "test_floor_scores = pd.Series(test_floor_scores)\n",
    "test_Floor_scores = pd.Series(test_Floor_scores)"
   ]
  },
  {
   "cell_type": "markdown",
   "metadata": {},
   "source": [
    "「面積」「築年数」「間取り」「契約期間」「所在階」の各データをlightGBMに入れる。"
   ]
  },
  {
   "cell_type": "code",
   "execution_count": 539,
   "metadata": {},
   "outputs": [],
   "source": [
    "X_train = pd.concat([house_age, area_size, room_arrange_scores, contract_span, floor_scores, Floor_scores], axis=1)"
   ]
  },
  {
   "cell_type": "code",
   "execution_count": 540,
   "metadata": {},
   "outputs": [],
   "source": [
    "y_train = rent"
   ]
  },
  {
   "cell_type": "code",
   "execution_count": 541,
   "metadata": {},
   "outputs": [],
   "source": [
    "X_train, X_valid, y_train, y_valid = train_test_split(X_train, y_train, test_size=0.3, random_state=0)"
   ]
  },
  {
   "cell_type": "code",
   "execution_count": 542,
   "metadata": {},
   "outputs": [],
   "source": [
    "X_test = pd.concat([test_house_age, test_area_size, test_room_arrange_scores, test_contract_span, test_floor_scores, test_Floor_scores], axis=1)"
   ]
  },
  {
   "cell_type": "code",
   "execution_count": 543,
   "metadata": {},
   "outputs": [
    {
     "name": "stderr",
     "output_type": "stream",
     "text": [
      "/Users/koshidatatsuo/python/signate/mynabi/venv/lib/python3.10/site-packages/lightgbm/engine.py:181: UserWarning: 'early_stopping_rounds' argument is deprecated and will be removed in a future release of LightGBM. Pass 'early_stopping()' callback via 'callbacks' argument instead.\n",
      "  _log_warning(\"'early_stopping_rounds' argument is deprecated and will be removed in a future release of LightGBM. \"\n",
      "/Users/koshidatatsuo/python/signate/mynabi/venv/lib/python3.10/site-packages/lightgbm/engine.py:239: UserWarning: 'verbose_eval' argument is deprecated and will be removed in a future release of LightGBM. Pass 'log_evaluation()' callback via 'callbacks' argument instead.\n",
      "  _log_warning(\"'verbose_eval' argument is deprecated and will be removed in a future release of LightGBM. \"\n",
      "/Users/koshidatatsuo/python/signate/mynabi/venv/lib/python3.10/site-packages/lightgbm/basic.py:1487: UserWarning: params keyword has been found in `params` and will be ignored.\n",
      "Please use params argument of the Dataset constructor to pass this parameter.\n",
      "  _log_warning(f'{key} keyword has been found in `params` and will be ignored.\\n'\n"
     ]
    },
    {
     "name": "stdout",
     "output_type": "stream",
     "text": [
      "[LightGBM] [Warning] Unknown parameter: params\n",
      "[LightGBM] [Warning] Unknown parameter: params\n",
      "[LightGBM] [Warning] Auto-choosing row-wise multi-threading, the overhead of testing was 0.000171 seconds.\n",
      "You can set `force_row_wise=true` to remove the overhead.\n",
      "And if memory is not enough, you can set `force_col_wise=true`.\n",
      "[LightGBM] [Info] Total Bins 531\n",
      "[LightGBM] [Info] Number of data points in the train set: 22029, number of used features: 4\n",
      "[LightGBM] [Warning] Unknown parameter: params\n",
      "[LightGBM] [Info] Start training from score 118651.337373\n",
      "Training until validation scores don't improve for 10 rounds\n",
      "[10]\ttraining's l2: 1.97646e+09\tvalid_1's l2: 2.39879e+09\n",
      "[20]\ttraining's l2: 1.43091e+09\tvalid_1's l2: 1.98045e+09\n",
      "[30]\ttraining's l2: 1.28227e+09\tvalid_1's l2: 1.89983e+09\n",
      "[40]\ttraining's l2: 1.21898e+09\tvalid_1's l2: 1.86189e+09\n",
      "[50]\ttraining's l2: 1.17963e+09\tvalid_1's l2: 1.84071e+09\n",
      "[60]\ttraining's l2: 1.14409e+09\tvalid_1's l2: 1.80942e+09\n",
      "[70]\ttraining's l2: 1.11216e+09\tvalid_1's l2: 1.77531e+09\n",
      "[80]\ttraining's l2: 1.09034e+09\tvalid_1's l2: 1.75475e+09\n",
      "[90]\ttraining's l2: 1.07137e+09\tvalid_1's l2: 1.73214e+09\n",
      "[100]\ttraining's l2: 1.05152e+09\tvalid_1's l2: 1.7136e+09\n",
      "[110]\ttraining's l2: 1.03599e+09\tvalid_1's l2: 1.70162e+09\n",
      "[120]\ttraining's l2: 1.01551e+09\tvalid_1's l2: 1.67618e+09\n",
      "[130]\ttraining's l2: 1.00044e+09\tvalid_1's l2: 1.66348e+09\n",
      "[140]\ttraining's l2: 9.8777e+08\tvalid_1's l2: 1.65126e+09\n",
      "[150]\ttraining's l2: 9.75532e+08\tvalid_1's l2: 1.63704e+09\n",
      "[160]\ttraining's l2: 9.60759e+08\tvalid_1's l2: 1.6315e+09\n",
      "[170]\ttraining's l2: 9.45957e+08\tvalid_1's l2: 1.62177e+09\n",
      "[180]\ttraining's l2: 9.28648e+08\tvalid_1's l2: 1.61678e+09\n",
      "[190]\ttraining's l2: 9.17279e+08\tvalid_1's l2: 1.60735e+09\n",
      "[200]\ttraining's l2: 9.0431e+08\tvalid_1's l2: 1.59881e+09\n",
      "[210]\ttraining's l2: 8.91987e+08\tvalid_1's l2: 1.58164e+09\n",
      "[220]\ttraining's l2: 8.82991e+08\tvalid_1's l2: 1.57829e+09\n",
      "[230]\ttraining's l2: 8.73797e+08\tvalid_1's l2: 1.57667e+09\n",
      "[240]\ttraining's l2: 8.63049e+08\tvalid_1's l2: 1.56607e+09\n",
      "[250]\ttraining's l2: 8.52465e+08\tvalid_1's l2: 1.55941e+09\n",
      "[260]\ttraining's l2: 8.44148e+08\tvalid_1's l2: 1.55538e+09\n",
      "[270]\ttraining's l2: 8.3529e+08\tvalid_1's l2: 1.5487e+09\n",
      "[280]\ttraining's l2: 8.27426e+08\tvalid_1's l2: 1.54275e+09\n",
      "[290]\ttraining's l2: 8.21087e+08\tvalid_1's l2: 1.53837e+09\n",
      "[300]\ttraining's l2: 8.14721e+08\tvalid_1's l2: 1.53131e+09\n",
      "[310]\ttraining's l2: 8.09523e+08\tvalid_1's l2: 1.52979e+09\n",
      "[320]\ttraining's l2: 7.99872e+08\tvalid_1's l2: 1.52347e+09\n",
      "[330]\ttraining's l2: 7.93173e+08\tvalid_1's l2: 1.51563e+09\n",
      "[340]\ttraining's l2: 7.85394e+08\tvalid_1's l2: 1.51036e+09\n",
      "[350]\ttraining's l2: 7.75314e+08\tvalid_1's l2: 1.50471e+09\n",
      "[360]\ttraining's l2: 7.6667e+08\tvalid_1's l2: 1.49868e+09\n",
      "Early stopping, best iteration is:\n",
      "[359]\ttraining's l2: 7.67703e+08\tvalid_1's l2: 1.49739e+09\n"
     ]
    }
   ],
   "source": [
    "lgb_train = lgb.Dataset(X_train, y_train)\n",
    "lgb_eval = lgb.Dataset(X_valid, y_valid, reference=lgb_train)\n",
    "\n",
    "params = {\n",
    "    'objective':'regression',\n",
    "    'params':'rmse'\n",
    "}\n",
    "\n",
    "model = lgb.train(params, lgb_train, valid_sets=[lgb_train, lgb_eval], verbose_eval=10, num_boost_round=1000, early_stopping_rounds=10)\n",
    "\n",
    "y_pred = model.predict(X_test, num_iteration=model.best_iteration)"
   ]
  },
  {
   "cell_type": "code",
   "execution_count": null,
   "metadata": {},
   "outputs": [],
   "source": []
  }
 ],
 "metadata": {
  "kernelspec": {
   "display_name": "Python 3.10.5 ('venv': venv)",
   "language": "python",
   "name": "python3"
  },
  "language_info": {
   "codemirror_mode": {
    "name": "ipython",
    "version": 3
   },
   "file_extension": ".py",
   "mimetype": "text/x-python",
   "name": "python",
   "nbconvert_exporter": "python",
   "pygments_lexer": "ipython3",
   "version": "3.10.5"
  },
  "orig_nbformat": 4,
  "vscode": {
   "interpreter": {
    "hash": "b37a52d913339e4f7edd98eba251795ba561325231c15b6137ab41e2758152be"
   }
  }
 },
 "nbformat": 4,
 "nbformat_minor": 2
}
