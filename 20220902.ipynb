{
 "cells": [
  {
   "cell_type": "markdown",
   "metadata": {},
   "source": [
    "### lightGBMで分析をする"
   ]
  },
  {
   "cell_type": "markdown",
   "metadata": {},
   "source": [
    "まずは下準備"
   ]
  },
  {
   "cell_type": "code",
   "execution_count": 212,
   "metadata": {},
   "outputs": [],
   "source": [
    "import pandas as pd\n",
    "import numpy as np\n",
    "import lightgbm as lgb"
   ]
  },
  {
   "cell_type": "markdown",
   "metadata": {},
   "source": [
    "まずは、きのう（20220901.ipynb）で抽出した特徴量を読み込む"
   ]
  },
  {
   "cell_type": "code",
   "execution_count": 213,
   "metadata": {},
   "outputs": [],
   "source": [
    "rent = pd.read_csv('rent.csv')\n",
    "area_size = pd.read_csv('area_size.csv')\n",
    "house_age = pd.read_csv('house_age.csv')\n",
    "n_floor = pd.read_csv('n_floor.csv')\n",
    "room_arrange = pd.read_csv('room_arrange.csv')\n",
    "contract_span = pd.read_csv('contract_span.csv')"
   ]
  },
  {
   "cell_type": "code",
   "execution_count": 214,
   "metadata": {},
   "outputs": [],
   "source": [
    "X_train = pd.concat([house_age, area_size], axis=1)"
   ]
  },
  {
   "cell_type": "code",
   "execution_count": 215,
   "metadata": {},
   "outputs": [],
   "source": [
    "y_train = rent"
   ]
  },
  {
   "cell_type": "markdown",
   "metadata": {},
   "source": [
    "訓練データと検証データを分割しておく。"
   ]
  },
  {
   "cell_type": "code",
   "execution_count": 216,
   "metadata": {},
   "outputs": [],
   "source": [
    "from sklearn.model_selection import train_test_split\n",
    "\n",
    "X_train, X_valid, y_train, y_valid = train_test_split(X_train, y_train, test_size=0.3, random_state=0)"
   ]
  },
  {
   "cell_type": "code",
   "execution_count": 217,
   "metadata": {},
   "outputs": [],
   "source": [
    "test_area_size = pd.read_csv('test_area_size.csv')\n",
    "test_house_age = pd.read_csv('test_house_age.csv')\n",
    "test_n_floor = pd.read_csv('test_n_floor.csv')\n",
    "test_room_arrange = pd.read_csv('test_room_arrange.csv')\n",
    "test_contract_span = pd.read_csv('test_contract_span.csv')"
   ]
  },
  {
   "cell_type": "markdown",
   "metadata": {},
   "source": [
    "ひとまず、比較的単純で扱いやすい築年数(test_house_age)と面積(area_size)だけでlightGBMを使ってみる。"
   ]
  },
  {
   "cell_type": "code",
   "execution_count": 218,
   "metadata": {},
   "outputs": [],
   "source": [
    "X_test = pd.concat([test_house_age, test_area_size], axis=1)"
   ]
  },
  {
   "cell_type": "code",
   "execution_count": 219,
   "metadata": {},
   "outputs": [
    {
     "name": "stderr",
     "output_type": "stream",
     "text": [
      "c:\\Users\\koshi\\python\\signate\\mynabi\\venv\\lib\\site-packages\\lightgbm\\engine.py:181: UserWarning: 'early_stopping_rounds' argument is deprecated and will be removed in a future release of LightGBM. Pass 'early_stopping()' callback via 'callbacks' argument instead.\n",
      "  _log_warning(\"'early_stopping_rounds' argument is deprecated and will be removed in a future release of LightGBM. \"\n",
      "c:\\Users\\koshi\\python\\signate\\mynabi\\venv\\lib\\site-packages\\lightgbm\\engine.py:239: UserWarning: 'verbose_eval' argument is deprecated and will be removed in a future release of LightGBM. Pass 'log_evaluation()' callback via 'callbacks' argument instead.\n",
      "  _log_warning(\"'verbose_eval' argument is deprecated and will be removed in a future release of LightGBM. \"\n",
      "c:\\Users\\koshi\\python\\signate\\mynabi\\venv\\lib\\site-packages\\lightgbm\\basic.py:1487: UserWarning: params keyword has been found in `params` and will be ignored.\n",
      "Please use params argument of the Dataset constructor to pass this parameter.\n",
      "  _log_warning(f'{key} keyword has been found in `params` and will be ignored.\\n'\n"
     ]
    },
    {
     "name": "stdout",
     "output_type": "stream",
     "text": [
      "[LightGBM] [Warning] Unknown parameter: params\n",
      "[LightGBM] [Warning] Unknown parameter: params\n",
      "[LightGBM] [Warning] Auto-choosing col-wise multi-threading, the overhead of testing was 0.000438 seconds.\n",
      "You can set `force_col_wise=true` to remove the overhead.\n",
      "[LightGBM] [Info] Total Bins 510\n",
      "[LightGBM] [Info] Number of data points in the train set: 22029, number of used features: 2\n",
      "[LightGBM] [Warning] Unknown parameter: params\n",
      "[LightGBM] [Info] Start training from score 118651.337373\n",
      "Training until validation scores don't improve for 10 rounds\n",
      "[10]\ttraining's l2: 2.06477e+09\tvalid_1's l2: 2.48908e+09\n",
      "[20]\ttraining's l2: 1.58646e+09\tvalid_1's l2: 2.11262e+09\n",
      "[30]\ttraining's l2: 1.46379e+09\tvalid_1's l2: 2.03611e+09\n",
      "[40]\ttraining's l2: 1.4094e+09\tvalid_1's l2: 1.99866e+09\n",
      "[50]\ttraining's l2: 1.37179e+09\tvalid_1's l2: 1.97978e+09\n",
      "[60]\ttraining's l2: 1.34303e+09\tvalid_1's l2: 1.95681e+09\n",
      "[70]\ttraining's l2: 1.32483e+09\tvalid_1's l2: 1.94649e+09\n",
      "[80]\ttraining's l2: 1.30224e+09\tvalid_1's l2: 1.9259e+09\n",
      "[90]\ttraining's l2: 1.28021e+09\tvalid_1's l2: 1.90427e+09\n",
      "[100]\ttraining's l2: 1.2591e+09\tvalid_1's l2: 1.89371e+09\n",
      "[110]\ttraining's l2: 1.24262e+09\tvalid_1's l2: 1.88111e+09\n",
      "[120]\ttraining's l2: 1.229e+09\tvalid_1's l2: 1.87253e+09\n",
      "[130]\ttraining's l2: 1.21466e+09\tvalid_1's l2: 1.86268e+09\n",
      "[140]\ttraining's l2: 1.20216e+09\tvalid_1's l2: 1.85666e+09\n",
      "[150]\ttraining's l2: 1.18354e+09\tvalid_1's l2: 1.84108e+09\n",
      "[160]\ttraining's l2: 1.16974e+09\tvalid_1's l2: 1.83309e+09\n",
      "[170]\ttraining's l2: 1.1567e+09\tvalid_1's l2: 1.82497e+09\n",
      "[180]\ttraining's l2: 1.14257e+09\tvalid_1's l2: 1.81385e+09\n",
      "[190]\ttraining's l2: 1.13324e+09\tvalid_1's l2: 1.80693e+09\n",
      "[200]\ttraining's l2: 1.12287e+09\tvalid_1's l2: 1.80237e+09\n",
      "[210]\ttraining's l2: 1.11154e+09\tvalid_1's l2: 1.7936e+09\n",
      "[220]\ttraining's l2: 1.10094e+09\tvalid_1's l2: 1.78673e+09\n",
      "[230]\ttraining's l2: 1.08855e+09\tvalid_1's l2: 1.78148e+09\n",
      "[240]\ttraining's l2: 1.07816e+09\tvalid_1's l2: 1.77379e+09\n",
      "[250]\ttraining's l2: 1.06934e+09\tvalid_1's l2: 1.76643e+09\n",
      "[260]\ttraining's l2: 1.06203e+09\tvalid_1's l2: 1.76177e+09\n",
      "[270]\ttraining's l2: 1.05205e+09\tvalid_1's l2: 1.756e+09\n",
      "[280]\ttraining's l2: 1.04313e+09\tvalid_1's l2: 1.7533e+09\n",
      "[290]\ttraining's l2: 1.03476e+09\tvalid_1's l2: 1.75077e+09\n",
      "[300]\ttraining's l2: 1.02798e+09\tvalid_1's l2: 1.74702e+09\n",
      "[310]\ttraining's l2: 1.02224e+09\tvalid_1's l2: 1.74354e+09\n",
      "[320]\ttraining's l2: 1.01504e+09\tvalid_1's l2: 1.74016e+09\n",
      "[330]\ttraining's l2: 1.00657e+09\tvalid_1's l2: 1.7331e+09\n",
      "[340]\ttraining's l2: 9.99587e+08\tvalid_1's l2: 1.73073e+09\n",
      "[350]\ttraining's l2: 9.94205e+08\tvalid_1's l2: 1.72498e+09\n",
      "[360]\ttraining's l2: 9.89352e+08\tvalid_1's l2: 1.71957e+09\n",
      "[370]\ttraining's l2: 9.83597e+08\tvalid_1's l2: 1.7164e+09\n",
      "[380]\ttraining's l2: 9.7814e+08\tvalid_1's l2: 1.71391e+09\n",
      "[390]\ttraining's l2: 9.71408e+08\tvalid_1's l2: 1.70904e+09\n",
      "[400]\ttraining's l2: 9.66046e+08\tvalid_1's l2: 1.70837e+09\n",
      "[410]\ttraining's l2: 9.62688e+08\tvalid_1's l2: 1.70738e+09\n",
      "[420]\ttraining's l2: 9.58021e+08\tvalid_1's l2: 1.70333e+09\n",
      "[430]\ttraining's l2: 9.52623e+08\tvalid_1's l2: 1.69647e+09\n",
      "[440]\ttraining's l2: 9.47204e+08\tvalid_1's l2: 1.69186e+09\n",
      "[450]\ttraining's l2: 9.40677e+08\tvalid_1's l2: 1.68792e+09\n",
      "[460]\ttraining's l2: 9.35928e+08\tvalid_1's l2: 1.68992e+09\n",
      "Early stopping, best iteration is:\n",
      "[450]\ttraining's l2: 9.40677e+08\tvalid_1's l2: 1.68792e+09\n"
     ]
    }
   ],
   "source": [
    "lgb_train = lgb.Dataset(X_train, y_train)\n",
    "lgb_eval = lgb.Dataset(X_valid, y_valid, reference=lgb_train)\n",
    "\n",
    "params = {\n",
    "    'objective':'regression',\n",
    "    'params':'rmse'\n",
    "}\n",
    "\n",
    "model = lgb.train(params, lgb_train, valid_sets=[lgb_train, lgb_eval], verbose_eval=10, num_boost_round=1000, early_stopping_rounds=10)\n",
    "\n",
    "y_pred = model.predict(X_test, num_iteration=model.best_iteration)"
   ]
  },
  {
   "cell_type": "markdown",
   "metadata": {},
   "source": [
    "誤差が大きすぎてお話にならない"
   ]
  },
  {
   "cell_type": "markdown",
   "metadata": {},
   "source": [
    "次に特徴量に間取りを加えてみる"
   ]
  },
  {
   "cell_type": "markdown",
   "metadata": {},
   "source": [
    "LDKに得点をふる。LとDとKに1点を加える。また、たまに現れるSにも1点を加える。そして居室の数をそれらの合計点に足す。<br>\n",
    "例えば、３LDKなら3+1+1+1=6点である。1Rなら1点である。"
   ]
  },
  {
   "cell_type": "code",
   "execution_count": 220,
   "metadata": {},
   "outputs": [],
   "source": [
    "room_arrange_scores = []\n",
    "for ldks in room_arrange['間取り']:\n",
    "    room_arrange_score = 0\n",
    "    for s in ldks:\n",
    "        if s.isdigit():\n",
    "            room_arrange_score += int(s)\n",
    "        elif (s in ['L', 'D', 'K', 'S']):\n",
    "            room_arrange_score += 1\n",
    "        else:\n",
    "            pass\n",
    "    \n",
    "    room_arrange_scores.append(room_arrange_score)"
   ]
  },
  {
   "cell_type": "code",
   "execution_count": 221,
   "metadata": {},
   "outputs": [],
   "source": [
    "room_arrange_scores = pd.Series(room_arrange_scores)"
   ]
  },
  {
   "cell_type": "markdown",
   "metadata": {},
   "source": [
    "room_arrangeの特典群を最大値と最小値を見ると、まあ妥当そうである。"
   ]
  },
  {
   "cell_type": "code",
   "execution_count": 222,
   "metadata": {},
   "outputs": [
    {
     "name": "stdout",
     "output_type": "stream",
     "text": [
      "9\n",
      "1\n"
     ]
    }
   ],
   "source": [
    "print(max(room_arrange_scores))\n",
    "print(min(room_arrange_scores))"
   ]
  },
  {
   "cell_type": "markdown",
   "metadata": {},
   "source": [
    "テストデータも作る"
   ]
  },
  {
   "cell_type": "code",
   "execution_count": 223,
   "metadata": {},
   "outputs": [],
   "source": [
    "test_room_arrange_scores = []\n",
    "for ldks in test_room_arrange['間取り']:\n",
    "    test_room_arrange_score = 0\n",
    "    for s in ldks:\n",
    "        if s.isdigit():\n",
    "            test_room_arrange_score += int(s)\n",
    "        elif (s in ['L', 'D', 'K', 'S']):\n",
    "            test_room_arrange_score += 1\n",
    "        else:\n",
    "            pass\n",
    "    \n",
    "    test_room_arrange_scores.append(test_room_arrange_score)"
   ]
  },
  {
   "cell_type": "code",
   "execution_count": 224,
   "metadata": {},
   "outputs": [],
   "source": [
    "test_room_arrange_scores = pd.Series(data=test_room_arrange_scores, name='間取り得点')"
   ]
  },
  {
   "cell_type": "markdown",
   "metadata": {},
   "source": [
    "こちらも問題なさそう"
   ]
  },
  {
   "cell_type": "code",
   "execution_count": 225,
   "metadata": {},
   "outputs": [
    {
     "name": "stdout",
     "output_type": "stream",
     "text": [
      "11\n",
      "1\n"
     ]
    }
   ],
   "source": [
    "print(max(test_room_arrange_scores))\n",
    "print(min(test_room_arrange_scores))"
   ]
  },
  {
   "cell_type": "markdown",
   "metadata": {},
   "source": [
    "それでは改めて、今作ったroom_arrange_scoresと、面積(area_size)と築年数(house_age)でlightGBMを動かす。"
   ]
  },
  {
   "cell_type": "code",
   "execution_count": 226,
   "metadata": {},
   "outputs": [],
   "source": [
    "X_train = pd.concat([house_age, area_size, room_arrange_scores], axis=1)"
   ]
  },
  {
   "cell_type": "code",
   "execution_count": 227,
   "metadata": {},
   "outputs": [],
   "source": [
    "y_train = rent"
   ]
  },
  {
   "cell_type": "code",
   "execution_count": 228,
   "metadata": {},
   "outputs": [],
   "source": [
    "X_train, X_valid, y_train, y_valid = train_test_split(X_train, y_train, test_size=0.3, random_state=0)"
   ]
  },
  {
   "cell_type": "code",
   "execution_count": 229,
   "metadata": {},
   "outputs": [],
   "source": [
    "X_test = pd.concat([test_house_age, test_area_size, test_room_arrange_scores], axis=1)"
   ]
  },
  {
   "cell_type": "code",
   "execution_count": 230,
   "metadata": {},
   "outputs": [
    {
     "name": "stderr",
     "output_type": "stream",
     "text": [
      "c:\\Users\\koshi\\python\\signate\\mynabi\\venv\\lib\\site-packages\\lightgbm\\engine.py:181: UserWarning: 'early_stopping_rounds' argument is deprecated and will be removed in a future release of LightGBM. Pass 'early_stopping()' callback via 'callbacks' argument instead.\n",
      "  _log_warning(\"'early_stopping_rounds' argument is deprecated and will be removed in a future release of LightGBM. \"\n",
      "c:\\Users\\koshi\\python\\signate\\mynabi\\venv\\lib\\site-packages\\lightgbm\\engine.py:239: UserWarning: 'verbose_eval' argument is deprecated and will be removed in a future release of LightGBM. Pass 'log_evaluation()' callback via 'callbacks' argument instead.\n",
      "  _log_warning(\"'verbose_eval' argument is deprecated and will be removed in a future release of LightGBM. \"\n"
     ]
    },
    {
     "name": "stdout",
     "output_type": "stream",
     "text": [
      "[LightGBM] [Warning] Auto-choosing row-wise multi-threading, the overhead of testing was 0.000216 seconds.\n",
      "You can set `force_row_wise=true` to remove the overhead.\n",
      "And if memory is not enough, you can set `force_col_wise=true`.\n",
      "[LightGBM] [Info] Total Bins 520\n",
      "[LightGBM] [Info] Number of data points in the train set: 22029, number of used features: 3\n",
      "[LightGBM] [Info] Start training from score 118651.337373\n",
      "Training until validation scores don't improve for 10 rounds\n",
      "[10]\ttraining's rmse: 44690.1\tvalid_1's rmse: 49122.1\n",
      "[20]\ttraining's rmse: 38522.3\tvalid_1's rmse: 44990.2\n",
      "[30]\ttraining's rmse: 36773.8\tvalid_1's rmse: 44161.3\n",
      "[40]\ttraining's rmse: 35953.3\tvalid_1's rmse: 43902.9\n",
      "[50]\ttraining's rmse: 35381.4\tvalid_1's rmse: 43543.3\n",
      "[60]\ttraining's rmse: 34898.8\tvalid_1's rmse: 43283.7\n",
      "[70]\ttraining's rmse: 34511.9\tvalid_1's rmse: 43064\n",
      "[80]\ttraining's rmse: 34241.8\tvalid_1's rmse: 42976.2\n",
      "[90]\ttraining's rmse: 33947.1\tvalid_1's rmse: 42813.4\n",
      "[100]\ttraining's rmse: 33718.4\tvalid_1's rmse: 42650.4\n",
      "[110]\ttraining's rmse: 33544.3\tvalid_1's rmse: 42613.5\n",
      "[120]\ttraining's rmse: 33284.3\tvalid_1's rmse: 42459.2\n",
      "[130]\ttraining's rmse: 33040.6\tvalid_1's rmse: 42241.2\n",
      "[140]\ttraining's rmse: 32753.4\tvalid_1's rmse: 42077.9\n",
      "[150]\ttraining's rmse: 32511.6\tvalid_1's rmse: 41944.1\n",
      "[160]\ttraining's rmse: 32283.5\tvalid_1's rmse: 41822.4\n",
      "[170]\ttraining's rmse: 32087.8\tvalid_1's rmse: 41716.2\n",
      "[180]\ttraining's rmse: 31843.3\tvalid_1's rmse: 41510.4\n",
      "[190]\ttraining's rmse: 31627.6\tvalid_1's rmse: 41380.3\n",
      "[200]\ttraining's rmse: 31452.7\tvalid_1's rmse: 41335.1\n",
      "[210]\ttraining's rmse: 31271.3\tvalid_1's rmse: 41253.8\n",
      "[220]\ttraining's rmse: 31128.4\tvalid_1's rmse: 41224.9\n",
      "[230]\ttraining's rmse: 30941.5\tvalid_1's rmse: 41127.7\n",
      "[240]\ttraining's rmse: 30781.5\tvalid_1's rmse: 41066.1\n",
      "[250]\ttraining's rmse: 30660.1\tvalid_1's rmse: 41048.5\n",
      "[260]\ttraining's rmse: 30515\tvalid_1's rmse: 40930.6\n",
      "[270]\ttraining's rmse: 30360.8\tvalid_1's rmse: 40810.1\n",
      "[280]\ttraining's rmse: 30222.6\tvalid_1's rmse: 40770.4\n",
      "[290]\ttraining's rmse: 30105.3\tvalid_1's rmse: 40719.3\n",
      "[300]\ttraining's rmse: 29993.9\tvalid_1's rmse: 40711.1\n",
      "[310]\ttraining's rmse: 29875.6\tvalid_1's rmse: 40640.6\n",
      "[320]\ttraining's rmse: 29780.7\tvalid_1's rmse: 40603.7\n",
      "[330]\ttraining's rmse: 29655\tvalid_1's rmse: 40519\n",
      "[340]\ttraining's rmse: 29518.6\tvalid_1's rmse: 40469.2\n",
      "[350]\ttraining's rmse: 29405\tvalid_1's rmse: 40445.3\n",
      "[360]\ttraining's rmse: 29304.9\tvalid_1's rmse: 40402.4\n",
      "[370]\ttraining's rmse: 29114\tvalid_1's rmse: 40261.6\n",
      "[380]\ttraining's rmse: 28991.3\tvalid_1's rmse: 40275.2\n",
      "Early stopping, best iteration is:\n",
      "[371]\ttraining's rmse: 29099.8\tvalid_1's rmse: 40235.9\n"
     ]
    }
   ],
   "source": [
    "lgb_train = lgb.Dataset(X_train, y_train)\n",
    "lgb_eval = lgb.Dataset(X_valid, y_valid, reference=lgb_train)\n",
    "\n",
    "params = {\n",
    "    'objective':'regression',\n",
    "    'metrics':'rmse'\n",
    "}\n",
    "\n",
    "model = lgb.train(params, lgb_train, valid_sets=[lgb_train, lgb_eval], verbose_eval=10, num_boost_round=1000, early_stopping_rounds=10)\n",
    "\n",
    "y_pred = model.predict(X_test, num_iteration=model.best_iteration)"
   ]
  },
  {
   "cell_type": "markdown",
   "metadata": {},
   "source": [
    "まだまともな結果が出ていない"
   ]
  },
  {
   "cell_type": "markdown",
   "metadata": {},
   "source": [
    "以下では試しに、「面積」「築年数」「間取り」「契約期間」「階数」を全て入れてみる。"
   ]
  },
  {
   "cell_type": "markdown",
   "metadata": {},
   "source": [
    "その前に「階数」はlightGBMに入れるための加工が済んでいないので、ここで加工しておく。"
   ]
  },
  {
   "cell_type": "markdown",
   "metadata": {},
   "source": [
    "階数の指標をfloor_scoreとFloor＿scoreの二つに分ける。<br>\n",
    "ここで<br>\n",
    "floor_score=(その部屋のある階数)<br>\n",
    "Floor_score=(全体の階数)<br>\n",
    "である。"
   ]
  },
  {
   "cell_type": "markdown",
   "metadata": {},
   "source": [
    "↓訓練データと検証データ用"
   ]
  },
  {
   "cell_type": "code",
   "execution_count": 231,
   "metadata": {},
   "outputs": [],
   "source": [
    "from cmath import nan\n",
    "import re\n",
    "\n",
    "i = 0\n",
    "for s in n_floor[\"所在階\"]:\n",
    "    try:\n",
    "        n_floor[\"所在階\"][i] = re.findall(r\"\\d+\", s)\n",
    "    except:\n",
    "        n_floor[\"所在階\"][i] = nan\n",
    "    i += 1"
   ]
  },
  {
   "cell_type": "code",
   "execution_count": 232,
   "metadata": {},
   "outputs": [],
   "source": [
    "floor_scores = []\n",
    "Floor_scores = []\n",
    "for n in n_floor[\"所在階\"]:\n",
    "    if (n == \"\"):\n",
    "        continue\n",
    "    else:\n",
    "        try:\n",
    "            floor_score = int(n[0])\n",
    "        except:\n",
    "            floor_score = nan\n",
    "        try:\n",
    "            Floor_score = int(n[1])\n",
    "        except:\n",
    "            Floor_score = nan\n",
    "        floor_scores.append(floor_score)\n",
    "        Floor_scores.append(Floor_score)\n",
    "\n",
    "floor_scores = pd.Series(data=floor_scores, name='所在階')\n",
    "Floor_scores = pd.Series(data=Floor_scores, name='全体の階数')\n",
    "\n",
    "#floor_scores = floor_scores.rename(columns={0:'所在階'})#列名の振り直し\n",
    "floor_scores.to_csv(\"floor_scores.csv\",index=False)\n",
    "#Floor_scores = Floor_scores.rename(columns={0:'全体の階数'})#列名の振り直し\n",
    "Floor_scores.to_csv(\"capital_floor_scores.csv\",index=False)\n"
   ]
  },
  {
   "cell_type": "markdown",
   "metadata": {},
   "source": [
    "↓テストデータ用"
   ]
  },
  {
   "cell_type": "code",
   "execution_count": 233,
   "metadata": {},
   "outputs": [
    {
     "data": {
      "text/plain": [
       "'['"
      ]
     },
     "execution_count": 233,
     "metadata": {},
     "output_type": "execute_result"
    }
   ],
   "source": [
    "test_n_floor['所在階'][0][0]"
   ]
  },
  {
   "cell_type": "code",
   "execution_count": 234,
   "metadata": {},
   "outputs": [
    {
     "data": {
      "text/plain": [
       "0        8.0\n",
       "1        3.0\n",
       "2        1.0\n",
       "3        1.0\n",
       "4        4.0\n",
       "        ... \n",
       "31257    6.0\n",
       "31258    8.0\n",
       "31259    1.0\n",
       "31260    1.0\n",
       "31261    5.0\n",
       "Name: 全体の階数, Length: 31262, dtype: float64"
      ]
     },
     "execution_count": 234,
     "metadata": {},
     "output_type": "execute_result"
    }
   ],
   "source": [
    "test_Floor_scores"
   ]
  },
  {
   "cell_type": "code",
   "execution_count": 235,
   "metadata": {},
   "outputs": [],
   "source": [
    "test_floor_scores = []\n",
    "test_Floor_scores = []\n",
    "for n in test_n_floor[\"所在階\"]:\n",
    "    if (n == \"\"):\n",
    "        continue\n",
    "    else:\n",
    "        try:\n",
    "            test_floor_score = int(n[0])\n",
    "        except:\n",
    "            test_floor_score = nan\n",
    "        try:\n",
    "            test_Floor_score = int(n[1])\n",
    "        except:\n",
    "            test_Floor_score = nan\n",
    "        test_floor_scores.append(test_floor_score)\n",
    "        test_Floor_scores.append(test_Floor_score)\n",
    "\n",
    "test_floor_scores = pd.Series(data=test_floor_scores, name='所在階')\n",
    "test_Floor_scores = pd.Series(data=test_Floor_scores, name='全体の階数')\n",
    "\n",
    "#test_floor_scores = test_floor_scores.rename(columns={0:'所在階'})#列名の振り直し\n",
    "test_floor_scores.to_csv(\"test_floor_scores.csv\",index=False)\n",
    "#test_Floor_scores = test_Floor_scores.rename(columns={0:'全体の階数'})#列名の振り直し\n",
    "test_Floor_scores.to_csv(\"test_capital_floor_scores.csv\",index=False)"
   ]
  },
  {
   "cell_type": "markdown",
   "metadata": {},
   "source": [
    "「面積」「築年数」「間取り」「契約期間」「所在階」の各データをlightGBMに入れる。"
   ]
  },
  {
   "cell_type": "code",
   "execution_count": 236,
   "metadata": {},
   "outputs": [],
   "source": [
    "X_train = pd.concat([house_age, area_size, room_arrange_scores, contract_span, floor_scores, Floor_scores], axis=1)"
   ]
  },
  {
   "cell_type": "code",
   "execution_count": 237,
   "metadata": {},
   "outputs": [],
   "source": [
    "y_train = rent"
   ]
  },
  {
   "cell_type": "code",
   "execution_count": 238,
   "metadata": {},
   "outputs": [],
   "source": [
    "X_train, X_valid, y_train, y_valid = train_test_split(X_train, y_train, test_size=0.3, random_state=0)"
   ]
  },
  {
   "cell_type": "code",
   "execution_count": 239,
   "metadata": {},
   "outputs": [],
   "source": [
    "X_test = pd.concat([test_house_age, test_area_size, test_room_arrange_scores, test_contract_span, test_floor_scores, test_Floor_scores], axis=1)"
   ]
  },
  {
   "cell_type": "code",
   "execution_count": 240,
   "metadata": {},
   "outputs": [
    {
     "name": "stderr",
     "output_type": "stream",
     "text": [
      "c:\\Users\\koshi\\python\\signate\\mynabi\\venv\\lib\\site-packages\\lightgbm\\engine.py:181: UserWarning: 'early_stopping_rounds' argument is deprecated and will be removed in a future release of LightGBM. Pass 'early_stopping()' callback via 'callbacks' argument instead.\n",
      "  _log_warning(\"'early_stopping_rounds' argument is deprecated and will be removed in a future release of LightGBM. \"\n",
      "c:\\Users\\koshi\\python\\signate\\mynabi\\venv\\lib\\site-packages\\lightgbm\\engine.py:239: UserWarning: 'verbose_eval' argument is deprecated and will be removed in a future release of LightGBM. Pass 'log_evaluation()' callback via 'callbacks' argument instead.\n",
      "  _log_warning(\"'verbose_eval' argument is deprecated and will be removed in a future release of LightGBM. \"\n"
     ]
    },
    {
     "name": "stdout",
     "output_type": "stream",
     "text": [
      "[LightGBM] [Warning] Auto-choosing col-wise multi-threading, the overhead of testing was 0.001099 seconds.\n",
      "You can set `force_col_wise=true` to remove the overhead.\n",
      "[LightGBM] [Info] Total Bins 632\n",
      "[LightGBM] [Info] Number of data points in the train set: 22029, number of used features: 6\n",
      "[LightGBM] [Info] Start training from score 118651.337373\n",
      "Training until validation scores don't improve for 10 rounds\n",
      "[10]\ttraining's rmse: 40857.7\tvalid_1's rmse: 45533.1\n",
      "[20]\ttraining's rmse: 32346.4\tvalid_1's rmse: 39173.4\n",
      "[30]\ttraining's rmse: 29665.4\tvalid_1's rmse: 37324.9\n",
      "[40]\ttraining's rmse: 28509.5\tvalid_1's rmse: 36567\n",
      "[50]\ttraining's rmse: 27669.1\tvalid_1's rmse: 36003.8\n",
      "[60]\ttraining's rmse: 27034.3\tvalid_1's rmse: 35574.1\n",
      "[70]\ttraining's rmse: 26453.2\tvalid_1's rmse: 35259.6\n",
      "[80]\ttraining's rmse: 25996.2\tvalid_1's rmse: 34782.7\n",
      "[90]\ttraining's rmse: 25551\tvalid_1's rmse: 34575.5\n",
      "[100]\ttraining's rmse: 25258.7\tvalid_1's rmse: 34475\n",
      "[110]\ttraining's rmse: 24921.1\tvalid_1's rmse: 34285.6\n",
      "[120]\ttraining's rmse: 24613.8\tvalid_1's rmse: 34217.2\n",
      "[130]\ttraining's rmse: 24331.5\tvalid_1's rmse: 34057.3\n",
      "[140]\ttraining's rmse: 24077.7\tvalid_1's rmse: 33996.8\n",
      "[150]\ttraining's rmse: 23856.8\tvalid_1's rmse: 33898.3\n",
      "[160]\ttraining's rmse: 23633\tvalid_1's rmse: 33849.3\n",
      "[170]\ttraining's rmse: 23419.2\tvalid_1's rmse: 33787\n",
      "[180]\ttraining's rmse: 23231.6\tvalid_1's rmse: 33720.3\n",
      "[190]\ttraining's rmse: 23072\tvalid_1's rmse: 33668.4\n",
      "[200]\ttraining's rmse: 22900.8\tvalid_1's rmse: 33606.4\n",
      "[210]\ttraining's rmse: 22683.9\tvalid_1's rmse: 33521\n",
      "[220]\ttraining's rmse: 22500.2\tvalid_1's rmse: 33434\n",
      "[230]\ttraining's rmse: 22326.6\tvalid_1's rmse: 33394.2\n",
      "[240]\ttraining's rmse: 22192.8\tvalid_1's rmse: 33329.4\n",
      "[250]\ttraining's rmse: 22018.7\tvalid_1's rmse: 33266.3\n",
      "[260]\ttraining's rmse: 21858.4\tvalid_1's rmse: 33203.5\n",
      "[270]\ttraining's rmse: 21693.6\tvalid_1's rmse: 33148.7\n",
      "[280]\ttraining's rmse: 21564\tvalid_1's rmse: 33105.2\n",
      "[290]\ttraining's rmse: 21431.5\tvalid_1's rmse: 33026\n",
      "[300]\ttraining's rmse: 21310.7\tvalid_1's rmse: 33001.5\n",
      "[310]\ttraining's rmse: 21185.1\tvalid_1's rmse: 32956.1\n",
      "[320]\ttraining's rmse: 21060.7\tvalid_1's rmse: 32931\n",
      "[330]\ttraining's rmse: 20957.4\tvalid_1's rmse: 32874.6\n",
      "[340]\ttraining's rmse: 20845.4\tvalid_1's rmse: 32813.3\n",
      "[350]\ttraining's rmse: 20695.8\tvalid_1's rmse: 32719.6\n",
      "[360]\ttraining's rmse: 20577.7\tvalid_1's rmse: 32678.2\n",
      "[370]\ttraining's rmse: 20450.9\tvalid_1's rmse: 32650.7\n",
      "[380]\ttraining's rmse: 20353\tvalid_1's rmse: 32605.7\n",
      "[390]\ttraining's rmse: 20244.7\tvalid_1's rmse: 32580.8\n",
      "[400]\ttraining's rmse: 20135.4\tvalid_1's rmse: 32554.3\n",
      "[410]\ttraining's rmse: 20033.4\tvalid_1's rmse: 32507.4\n",
      "[420]\ttraining's rmse: 19947.5\tvalid_1's rmse: 32482.5\n",
      "[430]\ttraining's rmse: 19832.7\tvalid_1's rmse: 32461.3\n",
      "[440]\ttraining's rmse: 19753.1\tvalid_1's rmse: 32447.5\n",
      "[450]\ttraining's rmse: 19672.4\tvalid_1's rmse: 32438.8\n",
      "[460]\ttraining's rmse: 19577.9\tvalid_1's rmse: 32403.1\n",
      "[470]\ttraining's rmse: 19490.4\tvalid_1's rmse: 32383.1\n",
      "[480]\ttraining's rmse: 19414.1\tvalid_1's rmse: 32355.5\n",
      "[490]\ttraining's rmse: 19337.9\tvalid_1's rmse: 32300.9\n",
      "[500]\ttraining's rmse: 19263\tvalid_1's rmse: 32277.4\n",
      "[510]\ttraining's rmse: 19202.9\tvalid_1's rmse: 32253.2\n",
      "[520]\ttraining's rmse: 19111.5\tvalid_1's rmse: 32251.9\n",
      "[530]\ttraining's rmse: 19047.5\tvalid_1's rmse: 32226.9\n",
      "[540]\ttraining's rmse: 18978.6\tvalid_1's rmse: 32234.4\n",
      "Early stopping, best iteration is:\n",
      "[532]\ttraining's rmse: 19035\tvalid_1's rmse: 32215.5\n"
     ]
    }
   ],
   "source": [
    "lgb_train = lgb.Dataset(X_train, y_train)\n",
    "lgb_eval = lgb.Dataset(X_valid, y_valid, reference=lgb_train)\n",
    "\n",
    "params = {\n",
    "    'objective':'regression',\n",
    "    'metrics':'rmse'\n",
    "}\n",
    "\n",
    "model = lgb.train(params, lgb_train, valid_sets=[lgb_train, lgb_eval], verbose_eval=10, num_boost_round=1000, early_stopping_rounds=10)\n",
    "\n",
    "y_pred = model.predict(X_test, num_iteration=model.best_iteration)"
   ]
  },
  {
   "cell_type": "code",
   "execution_count": null,
   "metadata": {},
   "outputs": [],
   "source": []
  }
 ],
 "metadata": {
  "kernelspec": {
   "display_name": "Python 3.10.5 ('venv': venv)",
   "language": "python",
   "name": "python3"
  },
  "language_info": {
   "codemirror_mode": {
    "name": "ipython",
    "version": 3
   },
   "file_extension": ".py",
   "mimetype": "text/x-python",
   "name": "python",
   "nbconvert_exporter": "python",
   "pygments_lexer": "ipython3",
   "version": "3.10.5"
  },
  "orig_nbformat": 4,
  "vscode": {
   "interpreter": {
    "hash": "a98cf4a852aef637b580117f8642dec837d1a50d3f811fd67a8b5a8fce3bf795"
   }
  }
 },
 "nbformat": 4,
 "nbformat_minor": 2
}
