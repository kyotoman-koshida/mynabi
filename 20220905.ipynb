{
 "cells": [
  {
   "cell_type": "code",
   "execution_count": 1429,
   "metadata": {},
   "outputs": [],
   "source": [
    "import pandas as pd\n",
    "import numpy as np\n",
    "import lightgbm as lgb"
   ]
  },
  {
   "cell_type": "code",
   "execution_count": 1430,
   "metadata": {},
   "outputs": [],
   "source": [
    "df = pd.read_csv('train.csv')"
   ]
  },
  {
   "cell_type": "markdown",
   "metadata": {},
   "source": [
    "いままで避けていた「所在地」特徴量について抽出する。"
   ]
  },
  {
   "cell_type": "code",
   "execution_count": 1431,
   "metadata": {},
   "outputs": [],
   "source": [
    "locations = df['所在地']"
   ]
  },
  {
   "cell_type": "markdown",
   "metadata": {},
   "source": [
    "どうやらすべて\"東京都\"から始まる文字列である模様"
   ]
  },
  {
   "cell_type": "code",
   "execution_count": 1432,
   "metadata": {},
   "outputs": [],
   "source": [
    "i = 0\n",
    "for loc in locations:\n",
    "    if (loc[:3] != '東京都'):\n",
    "        print(loc[:3])"
   ]
  },
  {
   "cell_type": "markdown",
   "metadata": {},
   "source": [
    "欠損値もない模様"
   ]
  },
  {
   "cell_type": "code",
   "execution_count": 1433,
   "metadata": {},
   "outputs": [
    {
     "data": {
      "text/plain": [
       "0"
      ]
     },
     "execution_count": 1433,
     "metadata": {},
     "output_type": "execute_result"
    }
   ],
   "source": [
    "locations.isnull().sum()"
   ]
  },
  {
   "cell_type": "markdown",
   "metadata": {},
   "source": [
    "東京都内のどの市区町村なのかを抽出していく。"
   ]
  },
  {
   "cell_type": "code",
   "execution_count": 1434,
   "metadata": {},
   "outputs": [
    {
     "data": {
      "text/html": [
       "<div>\n",
       "<style scoped>\n",
       "    .dataframe tbody tr th:only-of-type {\n",
       "        vertical-align: middle;\n",
       "    }\n",
       "\n",
       "    .dataframe tbody tr th {\n",
       "        vertical-align: top;\n",
       "    }\n",
       "\n",
       "    .dataframe thead th {\n",
       "        text-align: right;\n",
       "    }\n",
       "</style>\n",
       "<table border=\"1\" class=\"dataframe\">\n",
       "  <thead>\n",
       "    <tr style=\"text-align: right;\">\n",
       "      <th></th>\n",
       "      <th>市区町村</th>\n",
       "    </tr>\n",
       "  </thead>\n",
       "  <tbody>\n",
       "    <tr>\n",
       "      <th>0</th>\n",
       "      <td>北</td>\n",
       "    </tr>\n",
       "    <tr>\n",
       "      <th>1</th>\n",
       "      <td>中央</td>\n",
       "    </tr>\n",
       "    <tr>\n",
       "      <th>2</th>\n",
       "      <td>渋谷</td>\n",
       "    </tr>\n",
       "    <tr>\n",
       "      <th>3</th>\n",
       "      <td>杉並</td>\n",
       "    </tr>\n",
       "    <tr>\n",
       "      <th>4</th>\n",
       "      <td>葛飾</td>\n",
       "    </tr>\n",
       "    <tr>\n",
       "      <th>5</th>\n",
       "      <td>荒川</td>\n",
       "    </tr>\n",
       "    <tr>\n",
       "      <th>6</th>\n",
       "      <td>練馬</td>\n",
       "    </tr>\n",
       "    <tr>\n",
       "      <th>7</th>\n",
       "      <td>目黒</td>\n",
       "    </tr>\n",
       "    <tr>\n",
       "      <th>8</th>\n",
       "      <td>文京</td>\n",
       "    </tr>\n",
       "    <tr>\n",
       "      <th>9</th>\n",
       "      <td>板橋</td>\n",
       "    </tr>\n",
       "    <tr>\n",
       "      <th>10</th>\n",
       "      <td>大田</td>\n",
       "    </tr>\n",
       "    <tr>\n",
       "      <th>11</th>\n",
       "      <td>江戸川</td>\n",
       "    </tr>\n",
       "    <tr>\n",
       "      <th>12</th>\n",
       "      <td>港</td>\n",
       "    </tr>\n",
       "    <tr>\n",
       "      <th>13</th>\n",
       "      <td>杉並</td>\n",
       "    </tr>\n",
       "    <tr>\n",
       "      <th>14</th>\n",
       "      <td>墨田</td>\n",
       "    </tr>\n",
       "    <tr>\n",
       "      <th>15</th>\n",
       "      <td>渋谷</td>\n",
       "    </tr>\n",
       "    <tr>\n",
       "      <th>16</th>\n",
       "      <td>板橋</td>\n",
       "    </tr>\n",
       "    <tr>\n",
       "      <th>17</th>\n",
       "      <td>江戸川</td>\n",
       "    </tr>\n",
       "    <tr>\n",
       "      <th>18</th>\n",
       "      <td>新宿</td>\n",
       "    </tr>\n",
       "    <tr>\n",
       "      <th>19</th>\n",
       "      <td>中央</td>\n",
       "    </tr>\n",
       "  </tbody>\n",
       "</table>\n",
       "</div>"
      ],
      "text/plain": [
       "   市区町村\n",
       "0     北\n",
       "1    中央\n",
       "2    渋谷\n",
       "3    杉並\n",
       "4    葛飾\n",
       "5    荒川\n",
       "6    練馬\n",
       "7    目黒\n",
       "8    文京\n",
       "9    板橋\n",
       "10   大田\n",
       "11  江戸川\n",
       "12    港\n",
       "13   杉並\n",
       "14   墨田\n",
       "15   渋谷\n",
       "16   板橋\n",
       "17  江戸川\n",
       "18   新宿\n",
       "19   中央"
      ]
     },
     "execution_count": 1434,
     "metadata": {},
     "output_type": "execute_result"
    }
   ],
   "source": [
    "i = 0\n",
    "wards = []\n",
    "for loc in locations:\n",
    "    target1 = \"都\"\n",
    "    idx1 = loc.find(target1)\n",
    "    target2 = \"区\"\n",
    "    idx2 = loc.find(target2)\n",
    "    ward = loc[idx1+1:idx2]\n",
    "    wards.append(ward)\n",
    "\n",
    "wards = pd.DataFrame(wards)\n",
    "wards = wards.rename(columns={0:'市区町村'})#列名の振り直し\n",
    "wards.head(20)"
   ]
  },
  {
   "cell_type": "markdown",
   "metadata": {},
   "source": [
    "区のラベル化を行う"
   ]
  },
  {
   "cell_type": "code",
   "execution_count": 1435,
   "metadata": {},
   "outputs": [
    {
     "data": {
      "text/html": [
       "<div>\n",
       "<style scoped>\n",
       "    .dataframe tbody tr th:only-of-type {\n",
       "        vertical-align: middle;\n",
       "    }\n",
       "\n",
       "    .dataframe tbody tr th {\n",
       "        vertical-align: top;\n",
       "    }\n",
       "\n",
       "    .dataframe thead th {\n",
       "        text-align: right;\n",
       "    }\n",
       "</style>\n",
       "<table border=\"1\" class=\"dataframe\">\n",
       "  <thead>\n",
       "    <tr style=\"text-align: right;\">\n",
       "      <th></th>\n",
       "      <th>市区町村</th>\n",
       "    </tr>\n",
       "  </thead>\n",
       "  <tbody>\n",
       "    <tr>\n",
       "      <th>0</th>\n",
       "      <td>1</td>\n",
       "    </tr>\n",
       "    <tr>\n",
       "      <th>1</th>\n",
       "      <td>2</td>\n",
       "    </tr>\n",
       "    <tr>\n",
       "      <th>2</th>\n",
       "      <td>3</td>\n",
       "    </tr>\n",
       "    <tr>\n",
       "      <th>3</th>\n",
       "      <td>4</td>\n",
       "    </tr>\n",
       "    <tr>\n",
       "      <th>4</th>\n",
       "      <td>5</td>\n",
       "    </tr>\n",
       "    <tr>\n",
       "      <th>5</th>\n",
       "      <td>6</td>\n",
       "    </tr>\n",
       "    <tr>\n",
       "      <th>6</th>\n",
       "      <td>7</td>\n",
       "    </tr>\n",
       "    <tr>\n",
       "      <th>7</th>\n",
       "      <td>8</td>\n",
       "    </tr>\n",
       "    <tr>\n",
       "      <th>8</th>\n",
       "      <td>9</td>\n",
       "    </tr>\n",
       "    <tr>\n",
       "      <th>9</th>\n",
       "      <td>10</td>\n",
       "    </tr>\n",
       "    <tr>\n",
       "      <th>10</th>\n",
       "      <td>11</td>\n",
       "    </tr>\n",
       "    <tr>\n",
       "      <th>11</th>\n",
       "      <td>12</td>\n",
       "    </tr>\n",
       "    <tr>\n",
       "      <th>12</th>\n",
       "      <td>13</td>\n",
       "    </tr>\n",
       "    <tr>\n",
       "      <th>13</th>\n",
       "      <td>4</td>\n",
       "    </tr>\n",
       "    <tr>\n",
       "      <th>14</th>\n",
       "      <td>14</td>\n",
       "    </tr>\n",
       "    <tr>\n",
       "      <th>15</th>\n",
       "      <td>3</td>\n",
       "    </tr>\n",
       "    <tr>\n",
       "      <th>16</th>\n",
       "      <td>10</td>\n",
       "    </tr>\n",
       "    <tr>\n",
       "      <th>17</th>\n",
       "      <td>12</td>\n",
       "    </tr>\n",
       "    <tr>\n",
       "      <th>18</th>\n",
       "      <td>15</td>\n",
       "    </tr>\n",
       "    <tr>\n",
       "      <th>19</th>\n",
       "      <td>2</td>\n",
       "    </tr>\n",
       "  </tbody>\n",
       "</table>\n",
       "</div>"
      ],
      "text/plain": [
       "    市区町村\n",
       "0      1\n",
       "1      2\n",
       "2      3\n",
       "3      4\n",
       "4      5\n",
       "5      6\n",
       "6      7\n",
       "7      8\n",
       "8      9\n",
       "9     10\n",
       "10    11\n",
       "11    12\n",
       "12    13\n",
       "13     4\n",
       "14    14\n",
       "15     3\n",
       "16    10\n",
       "17    12\n",
       "18    15\n",
       "19     2"
      ]
     },
     "execution_count": 1435,
     "metadata": {},
     "output_type": "execute_result"
    }
   ],
   "source": [
    "import category_encoders as ce\n",
    "\n",
    "list_cols = ['市区町村']\n",
    "wards_encoder = ce.OrdinalEncoder(cols=list_cols, drop_invariant=True)\n",
    "wards = wards_encoder.fit_transform(wards['市区町村'])\n",
    "wards.head(20)"
   ]
  },
  {
   "cell_type": "markdown",
   "metadata": {},
   "source": [
    "「アクセス」特徴量について抽出する。"
   ]
  },
  {
   "cell_type": "code",
   "execution_count": 1436,
   "metadata": {},
   "outputs": [
    {
     "data": {
      "text/plain": [
       "0    都営三田線\\t西巣鴨駅\\t徒歩4分\\t\\t埼京線\\t板橋駅\\t徒歩14分\\t\\t都電荒川線\\...\n",
       "1    都営大江戸線\\t勝どき駅\\t徒歩5分\\t\\t有楽町線\\t月島駅\\t徒歩9分\\t\\t日比谷線\\...\n",
       "2    京王線\\t笹塚駅\\t徒歩6分\\t\\t京王線\\t代田橋駅\\t徒歩7分\\t\\t京王線\\t明大前駅...\n",
       "3    総武線・中央線（各停）\\t高円寺駅\\t徒歩9分\\t\\t丸ノ内線(池袋－荻窪)\\t新高円寺駅\\...\n",
       "4    京成金町線\\t京成金町駅\\t徒歩5分\\t\\t常磐線\\t金町(東京都)駅\\t徒歩7分\\t\\t京...\n",
       "Name: アクセス, dtype: object"
      ]
     },
     "execution_count": 1436,
     "metadata": {},
     "output_type": "execute_result"
    }
   ],
   "source": [
    "accesses = df['アクセス']\n",
    "accesses.head()"
   ]
  },
  {
   "cell_type": "markdown",
   "metadata": {},
   "source": [
    "路線と駅までの歩数を抽出する。"
   ]
  },
  {
   "cell_type": "code",
   "execution_count": 1437,
   "metadata": {},
   "outputs": [],
   "source": [
    "from cmath import nan\n",
    "\n",
    "i = 0\n",
    "stations = []\n",
    "minits = []\n",
    "target1 = '\\t'\n",
    "target2 = '駅'\n",
    "target3 = '歩'\n",
    "target4 = '分'\n",
    "for access in accesses:\n",
    "    stations.append([])\n",
    "    minits.append([])\n",
    "    #以下、最寄りの駅の抽出\n",
    "    idx1 = access.find(target1)\n",
    "    idx2 = access.find(target2)\n",
    "    stations[i].append(access[idx1+1:idx2])\n",
    "    \n",
    "    #以下、徒歩〇分の抽出\n",
    "    idx1 = access.find(target3)\n",
    "    idx2 = access.find(target4)\n",
    "    try:\n",
    "        minits[i].append(int (access[idx1+1:idx2]) )\n",
    "    except:\n",
    "        minits[i].append(nan)\n",
    "\n",
    "    i+=1\n",
    "\n",
    "stations = pd.DataFrame(stations)\n",
    "minits = pd.DataFrame(minits)\n",
    "minits = minits.rename(columns={0:'所要時間'})#列名の振り直し"
   ]
  },
  {
   "cell_type": "markdown",
   "metadata": {},
   "source": [
    "最寄り駅をカテゴリー化する。"
   ]
  },
  {
   "cell_type": "code",
   "execution_count": 1438,
   "metadata": {},
   "outputs": [],
   "source": [
    "stations = stations.rename(columns={0:'最寄り駅'})#列名の振り直し\n",
    "list_cols = ['最寄り駅']\n",
    "stations_encoder = ce.OrdinalEncoder(cols=list_cols, drop_invariant=True)\n",
    "stations = stations_encoder.fit_transform(stations['最寄り駅'])"
   ]
  },
  {
   "cell_type": "markdown",
   "metadata": {},
   "source": [
    "今回作成した「所在地」と「アクセス」のテストデータを作成する。"
   ]
  },
  {
   "cell_type": "code",
   "execution_count": 1439,
   "metadata": {},
   "outputs": [],
   "source": [
    "df = pd.read_csv('test.csv')"
   ]
  },
  {
   "cell_type": "markdown",
   "metadata": {},
   "source": [
    "「所在地」から「市区町村」のテストデータを取得する。"
   ]
  },
  {
   "cell_type": "code",
   "execution_count": 1440,
   "metadata": {},
   "outputs": [],
   "source": [
    "test_locations = df['所在地']"
   ]
  },
  {
   "cell_type": "code",
   "execution_count": 1441,
   "metadata": {},
   "outputs": [
    {
     "data": {
      "text/html": [
       "<div>\n",
       "<style scoped>\n",
       "    .dataframe tbody tr th:only-of-type {\n",
       "        vertical-align: middle;\n",
       "    }\n",
       "\n",
       "    .dataframe tbody tr th {\n",
       "        vertical-align: top;\n",
       "    }\n",
       "\n",
       "    .dataframe thead th {\n",
       "        text-align: right;\n",
       "    }\n",
       "</style>\n",
       "<table border=\"1\" class=\"dataframe\">\n",
       "  <thead>\n",
       "    <tr style=\"text-align: right;\">\n",
       "      <th></th>\n",
       "      <th>市区町村</th>\n",
       "    </tr>\n",
       "  </thead>\n",
       "  <tbody>\n",
       "    <tr>\n",
       "      <th>0</th>\n",
       "      <td>世田谷</td>\n",
       "    </tr>\n",
       "    <tr>\n",
       "      <th>1</th>\n",
       "      <td>目黒</td>\n",
       "    </tr>\n",
       "    <tr>\n",
       "      <th>2</th>\n",
       "      <td>豊島</td>\n",
       "    </tr>\n",
       "    <tr>\n",
       "      <th>3</th>\n",
       "      <td>杉並</td>\n",
       "    </tr>\n",
       "    <tr>\n",
       "      <th>4</th>\n",
       "      <td>杉並</td>\n",
       "    </tr>\n",
       "    <tr>\n",
       "      <th>5</th>\n",
       "      <td>新宿</td>\n",
       "    </tr>\n",
       "    <tr>\n",
       "      <th>6</th>\n",
       "      <td>港</td>\n",
       "    </tr>\n",
       "    <tr>\n",
       "      <th>7</th>\n",
       "      <td>渋谷</td>\n",
       "    </tr>\n",
       "    <tr>\n",
       "      <th>8</th>\n",
       "      <td>葛飾</td>\n",
       "    </tr>\n",
       "    <tr>\n",
       "      <th>9</th>\n",
       "      <td>杉並</td>\n",
       "    </tr>\n",
       "    <tr>\n",
       "      <th>10</th>\n",
       "      <td>足立</td>\n",
       "    </tr>\n",
       "    <tr>\n",
       "      <th>11</th>\n",
       "      <td>板橋</td>\n",
       "    </tr>\n",
       "    <tr>\n",
       "      <th>12</th>\n",
       "      <td>目黒</td>\n",
       "    </tr>\n",
       "    <tr>\n",
       "      <th>13</th>\n",
       "      <td>世田谷</td>\n",
       "    </tr>\n",
       "    <tr>\n",
       "      <th>14</th>\n",
       "      <td>新宿</td>\n",
       "    </tr>\n",
       "    <tr>\n",
       "      <th>15</th>\n",
       "      <td>世田谷</td>\n",
       "    </tr>\n",
       "    <tr>\n",
       "      <th>16</th>\n",
       "      <td>江東</td>\n",
       "    </tr>\n",
       "    <tr>\n",
       "      <th>17</th>\n",
       "      <td>渋谷</td>\n",
       "    </tr>\n",
       "    <tr>\n",
       "      <th>18</th>\n",
       "      <td>足立</td>\n",
       "    </tr>\n",
       "    <tr>\n",
       "      <th>19</th>\n",
       "      <td>墨田</td>\n",
       "    </tr>\n",
       "  </tbody>\n",
       "</table>\n",
       "</div>"
      ],
      "text/plain": [
       "   市区町村\n",
       "0   世田谷\n",
       "1    目黒\n",
       "2    豊島\n",
       "3    杉並\n",
       "4    杉並\n",
       "5    新宿\n",
       "6     港\n",
       "7    渋谷\n",
       "8    葛飾\n",
       "9    杉並\n",
       "10   足立\n",
       "11   板橋\n",
       "12   目黒\n",
       "13  世田谷\n",
       "14   新宿\n",
       "15  世田谷\n",
       "16   江東\n",
       "17   渋谷\n",
       "18   足立\n",
       "19   墨田"
      ]
     },
     "execution_count": 1441,
     "metadata": {},
     "output_type": "execute_result"
    }
   ],
   "source": [
    "i = 0\n",
    "test_wards = []\n",
    "for loc in test_locations:\n",
    "    target1 = \"都\"\n",
    "    idx1 = loc.find(target1)\n",
    "    target2 = \"区\"\n",
    "    idx2 = loc.find(target2)\n",
    "    test_ward = loc[idx1+1:idx2]\n",
    "    test_wards.append(test_ward)\n",
    "\n",
    "test_wards = pd.DataFrame(test_wards)\n",
    "test_wards = test_wards.rename(columns={0:'市区町村'})#列名の振り直し\n",
    "test_wards.head(20)"
   ]
  },
  {
   "cell_type": "code",
   "execution_count": 1442,
   "metadata": {},
   "outputs": [
    {
     "data": {
      "text/html": [
       "<div>\n",
       "<style scoped>\n",
       "    .dataframe tbody tr th:only-of-type {\n",
       "        vertical-align: middle;\n",
       "    }\n",
       "\n",
       "    .dataframe tbody tr th {\n",
       "        vertical-align: top;\n",
       "    }\n",
       "\n",
       "    .dataframe thead th {\n",
       "        text-align: right;\n",
       "    }\n",
       "</style>\n",
       "<table border=\"1\" class=\"dataframe\">\n",
       "  <thead>\n",
       "    <tr style=\"text-align: right;\">\n",
       "      <th></th>\n",
       "      <th>市区町村</th>\n",
       "    </tr>\n",
       "  </thead>\n",
       "  <tbody>\n",
       "    <tr>\n",
       "      <th>0</th>\n",
       "      <td>1</td>\n",
       "    </tr>\n",
       "    <tr>\n",
       "      <th>1</th>\n",
       "      <td>2</td>\n",
       "    </tr>\n",
       "    <tr>\n",
       "      <th>2</th>\n",
       "      <td>3</td>\n",
       "    </tr>\n",
       "    <tr>\n",
       "      <th>3</th>\n",
       "      <td>4</td>\n",
       "    </tr>\n",
       "    <tr>\n",
       "      <th>4</th>\n",
       "      <td>4</td>\n",
       "    </tr>\n",
       "    <tr>\n",
       "      <th>5</th>\n",
       "      <td>5</td>\n",
       "    </tr>\n",
       "    <tr>\n",
       "      <th>6</th>\n",
       "      <td>6</td>\n",
       "    </tr>\n",
       "    <tr>\n",
       "      <th>7</th>\n",
       "      <td>7</td>\n",
       "    </tr>\n",
       "    <tr>\n",
       "      <th>8</th>\n",
       "      <td>8</td>\n",
       "    </tr>\n",
       "    <tr>\n",
       "      <th>9</th>\n",
       "      <td>4</td>\n",
       "    </tr>\n",
       "    <tr>\n",
       "      <th>10</th>\n",
       "      <td>9</td>\n",
       "    </tr>\n",
       "    <tr>\n",
       "      <th>11</th>\n",
       "      <td>10</td>\n",
       "    </tr>\n",
       "    <tr>\n",
       "      <th>12</th>\n",
       "      <td>2</td>\n",
       "    </tr>\n",
       "    <tr>\n",
       "      <th>13</th>\n",
       "      <td>1</td>\n",
       "    </tr>\n",
       "    <tr>\n",
       "      <th>14</th>\n",
       "      <td>5</td>\n",
       "    </tr>\n",
       "    <tr>\n",
       "      <th>15</th>\n",
       "      <td>1</td>\n",
       "    </tr>\n",
       "    <tr>\n",
       "      <th>16</th>\n",
       "      <td>11</td>\n",
       "    </tr>\n",
       "    <tr>\n",
       "      <th>17</th>\n",
       "      <td>7</td>\n",
       "    </tr>\n",
       "    <tr>\n",
       "      <th>18</th>\n",
       "      <td>9</td>\n",
       "    </tr>\n",
       "    <tr>\n",
       "      <th>19</th>\n",
       "      <td>12</td>\n",
       "    </tr>\n",
       "  </tbody>\n",
       "</table>\n",
       "</div>"
      ],
      "text/plain": [
       "    市区町村\n",
       "0      1\n",
       "1      2\n",
       "2      3\n",
       "3      4\n",
       "4      4\n",
       "5      5\n",
       "6      6\n",
       "7      7\n",
       "8      8\n",
       "9      4\n",
       "10     9\n",
       "11    10\n",
       "12     2\n",
       "13     1\n",
       "14     5\n",
       "15     1\n",
       "16    11\n",
       "17     7\n",
       "18     9\n",
       "19    12"
      ]
     },
     "execution_count": 1442,
     "metadata": {},
     "output_type": "execute_result"
    }
   ],
   "source": [
    "list_cols = ['市区町村']\n",
    "test_wards_encoder = ce.OrdinalEncoder(cols=list_cols, drop_invariant=True)\n",
    "test_wards = test_wards_encoder.fit_transform(test_wards['市区町村'])\n",
    "test_wards.head(20)"
   ]
  },
  {
   "cell_type": "markdown",
   "metadata": {},
   "source": [
    "「アクセス」のテストデータを取得する。"
   ]
  },
  {
   "cell_type": "code",
   "execution_count": 1443,
   "metadata": {},
   "outputs": [
    {
     "data": {
      "text/plain": [
       "0    東急大井町線\\t等々力駅\\t徒歩15分\\t\\t東急田園都市線\\t桜新町駅\\t徒歩24分\\t\\...\n",
       "1    東急東横線\\t都立大学駅\\t徒歩6分\\t\\t東急東横線\\t自由が丘駅\\t徒歩17分\\t\\t東...\n",
       "2    東武東上線\\t北池袋駅\\t徒歩10分\\t\\t埼京線\\t板橋駅\\t徒歩16分\\t\\t山手線\\t...\n",
       "3    丸ノ内線(中野坂上－方南町)\\t方南町駅\\t徒歩10分\\t\\t京王線\\t代田橋駅\\t徒歩8分...\n",
       "4    丸ノ内線(中野坂上－方南町)\\t方南町駅\\t徒歩12分\\t\\t丸ノ内線(池袋－荻窪)\\t新高...\n",
       "Name: アクセス, dtype: object"
      ]
     },
     "execution_count": 1443,
     "metadata": {},
     "output_type": "execute_result"
    }
   ],
   "source": [
    "test_accesses = df['アクセス']\n",
    "test_accesses.head()"
   ]
  },
  {
   "cell_type": "code",
   "execution_count": 1444,
   "metadata": {},
   "outputs": [],
   "source": [
    "from cmath import nan\n",
    "\n",
    "i = 0\n",
    "test_stations = []\n",
    "test_minits = []\n",
    "target1 = '\\t'\n",
    "target2 = '駅'\n",
    "target3 = '歩'\n",
    "target4 = '分'\n",
    "for access in test_accesses:\n",
    "    test_stations.append([])\n",
    "    test_minits.append([])\n",
    "    #以下、最寄りの駅の抽出\n",
    "    idx1 = access.find(target1)\n",
    "    idx2 = access.find(target2)\n",
    "    test_stations[i].append(access[idx1+1:idx2])\n",
    "    \n",
    "    #以下、徒歩〇分の抽出\n",
    "    idx1 = access.find(target3)\n",
    "    idx2 = access.find(target4)\n",
    "    try:\n",
    "        test_minits[i].append(int (access[idx1+1:idx2]) )\n",
    "    except:\n",
    "        test_minits[i].append(nan)\n",
    "\n",
    "    i+=1\n",
    "\n",
    "test_stations = pd.DataFrame(test_stations)\n",
    "test_minits = pd.DataFrame(test_minits)\n",
    "test_minits = test_minits.rename(columns={0:'所要時間'})#列名の振り直し"
   ]
  },
  {
   "cell_type": "code",
   "execution_count": 1445,
   "metadata": {},
   "outputs": [],
   "source": [
    "test_stations = test_stations.rename(columns={0:'最寄り駅'})#列名の振り直し\n",
    "list_cols = ['最寄り駅']\n",
    "test_stations_encoder = ce.OrdinalEncoder(cols=list_cols, drop_invariant=True)\n",
    "test_stations = test_stations_encoder.fit_transform(test_stations['最寄り駅'])"
   ]
  },
  {
   "cell_type": "markdown",
   "metadata": {},
   "source": [
    "以前に抽出しておいた特徴量（「面積」「階数」「間取り」「契約期間」「築年数」）を読み込む。"
   ]
  },
  {
   "cell_type": "code",
   "execution_count": 1446,
   "metadata": {},
   "outputs": [],
   "source": [
    "area_size = pd.read_csv('area_size.csv')\n",
    "house_age = pd.read_csv('house_age.csv')\n",
    "n_floor = pd.read_csv('n_floor.csv')\n",
    "room_arrange = pd.read_csv('room_arrange.csv')\n",
    "contract_span = pd.read_csv('contract_span.csv')"
   ]
  },
  {
   "cell_type": "markdown",
   "metadata": {},
   "source": [
    "目的変数（「賃料」）を読み込む。"
   ]
  },
  {
   "cell_type": "code",
   "execution_count": 1447,
   "metadata": {},
   "outputs": [],
   "source": [
    "rent = pd.read_csv('rent.csv')"
   ]
  },
  {
   "cell_type": "code",
   "execution_count": 1448,
   "metadata": {},
   "outputs": [],
   "source": [
    "room_arrange_scores = []\n",
    "for ldks in room_arrange['間取り']:\n",
    "    room_arrange_score = 0\n",
    "    for s in ldks:\n",
    "        if s.isdigit():\n",
    "            room_arrange_score += int(s)\n",
    "        elif (s in ['L', 'D', 'K', 'S']):\n",
    "            room_arrange_score += 1\n",
    "        else:\n",
    "            pass\n",
    "    \n",
    "    room_arrange_scores.append(room_arrange_score)\n",
    "room_arrange_scores = pd.Series(room_arrange_scores)"
   ]
  },
  {
   "cell_type": "code",
   "execution_count": 1449,
   "metadata": {},
   "outputs": [],
   "source": [
    "import re\n",
    "\n",
    "i = 0\n",
    "for s in n_floor[\"所在階\"]:\n",
    "    try:\n",
    "        n_floor[\"所在階\"][i] = re.findall(r\"\\d+\", s)\n",
    "    except:\n",
    "        n_floor[\"所在階\"][i] = nan\n",
    "    i += 1"
   ]
  },
  {
   "cell_type": "code",
   "execution_count": 1450,
   "metadata": {},
   "outputs": [],
   "source": [
    "floor_scores = []\n",
    "Floor_scores = []\n",
    "for n in n_floor[\"所在階\"]:\n",
    "    if (n == \"\"):\n",
    "        continue\n",
    "    else:\n",
    "        try:\n",
    "            floor_score = int(n[0])\n",
    "        except:\n",
    "            floor_score = nan\n",
    "        try:\n",
    "            Floor_score = int(n[1])\n",
    "        except:\n",
    "            Floor_score = nan\n",
    "        floor_scores.append(floor_score)\n",
    "        Floor_scores.append(Floor_score)\n",
    "\n",
    "floor_scores = pd.Series(floor_scores)\n",
    "Floor_scores = pd.Series(Floor_scores)"
   ]
  },
  {
   "cell_type": "code",
   "execution_count": 1451,
   "metadata": {},
   "outputs": [],
   "source": [
    "X_train = pd.concat([house_age, area_size, room_arrange_scores, contract_span, floor_scores, Floor_scores, wards, stations, minits], axis=1)\n",
    "y_train = rent"
   ]
  },
  {
   "cell_type": "code",
   "execution_count": 1452,
   "metadata": {},
   "outputs": [],
   "source": [
    "from sklearn.model_selection import train_test_split\n",
    "\n",
    "X_train, X_valid, y_train, y_valid = train_test_split(X_train, y_train, test_size=0.3, random_state=0)"
   ]
  },
  {
   "cell_type": "markdown",
   "metadata": {},
   "source": [
    "テストデータ作成"
   ]
  },
  {
   "cell_type": "code",
   "execution_count": 1453,
   "metadata": {},
   "outputs": [],
   "source": [
    "test_area_size = pd.read_csv('test_area_size.csv')\n",
    "test_house_age = pd.read_csv('test_house_age.csv')\n",
    "test_n_floor = pd.read_csv('test_n_floor.csv')\n",
    "test_room_arrange = pd.read_csv('test_room_arrange.csv')\n",
    "test_contract_span = pd.read_csv('test_contract_span.csv')"
   ]
  },
  {
   "cell_type": "code",
   "execution_count": 1454,
   "metadata": {},
   "outputs": [],
   "source": [
    "test_floor_scores = []\n",
    "test_Floor_scores = []\n",
    "for n in test_n_floor[\"所在階\"]:\n",
    "    if (n == \"\"):\n",
    "        continue\n",
    "    else:\n",
    "        try:\n",
    "            test_floor_score = int(n[0])\n",
    "        except:\n",
    "            test_floor_score = nan\n",
    "        try:\n",
    "            test_Floor_score = int(n[1])\n",
    "        except:\n",
    "            test_Floor_score = nan\n",
    "        test_floor_scores.append(test_floor_score)\n",
    "        test_Floor_scores.append(test_Floor_score)\n",
    "\n",
    "test_floor_scores = pd.Series(test_floor_scores)\n",
    "test_Floor_scores = pd.Series(test_Floor_scores)"
   ]
  },
  {
   "cell_type": "code",
   "execution_count": 1455,
   "metadata": {},
   "outputs": [],
   "source": [
    "test_room_arrange_scores = []\n",
    "for ldks in test_room_arrange['間取り']:\n",
    "    test_room_arrange_score = 0\n",
    "    for s in ldks:\n",
    "        if s.isdigit():\n",
    "            test_room_arrange_score += int(s)\n",
    "        elif (s in ['L', 'D', 'K', 'S']):\n",
    "            test_room_arrange_score += 1\n",
    "        else:\n",
    "            pass\n",
    "    \n",
    "    test_room_arrange_scores.append(test_room_arrange_score)\n",
    "test_room_arrange_scores = pd.Series(test_room_arrange_scores)"
   ]
  },
  {
   "cell_type": "code",
   "execution_count": 1456,
   "metadata": {},
   "outputs": [],
   "source": [
    "X_test = pd.concat([test_house_age, test_area_size, test_room_arrange_scores, test_contract_span, test_floor_scores, test_Floor_scores, test_wards, test_stations, test_minits], axis=1)"
   ]
  },
  {
   "cell_type": "markdown",
   "metadata": {},
   "source": [
    "lightGBMに「築年数」「面積」「間取り」「契約期間」「その部屋のある階数」「全体の階数」「所在地」「最寄り駅」「最寄り駅までの所要時間」をいれる。"
   ]
  },
  {
   "cell_type": "code",
   "execution_count": 1457,
   "metadata": {},
   "outputs": [
    {
     "name": "stderr",
     "output_type": "stream",
     "text": [
      "c:\\Users\\koshi\\python\\signate\\mynabi\\venv\\lib\\site-packages\\lightgbm\\engine.py:181: UserWarning: 'early_stopping_rounds' argument is deprecated and will be removed in a future release of LightGBM. Pass 'early_stopping()' callback via 'callbacks' argument instead.\n",
      "  _log_warning(\"'early_stopping_rounds' argument is deprecated and will be removed in a future release of LightGBM. \"\n",
      "c:\\Users\\koshi\\python\\signate\\mynabi\\venv\\lib\\site-packages\\lightgbm\\basic.py:2068: UserWarning: categorical_feature in Dataset is overridden.\n",
      "New categorical_feature is ['市区町村', '最寄り駅']\n",
      "  _log_warning('categorical_feature in Dataset is overridden.\\n'\n",
      "c:\\Users\\koshi\\python\\signate\\mynabi\\venv\\lib\\site-packages\\lightgbm\\engine.py:239: UserWarning: 'verbose_eval' argument is deprecated and will be removed in a future release of LightGBM. Pass 'log_evaluation()' callback via 'callbacks' argument instead.\n",
      "  _log_warning(\"'verbose_eval' argument is deprecated and will be removed in a future release of LightGBM. \"\n",
      "c:\\Users\\koshi\\python\\signate\\mynabi\\venv\\lib\\site-packages\\lightgbm\\basic.py:1780: UserWarning: Overriding the parameters from Reference Dataset.\n",
      "  _log_warning('Overriding the parameters from Reference Dataset.')\n",
      "c:\\Users\\koshi\\python\\signate\\mynabi\\venv\\lib\\site-packages\\lightgbm\\basic.py:1513: UserWarning: categorical_column in param dict is overridden.\n",
      "  _log_warning(f'{cat_alias} in param dict is overridden.')\n"
     ]
    },
    {
     "name": "stdout",
     "output_type": "stream",
     "text": [
      "[LightGBM] [Warning] Auto-choosing col-wise multi-threading, the overhead of testing was 0.001209 seconds.\n",
      "You can set `force_col_wise=true` to remove the overhead.\n",
      "[LightGBM] [Info] Total Bins 1089\n",
      "[LightGBM] [Info] Number of data points in the train set: 22029, number of used features: 9\n",
      "[LightGBM] [Info] Start training from score 118651.337373\n",
      "Training until validation scores don't improve for 10 rounds\n",
      "[10]\ttraining's rmse: 35666.5\tvalid_1's rmse: 40678.1\n",
      "[20]\ttraining's rmse: 22792.8\tvalid_1's rmse: 30744.4\n",
      "[30]\ttraining's rmse: 18244.7\tvalid_1's rmse: 27457.7\n",
      "[40]\ttraining's rmse: 16313.8\tvalid_1's rmse: 26121.2\n",
      "[50]\ttraining's rmse: 15124.1\tvalid_1's rmse: 25296.8\n",
      "[60]\ttraining's rmse: 14285.3\tvalid_1's rmse: 24719.4\n",
      "[70]\ttraining's rmse: 13634.6\tvalid_1's rmse: 24307.2\n",
      "[80]\ttraining's rmse: 13096.2\tvalid_1's rmse: 24029.2\n",
      "[90]\ttraining's rmse: 12623.5\tvalid_1's rmse: 23792\n",
      "[100]\ttraining's rmse: 12203\tvalid_1's rmse: 23589\n",
      "[110]\ttraining's rmse: 11833.7\tvalid_1's rmse: 23428.9\n",
      "[120]\ttraining's rmse: 11539.1\tvalid_1's rmse: 23270.3\n",
      "[130]\ttraining's rmse: 11264.5\tvalid_1's rmse: 23159.9\n",
      "[140]\ttraining's rmse: 11017.5\tvalid_1's rmse: 23035.9\n",
      "[150]\ttraining's rmse: 10794.7\tvalid_1's rmse: 22941.6\n",
      "[160]\ttraining's rmse: 10540.7\tvalid_1's rmse: 22802.6\n",
      "[170]\ttraining's rmse: 10349.9\tvalid_1's rmse: 22725.6\n",
      "[180]\ttraining's rmse: 10163.7\tvalid_1's rmse: 22660.2\n",
      "[190]\ttraining's rmse: 9989.73\tvalid_1's rmse: 22605.6\n",
      "[200]\ttraining's rmse: 9820.85\tvalid_1's rmse: 22541\n",
      "[210]\ttraining's rmse: 9657.26\tvalid_1's rmse: 22493.8\n",
      "[220]\ttraining's rmse: 9500.56\tvalid_1's rmse: 22437\n",
      "[230]\ttraining's rmse: 9361.77\tvalid_1's rmse: 22370.6\n",
      "[240]\ttraining's rmse: 9220.67\tvalid_1's rmse: 22312.1\n",
      "[250]\ttraining's rmse: 9105.86\tvalid_1's rmse: 22276.9\n",
      "[260]\ttraining's rmse: 8977.97\tvalid_1's rmse: 22234\n",
      "[270]\ttraining's rmse: 8886.27\tvalid_1's rmse: 22211.8\n",
      "[280]\ttraining's rmse: 8769.93\tvalid_1's rmse: 22150\n",
      "[290]\ttraining's rmse: 8654.41\tvalid_1's rmse: 22109.6\n",
      "[300]\ttraining's rmse: 8565.79\tvalid_1's rmse: 22082.4\n",
      "[310]\ttraining's rmse: 8456.48\tvalid_1's rmse: 22037.7\n",
      "[320]\ttraining's rmse: 8370.97\tvalid_1's rmse: 22007.7\n",
      "[330]\ttraining's rmse: 8277.02\tvalid_1's rmse: 21967.7\n",
      "[340]\ttraining's rmse: 8196.13\tvalid_1's rmse: 21929.1\n",
      "[350]\ttraining's rmse: 8119.92\tvalid_1's rmse: 21911.1\n",
      "[360]\ttraining's rmse: 8043.04\tvalid_1's rmse: 21888.4\n",
      "[370]\ttraining's rmse: 7961.4\tvalid_1's rmse: 21871.8\n",
      "[380]\ttraining's rmse: 7876.1\tvalid_1's rmse: 21844.4\n",
      "[390]\ttraining's rmse: 7806.29\tvalid_1's rmse: 21828.7\n",
      "[400]\ttraining's rmse: 7736.18\tvalid_1's rmse: 21825.1\n",
      "[410]\ttraining's rmse: 7673.96\tvalid_1's rmse: 21796.9\n",
      "[420]\ttraining's rmse: 7612.35\tvalid_1's rmse: 21758.4\n",
      "[430]\ttraining's rmse: 7554.7\tvalid_1's rmse: 21746.7\n",
      "[440]\ttraining's rmse: 7493.21\tvalid_1's rmse: 21733\n",
      "[450]\ttraining's rmse: 7431.39\tvalid_1's rmse: 21717.9\n",
      "[460]\ttraining's rmse: 7369.88\tvalid_1's rmse: 21705.1\n",
      "[470]\ttraining's rmse: 7309.02\tvalid_1's rmse: 21686.7\n",
      "[480]\ttraining's rmse: 7241.81\tvalid_1's rmse: 21671\n",
      "[490]\ttraining's rmse: 7183.9\tvalid_1's rmse: 21653.4\n",
      "[500]\ttraining's rmse: 7119.87\tvalid_1's rmse: 21627.8\n",
      "[510]\ttraining's rmse: 7060.58\tvalid_1's rmse: 21614.5\n",
      "[520]\ttraining's rmse: 7000.68\tvalid_1's rmse: 21599.6\n",
      "[530]\ttraining's rmse: 6944.42\tvalid_1's rmse: 21566\n",
      "[540]\ttraining's rmse: 6889.06\tvalid_1's rmse: 21543.6\n",
      "[550]\ttraining's rmse: 6839.78\tvalid_1's rmse: 21530.3\n",
      "[560]\ttraining's rmse: 6785.95\tvalid_1's rmse: 21520.5\n",
      "[570]\ttraining's rmse: 6732.26\tvalid_1's rmse: 21492.5\n",
      "[580]\ttraining's rmse: 6686.32\tvalid_1's rmse: 21468.5\n",
      "[590]\ttraining's rmse: 6638.3\tvalid_1's rmse: 21448.2\n",
      "[600]\ttraining's rmse: 6594.64\tvalid_1's rmse: 21415\n",
      "[610]\ttraining's rmse: 6553.22\tvalid_1's rmse: 21401.1\n",
      "[620]\ttraining's rmse: 6513.43\tvalid_1's rmse: 21389.4\n",
      "[630]\ttraining's rmse: 6468.8\tvalid_1's rmse: 21377.3\n",
      "[640]\ttraining's rmse: 6423.21\tvalid_1's rmse: 21364.4\n",
      "[650]\ttraining's rmse: 6381.06\tvalid_1's rmse: 21362.9\n",
      "[660]\ttraining's rmse: 6338.02\tvalid_1's rmse: 21355\n",
      "[670]\ttraining's rmse: 6298.46\tvalid_1's rmse: 21347\n",
      "[680]\ttraining's rmse: 6254.31\tvalid_1's rmse: 21339.7\n",
      "[690]\ttraining's rmse: 6210.47\tvalid_1's rmse: 21328.9\n",
      "[700]\ttraining's rmse: 6173.28\tvalid_1's rmse: 21325.5\n",
      "[710]\ttraining's rmse: 6135.76\tvalid_1's rmse: 21311.6\n",
      "[720]\ttraining's rmse: 6104.91\tvalid_1's rmse: 21305.1\n",
      "[730]\ttraining's rmse: 6067.49\tvalid_1's rmse: 21290.5\n",
      "[740]\ttraining's rmse: 6025.84\tvalid_1's rmse: 21286.3\n",
      "[750]\ttraining's rmse: 5991.4\tvalid_1's rmse: 21279.8\n",
      "[760]\ttraining's rmse: 5951.72\tvalid_1's rmse: 21274.6\n",
      "[770]\ttraining's rmse: 5906.52\tvalid_1's rmse: 21269.1\n",
      "[780]\ttraining's rmse: 5867.48\tvalid_1's rmse: 21260.6\n",
      "[790]\ttraining's rmse: 5828.83\tvalid_1's rmse: 21248.8\n",
      "[800]\ttraining's rmse: 5790.4\tvalid_1's rmse: 21238\n",
      "[810]\ttraining's rmse: 5751.12\tvalid_1's rmse: 21225.5\n",
      "[820]\ttraining's rmse: 5716.4\tvalid_1's rmse: 21214\n",
      "[830]\ttraining's rmse: 5681.61\tvalid_1's rmse: 21210.1\n",
      "[840]\ttraining's rmse: 5644.68\tvalid_1's rmse: 21197.8\n",
      "[850]\ttraining's rmse: 5611.57\tvalid_1's rmse: 21189.1\n",
      "[860]\ttraining's rmse: 5578.23\tvalid_1's rmse: 21181.1\n",
      "[870]\ttraining's rmse: 5548.53\tvalid_1's rmse: 21177\n",
      "[880]\ttraining's rmse: 5519.92\tvalid_1's rmse: 21170.5\n",
      "[890]\ttraining's rmse: 5490\tvalid_1's rmse: 21158.2\n",
      "[900]\ttraining's rmse: 5457.21\tvalid_1's rmse: 21155.2\n",
      "[910]\ttraining's rmse: 5421.89\tvalid_1's rmse: 21144.5\n",
      "[920]\ttraining's rmse: 5388.61\tvalid_1's rmse: 21136.1\n",
      "Early stopping, best iteration is:\n",
      "[918]\ttraining's rmse: 5393.83\tvalid_1's rmse: 21135.6\n"
     ]
    }
   ],
   "source": [
    "category_lists = ['市区町村','最寄り駅']\n",
    "\n",
    "lgb_train = lgb.Dataset(X_train, y_train)\n",
    "lgb_eval = lgb.Dataset(X_valid, y_valid, reference=lgb_train)\n",
    "\n",
    "params = {\n",
    "    'objective':'regression',\n",
    "    'metrics':'rmse'\n",
    "}\n",
    "\n",
    "model = lgb.train(\n",
    "                    params,\n",
    "                    lgb_train, \n",
    "                    valid_sets=[lgb_train, lgb_eval], \n",
    "                    verbose_eval=10, \n",
    "                    num_boost_round=3000, \n",
    "                    early_stopping_rounds=10,\n",
    "                    categorical_feature = category_lists\n",
    "                    )\n",
    "\n",
    "y_pred = model.predict(X_test, num_iteration=model.best_iteration)"
   ]
  },
  {
   "cell_type": "markdown",
   "metadata": {},
   "source": [
    "スコアは下がったが、まだ過学習気味である。"
   ]
  },
  {
   "cell_type": "code",
   "execution_count": 1458,
   "metadata": {},
   "outputs": [],
   "source": [
    "y_pred = pd.DataFrame(y_pred)"
   ]
  },
  {
   "cell_type": "code",
   "execution_count": 1459,
   "metadata": {},
   "outputs": [],
   "source": [
    "y_pred.to_csv('result.csv')"
   ]
  },
  {
   "cell_type": "code",
   "execution_count": 1460,
   "metadata": {},
   "outputs": [],
   "source": [
    "id = df['id']"
   ]
  },
  {
   "cell_type": "code",
   "execution_count": 1461,
   "metadata": {},
   "outputs": [],
   "source": [
    "result = pd.concat([id, y_pred],axis=1)"
   ]
  },
  {
   "cell_type": "code",
   "execution_count": 1462,
   "metadata": {},
   "outputs": [],
   "source": [
    "result.to_csv('result.csv',index=False)"
   ]
  },
  {
   "cell_type": "code",
   "execution_count": null,
   "metadata": {},
   "outputs": [],
   "source": []
  }
 ],
 "metadata": {
  "kernelspec": {
   "display_name": "Python 3.10.5 ('venv': venv)",
   "language": "python",
   "name": "python3"
  },
  "language_info": {
   "codemirror_mode": {
    "name": "ipython",
    "version": 3
   },
   "file_extension": ".py",
   "mimetype": "text/x-python",
   "name": "python",
   "nbconvert_exporter": "python",
   "pygments_lexer": "ipython3",
   "version": "3.10.5"
  },
  "orig_nbformat": 4,
  "vscode": {
   "interpreter": {
    "hash": "a98cf4a852aef637b580117f8642dec837d1a50d3f811fd67a8b5a8fce3bf795"
   }
  }
 },
 "nbformat": 4,
 "nbformat_minor": 2
}
