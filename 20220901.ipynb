{
 "cells": [
  {
   "cell_type": "code",
   "execution_count": 289,
   "metadata": {},
   "outputs": [],
   "source": [
    "import pandas as pd\n",
    "\n",
    "df = pd.read_csv('./train.csv')"
   ]
  },
  {
   "cell_type": "markdown",
   "metadata": {},
   "source": [
    "[所感]かなり面倒な印象・・・データが単純な数値ではなく、適切な数値に変換しなければいけない特徴量が多い"
   ]
  },
  {
   "cell_type": "code",
   "execution_count": 290,
   "metadata": {},
   "outputs": [
    {
     "data": {
      "text/html": [
       "<div>\n",
       "<style scoped>\n",
       "    .dataframe tbody tr th:only-of-type {\n",
       "        vertical-align: middle;\n",
       "    }\n",
       "\n",
       "    .dataframe tbody tr th {\n",
       "        vertical-align: top;\n",
       "    }\n",
       "\n",
       "    .dataframe thead th {\n",
       "        text-align: right;\n",
       "    }\n",
       "</style>\n",
       "<table border=\"1\" class=\"dataframe\">\n",
       "  <thead>\n",
       "    <tr style=\"text-align: right;\">\n",
       "      <th></th>\n",
       "      <th>id</th>\n",
       "      <th>賃料</th>\n",
       "      <th>所在地</th>\n",
       "      <th>アクセス</th>\n",
       "      <th>間取り</th>\n",
       "      <th>築年数</th>\n",
       "      <th>方角</th>\n",
       "      <th>面積</th>\n",
       "      <th>所在階</th>\n",
       "      <th>バス・トイレ</th>\n",
       "      <th>キッチン</th>\n",
       "      <th>放送・通信</th>\n",
       "      <th>室内設備</th>\n",
       "      <th>駐車場</th>\n",
       "      <th>周辺環境</th>\n",
       "      <th>建物構造</th>\n",
       "      <th>契約期間</th>\n",
       "    </tr>\n",
       "  </thead>\n",
       "  <tbody>\n",
       "    <tr>\n",
       "      <th>0</th>\n",
       "      <td>1</td>\n",
       "      <td>75000</td>\n",
       "      <td>東京都北区滝野川３丁目</td>\n",
       "      <td>都営三田線\\t西巣鴨駅\\t徒歩4分\\t\\t埼京線\\t板橋駅\\t徒歩14分\\t\\t都電荒川線\\...</td>\n",
       "      <td>1K</td>\n",
       "      <td>9年9ヶ月</td>\n",
       "      <td>南東</td>\n",
       "      <td>20.01m2</td>\n",
       "      <td>1階／12階建</td>\n",
       "      <td>専用バス／\\t専用トイレ／\\tバス・トイレ別／\\tシャワー／\\t浴室乾燥機\\t／\\t温水洗浄便座</td>\n",
       "      <td>ガスコンロ／\\tコンロ2口／\\tシステムキッチン\\t／\\t給湯</td>\n",
       "      <td>インターネット対応／\\tCATV／\\tCSアンテナ／\\tBSアンテナ</td>\n",
       "      <td>エアコン付\\tシューズボックス／\\tバルコニー／\\tフローリング／\\t室内洗濯機置場／\\t敷...</td>\n",
       "      <td>駐輪場\\t空有</td>\n",
       "      <td>【小学校】 495m\\t【大学】 461m\\t【小学校】 962m\\t【公園】 1103m\\...</td>\n",
       "      <td>RC（鉄筋コンクリート）</td>\n",
       "      <td>2年間</td>\n",
       "    </tr>\n",
       "    <tr>\n",
       "      <th>1</th>\n",
       "      <td>2</td>\n",
       "      <td>76000</td>\n",
       "      <td>東京都中央区月島３丁目</td>\n",
       "      <td>都営大江戸線\\t勝どき駅\\t徒歩5分\\t\\t有楽町線\\t月島駅\\t徒歩9分\\t\\t日比谷線\\...</td>\n",
       "      <td>1R</td>\n",
       "      <td>44年10ヶ月</td>\n",
       "      <td>NaN</td>\n",
       "      <td>16.5m2</td>\n",
       "      <td>5階／10階建</td>\n",
       "      <td>専用トイレ／\\tシャワー／\\t温水洗浄便座</td>\n",
       "      <td>ガスコンロ／\\tシステムキッチン\\t／\\t給湯</td>\n",
       "      <td>インターネット対応</td>\n",
       "      <td>エアコン付\\tシューズボックス／\\tバルコニー／\\tフローリング／\\t室内洗濯機置場／\\t敷...</td>\n",
       "      <td>駐輪場\\t空有\\t駐車場\\t無\\tバイク置き場\\t無</td>\n",
       "      <td>【スーパー】 1283m</td>\n",
       "      <td>鉄骨造</td>\n",
       "      <td>2年間</td>\n",
       "    </tr>\n",
       "    <tr>\n",
       "      <th>2</th>\n",
       "      <td>3</td>\n",
       "      <td>110000</td>\n",
       "      <td>東京都渋谷区笹塚２丁目</td>\n",
       "      <td>京王線\\t笹塚駅\\t徒歩6分\\t\\t京王線\\t代田橋駅\\t徒歩7分\\t\\t京王線\\t明大前駅...</td>\n",
       "      <td>1K</td>\n",
       "      <td>8年6ヶ月</td>\n",
       "      <td>南</td>\n",
       "      <td>22.05m2</td>\n",
       "      <td>12階／15階建</td>\n",
       "      <td>専用バス／\\t専用トイレ／\\tバス・トイレ別／\\tシャワー／\\t浴室乾燥機\\t／\\t温水洗浄...</td>\n",
       "      <td>ガスコンロ／\\tコンロ2口／\\tシステムキッチン\\t／\\t給湯</td>\n",
       "      <td>インターネット対応／\\t光ファイバー／\\tCSアンテナ／\\tBSアンテナ</td>\n",
       "      <td>エアコン付\\tウォークインクローゼット\\tシューズボックス／\\tバルコニー／\\tフローリング...</td>\n",
       "      <td>駐輪場\\t空有\\tバイク置き場\\t空有\\t駐車場\\t近隣\\t30,000円(税込)\\t距離100m</td>\n",
       "      <td>【スーパー】 89m\\t【コンビニ】 184m\\t【コンビニ】 392m\\t【スーパー】 492m</td>\n",
       "      <td>RC（鉄筋コンクリート）</td>\n",
       "      <td>2年間</td>\n",
       "    </tr>\n",
       "    <tr>\n",
       "      <th>3</th>\n",
       "      <td>4</td>\n",
       "      <td>150000</td>\n",
       "      <td>東京都杉並区高円寺南２丁目23-2</td>\n",
       "      <td>総武線・中央線（各停）\\t高円寺駅\\t徒歩9分\\t\\t丸ノ内線(池袋－荻窪)\\t新高円寺駅\\...</td>\n",
       "      <td>2LDK</td>\n",
       "      <td>29年4ヶ月</td>\n",
       "      <td>南</td>\n",
       "      <td>60.48m2</td>\n",
       "      <td>3階／4階建</td>\n",
       "      <td>専用バス／\\t専用トイレ／\\tバス・トイレ別／\\tシャワー／\\t温水洗浄便座／\\t洗面台独立</td>\n",
       "      <td>ガスコンロ／\\t給湯</td>\n",
       "      <td>インターネット対応／\\t光ファイバー</td>\n",
       "      <td>エアコン付\\tシューズボックス／\\tバルコニー／\\t2面採光／\\t室内洗濯機置場／\\tエレベ...</td>\n",
       "      <td>駐車場\\t無\\t駐輪場\\t無\\tバイク置き場\\t無</td>\n",
       "      <td>【スーパー】 225m\\t【スーパー】 448m\\t【スーパー】 619m\\t【スーパー】 ...</td>\n",
       "      <td>RC（鉄筋コンクリート）</td>\n",
       "      <td>2年間\\t※この物件は\\t定期借家\\tです。</td>\n",
       "    </tr>\n",
       "    <tr>\n",
       "      <th>4</th>\n",
       "      <td>5</td>\n",
       "      <td>74000</td>\n",
       "      <td>東京都葛飾区金町３丁目7-2</td>\n",
       "      <td>京成金町線\\t京成金町駅\\t徒歩5分\\t\\t常磐線\\t金町(東京都)駅\\t徒歩7分\\t\\t京...</td>\n",
       "      <td>2DK</td>\n",
       "      <td>31年7ヶ月</td>\n",
       "      <td>南</td>\n",
       "      <td>39.66m2</td>\n",
       "      <td>1階／2階建</td>\n",
       "      <td>専用バス／\\t専用トイレ／\\tバス・トイレ別／\\tシャワー／\\t追焚機能</td>\n",
       "      <td>給湯／\\t独立キッチン</td>\n",
       "      <td>NaN</td>\n",
       "      <td>バルコニー／\\tフローリング／\\t室内洗濯機置場\\t公営水道／\\t下水</td>\n",
       "      <td>駐車場\\t近隣\\t17,000円(税込)\\t距離300m\\t駐輪場\\t無\\tバイク置き場\\t無</td>\n",
       "      <td>【スーパー】 193m\\t【スーパー】 298m\\t【スーパー】 660m\\t【スーパー】 ...</td>\n",
       "      <td>木造</td>\n",
       "      <td>2年間</td>\n",
       "    </tr>\n",
       "  </tbody>\n",
       "</table>\n",
       "</div>"
      ],
      "text/plain": [
       "   id      賃料                所在地  \\\n",
       "0   1   75000        東京都北区滝野川３丁目   \n",
       "1   2   76000        東京都中央区月島３丁目   \n",
       "2   3  110000        東京都渋谷区笹塚２丁目   \n",
       "3   4  150000  東京都杉並区高円寺南２丁目23-2   \n",
       "4   5   74000     東京都葛飾区金町３丁目7-2   \n",
       "\n",
       "                                                アクセス   間取り      築年数   方角  \\\n",
       "0  都営三田線\\t西巣鴨駅\\t徒歩4分\\t\\t埼京線\\t板橋駅\\t徒歩14分\\t\\t都電荒川線\\...    1K    9年9ヶ月   南東   \n",
       "1  都営大江戸線\\t勝どき駅\\t徒歩5分\\t\\t有楽町線\\t月島駅\\t徒歩9分\\t\\t日比谷線\\...    1R  44年10ヶ月  NaN   \n",
       "2  京王線\\t笹塚駅\\t徒歩6分\\t\\t京王線\\t代田橋駅\\t徒歩7分\\t\\t京王線\\t明大前駅...    1K    8年6ヶ月    南   \n",
       "3  総武線・中央線（各停）\\t高円寺駅\\t徒歩9分\\t\\t丸ノ内線(池袋－荻窪)\\t新高円寺駅\\...  2LDK   29年4ヶ月    南   \n",
       "4  京成金町線\\t京成金町駅\\t徒歩5分\\t\\t常磐線\\t金町(東京都)駅\\t徒歩7分\\t\\t京...   2DK   31年7ヶ月    南   \n",
       "\n",
       "        面積       所在階                                             バス・トイレ  \\\n",
       "0  20.01m2   1階／12階建   専用バス／\\t専用トイレ／\\tバス・トイレ別／\\tシャワー／\\t浴室乾燥機\\t／\\t温水洗浄便座   \n",
       "1   16.5m2   5階／10階建                              専用トイレ／\\tシャワー／\\t温水洗浄便座   \n",
       "2  22.05m2  12階／15階建  専用バス／\\t専用トイレ／\\tバス・トイレ別／\\tシャワー／\\t浴室乾燥機\\t／\\t温水洗浄...   \n",
       "3  60.48m2    3階／4階建     専用バス／\\t専用トイレ／\\tバス・トイレ別／\\tシャワー／\\t温水洗浄便座／\\t洗面台独立   \n",
       "4  39.66m2    1階／2階建               専用バス／\\t専用トイレ／\\tバス・トイレ別／\\tシャワー／\\t追焚機能   \n",
       "\n",
       "                              キッチン                                 放送・通信  \\\n",
       "0  ガスコンロ／\\tコンロ2口／\\tシステムキッチン\\t／\\t給湯    インターネット対応／\\tCATV／\\tCSアンテナ／\\tBSアンテナ   \n",
       "1          ガスコンロ／\\tシステムキッチン\\t／\\t給湯                             インターネット対応   \n",
       "2  ガスコンロ／\\tコンロ2口／\\tシステムキッチン\\t／\\t給湯  インターネット対応／\\t光ファイバー／\\tCSアンテナ／\\tBSアンテナ   \n",
       "3                       ガスコンロ／\\t給湯                    インターネット対応／\\t光ファイバー   \n",
       "4                      給湯／\\t独立キッチン                                   NaN   \n",
       "\n",
       "                                                室内設備  \\\n",
       "0  エアコン付\\tシューズボックス／\\tバルコニー／\\tフローリング／\\t室内洗濯機置場／\\t敷...   \n",
       "1  エアコン付\\tシューズボックス／\\tバルコニー／\\tフローリング／\\t室内洗濯機置場／\\t敷...   \n",
       "2  エアコン付\\tウォークインクローゼット\\tシューズボックス／\\tバルコニー／\\tフローリング...   \n",
       "3  エアコン付\\tシューズボックス／\\tバルコニー／\\t2面採光／\\t室内洗濯機置場／\\tエレベ...   \n",
       "4                バルコニー／\\tフローリング／\\t室内洗濯機置場\\t公営水道／\\t下水   \n",
       "\n",
       "                                                 駐車場  \\\n",
       "0                                            駐輪場\\t空有   \n",
       "1                         駐輪場\\t空有\\t駐車場\\t無\\tバイク置き場\\t無   \n",
       "2  駐輪場\\t空有\\tバイク置き場\\t空有\\t駐車場\\t近隣\\t30,000円(税込)\\t距離100m   \n",
       "3                          駐車場\\t無\\t駐輪場\\t無\\tバイク置き場\\t無   \n",
       "4    駐車場\\t近隣\\t17,000円(税込)\\t距離300m\\t駐輪場\\t無\\tバイク置き場\\t無   \n",
       "\n",
       "                                                周辺環境          建物構造  \\\n",
       "0  【小学校】 495m\\t【大学】 461m\\t【小学校】 962m\\t【公園】 1103m\\...  RC（鉄筋コンクリート）   \n",
       "1                                       【スーパー】 1283m           鉄骨造   \n",
       "2  【スーパー】 89m\\t【コンビニ】 184m\\t【コンビニ】 392m\\t【スーパー】 492m  RC（鉄筋コンクリート）   \n",
       "3  【スーパー】 225m\\t【スーパー】 448m\\t【スーパー】 619m\\t【スーパー】 ...  RC（鉄筋コンクリート）   \n",
       "4  【スーパー】 193m\\t【スーパー】 298m\\t【スーパー】 660m\\t【スーパー】 ...            木造   \n",
       "\n",
       "                     契約期間  \n",
       "0                     2年間  \n",
       "1                     2年間  \n",
       "2                     2年間  \n",
       "3  2年間\\t※この物件は\\t定期借家\\tです。  \n",
       "4                     2年間  "
      ]
     },
     "execution_count": 290,
     "metadata": {},
     "output_type": "execute_result"
    }
   ],
   "source": [
    "df.head()"
   ]
  },
  {
   "cell_type": "markdown",
   "metadata": {},
   "source": [
    "[方針]ひとまず、扱いやすそうな特徴量だけで分析をしてみる。具体的には、「賃料」「間取り」「築年数」「面積」「所在階」「契約期間」を使っていく。"
   ]
  },
  {
   "cell_type": "markdown",
   "metadata": {},
   "source": [
    "↓賃料についてはそのまま使えそう"
   ]
  },
  {
   "cell_type": "code",
   "execution_count": 291,
   "metadata": {},
   "outputs": [
    {
     "data": {
      "text/plain": [
       "0     75000\n",
       "1     76000\n",
       "2    110000\n",
       "3    150000\n",
       "4     74000\n",
       "Name: 賃料, dtype: int64"
      ]
     },
     "execution_count": 291,
     "metadata": {},
     "output_type": "execute_result"
    }
   ],
   "source": [
    "rent = df[\"賃料\"]\n",
    "rent.head()"
   ]
  },
  {
   "cell_type": "code",
   "execution_count": 292,
   "metadata": {},
   "outputs": [
    {
     "data": {
      "text/plain": [
       "0"
      ]
     },
     "execution_count": 292,
     "metadata": {},
     "output_type": "execute_result"
    }
   ],
   "source": [
    "rent.isnull().sum()"
   ]
  },
  {
   "cell_type": "markdown",
   "metadata": {},
   "source": [
    "↓間取りについては、数値の部分とアルファベットの部分であとで分けるべきだろう"
   ]
  },
  {
   "cell_type": "code",
   "execution_count": 293,
   "metadata": {},
   "outputs": [
    {
     "name": "stdout",
     "output_type": "stream",
     "text": [
      "0      1K\n",
      "1      1R\n",
      "2      1K\n",
      "3    2LDK\n",
      "4     2DK\n",
      "Name: 間取り, dtype: object\n",
      "1K\n",
      "K\n"
     ]
    }
   ],
   "source": [
    "room_arrange = df[\"間取り\"]\n",
    "print(room_arrange.head())\n",
    "print(room_arrange[0])\n",
    "print(room_arrange[0][1])"
   ]
  },
  {
   "cell_type": "code",
   "execution_count": 294,
   "metadata": {},
   "outputs": [
    {
     "data": {
      "text/plain": [
       "0"
      ]
     },
     "execution_count": 294,
     "metadata": {},
     "output_type": "execute_result"
    }
   ],
   "source": [
    "room_arrange.isnull().sum()"
   ]
  },
  {
   "cell_type": "code",
   "execution_count": 295,
   "metadata": {},
   "outputs": [
    {
     "name": "stderr",
     "output_type": "stream",
     "text": [
      "/var/folders/qh/20ftf7rn5_58_rk3l25kt1nr0000gn/T/ipykernel_7130/3748478797.py:10: SettingWithCopyWarning: \n",
      "A value is trying to be set on a copy of a slice from a DataFrame\n",
      "\n",
      "See the caveats in the documentation: https://pandas.pydata.org/pandas-docs/stable/user_guide/indexing.html#returning-a-view-versus-a-copy\n",
      "  room_arrange[i] = [how_large, LDKs]\n"
     ]
    }
   ],
   "source": [
    "i = 0\n",
    "for nldk in room_arrange:\n",
    "    LDKs = []\n",
    "    for s in nldk:\n",
    "        if s.isdigit():\n",
    "            how_large = s\n",
    "        else:\n",
    "            LDKs.append(s)\n",
    "    #例えば３LDKのとき、３とLDKで分けておく\n",
    "    room_arrange[i] = [how_large, LDKs]\n",
    "    i += 1"
   ]
  },
  {
   "cell_type": "markdown",
   "metadata": {},
   "source": [
    "↓築年数については、月単位の月齢の数値に変換するのが良い・・・？例：９年９か月→9*12+9=117ヵ月のように"
   ]
  },
  {
   "cell_type": "code",
   "execution_count": 296,
   "metadata": {},
   "outputs": [
    {
     "data": {
      "text/plain": [
       "0      9年9ヶ月\n",
       "1    44年10ヶ月\n",
       "2      8年6ヶ月\n",
       "3     29年4ヶ月\n",
       "4     31年7ヶ月\n",
       "Name: 築年数, dtype: object"
      ]
     },
     "execution_count": 296,
     "metadata": {},
     "output_type": "execute_result"
    }
   ],
   "source": [
    "house_age = df[\"築年数\"]\n",
    "house_age.head()"
   ]
  },
  {
   "cell_type": "code",
   "execution_count": 297,
   "metadata": {},
   "outputs": [
    {
     "data": {
      "text/plain": [
       "0"
      ]
     },
     "execution_count": 297,
     "metadata": {},
     "output_type": "execute_result"
    }
   ],
   "source": [
    "house_age.isnull().sum()"
   ]
  },
  {
   "cell_type": "code",
   "execution_count": 298,
   "metadata": {},
   "outputs": [
    {
     "name": "stderr",
     "output_type": "stream",
     "text": [
      "/var/folders/qh/20ftf7rn5_58_rk3l25kt1nr0000gn/T/ipykernel_7130/732147842.py:17: SettingWithCopyWarning: \n",
      "A value is trying to be set on a copy of a slice from a DataFrame\n",
      "\n",
      "See the caveats in the documentation: https://pandas.pydata.org/pandas-docs/stable/user_guide/indexing.html#returning-a-view-versus-a-copy\n",
      "  house_age[i] = 12*years + months\n",
      "/var/folders/qh/20ftf7rn5_58_rk3l25kt1nr0000gn/T/ipykernel_7130/732147842.py:5: SettingWithCopyWarning: \n",
      "A value is trying to be set on a copy of a slice from a DataFrame\n",
      "\n",
      "See the caveats in the documentation: https://pandas.pydata.org/pandas-docs/stable/user_guide/indexing.html#returning-a-view-versus-a-copy\n",
      "  house_age[i] = 0\n"
     ]
    }
   ],
   "source": [
    "i = 0\n",
    "for s in house_age:\n",
    "    #\"新築\"という値が入力されている場合は0で埋める\n",
    "    if (s == \"新築\"):\n",
    "        house_age[i] = 0\n",
    "        i += 1\n",
    "        continue\n",
    "    #\"年\"という文字より前の数値を抽出する\n",
    "    target1 = '年'\n",
    "    idx1 = s.find(target1)\n",
    "    years = int( s[:idx1] )\n",
    "    #\"ヶ\"と\"年\"の間にある数値を抽出する\n",
    "    target2 = 'ヶ'\n",
    "    idx2 = s.find(target2)\n",
    "    months = int( s[idx1+1:idx2] )\n",
    "    #house_ageの各行を、新築からの月齢を数値で置き換える。\n",
    "    house_age[i] = 12*years + months\n",
    "    i+=1"
   ]
  },
  {
   "cell_type": "markdown",
   "metadata": {},
   "source": [
    "↓月齢の抽出完了"
   ]
  },
  {
   "cell_type": "code",
   "execution_count": 299,
   "metadata": {},
   "outputs": [
    {
     "data": {
      "text/plain": [
       "0    117\n",
       "1    538\n",
       "2    102\n",
       "3    352\n",
       "4    379\n",
       "Name: 築年数, dtype: object"
      ]
     },
     "execution_count": 299,
     "metadata": {},
     "output_type": "execute_result"
    }
   ],
   "source": [
    "house_age.head()"
   ]
  },
  {
   "cell_type": "markdown",
   "metadata": {},
   "source": [
    "面積は語尾のm2という単位を取り除く"
   ]
  },
  {
   "cell_type": "code",
   "execution_count": 300,
   "metadata": {},
   "outputs": [
    {
     "data": {
      "text/plain": [
       "0    20.01m2\n",
       "1     16.5m2\n",
       "2    22.05m2\n",
       "3    60.48m2\n",
       "4    39.66m2\n",
       "Name: 面積, dtype: object"
      ]
     },
     "execution_count": 300,
     "metadata": {},
     "output_type": "execute_result"
    }
   ],
   "source": [
    "area_size = df[\"面積\"]\n",
    "area_size.head()"
   ]
  },
  {
   "cell_type": "code",
   "execution_count": 301,
   "metadata": {},
   "outputs": [
    {
     "data": {
      "text/plain": [
       "0"
      ]
     },
     "execution_count": 301,
     "metadata": {},
     "output_type": "execute_result"
    }
   ],
   "source": [
    "area_size.isnull().sum()"
   ]
  },
  {
   "cell_type": "code",
   "execution_count": 302,
   "metadata": {},
   "outputs": [
    {
     "name": "stderr",
     "output_type": "stream",
     "text": [
      "/var/folders/qh/20ftf7rn5_58_rk3l25kt1nr0000gn/T/ipykernel_7130/64398739.py:6: SettingWithCopyWarning: \n",
      "A value is trying to be set on a copy of a slice from a DataFrame\n",
      "\n",
      "See the caveats in the documentation: https://pandas.pydata.org/pandas-docs/stable/user_guide/indexing.html#returning-a-view-versus-a-copy\n",
      "  area_size[i] = area_num\n"
     ]
    }
   ],
   "source": [
    "i = 0\n",
    "for s in area_size:\n",
    "    target = 'm'\n",
    "    idx = s.find(target)\n",
    "    area_num = float( s[:idx] )\n",
    "    area_size[i] = area_num\n",
    "    i += 1"
   ]
  },
  {
   "cell_type": "markdown",
   "metadata": {},
   "source": [
    "面積の整形完了"
   ]
  },
  {
   "cell_type": "code",
   "execution_count": 303,
   "metadata": {},
   "outputs": [
    {
     "data": {
      "text/plain": [
       "0    20.01\n",
       "1     16.5\n",
       "2    22.05\n",
       "3    60.48\n",
       "4    39.66\n",
       "Name: 面積, dtype: object"
      ]
     },
     "execution_count": 303,
     "metadata": {},
     "output_type": "execute_result"
    }
   ],
   "source": [
    "area_size.head()"
   ]
  },
  {
   "cell_type": "markdown",
   "metadata": {},
   "source": [
    "所在階としては、その部屋のある階と全体の階数の両方が必要だろう。ただ、値はかなりバラバラな記入のされ方をしており、整形が難しい。"
   ]
  },
  {
   "cell_type": "code",
   "execution_count": 304,
   "metadata": {},
   "outputs": [
    {
     "data": {
      "text/plain": [
       "0     1階／12階建\n",
       "1     5階／10階建\n",
       "2    12階／15階建\n",
       "3      3階／4階建\n",
       "4      1階／2階建\n",
       "Name: 所在階, dtype: object"
      ]
     },
     "execution_count": 304,
     "metadata": {},
     "output_type": "execute_result"
    }
   ],
   "source": [
    "n_floor = df[\"所在階\"].copy()#n_floorについてはあとでまた使うので、df[\"所在階\"]の書き換えを防ぐために.copy()を使っておく。\n",
    "n_floor.head()"
   ]
  },
  {
   "cell_type": "code",
   "execution_count": 305,
   "metadata": {},
   "outputs": [
    {
     "data": {
      "text/plain": [
       "0"
      ]
     },
     "execution_count": 305,
     "metadata": {},
     "output_type": "execute_result"
    }
   ],
   "source": [
    "n_floor.isnull().sum()"
   ]
  },
  {
   "cell_type": "markdown",
   "metadata": {},
   "source": [
    "reというライブラリを使ったら簡単に数値を抽出できた。ただし、抽出したリストによっては扱いに注意するものもある。<br>\n",
    "例：大抵の場合は、1階／12階建→['1', '12']のようになるのだが、中には5階／14階建（地下1階）→['5', '14', '1']や２階建→['2']のように要素数が異なっている。\n",
    "特に、地下の階数は、地上の階数と大きく意味が異なる。<br>\n",
    "地下にあるかどうかは大きく家賃に関わってきそうなので、やはりその情報を欠落させておくのはまずい・・・"
   ]
  },
  {
   "cell_type": "code",
   "execution_count": 306,
   "metadata": {},
   "outputs": [],
   "source": [
    "import re\n",
    "\n",
    "i = 0\n",
    "for s in n_floor:\n",
    "    n_floor[i] = re.findall(r\"\\d+\", s)\n",
    "    i += 1"
   ]
  },
  {
   "cell_type": "code",
   "execution_count": 307,
   "metadata": {},
   "outputs": [
    {
     "data": {
      "text/plain": [
       "0     [1, 12]\n",
       "1     [5, 10]\n",
       "2    [12, 15]\n",
       "3      [3, 4]\n",
       "4      [1, 2]\n",
       "Name: 所在階, dtype: object"
      ]
     },
     "execution_count": 307,
     "metadata": {},
     "output_type": "execute_result"
    }
   ],
   "source": [
    "n_floor.head()"
   ]
  },
  {
   "cell_type": "markdown",
   "metadata": {},
   "source": [
    "〇階/〇階建のフォーマットのもののみ扱うことにする！地下はマイナス扱いにする！それ以外は欠損値にする。"
   ]
  },
  {
   "cell_type": "code",
   "execution_count": 308,
   "metadata": {},
   "outputs": [],
   "source": [
    "n_floor = df[\"所在階\"]"
   ]
  },
  {
   "cell_type": "code",
   "execution_count": 309,
   "metadata": {},
   "outputs": [
    {
     "name": "stderr",
     "output_type": "stream",
     "text": [
      "/var/folders/qh/20ftf7rn5_58_rk3l25kt1nr0000gn/T/ipykernel_7130/1658933656.py:62: SettingWithCopyWarning: \n",
      "A value is trying to be set on a copy of a slice from a DataFrame\n",
      "\n",
      "See the caveats in the documentation: https://pandas.pydata.org/pandas-docs/stable/user_guide/indexing.html#returning-a-view-versus-a-copy\n",
      "  n_floor[i] = [floor,Floor]\n",
      "/var/folders/qh/20ftf7rn5_58_rk3l25kt1nr0000gn/T/ipykernel_7130/1658933656.py:26: SettingWithCopyWarning: \n",
      "A value is trying to be set on a copy of a slice from a DataFrame\n",
      "\n",
      "See the caveats in the documentation: https://pandas.pydata.org/pandas-docs/stable/user_guide/indexing.html#returning-a-view-versus-a-copy\n",
      "  n_floor[i] = nan#肝心なのは、その部屋が何階にあるかだと思うので、あえて欠損値を入力しておく。\n",
      "/var/folders/qh/20ftf7rn5_58_rk3l25kt1nr0000gn/T/ipykernel_7130/1658933656.py:19: SettingWithCopyWarning: \n",
      "A value is trying to be set on a copy of a slice from a DataFrame\n",
      "\n",
      "See the caveats in the documentation: https://pandas.pydata.org/pandas-docs/stable/user_guide/indexing.html#returning-a-view-versus-a-copy\n",
      "  n_floor[i] = nan\n",
      "/var/folders/qh/20ftf7rn5_58_rk3l25kt1nr0000gn/T/ipykernel_7130/1658933656.py:38: SettingWithCopyWarning: \n",
      "A value is trying to be set on a copy of a slice from a DataFrame\n",
      "\n",
      "See the caveats in the documentation: https://pandas.pydata.org/pandas-docs/stable/user_guide/indexing.html#returning-a-view-versus-a-copy\n",
      "  n_floor[i] = nan\n"
     ]
    }
   ],
   "source": [
    "from cmath import nan\n",
    "\n",
    "\n",
    "i = 0\n",
    "target0 = '階'\n",
    "target1 = '／'\n",
    "target2 = '建'\n",
    "target3 = '下'\n",
    "for s in n_floor:\n",
    "\n",
    "    ###floor(その部屋のある階数)とFloor(全体の階数)を設定する。\n",
    "\n",
    "\n",
    "    ##まずはfloor（その部屋のある階数）から求める\n",
    "    \n",
    "    idx1 = s.find(target1)#\"／\"の位置を取得する。\"／\"がなければ-1が返る。\n",
    "\n",
    "    if (idx1 == 0):#\"／\"の位置が先頭なら、その部屋の階数情報は不明だから欠損値にいれて無視する。\n",
    "        n_floor[i] = nan\n",
    "        i += 1\n",
    "        continue\n",
    "\n",
    "    if (idx1 == -1):#\"／\"がない場合\n",
    "        #考えうるのは単に\"〇階建\"や\"地下〇階\"という文字列だけが入力されている場合である。\n",
    "        if (s.find(target2)!=-1):#\"〇階建\"の場合\n",
    "            n_floor[i] = nan#肝心なのは、その部屋が何階にあるかだと思うので、あえて欠損値を入力しておく。\n",
    "            i += 1\n",
    "            continue\n",
    "        elif (s.find(target3)!=-1):\n",
    "            idx0 = s.find(target0)\n",
    "            idx3 = s.find(target3)\n",
    "            floor = - int( s[idx3:idx0+1] )#\"地下〇階\"の〇の部分を取得する。\n",
    "            Floor = nan#全体の階数は不明なので欠損値にしておく。 \n",
    "            n_floor[i] = [floor,Floor]\n",
    "            i += 1\n",
    "            continue\n",
    "        else:#\"／\"がなく、かつ\"〇階建\"や\"地下〇階\"の形式ではないものはもう無視する\n",
    "            n_floor[i] = nan\n",
    "            i += 1\n",
    "            continue\n",
    "\n",
    "    try:\n",
    "        floor = int( s[:idx1-1] )#\"〇階／\"における〇の値の取得を試みる。idx1-1であることに注意。\n",
    "\n",
    "    except:#exceptで受けるのは\"〇階／\"のあとにも文字列がある場合。例えば\"地下〇階／\"など。\n",
    "        if (s.find(target3)!=-1):#もし\"地下〇階／\"の形式である場合\n",
    "            idx1 = s.find(target1)\n",
    "            idx3 = s.find(target3)\n",
    "            floor = - int( s[idx3+1:idx1-1] )#\"地下〇階／\"の〇の部分を取得する\n",
    "        else:\n",
    "            n_floor[i] = nan#それ以外の場合は欠損値をいれて無視する。\n",
    "    \n",
    "\n",
    "    ##次にFloor(全体の階数)を求める\n",
    "    idx2 = s.find(target2)\n",
    "\n",
    "    try:#\"／〇階建\"の〇の部分の取得を試みる。\n",
    "        Floor = int ( s[idx1+1:idx2-1] )\n",
    "    except:#tryで失敗するものには欠損値を入れて無視する\n",
    "        Floor = nan\n",
    "\n",
    "    n_floor[i] = [floor,Floor]\n",
    "    i += 1"
   ]
  },
  {
   "cell_type": "markdown",
   "metadata": {},
   "source": [
    "階数情報で扱いにくい情報は欠損値にしたが、その数は714である。これくらいなら無視できるだろうか・・・？"
   ]
  },
  {
   "cell_type": "code",
   "execution_count": 310,
   "metadata": {},
   "outputs": [
    {
     "data": {
      "text/plain": [
       "714"
      ]
     },
     "execution_count": 310,
     "metadata": {},
     "output_type": "execute_result"
    }
   ],
   "source": [
    "n_floor.isnull().sum()"
   ]
  },
  {
   "cell_type": "markdown",
   "metadata": {},
   "source": [
    "契約期間については、「年間」の部分をのぞく"
   ]
  },
  {
   "cell_type": "code",
   "execution_count": 311,
   "metadata": {},
   "outputs": [
    {
     "data": {
      "text/plain": [
       "0                       2年間\n",
       "1                       2年間\n",
       "2                       2年間\n",
       "3    2年間\\t※この物件は\\t定期借家\\tです。\n",
       "4                       2年間\n",
       "Name: 契約期間, dtype: object"
      ]
     },
     "execution_count": 311,
     "metadata": {},
     "output_type": "execute_result"
    }
   ],
   "source": [
    "contract_span = df[\"契約期間\"]\n",
    "contract_span.head()"
   ]
  },
  {
   "cell_type": "markdown",
   "metadata": {},
   "source": [
    "相当数の欠損値を確認。無視できる量ではないと思うので、代わりの値で埋める。"
   ]
  },
  {
   "cell_type": "code",
   "execution_count": 312,
   "metadata": {},
   "outputs": [
    {
     "data": {
      "text/plain": [
       "7120"
      ]
     },
     "execution_count": 312,
     "metadata": {},
     "output_type": "execute_result"
    }
   ],
   "source": [
    "contract_span.isnull().sum()"
   ]
  },
  {
   "cell_type": "code",
   "execution_count": 313,
   "metadata": {},
   "outputs": [
    {
     "name": "stderr",
     "output_type": "stream",
     "text": [
      "/var/folders/qh/20ftf7rn5_58_rk3l25kt1nr0000gn/T/ipykernel_7130/4180405811.py:17: SettingWithCopyWarning: \n",
      "A value is trying to be set on a copy of a slice from a DataFrame\n",
      "\n",
      "See the caveats in the documentation: https://pandas.pydata.org/pandas-docs/stable/user_guide/indexing.html#returning-a-view-versus-a-copy\n",
      "  contract_span[i] = float( s[:idx] )\n",
      "/var/folders/qh/20ftf7rn5_58_rk3l25kt1nr0000gn/T/ipykernel_7130/4180405811.py:11: SettingWithCopyWarning: \n",
      "A value is trying to be set on a copy of a slice from a DataFrame\n",
      "\n",
      "See the caveats in the documentation: https://pandas.pydata.org/pandas-docs/stable/user_guide/indexing.html#returning-a-view-versus-a-copy\n",
      "  contract_span[i] = 0\n",
      "/var/folders/qh/20ftf7rn5_58_rk3l25kt1nr0000gn/T/ipykernel_7130/4180405811.py:21: SettingWithCopyWarning: \n",
      "A value is trying to be set on a copy of a slice from a DataFrame\n",
      "\n",
      "See the caveats in the documentation: https://pandas.pydata.org/pandas-docs/stable/user_guide/indexing.html#returning-a-view-versus-a-copy\n",
      "  contract_span[i] = float( s[:idx2] )/12\n",
      "/var/folders/qh/20ftf7rn5_58_rk3l25kt1nr0000gn/T/ipykernel_7130/4180405811.py:24: SettingWithCopyWarning: \n",
      "A value is trying to be set on a copy of a slice from a DataFrame\n",
      "\n",
      "See the caveats in the documentation: https://pandas.pydata.org/pandas-docs/stable/user_guide/indexing.html#returning-a-view-versus-a-copy\n",
      "  contract_span[i] = nan\n"
     ]
    }
   ],
   "source": [
    "i = 0\n",
    "target = '年'\n",
    "target2 = 'ヶ'\n",
    "for s in contract_span:\n",
    "    #まずはsが欠損値であることに備える。\n",
    "    try:\n",
    "        idx = s.find(target)\n",
    "    except:\n",
    "        #sが欠損値であればidxの取得が失敗するので、0を代入する。\n",
    "        #でもホントに0で埋めてしまって良いのかしら・・・？\n",
    "        contract_span[i] = 0\n",
    "        i += 1\n",
    "        continue\n",
    "    \n",
    "    try:\n",
    "        #年単位で契約期間が定まっているのかをまず調べる\n",
    "        contract_span[i] = float( s[:idx] )\n",
    "    except:\n",
    "        #月単位で契約期間が定まっているのなら、12で割って契約年数とする。\n",
    "        idx2 = s.find(target2)\n",
    "        contract_span[i] = float( s[:idx2] )/12\n",
    "\n",
    "    if (contract_span[i] > 10):\n",
    "        contract_span[i] = nan\n",
    "    i += 1"
   ]
  },
  {
   "cell_type": "code",
   "execution_count": 314,
   "metadata": {},
   "outputs": [
    {
     "data": {
      "text/plain": [
       "0    2.0\n",
       "1    2.0\n",
       "2    2.0\n",
       "3    2.0\n",
       "4    2.0\n",
       "Name: 契約期間, dtype: object"
      ]
     },
     "execution_count": 314,
     "metadata": {},
     "output_type": "execute_result"
    }
   ],
   "source": [
    "contract_span.head()"
   ]
  },
  {
   "cell_type": "markdown",
   "metadata": {},
   "source": [
    "# 整形した変数情報一覧"
   ]
  },
  {
   "cell_type": "code",
   "execution_count": 315,
   "metadata": {},
   "outputs": [],
   "source": [
    "import numpy as np"
   ]
  },
  {
   "cell_type": "markdown",
   "metadata": {},
   "source": [
    "### 家賃"
   ]
  },
  {
   "cell_type": "code",
   "execution_count": 316,
   "metadata": {},
   "outputs": [
    {
     "name": "stdout",
     "output_type": "stream",
     "text": [
      "0     75000\n",
      "1     76000\n",
      "2    110000\n",
      "3    150000\n",
      "4     74000\n",
      "Name: 賃料, dtype: int64\n",
      "rentのデータサイズ： 31470\n",
      "欠損値の数： 0\n"
     ]
    }
   ],
   "source": [
    "print(rent.head())\n",
    "print(\"rentのデータサイズ：\",np.size(rent))\n",
    "print(\"欠損値の数：\",rent.isnull().sum())\n",
    "rent.to_csv(\"rent.csv\",index=False)"
   ]
  },
  {
   "cell_type": "markdown",
   "metadata": {},
   "source": [
    "### 間取り"
   ]
  },
  {
   "cell_type": "code",
   "execution_count": 317,
   "metadata": {},
   "outputs": [
    {
     "name": "stdout",
     "output_type": "stream",
     "text": [
      "0          [1, [K]]\n",
      "1          [1, [R]]\n",
      "2          [1, [K]]\n",
      "3    [2, [L, D, K]]\n",
      "4       [2, [D, K]]\n",
      "Name: 間取り, dtype: object\n",
      "room_arrangeのデータサイズ： 31470\n",
      "欠損値の数： 0\n"
     ]
    }
   ],
   "source": [
    "print(room_arrange.head())\n",
    "print(\"room_arrangeのデータサイズ：\",np.size(room_arrange))\n",
    "print(\"欠損値の数：\",room_arrange.isnull().sum())\n",
    "room_arrange.to_csv(\"room_arrange.csv\",index=False)"
   ]
  },
  {
   "cell_type": "markdown",
   "metadata": {},
   "source": [
    "### 築年数"
   ]
  },
  {
   "cell_type": "code",
   "execution_count": 318,
   "metadata": {},
   "outputs": [
    {
     "name": "stdout",
     "output_type": "stream",
     "text": [
      "0    117\n",
      "1    538\n",
      "2    102\n",
      "3    352\n",
      "4    379\n",
      "Name: 築年数, dtype: object\n",
      "house_ageのデータサイズ： 31470\n",
      "欠損値の数： 0\n"
     ]
    }
   ],
   "source": [
    "print(house_age.head())\n",
    "print(\"house_ageのデータサイズ：\",np.size(house_age))\n",
    "print(\"欠損値の数：\",house_age.isnull().sum())\n",
    "house_age.to_csv(\"house_age.csv\",index=False)"
   ]
  },
  {
   "cell_type": "markdown",
   "metadata": {},
   "source": [
    "### 面積"
   ]
  },
  {
   "cell_type": "code",
   "execution_count": 319,
   "metadata": {},
   "outputs": [
    {
     "name": "stdout",
     "output_type": "stream",
     "text": [
      "0    20.01\n",
      "1     16.5\n",
      "2    22.05\n",
      "3    60.48\n",
      "4    39.66\n",
      "Name: 面積, dtype: object\n",
      "area_sizeのデータサイズ： 31470\n",
      "欠損値の数： 0\n"
     ]
    }
   ],
   "source": [
    "print(area_size.head())\n",
    "print(\"area_sizeのデータサイズ：\",np.size(area_size))\n",
    "print(\"欠損値の数：\",area_size.isnull().sum())\n",
    "area_size.to_csv(\"area_size.csv\",index=False)"
   ]
  },
  {
   "cell_type": "markdown",
   "metadata": {},
   "source": [
    "### 所在階"
   ]
  },
  {
   "cell_type": "code",
   "execution_count": 320,
   "metadata": {},
   "outputs": [
    {
     "name": "stdout",
     "output_type": "stream",
     "text": [
      "0     [1, 12]\n",
      "1     [5, 10]\n",
      "2    [12, 15]\n",
      "3      [3, 4]\n",
      "4      [1, 2]\n",
      "Name: 所在階, dtype: object\n",
      "n_floorのデータサイズ： 31470\n",
      "欠損値の数： 714\n"
     ]
    }
   ],
   "source": [
    "print(n_floor.head())\n",
    "print(\"n_floorのデータサイズ：\",np.size(n_floor))\n",
    "print(\"欠損値の数：\",n_floor.isnull().sum())\n",
    "n_floor.to_csv(\"n_floor.csv\",index=False)"
   ]
  },
  {
   "cell_type": "markdown",
   "metadata": {},
   "source": [
    "### 契約期間"
   ]
  },
  {
   "cell_type": "code",
   "execution_count": 321,
   "metadata": {},
   "outputs": [
    {
     "name": "stdout",
     "output_type": "stream",
     "text": [
      "0    2.0\n",
      "1    2.0\n",
      "2    2.0\n",
      "3    2.0\n",
      "4    2.0\n",
      "Name: 契約期間, dtype: object\n",
      "contract_spanのデータサイズ： 31470\n",
      "欠損値の数： 104\n"
     ]
    }
   ],
   "source": [
    "print(contract_span.head())\n",
    "print(\"contract_spanのデータサイズ：\",np.size(contract_span))\n",
    "print(\"欠損値の数：\",contract_span.isnull().sum())\n",
    "contract_span.to_csv(\"contract_span.csv\",index=False)"
   ]
  },
  {
   "cell_type": "markdown",
   "metadata": {},
   "source": [
    "テストデータの整形をする。"
   ]
  },
  {
   "cell_type": "code",
   "execution_count": 322,
   "metadata": {},
   "outputs": [],
   "source": [
    "df = pd.read_csv('./test.csv')"
   ]
  },
  {
   "cell_type": "markdown",
   "metadata": {},
   "source": [
    "間取りのテストデータ"
   ]
  },
  {
   "cell_type": "code",
   "execution_count": 323,
   "metadata": {},
   "outputs": [],
   "source": [
    "test_room_arrange = df[\"間取り\"]"
   ]
  },
  {
   "cell_type": "code",
   "execution_count": 324,
   "metadata": {},
   "outputs": [
    {
     "name": "stderr",
     "output_type": "stream",
     "text": [
      "/var/folders/qh/20ftf7rn5_58_rk3l25kt1nr0000gn/T/ipykernel_7130/514928054.py:10: SettingWithCopyWarning: \n",
      "A value is trying to be set on a copy of a slice from a DataFrame\n",
      "\n",
      "See the caveats in the documentation: https://pandas.pydata.org/pandas-docs/stable/user_guide/indexing.html#returning-a-view-versus-a-copy\n",
      "  test_room_arrange[i] = [how_large, LDKs]\n"
     ]
    }
   ],
   "source": [
    "i = 0\n",
    "for nldk in test_room_arrange:\n",
    "    LDKs = []\n",
    "    for s in nldk:\n",
    "        if s.isdigit():\n",
    "            how_large = s\n",
    "        else:\n",
    "            LDKs.append(s)\n",
    "    #例えば３LDKのとき、３とLDKで分けておく\n",
    "    test_room_arrange[i] = [how_large, LDKs]\n",
    "    i += 1"
   ]
  },
  {
   "cell_type": "markdown",
   "metadata": {},
   "source": [
    "築年数のテストデータ"
   ]
  },
  {
   "cell_type": "code",
   "execution_count": 325,
   "metadata": {},
   "outputs": [],
   "source": [
    "test_house_age = df[\"築年数\"]"
   ]
  },
  {
   "cell_type": "code",
   "execution_count": 326,
   "metadata": {},
   "outputs": [
    {
     "name": "stderr",
     "output_type": "stream",
     "text": [
      "/var/folders/qh/20ftf7rn5_58_rk3l25kt1nr0000gn/T/ipykernel_7130/1082184834.py:17: SettingWithCopyWarning: \n",
      "A value is trying to be set on a copy of a slice from a DataFrame\n",
      "\n",
      "See the caveats in the documentation: https://pandas.pydata.org/pandas-docs/stable/user_guide/indexing.html#returning-a-view-versus-a-copy\n",
      "  test_house_age[i] = 12*years + months\n",
      "/var/folders/qh/20ftf7rn5_58_rk3l25kt1nr0000gn/T/ipykernel_7130/1082184834.py:5: SettingWithCopyWarning: \n",
      "A value is trying to be set on a copy of a slice from a DataFrame\n",
      "\n",
      "See the caveats in the documentation: https://pandas.pydata.org/pandas-docs/stable/user_guide/indexing.html#returning-a-view-versus-a-copy\n",
      "  test_house_age[i] = 0\n"
     ]
    }
   ],
   "source": [
    "i = 0\n",
    "for s in test_house_age:\n",
    "    #\"新築\"という値が入力されている場合は0で埋める\n",
    "    if (s == \"新築\"):\n",
    "        test_house_age[i] = 0\n",
    "        i += 1\n",
    "        continue\n",
    "    #\"年\"という文字より前の数値を抽出する\n",
    "    target1 = '年'\n",
    "    idx1 = s.find(target1)\n",
    "    years = int( s[:idx1] )\n",
    "    #\"ヶ\"と\"年\"の間にある数値を抽出する\n",
    "    target2 = 'ヶ'\n",
    "    idx2 = s.find(target2)\n",
    "    months = int( s[idx1+1:idx2] )\n",
    "    #house_ageの各行を、新築からの月齢を数値で置き換える。\n",
    "    test_house_age[i] = 12*years + months\n",
    "    i+=1"
   ]
  },
  {
   "cell_type": "markdown",
   "metadata": {},
   "source": [
    "面積のテストデータ"
   ]
  },
  {
   "cell_type": "code",
   "execution_count": 327,
   "metadata": {},
   "outputs": [],
   "source": [
    "test_area_size = df[\"面積\"]"
   ]
  },
  {
   "cell_type": "code",
   "execution_count": 328,
   "metadata": {},
   "outputs": [
    {
     "name": "stderr",
     "output_type": "stream",
     "text": [
      "/var/folders/qh/20ftf7rn5_58_rk3l25kt1nr0000gn/T/ipykernel_7130/1710749086.py:6: SettingWithCopyWarning: \n",
      "A value is trying to be set on a copy of a slice from a DataFrame\n",
      "\n",
      "See the caveats in the documentation: https://pandas.pydata.org/pandas-docs/stable/user_guide/indexing.html#returning-a-view-versus-a-copy\n",
      "  test_area_size[i] = area_num\n"
     ]
    }
   ],
   "source": [
    "i = 0\n",
    "for s in test_area_size:\n",
    "    target = 'm'\n",
    "    idx = s.find(target)\n",
    "    area_num = float( s[:idx] )\n",
    "    test_area_size[i] = area_num\n",
    "    i += 1"
   ]
  },
  {
   "cell_type": "markdown",
   "metadata": {},
   "source": [
    "所在階のテストデータ(テストデータの方は、訓練データにはない異常値があったので微修正)"
   ]
  },
  {
   "cell_type": "code",
   "execution_count": 329,
   "metadata": {},
   "outputs": [],
   "source": [
    "test_n_floor = df[\"所在階\"]"
   ]
  },
  {
   "cell_type": "code",
   "execution_count": 330,
   "metadata": {},
   "outputs": [
    {
     "name": "stderr",
     "output_type": "stream",
     "text": [
      "/var/folders/qh/20ftf7rn5_58_rk3l25kt1nr0000gn/T/ipykernel_7130/202863575.py:65: SettingWithCopyWarning: \n",
      "A value is trying to be set on a copy of a slice from a DataFrame\n",
      "\n",
      "See the caveats in the documentation: https://pandas.pydata.org/pandas-docs/stable/user_guide/indexing.html#returning-a-view-versus-a-copy\n",
      "  test_n_floor[i] = [floor,Floor]\n",
      "/var/folders/qh/20ftf7rn5_58_rk3l25kt1nr0000gn/T/ipykernel_7130/202863575.py:25: SettingWithCopyWarning: \n",
      "A value is trying to be set on a copy of a slice from a DataFrame\n",
      "\n",
      "See the caveats in the documentation: https://pandas.pydata.org/pandas-docs/stable/user_guide/indexing.html#returning-a-view-versus-a-copy\n",
      "  test_n_floor[i] = nan#肝心なのは、その部屋が何階にあるかだと思うので、あえて欠損値を入力しておく。\n",
      "/var/folders/qh/20ftf7rn5_58_rk3l25kt1nr0000gn/T/ipykernel_7130/202863575.py:18: SettingWithCopyWarning: \n",
      "A value is trying to be set on a copy of a slice from a DataFrame\n",
      "\n",
      "See the caveats in the documentation: https://pandas.pydata.org/pandas-docs/stable/user_guide/indexing.html#returning-a-view-versus-a-copy\n",
      "  test_n_floor[i] = nan\n",
      "/var/folders/qh/20ftf7rn5_58_rk3l25kt1nr0000gn/T/ipykernel_7130/202863575.py:37: SettingWithCopyWarning: \n",
      "A value is trying to be set on a copy of a slice from a DataFrame\n",
      "\n",
      "See the caveats in the documentation: https://pandas.pydata.org/pandas-docs/stable/user_guide/indexing.html#returning-a-view-versus-a-copy\n",
      "  test_n_floor[i] = nan\n",
      "/var/folders/qh/20ftf7rn5_58_rk3l25kt1nr0000gn/T/ipykernel_7130/202863575.py:41: SettingWithCopyWarning: \n",
      "A value is trying to be set on a copy of a slice from a DataFrame\n",
      "\n",
      "See the caveats in the documentation: https://pandas.pydata.org/pandas-docs/stable/user_guide/indexing.html#returning-a-view-versus-a-copy\n",
      "  test_n_floor[i] = nan\n"
     ]
    }
   ],
   "source": [
    "from cmath import nan\n",
    "\n",
    "i = 0\n",
    "target0 = '階'\n",
    "target1 = '／'\n",
    "target2 = '建'\n",
    "target3 = '下'\n",
    "for s in test_n_floor:\n",
    "\n",
    "    ###floor(その部屋のある階数)とFloor(全体の階数)を設定する。\n",
    "\n",
    "    #sがnanなら例外処理(訓練データにはない異常値があった)\n",
    "    try:\n",
    "        ##まずはfloor（その部屋のある階数）から求める\n",
    "        idx1 = s.find(target1)#\"／\"の位置を取得する。\"／\"がなければ-1が返る。\n",
    "\n",
    "        if (idx1 == 0):#\"／\"の位置が先頭なら、その部屋の階数情報は不明だから欠損値にいれて無視する。\n",
    "            test_n_floor[i] = nan\n",
    "            i += 1\n",
    "            continue\n",
    "\n",
    "        if (idx1 == -1):#\"／\"がない場合\n",
    "            #考えうるのは単に\"〇階建\"や\"地下〇階\"という文字列だけが入力されている場合である。\n",
    "            if (s.find(target2)!=-1):#\"〇階建\"の場合\n",
    "                test_n_floor[i] = nan#肝心なのは、その部屋が何階にあるかだと思うので、あえて欠損値を入力しておく。\n",
    "                i += 1\n",
    "                continue\n",
    "            elif (s.find(target3)!=-1):\n",
    "                idx0 = s.find(target0)\n",
    "                idx3 = s.find(target3)\n",
    "                floor = - int( s[idx3:idx0+1] )#\"地下〇階\"の〇の部分を取得する。\n",
    "                Floor = nan#全体の階数は不明なので欠損値にしておく。 \n",
    "                test_n_floor[i] = [floor,Floor]\n",
    "                i += 1\n",
    "                continue\n",
    "            else:#\"／\"がなく、かつ\"〇階建\"や\"地下〇階\"の形式ではないものはもう無視する\n",
    "                test_n_floor[i] = nan\n",
    "                i += 1\n",
    "                continue\n",
    "    except:###sがnanの場合\n",
    "        test_n_floor[i] = nan\n",
    "        i += 1\n",
    "        continue\n",
    "\n",
    "    try:\n",
    "        floor = int( s[:idx1-1] )#\"〇階／\"における〇の値の取得を試みる。idx1-1であることに注意。\n",
    "\n",
    "    except:#exceptで受けるのは\"〇階／\"のあとにも文字列がある場合。例えば\"地下〇階／\"など。\n",
    "        \n",
    "        if (s.find(target3)!=-1):#もし\"地下〇階／\"の形式である場合\n",
    "            idx1 = s.find(target1)\n",
    "            idx3 = s.find(target3)\n",
    "            floor = - int( s[idx3+1:idx1-1] )#\"地下〇階／\"の〇の部分を取得する\n",
    "        else:\n",
    "            test_n_floor[i] = nan#それ以外の場合は欠損値をいれて無視する。\n",
    "\n",
    "    ##次にFloor(全体の階数)を求める\n",
    "    idx2 = s.find(target2)\n",
    "\n",
    "    try:#\"／〇階建\"の〇の部分の取得を試みる。\n",
    "        Floor = int ( s[idx1+1:idx2-1] )\n",
    "    except:#tryで失敗するものには欠損値を入れて無視する\n",
    "        Floor = nan\n",
    "\n",
    "    test_n_floor[i] = [floor,Floor]\n",
    "    i += 1"
   ]
  },
  {
   "cell_type": "markdown",
   "metadata": {},
   "source": [
    "契約期間のテストデータ"
   ]
  },
  {
   "cell_type": "code",
   "execution_count": 331,
   "metadata": {},
   "outputs": [],
   "source": [
    "test_contract_span = df[\"契約期間\"]"
   ]
  },
  {
   "cell_type": "code",
   "execution_count": 332,
   "metadata": {},
   "outputs": [
    {
     "name": "stderr",
     "output_type": "stream",
     "text": [
      "/var/folders/qh/20ftf7rn5_58_rk3l25kt1nr0000gn/T/ipykernel_7130/1831730994.py:11: SettingWithCopyWarning: \n",
      "A value is trying to be set on a copy of a slice from a DataFrame\n",
      "\n",
      "See the caveats in the documentation: https://pandas.pydata.org/pandas-docs/stable/user_guide/indexing.html#returning-a-view-versus-a-copy\n",
      "  test_contract_span[i] = 0\n",
      "/var/folders/qh/20ftf7rn5_58_rk3l25kt1nr0000gn/T/ipykernel_7130/1831730994.py:17: SettingWithCopyWarning: \n",
      "A value is trying to be set on a copy of a slice from a DataFrame\n",
      "\n",
      "See the caveats in the documentation: https://pandas.pydata.org/pandas-docs/stable/user_guide/indexing.html#returning-a-view-versus-a-copy\n",
      "  test_contract_span[i] = float( s[:idx] )\n",
      "/var/folders/qh/20ftf7rn5_58_rk3l25kt1nr0000gn/T/ipykernel_7130/1831730994.py:24: SettingWithCopyWarning: \n",
      "A value is trying to be set on a copy of a slice from a DataFrame\n",
      "\n",
      "See the caveats in the documentation: https://pandas.pydata.org/pandas-docs/stable/user_guide/indexing.html#returning-a-view-versus-a-copy\n",
      "  test_contract_span[i] = nan\n",
      "/var/folders/qh/20ftf7rn5_58_rk3l25kt1nr0000gn/T/ipykernel_7130/1831730994.py:21: SettingWithCopyWarning: \n",
      "A value is trying to be set on a copy of a slice from a DataFrame\n",
      "\n",
      "See the caveats in the documentation: https://pandas.pydata.org/pandas-docs/stable/user_guide/indexing.html#returning-a-view-versus-a-copy\n",
      "  test_contract_span[i] = float( s[:idx2] )/12\n"
     ]
    }
   ],
   "source": [
    "i = 0\n",
    "target = '年'\n",
    "target2 = 'ヶ'\n",
    "for s in test_contract_span:\n",
    "    #まずはsが欠損値であることに備える。\n",
    "    try:\n",
    "        idx = s.find(target)\n",
    "    except:\n",
    "        #sが欠損値であればidxの取得が失敗するので、0を代入する。\n",
    "        #でもホントに0で埋めてしまって良いのかしら・・・？\n",
    "        test_contract_span[i] = 0\n",
    "        i += 1\n",
    "        continue\n",
    "    \n",
    "    try:\n",
    "        #年単位で契約期間が定まっているのかをまず調べる\n",
    "        test_contract_span[i] = float( s[:idx] )\n",
    "    except:\n",
    "        #月単位で契約期間が定まっているのなら、12で割って契約年数とする。\n",
    "        idx2 = s.find(target2)\n",
    "        test_contract_span[i] = float( s[:idx2] )/12\n",
    "\n",
    "    if (test_contract_span[i] > 10):\n",
    "        test_contract_span[i] = nan\n",
    "    i += 1"
   ]
  },
  {
   "cell_type": "markdown",
   "metadata": {},
   "source": [
    "テストデータのファイル出力"
   ]
  },
  {
   "cell_type": "code",
   "execution_count": 333,
   "metadata": {},
   "outputs": [],
   "source": [
    "test_room_arrange.to_csv(\"test_room_arrange.csv\",index=False)\n",
    "test_house_age.to_csv(\"test_house_age.csv\",index=False)\n",
    "test_area_size.to_csv(\"test_area_size.csv\",index=False)\n",
    "test_n_floor.to_csv(\"test_n_floor.csv\",index=False)\n",
    "test_contract_span.to_csv(\"test_contract_span.csv\",index=False)"
   ]
  }
 ],
 "metadata": {
  "kernelspec": {
   "display_name": "Python 3.10.5 ('venv': venv)",
   "language": "python",
   "name": "python3"
  },
  "language_info": {
   "codemirror_mode": {
    "name": "ipython",
    "version": 3
   },
   "file_extension": ".py",
   "mimetype": "text/x-python",
   "name": "python",
   "nbconvert_exporter": "python",
   "pygments_lexer": "ipython3",
   "version": "3.10.5"
  },
  "orig_nbformat": 4,
  "vscode": {
   "interpreter": {
    "hash": "b37a52d913339e4f7edd98eba251795ba561325231c15b6137ab41e2758152be"
   }
  }
 },
 "nbformat": 4,
 "nbformat_minor": 2
}
