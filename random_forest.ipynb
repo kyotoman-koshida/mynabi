{
 "cells": [
  {
   "cell_type": "code",
   "execution_count": 2,
   "metadata": {},
   "outputs": [],
   "source": [
    "import pandas as pd\n",
    "import numpy as np\n",
    "import matplotlib.pyplot as plt\n",
    "from sklearn.model_selection import train_test_split\n",
    "import scipy as sp\n",
    "import lightgbm as lgb\n",
    "import category_encoders as ce\n",
    "# import mojimoji\n",
    "import re\n",
    "from cmath import nan\n",
    "from sklearn.ensemble import RandomForestRegressor\n",
    "from sklearn.metrics import accuracy_score\n",
    "import optuna\n",
    "from sklearn.metrics import mean_squared_error\n",
    "import japanize_matplotlib"
   ]
  },
  {
   "cell_type": "code",
   "execution_count": 3,
   "metadata": {},
   "outputs": [],
   "source": [
    "###訓練データの読み込み\n",
    "house_age = pd.read_csv('house_age.csv')\n",
    "area_size = pd.read_csv('area_size.csv')\n",
    "room_arrange = pd.read_csv('room_arrange.csv')\n",
    "contract_span = pd.read_csv('contract_span.csv')#欠損値をゼロ埋めした契約期間\n",
    "contract_span2 = pd.read_csv('contract_span2.csv')#欠損値を欠損値のままにした契約期間\n",
    "reg_rent = pd.read_csv('reg_rent.csv')\n",
    "floor_scores = pd.read_csv('floor_scores.csv')#「所在階」と「全体の階数」が連動して欠損値になる場合のある「所在階」\n",
    "floor_scores2 = pd.read_csv('floor_scores2.csv')#「所在階」と「全体の階数」が独立している「所在階」\n",
    "Floor_scores = pd.read_csv('capital_floor_scores.csv')#「所在階」と「全体の階数」が連動して欠損値になる場合のある「全体の階数」\n",
    "Floor_scores2 = pd.read_csv('capital_floor_scores2.csv')#「所在階」と「全体の階数」が独立している「全体の階数」\n",
    "stations = pd.read_csv('stations.csv')\n",
    "minits = pd.read_csv('minits.csv')\n",
    "addresses = pd.read_csv('addresses.csv')\n",
    "room_arrange = pd.read_csv('room_arrange.csv')\n",
    "buildings = pd.read_csv('buildings.csv')\n",
    "\n",
    "rent = pd.read_csv('rent.csv')\n",
    "\n",
    "\n",
    "##テストデータの読み込み\n",
    "test_house_age = pd.read_csv('test_house_age.csv')\n",
    "test_area_size = pd.read_csv('test_area_size.csv')\n",
    "test_room_arrange = pd.read_csv('test_room_arrange.csv')\n",
    "test_contract_span = pd.read_csv('test_contract_span.csv')\n",
    "test_contract_span2 = pd.read_csv('test_contract_span2.csv')\n",
    "test_reg_rent = pd.read_csv('test_reg_rent.csv')\n",
    "test_floor_scores = pd.read_csv('test_floor_scores.csv')\n",
    "test_floor_scores2 = pd.read_csv('test_floor_scores2.csv')\n",
    "test_Floor_scores = pd.read_csv('test_capital_floor_scores.csv')\n",
    "test_Floor_scores2 = pd.read_csv('test_capital_floor_scores2.csv')\n",
    "test_stations = pd.read_csv('test_stations.csv')\n",
    "test_minits = pd.read_csv('test_minits.csv')\n",
    "test_addresses = pd.read_csv('test_addresses.csv')\n",
    "test_room_arrange = pd.read_csv('test_room_arrange.csv')\n",
    "test_buildings = pd.read_csv('test_buildings.csv')"
   ]
  },
  {
   "cell_type": "markdown",
   "metadata": {},
   "source": [
    "lightGBMではなくて、ランダムフォレストを使ってみる。"
   ]
  },
  {
   "cell_type": "code",
   "execution_count": 4,
   "metadata": {},
   "outputs": [
    {
     "name": "stderr",
     "output_type": "stream",
     "text": [
      "c:\\Users\\koshi\\python\\signate\\mynabi\\venv\\lib\\site-packages\\lightgbm\\engine.py:181: UserWarning: 'early_stopping_rounds' argument is deprecated and will be removed in a future release of LightGBM. Pass 'early_stopping()' callback via 'callbacks' argument instead.\n",
      "  _log_warning(\"'early_stopping_rounds' argument is deprecated and will be removed in a future release of LightGBM. \"\n",
      "c:\\Users\\koshi\\python\\signate\\mynabi\\venv\\lib\\site-packages\\lightgbm\\basic.py:2068: UserWarning: categorical_feature in Dataset is overridden.\n",
      "New categorical_feature is ['L', '所在地', '最寄り駅']\n",
      "  _log_warning('categorical_feature in Dataset is overridden.\\n'\n",
      "c:\\Users\\koshi\\python\\signate\\mynabi\\venv\\lib\\site-packages\\lightgbm\\engine.py:239: UserWarning: 'verbose_eval' argument is deprecated and will be removed in a future release of LightGBM. Pass 'log_evaluation()' callback via 'callbacks' argument instead.\n",
      "  _log_warning(\"'verbose_eval' argument is deprecated and will be removed in a future release of LightGBM. \"\n",
      "c:\\Users\\koshi\\python\\signate\\mynabi\\venv\\lib\\site-packages\\lightgbm\\basic.py:1780: UserWarning: Overriding the parameters from Reference Dataset.\n",
      "  _log_warning('Overriding the parameters from Reference Dataset.')\n",
      "c:\\Users\\koshi\\python\\signate\\mynabi\\venv\\lib\\site-packages\\lightgbm\\basic.py:1513: UserWarning: categorical_column in param dict is overridden.\n",
      "  _log_warning(f'{cat_alias} in param dict is overridden.')\n"
     ]
    },
    {
     "name": "stdout",
     "output_type": "stream",
     "text": [
      "[LightGBM] [Warning] Auto-choosing row-wise multi-threading, the overhead of testing was 0.001345 seconds.\n",
      "You can set `force_row_wise=true` to remove the overhead.\n",
      "And if memory is not enough, you can set `force_col_wise=true`.\n",
      "[LightGBM] [Info] Total Bins 2300\n",
      "[LightGBM] [Info] Number of data points in the train set: 22029, number of used features: 9\n",
      "[LightGBM] [Info] Start training from score 118651.337373\n",
      "Training until validation scores don't improve for 10 rounds\n",
      "[10]\ttraining's rmse: 28754.5\tvalid_1's rmse: 35540.2\n",
      "[20]\ttraining's rmse: 28652.1\tvalid_1's rmse: 35563.1\n",
      "Early stopping, best iteration is:\n",
      "[18]\ttraining's rmse: 28656.2\tvalid_1's rmse: 35464.2\n"
     ]
    },
    {
     "data": {
      "text/html": [
       "<div>\n",
       "<style scoped>\n",
       "    .dataframe tbody tr th:only-of-type {\n",
       "        vertical-align: middle;\n",
       "    }\n",
       "\n",
       "    .dataframe tbody tr th {\n",
       "        vertical-align: top;\n",
       "    }\n",
       "\n",
       "    .dataframe thead th {\n",
       "        text-align: right;\n",
       "    }\n",
       "</style>\n",
       "<table border=\"1\" class=\"dataframe\">\n",
       "  <thead>\n",
       "    <tr style=\"text-align: right;\">\n",
       "      <th></th>\n",
       "      <th>importance</th>\n",
       "    </tr>\n",
       "  </thead>\n",
       "  <tbody>\n",
       "    <tr>\n",
       "      <th>築年数</th>\n",
       "      <td>7.789383e+13</td>\n",
       "    </tr>\n",
       "    <tr>\n",
       "      <th>面積</th>\n",
       "      <td>5.215609e+14</td>\n",
       "    </tr>\n",
       "    <tr>\n",
       "      <th>契約期間</th>\n",
       "      <td>5.597072e+12</td>\n",
       "    </tr>\n",
       "    <tr>\n",
       "      <th>全体の階数</th>\n",
       "      <td>8.895285e+13</td>\n",
       "    </tr>\n",
       "    <tr>\n",
       "      <th>最寄り駅</th>\n",
       "      <td>1.357580e+14</td>\n",
       "    </tr>\n",
       "    <tr>\n",
       "      <th>所要時間</th>\n",
       "      <td>1.109744e+13</td>\n",
       "    </tr>\n",
       "    <tr>\n",
       "      <th>所在地</th>\n",
       "      <td>4.903730e+12</td>\n",
       "    </tr>\n",
       "    <tr>\n",
       "      <th>部屋数</th>\n",
       "      <td>1.994410e+12</td>\n",
       "    </tr>\n",
       "    <tr>\n",
       "      <th>L</th>\n",
       "      <td>5.604187e+14</td>\n",
       "    </tr>\n",
       "  </tbody>\n",
       "</table>\n",
       "</div>"
      ],
      "text/plain": [
       "         importance\n",
       "築年数    7.789383e+13\n",
       "面積     5.215609e+14\n",
       "契約期間   5.597072e+12\n",
       "全体の階数  8.895285e+13\n",
       "最寄り駅   1.357580e+14\n",
       "所要時間   1.109744e+13\n",
       "所在地    4.903730e+12\n",
       "部屋数    1.994410e+12\n",
       "L      5.604187e+14"
      ]
     },
     "metadata": {},
     "output_type": "display_data"
    }
   ],
   "source": [
    "X_train = pd.concat([house_age, area_size, contract_span2, Floor_scores2, stations, minits, addresses, room_arrange[[\"部屋数\",\"L\"]]], axis=1)\n",
    "y_train = rent\n",
    "\n",
    "X_train, X_valid, y_train, y_valid = train_test_split(X_train, y_train, test_size=0.3, random_state=0)\n",
    "\n",
    "X_test = pd.concat([test_house_age, test_area_size, test_contract_span2,  test_Floor_scores2, test_stations, test_minits, test_addresses, test_room_arrange[[\"部屋数\",\"L\"]]], axis=1)\n",
    "\n",
    "category_lists = ['最寄り駅', '所在地', 'L']\n",
    "lgb_train = lgb.Dataset(X_train, y_train)\n",
    "lgb_eval = lgb.Dataset(X_valid, y_valid, reference=lgb_train)\n",
    "\n",
    "params = {\n",
    "    'objective':'regression',\n",
    "    'boosting_type':'rf',\n",
    "    'metrics':'rmse',\n",
    "    'bagging_freq': 1,\n",
    "    'bagging_fraction': 0.8,\n",
    "    'reg_lambda': 0.8541733691883097,\n",
    "    'max_bin': 510,\n",
    "    'num_leaves': 119\n",
    "}\n",
    "\n",
    "model = lgb.train(\n",
    "                    params,\n",
    "                    lgb_train, \n",
    "                    valid_sets=[lgb_train, lgb_eval], \n",
    "                    verbose_eval=10, \n",
    "                    num_boost_round=3000, \n",
    "                    early_stopping_rounds=10,\n",
    "                    categorical_feature = category_lists\n",
    "                    )\n",
    "\n",
    "y_pred = model.predict(X_test, num_iteration=model.best_iteration)\n",
    "\n",
    "# feature importanceを表示\n",
    "importance = pd.DataFrame(model.feature_importance(importance_type = \"gain\"), index=X_train.columns, columns=['importance'])\n",
    "display(importance)"
   ]
  },
  {
   "cell_type": "code",
   "execution_count": 5,
   "metadata": {},
   "outputs": [],
   "source": [
    "df = pd.read_csv('test.csv')\n",
    "id = df['id']\n",
    "y_pred = pd.DataFrame(y_pred)\n",
    "result = pd.concat([id, y_pred],axis=1)\n",
    "result.to_csv('RF_cs2_result.csv',index=False)"
   ]
  },
  {
   "cell_type": "code",
   "execution_count": 23,
   "metadata": {},
   "outputs": [],
   "source": [
    "X_train = pd.concat([house_age, area_size, contract_span2, Floor_scores2, stations, minits, addresses, room_arrange[[\"部屋数\",\"L\"]]], axis=1)\n",
    "y_pred = model.predict(X_train, num_iteration=model.best_iteration)"
   ]
  },
  {
   "cell_type": "code",
   "execution_count": 24,
   "metadata": {},
   "outputs": [],
   "source": [
    "y_pred = pd.DataFrame(y_pred)\n",
    "y_pred.to_csv('en_RF_cs2_result.csv',index=False)"
   ]
  },
  {
   "cell_type": "code",
   "execution_count": null,
   "metadata": {},
   "outputs": [],
   "source": []
  }
 ],
 "metadata": {
  "kernelspec": {
   "display_name": "Python 3.10.5 ('venv': venv)",
   "language": "python",
   "name": "python3"
  },
  "language_info": {
   "codemirror_mode": {
    "name": "ipython",
    "version": 3
   },
   "file_extension": ".py",
   "mimetype": "text/x-python",
   "name": "python",
   "nbconvert_exporter": "python",
   "pygments_lexer": "ipython3",
   "version": "3.10.5"
  },
  "orig_nbformat": 4,
  "vscode": {
   "interpreter": {
    "hash": "a98cf4a852aef637b580117f8642dec837d1a50d3f811fd67a8b5a8fce3bf795"
   }
  }
 },
 "nbformat": 4,
 "nbformat_minor": 2
}
