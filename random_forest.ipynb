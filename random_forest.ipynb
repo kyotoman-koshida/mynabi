{
 "cells": [
  {
   "cell_type": "markdown",
   "metadata": {},
   "source": [
    "lightGBMではなくて、ランダムフォレストを使ってみる。"
   ]
  },
  {
   "cell_type": "markdown",
   "metadata": {},
   "source": [
    "ランダムフォレストは欠損値を許してくれないので整形をする。これくらいの数の欠損値であれば削除してもよさそう。"
   ]
  },
  {
   "cell_type": "code",
   "execution_count": null,
   "metadata": {},
   "outputs": [],
   "source": [
    "X_train.isna().sum()"
   ]
  },
  {
   "cell_type": "code",
   "execution_count": null,
   "metadata": {},
   "outputs": [],
   "source": [
    "#訓練データについて\n",
    "Train_Data = pd.concat([X_train, y_train],axis=1)\n",
    "Train_Data = Train_Data.dropna()\n",
    "X_train = Train_Data[['築年数','面積','契約期間','所在階','全体の階数','最寄り駅','所要時間','所在地','部屋数','L','D','K','S']]\n",
    "y_train = Train_Data[['賃料']]\n",
    "\n",
    "#検証データについて\n",
    "Valid_Data = pd.concat([X_valid, y_valid],axis=1)\n",
    "Valid_Data = Valid_Data.dropna()\n",
    "X_valid = Valid_Data[['築年数','面積','契約期間','所在階','全体の階数','最寄り駅','所要時間','所在地','部屋数','L','D','K','S']]\n",
    "y_valid = Valid_Data[['賃料']]"
   ]
  },
  {
   "cell_type": "code",
   "execution_count": null,
   "metadata": {},
   "outputs": [],
   "source": [
    "clf = RandomForestRegressor(n_estimators=100, max_depth=2, random_state=0)\n",
    "clf.fit(X_train, y_train)\n",
    "y_pred = clf.predict(X_valid)\n",
    "print(clf.__class__.__name__, accuracy_score(y_valid,y_pred))"
   ]
  },
  {
   "cell_type": "code",
   "execution_count": null,
   "metadata": {},
   "outputs": [],
   "source": []
  }
 ],
 "metadata": {
  "kernelspec": {
   "display_name": "Python 3.10.5 ('venv': venv)",
   "language": "python",
   "name": "python3"
  },
  "language_info": {
   "name": "python",
   "version": "3.10.5"
  },
  "orig_nbformat": 4,
  "vscode": {
   "interpreter": {
    "hash": "b37a52d913339e4f7edd98eba251795ba561325231c15b6137ab41e2758152be"
   }
  }
 },
 "nbformat": 4,
 "nbformat_minor": 2
}
