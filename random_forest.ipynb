{
 "cells": [
  {
   "cell_type": "code",
   "execution_count": 142,
   "metadata": {},
   "outputs": [],
   "source": [
    "import pandas as pd\n",
    "import numpy as np\n",
    "import matplotlib.pyplot as plt\n",
    "from sklearn.model_selection import train_test_split\n",
    "import lightgbm as lgb\n",
    "import category_encoders as ce\n",
    "import mojimoji\n",
    "import re\n",
    "from cmath import nan\n",
    "from sklearn.ensemble import RandomForestRegressor\n",
    "from sklearn.metrics import accuracy_score\n",
    "import optuna\n",
    "from sklearn.metrics import mean_squared_error\n",
    "from sklearn.metrics import r2_score"
   ]
  },
  {
   "cell_type": "markdown",
   "metadata": {},
   "source": [
    "lightGBMではなくて、ランダムフォレストを使ってみる。"
   ]
  },
  {
   "cell_type": "code",
   "execution_count": 143,
   "metadata": {},
   "outputs": [],
   "source": [
    "house_age = pd.read_csv('house_age.csv')\n",
    "area_size = pd.read_csv('area_size.csv')\n",
    "room_arrange = pd.read_csv('room_arrange.csv')\n",
    "contract_span = pd.read_csv('contract_span.csv')\n",
    "floor_scores = pd.read_csv('floor_scores.csv')\n",
    "Floor_scores = pd.read_csv('capital_floor_scores.csv')\n",
    "addresses = pd.read_csv('addresses.csv')\n",
    "stations = pd.read_csv('stations.csv')\n",
    "minits = pd.read_csv('minits.csv')\n",
    "\n",
    "rent = pd.read_csv('rent.csv')"
   ]
  },
  {
   "cell_type": "code",
   "execution_count": 144,
   "metadata": {},
   "outputs": [],
   "source": [
    "test_house_age = pd.read_csv('test_house_age.csv')\n",
    "test_area_size = pd.read_csv('test_area_size.csv')\n",
    "test_room_arrange = pd.read_csv('test_room_arrange.csv')\n",
    "test_contract_span = pd.read_csv('test_contract_span.csv')\n",
    "test_floor_scores = pd.read_csv('test_floor_scores.csv')\n",
    "test_Floor_scores = pd.read_csv('test_capital_floor_scores.csv')\n",
    "test_addresses = pd.read_csv('test_addresses.csv')\n",
    "test_stations = pd.read_csv('test_stations.csv')\n",
    "test_minits = pd.read_csv('test_minits.csv')"
   ]
  },
  {
   "cell_type": "code",
   "execution_count": 145,
   "metadata": {},
   "outputs": [],
   "source": [
    "X_train = pd.concat([house_age, area_size, contract_span, floor_scores, Floor_scores, stations, minits, addresses, room_arrange], axis=1)\n",
    "y_train = rent\n",
    "\n",
    "X_train, X_valid, y_train, y_valid = train_test_split(X_train, y_train, test_size=0.3, random_state=0)\n",
    "\n",
    "X_test = pd.concat([test_house_age, test_area_size, test_contract_span, test_floor_scores, test_Floor_scores, test_stations, test_minits, test_addresses, test_room_arrange], axis=1)\n"
   ]
  },
  {
   "cell_type": "code",
   "execution_count": 146,
   "metadata": {},
   "outputs": [
    {
     "data": {
      "text/html": [
       "<div>\n",
       "<style scoped>\n",
       "    .dataframe tbody tr th:only-of-type {\n",
       "        vertical-align: middle;\n",
       "    }\n",
       "\n",
       "    .dataframe tbody tr th {\n",
       "        vertical-align: top;\n",
       "    }\n",
       "\n",
       "    .dataframe thead th {\n",
       "        text-align: right;\n",
       "    }\n",
       "</style>\n",
       "<table border=\"1\" class=\"dataframe\">\n",
       "  <thead>\n",
       "    <tr style=\"text-align: right;\">\n",
       "      <th></th>\n",
       "      <th>築年数</th>\n",
       "      <th>面積</th>\n",
       "      <th>契約期間</th>\n",
       "      <th>所在階</th>\n",
       "      <th>全体の階数</th>\n",
       "      <th>最寄り駅</th>\n",
       "      <th>所要時間</th>\n",
       "      <th>所在地</th>\n",
       "      <th>部屋数</th>\n",
       "      <th>L</th>\n",
       "      <th>D</th>\n",
       "      <th>K</th>\n",
       "      <th>S</th>\n",
       "    </tr>\n",
       "  </thead>\n",
       "  <tbody>\n",
       "    <tr>\n",
       "      <th>1382</th>\n",
       "      <td>589.0</td>\n",
       "      <td>28.35</td>\n",
       "      <td>3.0</td>\n",
       "      <td>2.0</td>\n",
       "      <td>12.0</td>\n",
       "      <td>99</td>\n",
       "      <td>4.0</td>\n",
       "      <td>514</td>\n",
       "      <td>1</td>\n",
       "      <td>1</td>\n",
       "      <td>1</td>\n",
       "      <td>1</td>\n",
       "      <td>0</td>\n",
       "    </tr>\n",
       "    <tr>\n",
       "      <th>15190</th>\n",
       "      <td>29.0</td>\n",
       "      <td>25.45</td>\n",
       "      <td>2.0</td>\n",
       "      <td>3.0</td>\n",
       "      <td>3.0</td>\n",
       "      <td>417</td>\n",
       "      <td>8.0</td>\n",
       "      <td>659</td>\n",
       "      <td>1</td>\n",
       "      <td>0</td>\n",
       "      <td>0</td>\n",
       "      <td>1</td>\n",
       "      <td>0</td>\n",
       "    </tr>\n",
       "    <tr>\n",
       "      <th>28196</th>\n",
       "      <td>365.0</td>\n",
       "      <td>44.55</td>\n",
       "      <td>2.0</td>\n",
       "      <td>7.0</td>\n",
       "      <td>11.0</td>\n",
       "      <td>86</td>\n",
       "      <td>13.0</td>\n",
       "      <td>256</td>\n",
       "      <td>2</td>\n",
       "      <td>0</td>\n",
       "      <td>1</td>\n",
       "      <td>1</td>\n",
       "      <td>0</td>\n",
       "    </tr>\n",
       "    <tr>\n",
       "      <th>18762</th>\n",
       "      <td>4.0</td>\n",
       "      <td>33.91</td>\n",
       "      <td>2.0</td>\n",
       "      <td>7.0</td>\n",
       "      <td>13.0</td>\n",
       "      <td>16</td>\n",
       "      <td>4.0</td>\n",
       "      <td>16</td>\n",
       "      <td>2</td>\n",
       "      <td>0</td>\n",
       "      <td>0</td>\n",
       "      <td>1</td>\n",
       "      <td>0</td>\n",
       "    </tr>\n",
       "    <tr>\n",
       "      <th>13923</th>\n",
       "      <td>143.0</td>\n",
       "      <td>22.62</td>\n",
       "      <td>2.0</td>\n",
       "      <td>2.0</td>\n",
       "      <td>10.0</td>\n",
       "      <td>385</td>\n",
       "      <td>2.0</td>\n",
       "      <td>370</td>\n",
       "      <td>1</td>\n",
       "      <td>0</td>\n",
       "      <td>0</td>\n",
       "      <td>1</td>\n",
       "      <td>0</td>\n",
       "    </tr>\n",
       "    <tr>\n",
       "      <th>...</th>\n",
       "      <td>...</td>\n",
       "      <td>...</td>\n",
       "      <td>...</td>\n",
       "      <td>...</td>\n",
       "      <td>...</td>\n",
       "      <td>...</td>\n",
       "      <td>...</td>\n",
       "      <td>...</td>\n",
       "      <td>...</td>\n",
       "      <td>...</td>\n",
       "      <td>...</td>\n",
       "      <td>...</td>\n",
       "      <td>...</td>\n",
       "    </tr>\n",
       "    <tr>\n",
       "      <th>13123</th>\n",
       "      <td>181.0</td>\n",
       "      <td>50.01</td>\n",
       "      <td>2.0</td>\n",
       "      <td>1.0</td>\n",
       "      <td>2.0</td>\n",
       "      <td>61</td>\n",
       "      <td>NaN</td>\n",
       "      <td>304</td>\n",
       "      <td>2</td>\n",
       "      <td>0</td>\n",
       "      <td>1</td>\n",
       "      <td>1</td>\n",
       "      <td>0</td>\n",
       "    </tr>\n",
       "    <tr>\n",
       "      <th>19648</th>\n",
       "      <td>0.0</td>\n",
       "      <td>25.80</td>\n",
       "      <td>2.0</td>\n",
       "      <td>2.0</td>\n",
       "      <td>4.0</td>\n",
       "      <td>141</td>\n",
       "      <td>6.0</td>\n",
       "      <td>14</td>\n",
       "      <td>1</td>\n",
       "      <td>0</td>\n",
       "      <td>0</td>\n",
       "      <td>1</td>\n",
       "      <td>0</td>\n",
       "    </tr>\n",
       "    <tr>\n",
       "      <th>9845</th>\n",
       "      <td>388.0</td>\n",
       "      <td>36.72</td>\n",
       "      <td>2.0</td>\n",
       "      <td>NaN</td>\n",
       "      <td>NaN</td>\n",
       "      <td>51</td>\n",
       "      <td>NaN</td>\n",
       "      <td>558</td>\n",
       "      <td>1</td>\n",
       "      <td>0</td>\n",
       "      <td>1</td>\n",
       "      <td>1</td>\n",
       "      <td>0</td>\n",
       "    </tr>\n",
       "    <tr>\n",
       "      <th>10799</th>\n",
       "      <td>374.0</td>\n",
       "      <td>19.00</td>\n",
       "      <td>0.0</td>\n",
       "      <td>1.0</td>\n",
       "      <td>2.0</td>\n",
       "      <td>154</td>\n",
       "      <td>13.0</td>\n",
       "      <td>133</td>\n",
       "      <td>1</td>\n",
       "      <td>0</td>\n",
       "      <td>0</td>\n",
       "      <td>0</td>\n",
       "      <td>0</td>\n",
       "    </tr>\n",
       "    <tr>\n",
       "      <th>2732</th>\n",
       "      <td>413.0</td>\n",
       "      <td>13.50</td>\n",
       "      <td>2.0</td>\n",
       "      <td>2.0</td>\n",
       "      <td>5.0</td>\n",
       "      <td>73</td>\n",
       "      <td>15.0</td>\n",
       "      <td>269</td>\n",
       "      <td>1</td>\n",
       "      <td>0</td>\n",
       "      <td>0</td>\n",
       "      <td>0</td>\n",
       "      <td>0</td>\n",
       "    </tr>\n",
       "  </tbody>\n",
       "</table>\n",
       "<p>22029 rows × 13 columns</p>\n",
       "</div>"
      ],
      "text/plain": [
       "         築年数     面積  契約期間  所在階  全体の階数  最寄り駅  所要時間  所在地  部屋数  L  D  K  S\n",
       "1382   589.0  28.35   3.0  2.0   12.0    99   4.0  514    1  1  1  1  0\n",
       "15190   29.0  25.45   2.0  3.0    3.0   417   8.0  659    1  0  0  1  0\n",
       "28196  365.0  44.55   2.0  7.0   11.0    86  13.0  256    2  0  1  1  0\n",
       "18762    4.0  33.91   2.0  7.0   13.0    16   4.0   16    2  0  0  1  0\n",
       "13923  143.0  22.62   2.0  2.0   10.0   385   2.0  370    1  0  0  1  0\n",
       "...      ...    ...   ...  ...    ...   ...   ...  ...  ... .. .. .. ..\n",
       "13123  181.0  50.01   2.0  1.0    2.0    61   NaN  304    2  0  1  1  0\n",
       "19648    0.0  25.80   2.0  2.0    4.0   141   6.0   14    1  0  0  1  0\n",
       "9845   388.0  36.72   2.0  NaN    NaN    51   NaN  558    1  0  1  1  0\n",
       "10799  374.0  19.00   0.0  1.0    2.0   154  13.0  133    1  0  0  0  0\n",
       "2732   413.0  13.50   2.0  2.0    5.0    73  15.0  269    1  0  0  0  0\n",
       "\n",
       "[22029 rows x 13 columns]"
      ]
     },
     "execution_count": 146,
     "metadata": {},
     "output_type": "execute_result"
    }
   ],
   "source": [
    "X_train"
   ]
  },
  {
   "cell_type": "markdown",
   "metadata": {},
   "source": [
    "ランダムフォレストは欠損値を許してくれないので整形をする。これくらいの数の欠損値であれば削除してもよさそう。"
   ]
  },
  {
   "cell_type": "code",
   "execution_count": 147,
   "metadata": {},
   "outputs": [],
   "source": [
    "#訓練データについて\n",
    "Train_Data = pd.concat([X_train, y_train],axis=1)\n",
    "Train_Data = Train_Data.dropna()\n",
    "X_train = Train_Data[['築年数','面積','契約期間','所在階','全体の階数','最寄り駅','所要時間','所在地','部屋数','L','D','K','S']]\n",
    "y_train = Train_Data[['賃料']]\n",
    "\n",
    "#検証データについて\n",
    "Valid_Data = pd.concat([X_valid, y_valid],axis=1)\n",
    "Valid_Data = Valid_Data.dropna()\n",
    "X_valid = Valid_Data[['築年数','面積','契約期間','所在階','全体の階数','最寄り駅','所要時間','所在地','部屋数','L','D','K','S']]\n",
    "y_valid = Valid_Data[['賃料']]"
   ]
  },
  {
   "cell_type": "code",
   "execution_count": 148,
   "metadata": {},
   "outputs": [
    {
     "name": "stderr",
     "output_type": "stream",
     "text": [
      "/var/folders/qh/20ftf7rn5_58_rk3l25kt1nr0000gn/T/ipykernel_1866/2176165941.py:2: DataConversionWarning: A column-vector y was passed when a 1d array was expected. Please change the shape of y to (n_samples,), for example using ravel().\n",
      "  clf.fit(X_train, y_train)\n"
     ]
    },
    {
     "name": "stdout",
     "output_type": "stream",
     "text": [
      "0.8594671351795132\n"
     ]
    }
   ],
   "source": [
    "clf = RandomForestRegressor(random_state=0)\n",
    "clf.fit(X_train, y_train)\n",
    "y_pred = clf.predict(X_valid)\n",
    "print(r2_score(y_valid,y_pred))"
   ]
  },
  {
   "cell_type": "markdown",
   "metadata": {},
   "source": [
    "このランダムフォレストをハイパーパラメータチューニングする"
   ]
  },
  {
   "cell_type": "code",
   "execution_count": 149,
   "metadata": {},
   "outputs": [],
   "source": [
    "#訓練データについて\n",
    "X_train = pd.concat([house_age, area_size, contract_span, floor_scores, Floor_scores, stations, minits, addresses, room_arrange], axis=1)\n",
    "y_train = rent\n",
    "Train_Data = pd.concat([X_train, y_train],axis=1)\n",
    "Train_Data = Train_Data.dropna()\n",
    "X_train = Train_Data[['築年数','面積','契約期間','所在階','全体の階数','最寄り駅','所要時間','所在地','部屋数','L','D','K','S']]\n",
    "y_train = Train_Data[['賃料']]\n",
    "\n",
    "X_train, X_valid, y_train, y_valid = train_test_split(X_train, y_train, test_size=0.3, random_state=0)\n",
    "\n",
    "#検証データについて\n",
    "Valid_Data = pd.concat([X_valid, y_valid],axis=1)\n",
    "Valid_Data = Valid_Data.dropna()\n",
    "X_valid = Valid_Data[['築年数','面積','契約期間','所在階','全体の階数','最寄り駅','所要時間','所在地','部屋数','L','D','K','S']]\n",
    "y_valid = Valid_Data[['賃料']]\n",
    "\n",
    "def objective(trial):\n",
    "    \n",
    "    params = {\n",
    "        'n_estimators': 300,\n",
    "        'max_features' :trial.suggest_int('max_features', 1, 13),\n",
    "        'random_state': 0,\n",
    "        'n_jobs': 1,\n",
    "        'min_samples_split': trial.suggest_int('min_samples_split', 5, 100),\n",
    "        'max_depth': trial.suggest_int('max_depth', 5, 100),\n",
    "    }\n",
    "\n",
    "    clf = RandomForestRegressor(\n",
    "                                **params,#ここでアスタリスク２つをつけないとエラーになる。\n",
    "                                )\n",
    "\n",
    "    clf.fit(X_train, y_train)\n",
    "\n",
    "    y_pred = clf.predict(X_valid)\n",
    "\n",
    "    loss = mean_squared_error(y_valid, y_pred, squared=False)\n",
    "    return loss"
   ]
  },
  {
   "cell_type": "code",
   "execution_count": 73,
   "metadata": {},
   "outputs": [
    {
     "name": "stderr",
     "output_type": "stream",
     "text": [
      "/var/folders/qh/20ftf7rn5_58_rk3l25kt1nr0000gn/T/ipykernel_1866/2481067328.py:32: DataConversionWarning: A column-vector y was passed when a 1d array was expected. Please change the shape of y to (n_samples,), for example using ravel().\n",
      "  clf.fit(X_train, y_train)\n",
      "/var/folders/qh/20ftf7rn5_58_rk3l25kt1nr0000gn/T/ipykernel_1866/2481067328.py:32: DataConversionWarning: A column-vector y was passed when a 1d array was expected. Please change the shape of y to (n_samples,), for example using ravel().\n",
      "  clf.fit(X_train, y_train)\n",
      "/var/folders/qh/20ftf7rn5_58_rk3l25kt1nr0000gn/T/ipykernel_1866/2481067328.py:32: DataConversionWarning: A column-vector y was passed when a 1d array was expected. Please change the shape of y to (n_samples,), for example using ravel().\n",
      "  clf.fit(X_train, y_train)\n",
      "/var/folders/qh/20ftf7rn5_58_rk3l25kt1nr0000gn/T/ipykernel_1866/2481067328.py:32: DataConversionWarning: A column-vector y was passed when a 1d array was expected. Please change the shape of y to (n_samples,), for example using ravel().\n",
      "  clf.fit(X_train, y_train)\n",
      "/var/folders/qh/20ftf7rn5_58_rk3l25kt1nr0000gn/T/ipykernel_1866/2481067328.py:32: DataConversionWarning: A column-vector y was passed when a 1d array was expected. Please change the shape of y to (n_samples,), for example using ravel().\n",
      "  clf.fit(X_train, y_train)\n",
      "/var/folders/qh/20ftf7rn5_58_rk3l25kt1nr0000gn/T/ipykernel_1866/2481067328.py:32: DataConversionWarning: A column-vector y was passed when a 1d array was expected. Please change the shape of y to (n_samples,), for example using ravel().\n",
      "  clf.fit(X_train, y_train)\n",
      "/var/folders/qh/20ftf7rn5_58_rk3l25kt1nr0000gn/T/ipykernel_1866/2481067328.py:32: DataConversionWarning: A column-vector y was passed when a 1d array was expected. Please change the shape of y to (n_samples,), for example using ravel().\n",
      "  clf.fit(X_train, y_train)\n",
      "/var/folders/qh/20ftf7rn5_58_rk3l25kt1nr0000gn/T/ipykernel_1866/2481067328.py:32: DataConversionWarning: A column-vector y was passed when a 1d array was expected. Please change the shape of y to (n_samples,), for example using ravel().\n",
      "  clf.fit(X_train, y_train)\n",
      "/var/folders/qh/20ftf7rn5_58_rk3l25kt1nr0000gn/T/ipykernel_1866/2481067328.py:32: DataConversionWarning: A column-vector y was passed when a 1d array was expected. Please change the shape of y to (n_samples,), for example using ravel().\n",
      "  clf.fit(X_train, y_train)\n",
      "/var/folders/qh/20ftf7rn5_58_rk3l25kt1nr0000gn/T/ipykernel_1866/2481067328.py:32: DataConversionWarning: A column-vector y was passed when a 1d array was expected. Please change the shape of y to (n_samples,), for example using ravel().\n",
      "  clf.fit(X_train, y_train)\n",
      "/var/folders/qh/20ftf7rn5_58_rk3l25kt1nr0000gn/T/ipykernel_1866/2481067328.py:32: DataConversionWarning: A column-vector y was passed when a 1d array was expected. Please change the shape of y to (n_samples,), for example using ravel().\n",
      "  clf.fit(X_train, y_train)\n",
      "/var/folders/qh/20ftf7rn5_58_rk3l25kt1nr0000gn/T/ipykernel_1866/2481067328.py:32: DataConversionWarning: A column-vector y was passed when a 1d array was expected. Please change the shape of y to (n_samples,), for example using ravel().\n",
      "  clf.fit(X_train, y_train)\n",
      "/var/folders/qh/20ftf7rn5_58_rk3l25kt1nr0000gn/T/ipykernel_1866/2481067328.py:32: DataConversionWarning: A column-vector y was passed when a 1d array was expected. Please change the shape of y to (n_samples,), for example using ravel().\n",
      "  clf.fit(X_train, y_train)\n",
      "/var/folders/qh/20ftf7rn5_58_rk3l25kt1nr0000gn/T/ipykernel_1866/2481067328.py:32: DataConversionWarning: A column-vector y was passed when a 1d array was expected. Please change the shape of y to (n_samples,), for example using ravel().\n",
      "  clf.fit(X_train, y_train)\n",
      "/var/folders/qh/20ftf7rn5_58_rk3l25kt1nr0000gn/T/ipykernel_1866/2481067328.py:32: DataConversionWarning: A column-vector y was passed when a 1d array was expected. Please change the shape of y to (n_samples,), for example using ravel().\n",
      "  clf.fit(X_train, y_train)\n",
      "/var/folders/qh/20ftf7rn5_58_rk3l25kt1nr0000gn/T/ipykernel_1866/2481067328.py:32: DataConversionWarning: A column-vector y was passed when a 1d array was expected. Please change the shape of y to (n_samples,), for example using ravel().\n",
      "  clf.fit(X_train, y_train)\n",
      "/var/folders/qh/20ftf7rn5_58_rk3l25kt1nr0000gn/T/ipykernel_1866/2481067328.py:32: DataConversionWarning: A column-vector y was passed when a 1d array was expected. Please change the shape of y to (n_samples,), for example using ravel().\n",
      "  clf.fit(X_train, y_train)\n",
      "/var/folders/qh/20ftf7rn5_58_rk3l25kt1nr0000gn/T/ipykernel_1866/2481067328.py:32: DataConversionWarning: A column-vector y was passed when a 1d array was expected. Please change the shape of y to (n_samples,), for example using ravel().\n",
      "  clf.fit(X_train, y_train)\n",
      "/var/folders/qh/20ftf7rn5_58_rk3l25kt1nr0000gn/T/ipykernel_1866/2481067328.py:32: DataConversionWarning: A column-vector y was passed when a 1d array was expected. Please change the shape of y to (n_samples,), for example using ravel().\n",
      "  clf.fit(X_train, y_train)\n",
      "/var/folders/qh/20ftf7rn5_58_rk3l25kt1nr0000gn/T/ipykernel_1866/2481067328.py:32: DataConversionWarning: A column-vector y was passed when a 1d array was expected. Please change the shape of y to (n_samples,), for example using ravel().\n",
      "  clf.fit(X_train, y_train)\n",
      "/var/folders/qh/20ftf7rn5_58_rk3l25kt1nr0000gn/T/ipykernel_1866/2481067328.py:32: DataConversionWarning: A column-vector y was passed when a 1d array was expected. Please change the shape of y to (n_samples,), for example using ravel().\n",
      "  clf.fit(X_train, y_train)\n",
      "/var/folders/qh/20ftf7rn5_58_rk3l25kt1nr0000gn/T/ipykernel_1866/2481067328.py:32: DataConversionWarning: A column-vector y was passed when a 1d array was expected. Please change the shape of y to (n_samples,), for example using ravel().\n",
      "  clf.fit(X_train, y_train)\n",
      "/var/folders/qh/20ftf7rn5_58_rk3l25kt1nr0000gn/T/ipykernel_1866/2481067328.py:32: DataConversionWarning: A column-vector y was passed when a 1d array was expected. Please change the shape of y to (n_samples,), for example using ravel().\n",
      "  clf.fit(X_train, y_train)\n",
      "/var/folders/qh/20ftf7rn5_58_rk3l25kt1nr0000gn/T/ipykernel_1866/2481067328.py:32: DataConversionWarning: A column-vector y was passed when a 1d array was expected. Please change the shape of y to (n_samples,), for example using ravel().\n",
      "  clf.fit(X_train, y_train)\n",
      "/var/folders/qh/20ftf7rn5_58_rk3l25kt1nr0000gn/T/ipykernel_1866/2481067328.py:32: DataConversionWarning: A column-vector y was passed when a 1d array was expected. Please change the shape of y to (n_samples,), for example using ravel().\n",
      "  clf.fit(X_train, y_train)\n",
      "/var/folders/qh/20ftf7rn5_58_rk3l25kt1nr0000gn/T/ipykernel_1866/2481067328.py:32: DataConversionWarning: A column-vector y was passed when a 1d array was expected. Please change the shape of y to (n_samples,), for example using ravel().\n",
      "  clf.fit(X_train, y_train)\n",
      "/var/folders/qh/20ftf7rn5_58_rk3l25kt1nr0000gn/T/ipykernel_1866/2481067328.py:32: DataConversionWarning: A column-vector y was passed when a 1d array was expected. Please change the shape of y to (n_samples,), for example using ravel().\n",
      "  clf.fit(X_train, y_train)\n",
      "/var/folders/qh/20ftf7rn5_58_rk3l25kt1nr0000gn/T/ipykernel_1866/2481067328.py:32: DataConversionWarning: A column-vector y was passed when a 1d array was expected. Please change the shape of y to (n_samples,), for example using ravel().\n",
      "  clf.fit(X_train, y_train)\n",
      "/var/folders/qh/20ftf7rn5_58_rk3l25kt1nr0000gn/T/ipykernel_1866/2481067328.py:32: DataConversionWarning: A column-vector y was passed when a 1d array was expected. Please change the shape of y to (n_samples,), for example using ravel().\n",
      "  clf.fit(X_train, y_train)\n",
      "/var/folders/qh/20ftf7rn5_58_rk3l25kt1nr0000gn/T/ipykernel_1866/2481067328.py:32: DataConversionWarning: A column-vector y was passed when a 1d array was expected. Please change the shape of y to (n_samples,), for example using ravel().\n",
      "  clf.fit(X_train, y_train)\n",
      "/var/folders/qh/20ftf7rn5_58_rk3l25kt1nr0000gn/T/ipykernel_1866/2481067328.py:32: DataConversionWarning: A column-vector y was passed when a 1d array was expected. Please change the shape of y to (n_samples,), for example using ravel().\n",
      "  clf.fit(X_train, y_train)\n",
      "/var/folders/qh/20ftf7rn5_58_rk3l25kt1nr0000gn/T/ipykernel_1866/2481067328.py:32: DataConversionWarning: A column-vector y was passed when a 1d array was expected. Please change the shape of y to (n_samples,), for example using ravel().\n",
      "  clf.fit(X_train, y_train)\n",
      "/var/folders/qh/20ftf7rn5_58_rk3l25kt1nr0000gn/T/ipykernel_1866/2481067328.py:32: DataConversionWarning: A column-vector y was passed when a 1d array was expected. Please change the shape of y to (n_samples,), for example using ravel().\n",
      "  clf.fit(X_train, y_train)\n",
      "/var/folders/qh/20ftf7rn5_58_rk3l25kt1nr0000gn/T/ipykernel_1866/2481067328.py:32: DataConversionWarning: A column-vector y was passed when a 1d array was expected. Please change the shape of y to (n_samples,), for example using ravel().\n",
      "  clf.fit(X_train, y_train)\n",
      "/var/folders/qh/20ftf7rn5_58_rk3l25kt1nr0000gn/T/ipykernel_1866/2481067328.py:32: DataConversionWarning: A column-vector y was passed when a 1d array was expected. Please change the shape of y to (n_samples,), for example using ravel().\n",
      "  clf.fit(X_train, y_train)\n",
      "/var/folders/qh/20ftf7rn5_58_rk3l25kt1nr0000gn/T/ipykernel_1866/2481067328.py:32: DataConversionWarning: A column-vector y was passed when a 1d array was expected. Please change the shape of y to (n_samples,), for example using ravel().\n",
      "  clf.fit(X_train, y_train)\n",
      "/var/folders/qh/20ftf7rn5_58_rk3l25kt1nr0000gn/T/ipykernel_1866/2481067328.py:32: DataConversionWarning: A column-vector y was passed when a 1d array was expected. Please change the shape of y to (n_samples,), for example using ravel().\n",
      "  clf.fit(X_train, y_train)\n",
      "/var/folders/qh/20ftf7rn5_58_rk3l25kt1nr0000gn/T/ipykernel_1866/2481067328.py:32: DataConversionWarning: A column-vector y was passed when a 1d array was expected. Please change the shape of y to (n_samples,), for example using ravel().\n",
      "  clf.fit(X_train, y_train)\n",
      "/var/folders/qh/20ftf7rn5_58_rk3l25kt1nr0000gn/T/ipykernel_1866/2481067328.py:32: DataConversionWarning: A column-vector y was passed when a 1d array was expected. Please change the shape of y to (n_samples,), for example using ravel().\n",
      "  clf.fit(X_train, y_train)\n",
      "/var/folders/qh/20ftf7rn5_58_rk3l25kt1nr0000gn/T/ipykernel_1866/2481067328.py:32: DataConversionWarning: A column-vector y was passed when a 1d array was expected. Please change the shape of y to (n_samples,), for example using ravel().\n",
      "  clf.fit(X_train, y_train)\n",
      "/var/folders/qh/20ftf7rn5_58_rk3l25kt1nr0000gn/T/ipykernel_1866/2481067328.py:32: DataConversionWarning: A column-vector y was passed when a 1d array was expected. Please change the shape of y to (n_samples,), for example using ravel().\n",
      "  clf.fit(X_train, y_train)\n",
      "/var/folders/qh/20ftf7rn5_58_rk3l25kt1nr0000gn/T/ipykernel_1866/2481067328.py:32: DataConversionWarning: A column-vector y was passed when a 1d array was expected. Please change the shape of y to (n_samples,), for example using ravel().\n",
      "  clf.fit(X_train, y_train)\n",
      "/var/folders/qh/20ftf7rn5_58_rk3l25kt1nr0000gn/T/ipykernel_1866/2481067328.py:32: DataConversionWarning: A column-vector y was passed when a 1d array was expected. Please change the shape of y to (n_samples,), for example using ravel().\n",
      "  clf.fit(X_train, y_train)\n",
      "/var/folders/qh/20ftf7rn5_58_rk3l25kt1nr0000gn/T/ipykernel_1866/2481067328.py:32: DataConversionWarning: A column-vector y was passed when a 1d array was expected. Please change the shape of y to (n_samples,), for example using ravel().\n",
      "  clf.fit(X_train, y_train)\n",
      "/var/folders/qh/20ftf7rn5_58_rk3l25kt1nr0000gn/T/ipykernel_1866/2481067328.py:32: DataConversionWarning: A column-vector y was passed when a 1d array was expected. Please change the shape of y to (n_samples,), for example using ravel().\n",
      "  clf.fit(X_train, y_train)\n",
      "/var/folders/qh/20ftf7rn5_58_rk3l25kt1nr0000gn/T/ipykernel_1866/2481067328.py:32: DataConversionWarning: A column-vector y was passed when a 1d array was expected. Please change the shape of y to (n_samples,), for example using ravel().\n",
      "  clf.fit(X_train, y_train)\n",
      "/var/folders/qh/20ftf7rn5_58_rk3l25kt1nr0000gn/T/ipykernel_1866/2481067328.py:32: DataConversionWarning: A column-vector y was passed when a 1d array was expected. Please change the shape of y to (n_samples,), for example using ravel().\n",
      "  clf.fit(X_train, y_train)\n",
      "/var/folders/qh/20ftf7rn5_58_rk3l25kt1nr0000gn/T/ipykernel_1866/2481067328.py:32: DataConversionWarning: A column-vector y was passed when a 1d array was expected. Please change the shape of y to (n_samples,), for example using ravel().\n",
      "  clf.fit(X_train, y_train)\n",
      "/var/folders/qh/20ftf7rn5_58_rk3l25kt1nr0000gn/T/ipykernel_1866/2481067328.py:32: DataConversionWarning: A column-vector y was passed when a 1d array was expected. Please change the shape of y to (n_samples,), for example using ravel().\n",
      "  clf.fit(X_train, y_train)\n",
      "/var/folders/qh/20ftf7rn5_58_rk3l25kt1nr0000gn/T/ipykernel_1866/2481067328.py:32: DataConversionWarning: A column-vector y was passed when a 1d array was expected. Please change the shape of y to (n_samples,), for example using ravel().\n",
      "  clf.fit(X_train, y_train)\n"
     ]
    },
    {
     "data": {
      "text/plain": [
       "{'max_features': 8, 'min_samples_split': 6, 'max_depth': 64}"
      ]
     },
     "execution_count": 73,
     "metadata": {},
     "output_type": "execute_result"
    }
   ],
   "source": [
    "optuna.logging.disable_default_handler()\n",
    "study = optuna.create_study(sampler=optuna.samplers.RandomSampler(seed=0))\n",
    "study.optimize(objective, n_trials=50)\n",
    "study.best_params"
   ]
  },
  {
   "cell_type": "markdown",
   "metadata": {},
   "source": [
    "このパラメータを使ってチューニングする"
   ]
  },
  {
   "cell_type": "code",
   "execution_count": 150,
   "metadata": {},
   "outputs": [],
   "source": [
    "#訓練データについて\n",
    "Train_Data = pd.concat([X_train, y_train],axis=1)\n",
    "Train_Data = Train_Data.dropna()\n",
    "X_train = Train_Data[['築年数','面積','契約期間','所在階','全体の階数','最寄り駅','所要時間','所在地','部屋数','L','D','K','S']]\n",
    "y_train = Train_Data[['賃料']]\n",
    "\n",
    "#検証データについて\n",
    "Valid_Data = pd.concat([X_valid, y_valid],axis=1)\n",
    "Valid_Data = Valid_Data.dropna()\n",
    "X_valid = Valid_Data[['築年数','面積','契約期間','所在階','全体の階数','最寄り駅','所要時間','所在地','部屋数','L','D','K','S']]\n",
    "y_valid = Valid_Data[['賃料']]"
   ]
  },
  {
   "cell_type": "code",
   "execution_count": 151,
   "metadata": {},
   "outputs": [
    {
     "name": "stderr",
     "output_type": "stream",
     "text": [
      "/var/folders/qh/20ftf7rn5_58_rk3l25kt1nr0000gn/T/ipykernel_1866/3714199166.py:14: DataConversionWarning: A column-vector y was passed when a 1d array was expected. Please change the shape of y to (n_samples,), for example using ravel().\n",
      "  clf.fit(X_train, y_train)\n"
     ]
    },
    {
     "name": "stdout",
     "output_type": "stream",
     "text": [
      "0.8569229044959459\n"
     ]
    }
   ],
   "source": [
    "params = {\n",
    "        'n_estimators': 300,\n",
    "        'max_features': 8,\n",
    "        'random_state': 0,\n",
    "        'n_jobs': 1,\n",
    "        'min_samples_split': 6,\n",
    "        'max_depth': 64,\n",
    "    }\n",
    "\n",
    "clf = RandomForestRegressor(\n",
    "    **params,\n",
    ")\n",
    "\n",
    "clf.fit(X_train, y_train)\n",
    "y_pred = clf.predict(X_valid)\n",
    "print(r2_score(y_valid,y_pred))"
   ]
  },
  {
   "cell_type": "markdown",
   "metadata": {},
   "source": [
    "ランダムフォレストのために、欠損値を平均値で埋める。"
   ]
  },
  {
   "cell_type": "code",
   "execution_count": 152,
   "metadata": {},
   "outputs": [],
   "source": [
    "X_test = X_test.fillna(int(np.mean(X_test['築年数'])))"
   ]
  },
  {
   "cell_type": "code",
   "execution_count": 153,
   "metadata": {},
   "outputs": [
    {
     "data": {
      "text/plain": [
       "築年数      float64\n",
       "面積       float64\n",
       "契約期間     float64\n",
       "所在階      float64\n",
       "全体の階数    float64\n",
       "最寄り駅       int64\n",
       "所要時間     float64\n",
       "所在地        int64\n",
       "部屋数        int64\n",
       "L          int64\n",
       "D          int64\n",
       "K          int64\n",
       "S          int64\n",
       "dtype: object"
      ]
     },
     "execution_count": 153,
     "metadata": {},
     "output_type": "execute_result"
    }
   ],
   "source": [
    "X_test.dtypes"
   ]
  },
  {
   "cell_type": "code",
   "execution_count": 154,
   "metadata": {},
   "outputs": [
    {
     "data": {
      "text/plain": [
       "築年数      0\n",
       "面積       0\n",
       "契約期間     0\n",
       "所在階      0\n",
       "全体の階数    0\n",
       "最寄り駅     0\n",
       "所要時間     0\n",
       "所在地      0\n",
       "部屋数      0\n",
       "L        0\n",
       "D        0\n",
       "K        0\n",
       "S        0\n",
       "dtype: int64"
      ]
     },
     "execution_count": 154,
     "metadata": {},
     "output_type": "execute_result"
    }
   ],
   "source": [
    "X_test.isna().sum()"
   ]
  },
  {
   "cell_type": "code",
   "execution_count": 232,
   "metadata": {},
   "outputs": [
    {
     "name": "stderr",
     "output_type": "stream",
     "text": [
      "/var/folders/qh/20ftf7rn5_58_rk3l25kt1nr0000gn/T/ipykernel_1866/3890612826.py:20: DataConversionWarning: A column-vector y was passed when a 1d array was expected. Please change the shape of y to (n_samples,), for example using ravel().\n",
      "  clf.fit(X_train, y_train)\n"
     ]
    }
   ],
   "source": [
    "#訓練データについて\n",
    "Train_Data = pd.concat([X_train, y_train],axis=1)\n",
    "#Train_Data = Train_Data.fillna(Train_Data.median)\n",
    "X_train = Train_Data[['築年数','面積','契約期間','所在階','全体の階数','最寄り駅','所要時間','所在地','部屋数','L','D','K','S']]\n",
    "y_train = Train_Data[['賃料']]\n",
    "\n",
    "params = {\n",
    "        'n_estimators': 300,\n",
    "        'max_features': 8,\n",
    "        'random_state': 0,\n",
    "        'n_jobs': 1,\n",
    "        'min_samples_split': 6,\n",
    "        'max_depth': 64,\n",
    "    }\n",
    "\n",
    "clf = RandomForestRegressor(\n",
    "    **params,\n",
    ")\n",
    "\n",
    "clf.fit(X_train, y_train)\n",
    "y_pred = clf.predict(X_test)\n",
    "#print(r2_score(y_valid,y_pred))"
   ]
  },
  {
   "cell_type": "code",
   "execution_count": 233,
   "metadata": {},
   "outputs": [],
   "source": [
    "df = pd.read_csv('test.csv')\n",
    "id = df['id']\n",
    "y_pred = pd.DataFrame(y_pred)\n",
    "result = pd.concat([id, y_pred],axis=1)\n",
    "result.to_csv('RF_result.csv',index=False)"
   ]
  },
  {
   "cell_type": "code",
   "execution_count": 234,
   "metadata": {},
   "outputs": [],
   "source": [
    "RF_result = pd.read_csv('RF_result.csv')\n",
    "RF_result.columns = ['id','予測値']\n",
    "GBM_result = pd.read_csv('BGL_result.csv')\n",
    "GBM_result.columns = ['id', '予測値']"
   ]
  },
  {
   "cell_type": "code",
   "execution_count": 235,
   "metadata": {},
   "outputs": [],
   "source": [
    "new_result = []\n",
    "new_result = pd.DataFrame(new_result)\n",
    "\n",
    "new_result['予測値'] = (RF_result['予測値']+GBM_result['予測値'])/2\n"
   ]
  },
  {
   "cell_type": "code",
   "execution_count": 236,
   "metadata": {},
   "outputs": [],
   "source": [
    "df = pd.read_csv('test.csv')\n",
    "id = df['id']\n",
    "new_result = pd.concat([id, new_result],axis=1)\n",
    "new_result.to_csv('new_result.csv',index=False)"
   ]
  },
  {
   "cell_type": "code",
   "execution_count": 237,
   "metadata": {},
   "outputs": [
    {
     "data": {
      "text/plain": [
       "id     0\n",
       "予測値    1\n",
       "dtype: int64"
      ]
     },
     "execution_count": 237,
     "metadata": {},
     "output_type": "execute_result"
    }
   ],
   "source": [
    "new_result.isna().sum()"
   ]
  },
  {
   "cell_type": "code",
   "execution_count": null,
   "metadata": {},
   "outputs": [],
   "source": []
  }
 ],
 "metadata": {
  "kernelspec": {
   "display_name": "Python 3.10.5 ('venv': venv)",
   "language": "python",
   "name": "python3"
  },
  "language_info": {
   "codemirror_mode": {
    "name": "ipython",
    "version": 3
   },
   "file_extension": ".py",
   "mimetype": "text/x-python",
   "name": "python",
   "nbconvert_exporter": "python",
   "pygments_lexer": "ipython3",
   "version": "3.10.5"
  },
  "orig_nbformat": 4,
  "vscode": {
   "interpreter": {
    "hash": "b37a52d913339e4f7edd98eba251795ba561325231c15b6137ab41e2758152be"
   }
  }
 },
 "nbformat": 4,
 "nbformat_minor": 2
}
