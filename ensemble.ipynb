{
 "cells": [
  {
   "cell_type": "markdown",
   "metadata": {},
   "source": [
    "アンサンブル用シート"
   ]
  },
  {
   "cell_type": "code",
   "execution_count": 70,
   "metadata": {},
   "outputs": [],
   "source": [
    "import pandas as pd\n",
    "import numpy as np\n",
    "import matplotlib.pyplot as plt\n",
    "from sklearn.model_selection import train_test_split\n",
    "import scipy as sp\n",
    "import lightgbm as lgb\n",
    "import category_encoders as ce\n",
    "# import mojimoji\n",
    "import re\n",
    "from cmath import nan\n",
    "from sklearn.ensemble import RandomForestRegressor\n",
    "from sklearn.metrics import accuracy_score\n",
    "import optuna\n",
    "from sklearn.metrics import mean_squared_error\n",
    "import japanize_matplotlib\n",
    "\n",
    "###訓練データの読み込み\n",
    "house_age = pd.read_csv('house_age.csv')\n",
    "area_size = pd.read_csv('area_size.csv')\n",
    "room_arrange = pd.read_csv('room_arrange.csv')\n",
    "contract_span = pd.read_csv('contract_span.csv')#欠損値をゼロ埋めした契約期間\n",
    "contract_span2 = pd.read_csv('contract_span2.csv')#欠損値を欠損値のままにした契約期間\n",
    "reg_rent = pd.read_csv('reg_rent.csv')\n",
    "floor_scores = pd.read_csv('floor_scores.csv')#「所在階」と「全体の階数」が連動して欠損値になる場合のある「所在階」\n",
    "floor_scores2 = pd.read_csv('floor_scores2.csv')#「所在階」と「全体の階数」が独立している「所在階」\n",
    "Floor_scores = pd.read_csv('capital_floor_scores.csv')#「所在階」と「全体の階数」が連動して欠損値になる場合のある「全体の階数」\n",
    "Floor_scores2 = pd.read_csv('capital_floor_scores2.csv')#「所在階」と「全体の階数」が独立している「全体の階数」\n",
    "stations = pd.read_csv('stations.csv')\n",
    "minits = pd.read_csv('minits.csv')\n",
    "addresses = pd.read_csv('addresses.csv')\n",
    "room_arrange = pd.read_csv('room_arrange.csv')\n",
    "buildings = pd.read_csv('buildings.csv')\n",
    "\n",
    "rent = pd.read_csv('rent.csv')\n",
    "\n",
    "\n",
    "##テストデータの読み込み\n",
    "test_house_age = pd.read_csv('test_house_age.csv')\n",
    "test_area_size = pd.read_csv('test_area_size.csv')\n",
    "test_room_arrange = pd.read_csv('test_room_arrange.csv')\n",
    "test_contract_span = pd.read_csv('test_contract_span.csv')\n",
    "test_contract_span2 = pd.read_csv('test_contract_span2.csv')\n",
    "test_reg_rent = pd.read_csv('test_reg_rent.csv')\n",
    "test_floor_scores = pd.read_csv('test_floor_scores.csv')\n",
    "test_floor_scores2 = pd.read_csv('test_floor_scores2.csv')\n",
    "test_Floor_scores = pd.read_csv('test_capital_floor_scores.csv')\n",
    "test_Floor_scores2 = pd.read_csv('test_capital_floor_scores2.csv')\n",
    "test_stations = pd.read_csv('test_stations.csv')\n",
    "test_minits = pd.read_csv('test_minits.csv')\n",
    "test_addresses = pd.read_csv('test_addresses.csv')\n",
    "test_room_arrange = pd.read_csv('test_room_arrange.csv')\n",
    "test_buildings = pd.read_csv('test_buildings.csv')"
   ]
  },
  {
   "cell_type": "code",
   "execution_count": 71,
   "metadata": {},
   "outputs": [
    {
     "data": {
      "text/html": [
       "<div>\n",
       "<style scoped>\n",
       "    .dataframe tbody tr th:only-of-type {\n",
       "        vertical-align: middle;\n",
       "    }\n",
       "\n",
       "    .dataframe tbody tr th {\n",
       "        vertical-align: top;\n",
       "    }\n",
       "\n",
       "    .dataframe thead th {\n",
       "        text-align: right;\n",
       "    }\n",
       "</style>\n",
       "<table border=\"1\" class=\"dataframe\">\n",
       "  <thead>\n",
       "    <tr style=\"text-align: right;\">\n",
       "      <th></th>\n",
       "      <th>index</th>\n",
       "      <th>0</th>\n",
       "    </tr>\n",
       "  </thead>\n",
       "  <tbody>\n",
       "    <tr>\n",
       "      <th>0</th>\n",
       "      <td>0</td>\n",
       "      <td>137317.640924</td>\n",
       "    </tr>\n",
       "    <tr>\n",
       "      <th>1</th>\n",
       "      <td>1</td>\n",
       "      <td>109699.629029</td>\n",
       "    </tr>\n",
       "    <tr>\n",
       "      <th>2</th>\n",
       "      <td>2</td>\n",
       "      <td>87011.919929</td>\n",
       "    </tr>\n",
       "    <tr>\n",
       "      <th>3</th>\n",
       "      <td>3</td>\n",
       "      <td>67205.376427</td>\n",
       "    </tr>\n",
       "    <tr>\n",
       "      <th>4</th>\n",
       "      <td>4</td>\n",
       "      <td>119390.152002</td>\n",
       "    </tr>\n",
       "    <tr>\n",
       "      <th>...</th>\n",
       "      <td>...</td>\n",
       "      <td>...</td>\n",
       "    </tr>\n",
       "    <tr>\n",
       "      <th>31257</th>\n",
       "      <td>31257</td>\n",
       "      <td>104803.267809</td>\n",
       "    </tr>\n",
       "    <tr>\n",
       "      <th>31258</th>\n",
       "      <td>31258</td>\n",
       "      <td>99541.652636</td>\n",
       "    </tr>\n",
       "    <tr>\n",
       "      <th>31259</th>\n",
       "      <td>31259</td>\n",
       "      <td>175785.420722</td>\n",
       "    </tr>\n",
       "    <tr>\n",
       "      <th>31260</th>\n",
       "      <td>31260</td>\n",
       "      <td>251811.923734</td>\n",
       "    </tr>\n",
       "    <tr>\n",
       "      <th>31261</th>\n",
       "      <td>31261</td>\n",
       "      <td>81021.826531</td>\n",
       "    </tr>\n",
       "  </tbody>\n",
       "</table>\n",
       "<p>31262 rows × 2 columns</p>\n",
       "</div>"
      ],
      "text/plain": [
       "       index              0\n",
       "0          0  137317.640924\n",
       "1          1  109699.629029\n",
       "2          2   87011.919929\n",
       "3          3   67205.376427\n",
       "4          4  119390.152002\n",
       "...      ...            ...\n",
       "31257  31257  104803.267809\n",
       "31258  31258   99541.652636\n",
       "31259  31259  175785.420722\n",
       "31260  31260  251811.923734\n",
       "31261  31261   81021.826531\n",
       "\n",
       "[31262 rows x 2 columns]"
      ]
     },
     "execution_count": 71,
     "metadata": {},
     "output_type": "execute_result"
    }
   ],
   "source": [
    "ensemble_result = []\n",
    "ensemble_result = pd.DataFrame(ensemble_result)\n",
    "\n",
    "lightGBM_result = pd.read_csv('LGBM_cs2_nLDK_result.csv')\n",
    "DART_result = pd.read_csv('DART_cs_nLDKS_bld_result.csv')\n",
    "GOSS_result = pd.read_csv('GOSS_cs_nLDKS_bld_result.csv')\n",
    "RF_result = pd.read_csv('RF_cs2_result.csv')\n",
    "MLR_result = pd.read_csv('MLR_result.csv')\n",
    "\n",
    "ensemble_result = (lightGBM_result['0'] + DART_result['0']+ GOSS_result['0'] + RF_result['0'] + MLR_result['0'])/5\n",
    "#ensemble_result = (lightGBM_result1['0'] + DART_result['0'])/2\n",
    "ensemble_result.reset_index()"
   ]
  },
  {
   "cell_type": "code",
   "execution_count": 72,
   "metadata": {},
   "outputs": [],
   "source": [
    "df = pd.read_csv('test.csv')\n",
    "id = df['id']\n",
    "result = pd.concat([id, ensemble_result],axis=1)\n",
    "result.to_csv('result.csv',index=False)"
   ]
  },
  {
   "cell_type": "code",
   "execution_count": 73,
   "metadata": {},
   "outputs": [
    {
     "data": {
      "text/html": [
       "<div>\n",
       "<style scoped>\n",
       "    .dataframe tbody tr th:only-of-type {\n",
       "        vertical-align: middle;\n",
       "    }\n",
       "\n",
       "    .dataframe tbody tr th {\n",
       "        vertical-align: top;\n",
       "    }\n",
       "\n",
       "    .dataframe thead th {\n",
       "        text-align: right;\n",
       "    }\n",
       "</style>\n",
       "<table border=\"1\" class=\"dataframe\">\n",
       "  <thead>\n",
       "    <tr style=\"text-align: right;\">\n",
       "      <th></th>\n",
       "      <th>id</th>\n",
       "      <th>0</th>\n",
       "    </tr>\n",
       "  </thead>\n",
       "  <tbody>\n",
       "    <tr>\n",
       "      <th>0</th>\n",
       "      <td>31471</td>\n",
       "      <td>137317.640924</td>\n",
       "    </tr>\n",
       "    <tr>\n",
       "      <th>1</th>\n",
       "      <td>31472</td>\n",
       "      <td>109699.629029</td>\n",
       "    </tr>\n",
       "    <tr>\n",
       "      <th>2</th>\n",
       "      <td>31473</td>\n",
       "      <td>87011.919929</td>\n",
       "    </tr>\n",
       "    <tr>\n",
       "      <th>3</th>\n",
       "      <td>31474</td>\n",
       "      <td>67205.376427</td>\n",
       "    </tr>\n",
       "    <tr>\n",
       "      <th>4</th>\n",
       "      <td>31475</td>\n",
       "      <td>119390.152002</td>\n",
       "    </tr>\n",
       "    <tr>\n",
       "      <th>...</th>\n",
       "      <td>...</td>\n",
       "      <td>...</td>\n",
       "    </tr>\n",
       "    <tr>\n",
       "      <th>31257</th>\n",
       "      <td>62728</td>\n",
       "      <td>104803.267809</td>\n",
       "    </tr>\n",
       "    <tr>\n",
       "      <th>31258</th>\n",
       "      <td>62729</td>\n",
       "      <td>99541.652636</td>\n",
       "    </tr>\n",
       "    <tr>\n",
       "      <th>31259</th>\n",
       "      <td>62730</td>\n",
       "      <td>175785.420722</td>\n",
       "    </tr>\n",
       "    <tr>\n",
       "      <th>31260</th>\n",
       "      <td>62731</td>\n",
       "      <td>251811.923734</td>\n",
       "    </tr>\n",
       "    <tr>\n",
       "      <th>31261</th>\n",
       "      <td>62732</td>\n",
       "      <td>81021.826531</td>\n",
       "    </tr>\n",
       "  </tbody>\n",
       "</table>\n",
       "<p>31262 rows × 2 columns</p>\n",
       "</div>"
      ],
      "text/plain": [
       "          id              0\n",
       "0      31471  137317.640924\n",
       "1      31472  109699.629029\n",
       "2      31473   87011.919929\n",
       "3      31474   67205.376427\n",
       "4      31475  119390.152002\n",
       "...      ...            ...\n",
       "31257  62728  104803.267809\n",
       "31258  62729   99541.652636\n",
       "31259  62730  175785.420722\n",
       "31260  62731  251811.923734\n",
       "31261  62732   81021.826531\n",
       "\n",
       "[31262 rows x 2 columns]"
      ]
     },
     "execution_count": 73,
     "metadata": {},
     "output_type": "execute_result"
    }
   ],
   "source": [
    "result"
   ]
  },
  {
   "cell_type": "markdown",
   "metadata": {},
   "source": [
    "lightGBMにDARTとGOSSの予測値を特徴量として加えるアンサンブル。"
   ]
  },
  {
   "cell_type": "code",
   "execution_count": 13,
   "metadata": {},
   "outputs": [
    {
     "data": {
      "text/html": [
       "<div>\n",
       "<style scoped>\n",
       "    .dataframe tbody tr th:only-of-type {\n",
       "        vertical-align: middle;\n",
       "    }\n",
       "\n",
       "    .dataframe tbody tr th {\n",
       "        vertical-align: top;\n",
       "    }\n",
       "\n",
       "    .dataframe thead th {\n",
       "        text-align: right;\n",
       "    }\n",
       "</style>\n",
       "<table border=\"1\" class=\"dataframe\">\n",
       "  <thead>\n",
       "    <tr style=\"text-align: right;\">\n",
       "      <th></th>\n",
       "      <th>id</th>\n",
       "      <th>0</th>\n",
       "    </tr>\n",
       "  </thead>\n",
       "  <tbody>\n",
       "    <tr>\n",
       "      <th>0</th>\n",
       "      <td>31471</td>\n",
       "      <td>134385.720108</td>\n",
       "    </tr>\n",
       "    <tr>\n",
       "      <th>1</th>\n",
       "      <td>31472</td>\n",
       "      <td>121563.554862</td>\n",
       "    </tr>\n",
       "    <tr>\n",
       "      <th>2</th>\n",
       "      <td>31473</td>\n",
       "      <td>77357.960892</td>\n",
       "    </tr>\n",
       "    <tr>\n",
       "      <th>3</th>\n",
       "      <td>31474</td>\n",
       "      <td>60578.156482</td>\n",
       "    </tr>\n",
       "    <tr>\n",
       "      <th>4</th>\n",
       "      <td>31475</td>\n",
       "      <td>106603.223207</td>\n",
       "    </tr>\n",
       "    <tr>\n",
       "      <th>...</th>\n",
       "      <td>...</td>\n",
       "      <td>...</td>\n",
       "    </tr>\n",
       "    <tr>\n",
       "      <th>31257</th>\n",
       "      <td>62728</td>\n",
       "      <td>110081.947302</td>\n",
       "    </tr>\n",
       "    <tr>\n",
       "      <th>31258</th>\n",
       "      <td>62729</td>\n",
       "      <td>102139.722605</td>\n",
       "    </tr>\n",
       "    <tr>\n",
       "      <th>31259</th>\n",
       "      <td>62730</td>\n",
       "      <td>175842.715235</td>\n",
       "    </tr>\n",
       "    <tr>\n",
       "      <th>31260</th>\n",
       "      <td>62731</td>\n",
       "      <td>277540.405321</td>\n",
       "    </tr>\n",
       "    <tr>\n",
       "      <th>31261</th>\n",
       "      <td>62732</td>\n",
       "      <td>80436.213200</td>\n",
       "    </tr>\n",
       "  </tbody>\n",
       "</table>\n",
       "<p>31262 rows × 2 columns</p>\n",
       "</div>"
      ],
      "text/plain": [
       "          id              0\n",
       "0      31471  134385.720108\n",
       "1      31472  121563.554862\n",
       "2      31473   77357.960892\n",
       "3      31474   60578.156482\n",
       "4      31475  106603.223207\n",
       "...      ...            ...\n",
       "31257  62728  110081.947302\n",
       "31258  62729  102139.722605\n",
       "31259  62730  175842.715235\n",
       "31260  62731  277540.405321\n",
       "31261  62732   80436.213200\n",
       "\n",
       "[31262 rows x 2 columns]"
      ]
     },
     "execution_count": 13,
     "metadata": {},
     "output_type": "execute_result"
    }
   ],
   "source": [
    "DART_test"
   ]
  },
  {
   "cell_type": "code",
   "execution_count": 39,
   "metadata": {},
   "outputs": [],
   "source": [
    "DART_pred = pd.read_csv('en_DART_cs_nLDKS_bld_result.csv')\n",
    "DART_pred.columns = ['DARTの予測値']\n",
    "DART_test = pd.read_csv('DART_cs_nLDKS_bld_result.csv')\n",
    "DART_test = DART_test['0']\n",
    "DART_test.columns = ['DARTの予測値']\n",
    "\n",
    "GOSS_pred = pd.read_csv('en_GOSS_cs_nLDKS_bld_result.csv')\n",
    "GOSS_pred.columns = ['GOSSの予測値']\n",
    "GOSS_test = pd.read_csv('GOSS_cs_nLDKS_bld_result.csv')\n",
    "GOSS_test = GOSS_test['0']\n",
    "GOSS_test.columns = ['GOSSの予測値']\n",
    "\n",
    "RF_pred = pd.read_csv('en_RF_cs2_result.csv')\n",
    "RF_pred.columns = ['RFの予測値']\n",
    "RF_test = pd.read_csv('RF_cs2_result.csv')\n",
    "RF_test = RF_test['0']\n",
    "RF_test.columns = ['RFの予測値']\n",
    "\n",
    "MLR_pred = pd.read_csv('en_MLR_result.csv')\n",
    "MLR_pred.columns = ['MLRの予測値']\n",
    "MLR_test = pd.read_csv('MLR_result.csv')\n",
    "MLR_test = MLR_test['0']\n",
    "MLR_test.columns = ['MLRの予測値']\n",
    "\n",
    "LGBM_pred = pd.read_csv('en_LGBM_result.csv')\n",
    "LGBM_pred.columns = ['LGBMの予測値']\n",
    "LGBM_test = pd.read_csv('LGBM_result.csv')\n",
    "LGBM_test = LGBM_test['0']\n",
    "LGBM_test.columns = ['LGBMの予測値']\n"
   ]
  },
  {
   "cell_type": "code",
   "execution_count": 59,
   "metadata": {},
   "outputs": [
    {
     "name": "stderr",
     "output_type": "stream",
     "text": [
      "c:\\Users\\koshi\\python\\signate\\mynabi\\venv\\lib\\site-packages\\lightgbm\\engine.py:181: UserWarning: 'early_stopping_rounds' argument is deprecated and will be removed in a future release of LightGBM. Pass 'early_stopping()' callback via 'callbacks' argument instead.\n",
      "  _log_warning(\"'early_stopping_rounds' argument is deprecated and will be removed in a future release of LightGBM. \"\n",
      "c:\\Users\\koshi\\python\\signate\\mynabi\\venv\\lib\\site-packages\\lightgbm\\engine.py:239: UserWarning: 'verbose_eval' argument is deprecated and will be removed in a future release of LightGBM. Pass 'log_evaluation()' callback via 'callbacks' argument instead.\n",
      "  _log_warning(\"'verbose_eval' argument is deprecated and will be removed in a future release of LightGBM. \"\n"
     ]
    },
    {
     "name": "stdout",
     "output_type": "stream",
     "text": [
      "[LightGBM] [Warning] Auto-choosing col-wise multi-threading, the overhead of testing was 0.002603 seconds.\n",
      "You can set `force_col_wise=true` to remove the overhead.\n",
      "[LightGBM] [Info] Total Bins 3068\n",
      "[LightGBM] [Info] Number of data points in the train set: 22029, number of used features: 7\n",
      "[LightGBM] [Info] Start training from score 118651.337373\n",
      "Training until validation scores don't improve for 10 rounds\n",
      "[10]\ttraining's rmse: 44653\tvalid_1's rmse: 49122.2\n",
      "[20]\ttraining's rmse: 27651.3\tvalid_1's rmse: 35703.8\n",
      "[30]\ttraining's rmse: 17975.2\tvalid_1's rmse: 29070.9\n",
      "[40]\ttraining's rmse: 12820.9\tvalid_1's rmse: 26053.4\n",
      "[50]\ttraining's rmse: 10270.9\tvalid_1's rmse: 24728.8\n",
      "[60]\ttraining's rmse: 9133.63\tvalid_1's rmse: 24087.5\n",
      "[70]\ttraining's rmse: 8627.1\tvalid_1's rmse: 23766.1\n",
      "[80]\ttraining's rmse: 8371.29\tvalid_1's rmse: 23595.1\n",
      "[90]\ttraining's rmse: 8193.15\tvalid_1's rmse: 23428.1\n",
      "[100]\ttraining's rmse: 8070.55\tvalid_1's rmse: 23294.4\n",
      "[110]\ttraining's rmse: 7994.96\tvalid_1's rmse: 23186.5\n",
      "[120]\ttraining's rmse: 7929.69\tvalid_1's rmse: 23103\n",
      "[130]\ttraining's rmse: 7883.09\tvalid_1's rmse: 23050.1\n",
      "[140]\ttraining's rmse: 7820.79\tvalid_1's rmse: 22991.5\n",
      "[150]\ttraining's rmse: 7742.42\tvalid_1's rmse: 22924.1\n",
      "[160]\ttraining's rmse: 7673.78\tvalid_1's rmse: 22871.2\n",
      "[170]\ttraining's rmse: 7612.87\tvalid_1's rmse: 22816\n",
      "[180]\ttraining's rmse: 7538.47\tvalid_1's rmse: 22762.1\n",
      "[190]\ttraining's rmse: 7481.11\tvalid_1's rmse: 22700.9\n",
      "[200]\ttraining's rmse: 7427.4\tvalid_1's rmse: 22651.9\n",
      "[210]\ttraining's rmse: 7351.68\tvalid_1's rmse: 22584.6\n",
      "[220]\ttraining's rmse: 7299.47\tvalid_1's rmse: 22536.5\n",
      "[230]\ttraining's rmse: 7245.95\tvalid_1's rmse: 22496.9\n",
      "[240]\ttraining's rmse: 7214.57\tvalid_1's rmse: 22478.2\n",
      "[250]\ttraining's rmse: 7167.45\tvalid_1's rmse: 22448\n",
      "[260]\ttraining's rmse: 7126.74\tvalid_1's rmse: 22399.2\n",
      "[270]\ttraining's rmse: 7095.8\tvalid_1's rmse: 22366.4\n",
      "[280]\ttraining's rmse: 7060.34\tvalid_1's rmse: 22333.3\n",
      "[290]\ttraining's rmse: 7026.54\tvalid_1's rmse: 22298.7\n",
      "[300]\ttraining's rmse: 6957.09\tvalid_1's rmse: 22255.6\n",
      "[310]\ttraining's rmse: 6908.54\tvalid_1's rmse: 22221\n",
      "[320]\ttraining's rmse: 6875.18\tvalid_1's rmse: 22192.3\n",
      "[330]\ttraining's rmse: 6855.6\tvalid_1's rmse: 22168.1\n",
      "[340]\ttraining's rmse: 6811.67\tvalid_1's rmse: 22130.4\n",
      "[350]\ttraining's rmse: 6774.53\tvalid_1's rmse: 22107\n",
      "[360]\ttraining's rmse: 6748.54\tvalid_1's rmse: 22086.3\n",
      "[370]\ttraining's rmse: 6703.43\tvalid_1's rmse: 22059.8\n",
      "[380]\ttraining's rmse: 6680.3\tvalid_1's rmse: 22032\n",
      "[390]\ttraining's rmse: 6650.56\tvalid_1's rmse: 22004.2\n",
      "[400]\ttraining's rmse: 6614.56\tvalid_1's rmse: 21981.2\n",
      "[410]\ttraining's rmse: 6579.6\tvalid_1's rmse: 21953.3\n",
      "[420]\ttraining's rmse: 6556.05\tvalid_1's rmse: 21929.5\n",
      "[430]\ttraining's rmse: 6528.21\tvalid_1's rmse: 21904.1\n",
      "[440]\ttraining's rmse: 6511.94\tvalid_1's rmse: 21884.3\n",
      "[450]\ttraining's rmse: 6477.7\tvalid_1's rmse: 21854.6\n",
      "[460]\ttraining's rmse: 6438.89\tvalid_1's rmse: 21821.3\n",
      "[470]\ttraining's rmse: 6413.92\tvalid_1's rmse: 21797.7\n",
      "[480]\ttraining's rmse: 6383.04\tvalid_1's rmse: 21768.6\n",
      "[490]\ttraining's rmse: 6351.81\tvalid_1's rmse: 21738.9\n",
      "[500]\ttraining's rmse: 6330.58\tvalid_1's rmse: 21713.9\n",
      "[510]\ttraining's rmse: 6314.91\tvalid_1's rmse: 21690.7\n",
      "[520]\ttraining's rmse: 6293.85\tvalid_1's rmse: 21670.1\n",
      "[530]\ttraining's rmse: 6267.96\tvalid_1's rmse: 21658.3\n",
      "[540]\ttraining's rmse: 6240.64\tvalid_1's rmse: 21648.3\n",
      "[550]\ttraining's rmse: 6209.83\tvalid_1's rmse: 21617.5\n",
      "[560]\ttraining's rmse: 6182.68\tvalid_1's rmse: 21596.2\n",
      "[570]\ttraining's rmse: 6151.26\tvalid_1's rmse: 21568.9\n",
      "[580]\ttraining's rmse: 6122.52\tvalid_1's rmse: 21548.4\n",
      "[590]\ttraining's rmse: 6094.09\tvalid_1's rmse: 21531.4\n",
      "[600]\ttraining's rmse: 6066.51\tvalid_1's rmse: 21517.2\n",
      "[610]\ttraining's rmse: 6044.49\tvalid_1's rmse: 21505.3\n",
      "[620]\ttraining's rmse: 6024.07\tvalid_1's rmse: 21496.8\n",
      "[630]\ttraining's rmse: 6000.53\tvalid_1's rmse: 21486.1\n",
      "[640]\ttraining's rmse: 5968.75\tvalid_1's rmse: 21482.2\n",
      "[650]\ttraining's rmse: 5945.33\tvalid_1's rmse: 21469.3\n",
      "[660]\ttraining's rmse: 5919.44\tvalid_1's rmse: 21450.6\n",
      "[670]\ttraining's rmse: 5898.42\tvalid_1's rmse: 21432.6\n",
      "[680]\ttraining's rmse: 5874.83\tvalid_1's rmse: 21417.2\n",
      "[690]\ttraining's rmse: 5853.78\tvalid_1's rmse: 21403\n",
      "[700]\ttraining's rmse: 5837.78\tvalid_1's rmse: 21387.4\n",
      "[710]\ttraining's rmse: 5819.89\tvalid_1's rmse: 21379.1\n",
      "[720]\ttraining's rmse: 5791.52\tvalid_1's rmse: 21367.6\n",
      "[730]\ttraining's rmse: 5775.42\tvalid_1's rmse: 21360.7\n",
      "[740]\ttraining's rmse: 5752.73\tvalid_1's rmse: 21355.5\n",
      "[750]\ttraining's rmse: 5726.95\tvalid_1's rmse: 21338.8\n",
      "[760]\ttraining's rmse: 5701.57\tvalid_1's rmse: 21327.8\n",
      "[770]\ttraining's rmse: 5685.9\tvalid_1's rmse: 21315.4\n",
      "[780]\ttraining's rmse: 5661.62\tvalid_1's rmse: 21303.7\n",
      "[790]\ttraining's rmse: 5630.71\tvalid_1's rmse: 21302.7\n",
      "[800]\ttraining's rmse: 5604.77\tvalid_1's rmse: 21283.4\n",
      "[810]\ttraining's rmse: 5582.74\tvalid_1's rmse: 21278.4\n",
      "[820]\ttraining's rmse: 5564.65\tvalid_1's rmse: 21262.7\n",
      "[830]\ttraining's rmse: 5542.07\tvalid_1's rmse: 21251.5\n",
      "[840]\ttraining's rmse: 5524.69\tvalid_1's rmse: 21243.3\n",
      "[850]\ttraining's rmse: 5512.3\tvalid_1's rmse: 21233.7\n",
      "[860]\ttraining's rmse: 5495.78\tvalid_1's rmse: 21227.4\n",
      "[870]\ttraining's rmse: 5471.55\tvalid_1's rmse: 21224.4\n",
      "Early stopping, best iteration is:\n",
      "[864]\ttraining's rmse: 5490.04\tvalid_1's rmse: 21221.7\n"
     ]
    },
    {
     "data": {
      "text/html": [
       "<div>\n",
       "<style scoped>\n",
       "    .dataframe tbody tr th:only-of-type {\n",
       "        vertical-align: middle;\n",
       "    }\n",
       "\n",
       "    .dataframe tbody tr th {\n",
       "        vertical-align: top;\n",
       "    }\n",
       "\n",
       "    .dataframe thead th {\n",
       "        text-align: right;\n",
       "    }\n",
       "</style>\n",
       "<table border=\"1\" class=\"dataframe\">\n",
       "  <thead>\n",
       "    <tr style=\"text-align: right;\">\n",
       "      <th></th>\n",
       "      <th>importance</th>\n",
       "    </tr>\n",
       "  </thead>\n",
       "  <tbody>\n",
       "    <tr>\n",
       "      <th>築年数</th>\n",
       "      <td>3.321810e+12</td>\n",
       "    </tr>\n",
       "    <tr>\n",
       "      <th>全体の階数</th>\n",
       "      <td>3.576043e+12</td>\n",
       "    </tr>\n",
       "    <tr>\n",
       "      <th>DARTの予測値</th>\n",
       "      <td>7.843824e+14</td>\n",
       "    </tr>\n",
       "    <tr>\n",
       "      <th>GOSSの予測値</th>\n",
       "      <td>8.310645e+13</td>\n",
       "    </tr>\n",
       "    <tr>\n",
       "      <th>RFの予測値</th>\n",
       "      <td>7.602080e+12</td>\n",
       "    </tr>\n",
       "    <tr>\n",
       "      <th>MLRの予測値</th>\n",
       "      <td>2.771214e+12</td>\n",
       "    </tr>\n",
       "    <tr>\n",
       "      <th>LGBMの予測値</th>\n",
       "      <td>3.327038e+14</td>\n",
       "    </tr>\n",
       "  </tbody>\n",
       "</table>\n",
       "</div>"
      ],
      "text/plain": [
       "            importance\n",
       "築年数       3.321810e+12\n",
       "全体の階数     3.576043e+12\n",
       "DARTの予測値  7.843824e+14\n",
       "GOSSの予測値  8.310645e+13\n",
       "RFの予測値    7.602080e+12\n",
       "MLRの予測値   2.771214e+12\n",
       "LGBMの予測値  3.327038e+14"
      ]
     },
     "metadata": {},
     "output_type": "display_data"
    }
   ],
   "source": [
    "X_train = pd.concat([house_age, Floor_scores2, DART_pred,GOSS_pred,RF_pred,MLR_pred,LGBM_pred], axis=1)\n",
    "y_train = rent\n",
    "\n",
    "X_train, X_valid, y_train, y_valid = train_test_split(X_train, y_train, test_size=0.3, random_state=0)\n",
    "\n",
    "X_test = pd.concat([test_house_age,  test_Floor_scores2,  DART_test,GOSS_test,RF_pred,MLR_test,LGBM_test], axis=1)\n",
    "\n",
    "category_lists = ['定期借家']\n",
    "lgb_train = lgb.Dataset(X_train, y_train)\n",
    "lgb_eval = lgb.Dataset(X_valid, y_valid, reference=lgb_train)\n",
    "\n",
    "params = {\n",
    "    'objective':'regression',\n",
    "    'metrics':'rmse',\n",
    "    'learning_rate':0.05,\n",
    "    'reg_lambda': 4.430375245218262e-06,\n",
    "    'max_bin': 502,\n",
    "    'num_leaves': 97\n",
    "}\n",
    "\n",
    "model = lgb.train(\n",
    "                    params,\n",
    "                    lgb_train, \n",
    "                    valid_sets=[lgb_train, lgb_eval], \n",
    "                    verbose_eval=10, \n",
    "                    num_boost_round=3000, \n",
    "                    early_stopping_rounds=10,\n",
    "                    #categorical_feature = category_lists\n",
    "                    )\n",
    "\n",
    "y_pred = model.predict(X_test, num_iteration=model.best_iteration)\n",
    "\n",
    "# feature importanceを表示\n",
    "importance = pd.DataFrame(model.feature_importance(importance_type = \"gain\"), index=X_train.columns, columns=['importance'])\n",
    "display(importance)\n"
   ]
  },
  {
   "cell_type": "markdown",
   "metadata": {},
   "source": [
    "DARTとGOSSとランダムフォレストと重回帰分析の予測結果、および前にlightGBMから得た最良の結果だけをlightGBMの特徴量にしてみる。"
   ]
  },
  {
   "cell_type": "code",
   "execution_count": 58,
   "metadata": {},
   "outputs": [
    {
     "name": "stderr",
     "output_type": "stream",
     "text": [
      "c:\\Users\\koshi\\python\\signate\\mynabi\\venv\\lib\\site-packages\\lightgbm\\engine.py:181: UserWarning: 'early_stopping_rounds' argument is deprecated and will be removed in a future release of LightGBM. Pass 'early_stopping()' callback via 'callbacks' argument instead.\n",
      "  _log_warning(\"'early_stopping_rounds' argument is deprecated and will be removed in a future release of LightGBM. \"\n",
      "c:\\Users\\koshi\\python\\signate\\mynabi\\venv\\lib\\site-packages\\lightgbm\\engine.py:239: UserWarning: 'verbose_eval' argument is deprecated and will be removed in a future release of LightGBM. Pass 'log_evaluation()' callback via 'callbacks' argument instead.\n",
      "  _log_warning(\"'verbose_eval' argument is deprecated and will be removed in a future release of LightGBM. \"\n"
     ]
    },
    {
     "name": "stdout",
     "output_type": "stream",
     "text": [
      "[LightGBM] [Warning] Auto-choosing col-wise multi-threading, the overhead of testing was 0.000847 seconds.\n",
      "You can set `force_col_wise=true` to remove the overhead.\n",
      "[LightGBM] [Info] Total Bins 2510\n",
      "[LightGBM] [Info] Number of data points in the train set: 22029, number of used features: 5\n",
      "[LightGBM] [Info] Start training from score 118651.337373\n",
      "Training until validation scores don't improve for 10 rounds\n",
      "[10]\ttraining's rmse: 26973.1\tvalid_1's rmse: 35216.9\n",
      "[20]\ttraining's rmse: 12460\tvalid_1's rmse: 25867.1\n",
      "[30]\ttraining's rmse: 9197.61\tvalid_1's rmse: 24119.1\n",
      "[40]\ttraining's rmse: 8653.95\tvalid_1's rmse: 23702.8\n",
      "[50]\ttraining's rmse: 8546.62\tvalid_1's rmse: 23579.4\n",
      "[60]\ttraining's rmse: 8496.38\tvalid_1's rmse: 23541.3\n",
      "[70]\ttraining's rmse: 8463.76\tvalid_1's rmse: 23547.6\n",
      "Early stopping, best iteration is:\n",
      "[60]\ttraining's rmse: 8496.38\tvalid_1's rmse: 23541.3\n"
     ]
    },
    {
     "data": {
      "text/html": [
       "<div>\n",
       "<style scoped>\n",
       "    .dataframe tbody tr th:only-of-type {\n",
       "        vertical-align: middle;\n",
       "    }\n",
       "\n",
       "    .dataframe tbody tr th {\n",
       "        vertical-align: top;\n",
       "    }\n",
       "\n",
       "    .dataframe thead th {\n",
       "        text-align: right;\n",
       "    }\n",
       "</style>\n",
       "<table border=\"1\" class=\"dataframe\">\n",
       "  <thead>\n",
       "    <tr style=\"text-align: right;\">\n",
       "      <th></th>\n",
       "      <th>importance</th>\n",
       "    </tr>\n",
       "  </thead>\n",
       "  <tbody>\n",
       "    <tr>\n",
       "      <th>DARTの予測値</th>\n",
       "      <td>1686</td>\n",
       "    </tr>\n",
       "    <tr>\n",
       "      <th>GOSSの予測値</th>\n",
       "      <td>1095</td>\n",
       "    </tr>\n",
       "    <tr>\n",
       "      <th>RFの予測値</th>\n",
       "      <td>995</td>\n",
       "    </tr>\n",
       "    <tr>\n",
       "      <th>MLRの予測値</th>\n",
       "      <td>549</td>\n",
       "    </tr>\n",
       "    <tr>\n",
       "      <th>LGBMの予測値</th>\n",
       "      <td>1435</td>\n",
       "    </tr>\n",
       "  </tbody>\n",
       "</table>\n",
       "</div>"
      ],
      "text/plain": [
       "          importance\n",
       "DARTの予測値        1686\n",
       "GOSSの予測値        1095\n",
       "RFの予測値           995\n",
       "MLRの予測値          549\n",
       "LGBMの予測値        1435"
      ]
     },
     "metadata": {},
     "output_type": "display_data"
    }
   ],
   "source": [
    "X_train = pd.concat([DART_pred,GOSS_pred,RF_pred,MLR_pred,LGBM_pred], axis=1)\n",
    "y_train = rent\n",
    "\n",
    "X_train, X_valid, y_train, y_valid = train_test_split(X_train, y_train, test_size=0.3, random_state=0)\n",
    "\n",
    "X_test = pd.concat([DART_test,GOSS_test,RF_pred,MLR_test,LGBM_test], axis=1)\n",
    "\n",
    "category_lists = ['定期借家', 'L', 'D','K']\n",
    "lgb_train = lgb.Dataset(X_train, y_train)\n",
    "lgb_eval = lgb.Dataset(X_valid, y_valid, reference=lgb_train)\n",
    "\n",
    "params = {\n",
    "    'objective':'regression',\n",
    "    'metrics':'rmse',\n",
    "    'reg_lambda': 4.430375245218262e-06,\n",
    "    'max_bin': 502,\n",
    "    'num_leaves': 97\n",
    "}\n",
    "\n",
    "model = lgb.train(\n",
    "                    params,\n",
    "                    lgb_train, \n",
    "                    valid_sets=[lgb_train, lgb_eval], \n",
    "                    verbose_eval=10, \n",
    "                    num_boost_round=3000, \n",
    "                    early_stopping_rounds=10,\n",
    "                    #categorical_feature = category_lists\n",
    "                    )\n",
    "\n",
    "y_pred = model.predict(X_test, num_iteration=model.best_iteration)\n",
    "\n",
    "# feature importanceを表示\n",
    "importance = pd.DataFrame(model.feature_importance(), index=X_train.columns, columns=['importance'])\n",
    "display(importance)\n"
   ]
  },
  {
   "cell_type": "markdown",
   "metadata": {},
   "source": [
    "あまり上がらない・・・念のためにチューニングをしておく。"
   ]
  },
  {
   "cell_type": "code",
   "execution_count": 42,
   "metadata": {},
   "outputs": [],
   "source": [
    "X_train = pd.concat([DART_pred,GOSS_pred,RF_pred,MLR_pred,LGBM_pred], axis=1)\n",
    "y_train = rent\n",
    "\n",
    "X_train, X_valid, y_train, y_valid = train_test_split(X_train, y_train, test_size=0.3, random_state=0)\n",
    "\n",
    "X_test = pd.concat([DART_test,GOSS_test,RF_pred,MLR_test,LGBM_test], axis=1)\n",
    "\n",
    "def objective(trial):\n",
    "    #category_lists = ['定期借家', '最寄り駅', '所在地', 'L', 'D', '建物構造']\n",
    "    lgb_train = lgb.Dataset(X_train, y_train)\n",
    "    lgb_eval = lgb.Dataset(X_valid, y_valid, reference=lgb_train)\n",
    "\n",
    "    params = {\n",
    "        'objective':'regression',\n",
    "        'metrics':'rmse',\n",
    "        'learning_rate':0.05,\n",
    "        'reg_lambda': trial.suggest_float('reg_lambda', 0.0000001, 0.0001, log=True),\n",
    "        'max_bin': trial.suggest_int('max_bin', 255, 600),\n",
    "        'num_leaves': trial.suggest_int('num_leaves', 50, 128),\n",
    "    }\n",
    "\n",
    "    model = lgb.train(\n",
    "                        params,\n",
    "                        lgb_train, \n",
    "                        valid_sets=[lgb_train, lgb_eval], \n",
    "                        verbose_eval=10, \n",
    "                        num_boost_round=1000, \n",
    "                        early_stopping_rounds=10,\n",
    "                        #categorical_feature = category_lists\n",
    "                        )\n",
    "\n",
    "    y_pred_valid = model.predict(X_valid, num_iteration=model.best_iteration)\n",
    "\n",
    "    loss = mean_squared_error(y_valid, y_pred_valid, squared=False)\n",
    "    return loss"
   ]
  },
  {
   "cell_type": "code",
   "execution_count": 43,
   "metadata": {},
   "outputs": [
    {
     "name": "stderr",
     "output_type": "stream",
     "text": [
      "\u001b[32m[I 2022-09-09 17:13:44,768]\u001b[0m A new study created in memory with name: no-name-4365e651-165d-4c29-9b6a-2d19d3e74e8e\u001b[0m\n",
      "c:\\Users\\koshi\\python\\signate\\mynabi\\venv\\lib\\site-packages\\lightgbm\\engine.py:181: UserWarning: 'early_stopping_rounds' argument is deprecated and will be removed in a future release of LightGBM. Pass 'early_stopping()' callback via 'callbacks' argument instead.\n",
      "  _log_warning(\"'early_stopping_rounds' argument is deprecated and will be removed in a future release of LightGBM. \"\n",
      "c:\\Users\\koshi\\python\\signate\\mynabi\\venv\\lib\\site-packages\\lightgbm\\engine.py:239: UserWarning: 'verbose_eval' argument is deprecated and will be removed in a future release of LightGBM. Pass 'log_evaluation()' callback via 'callbacks' argument instead.\n",
      "  _log_warning(\"'verbose_eval' argument is deprecated and will be removed in a future release of LightGBM. \"\n"
     ]
    },
    {
     "name": "stdout",
     "output_type": "stream",
     "text": [
      "[LightGBM] [Warning] Auto-choosing col-wise multi-threading, the overhead of testing was 0.000886 seconds.\n",
      "You can set `force_col_wise=true` to remove the overhead.\n",
      "[LightGBM] [Info] Total Bins 2510\n",
      "[LightGBM] [Info] Number of data points in the train set: 22029, number of used features: 5\n",
      "[LightGBM] [Info] Start training from score 118651.337373\n",
      "Training until validation scores don't improve for 10 rounds\n",
      "[10]\ttraining's rmse: 44653.5\tvalid_1's rmse: 49124.6\n",
      "[20]\ttraining's rmse: 27652.5\tvalid_1's rmse: 35711.5\n",
      "[30]\ttraining's rmse: 17977.4\tvalid_1's rmse: 29094.1\n",
      "[40]\ttraining's rmse: 12828.2\tvalid_1's rmse: 26074.1\n",
      "[50]\ttraining's rmse: 10363\tvalid_1's rmse: 24785.7\n",
      "[60]\ttraining's rmse: 9302.73\tvalid_1's rmse: 24192.3\n",
      "[70]\ttraining's rmse: 8858.56\tvalid_1's rmse: 23886.9\n",
      "[80]\ttraining's rmse: 8680.45\tvalid_1's rmse: 23726.9\n",
      "[90]\ttraining's rmse: 8605.34\tvalid_1's rmse: 23654.3\n",
      "[100]\ttraining's rmse: 8557.52\tvalid_1's rmse: 23599.4\n",
      "[110]\ttraining's rmse: 8524.38\tvalid_1's rmse: 23553.5\n",
      "[120]\ttraining's rmse: 8506.12\tvalid_1's rmse: 23551.5\n",
      "Early stopping, best iteration is:\n",
      "[113]\ttraining's rmse: 8521.16\tvalid_1's rmse: 23549.2\n"
     ]
    },
    {
     "name": "stderr",
     "output_type": "stream",
     "text": [
      "\u001b[32m[I 2022-09-09 17:13:45,496]\u001b[0m Trial 0 finished with value: 23549.216504023072 and parameters: {'reg_lambda': 4.430375245218262e-06, 'max_bin': 502, 'num_leaves': 97}. Best is trial 0 with value: 23549.216504023072.\u001b[0m\n",
      "c:\\Users\\koshi\\python\\signate\\mynabi\\venv\\lib\\site-packages\\lightgbm\\engine.py:181: UserWarning: 'early_stopping_rounds' argument is deprecated and will be removed in a future release of LightGBM. Pass 'early_stopping()' callback via 'callbacks' argument instead.\n",
      "  _log_warning(\"'early_stopping_rounds' argument is deprecated and will be removed in a future release of LightGBM. \"\n",
      "c:\\Users\\koshi\\python\\signate\\mynabi\\venv\\lib\\site-packages\\lightgbm\\engine.py:239: UserWarning: 'verbose_eval' argument is deprecated and will be removed in a future release of LightGBM. Pass 'log_evaluation()' callback via 'callbacks' argument instead.\n",
      "  _log_warning(\"'verbose_eval' argument is deprecated and will be removed in a future release of LightGBM. \"\n"
     ]
    },
    {
     "name": "stdout",
     "output_type": "stream",
     "text": [
      "[LightGBM] [Warning] Auto-choosing col-wise multi-threading, the overhead of testing was 0.001041 seconds.\n",
      "You can set `force_col_wise=true` to remove the overhead.\n",
      "[LightGBM] [Info] Total Bins 2005\n",
      "[LightGBM] [Info] Number of data points in the train set: 22029, number of used features: 5\n",
      "[LightGBM] [Info] Start training from score 118651.337373\n",
      "Training until validation scores don't improve for 10 rounds\n",
      "[10]\ttraining's rmse: 44908.8\tvalid_1's rmse: 49397.1\n",
      "[20]\ttraining's rmse: 28175.4\tvalid_1's rmse: 36141.6\n",
      "[30]\ttraining's rmse: 18807.3\tvalid_1's rmse: 29740.1\n",
      "[40]\ttraining's rmse: 13965.8\tvalid_1's rmse: 26983.2\n",
      "[50]\ttraining's rmse: 11721.4\tvalid_1's rmse: 25832.6\n",
      "[60]\ttraining's rmse: 10785.3\tvalid_1's rmse: 25340\n",
      "[70]\ttraining's rmse: 10415.6\tvalid_1's rmse: 25115.6\n",
      "[80]\ttraining's rmse: 10262\tvalid_1's rmse: 24997.6\n",
      "[90]\ttraining's rmse: 10181.1\tvalid_1's rmse: 24910.7\n"
     ]
    },
    {
     "name": "stderr",
     "output_type": "stream",
     "text": [
      "\u001b[32m[I 2022-09-09 17:13:46,174]\u001b[0m Trial 1 finished with value: 24859.960466913097 and parameters: {'reg_lambda': 4.311710058685494e-06, 'max_bin': 401, 'num_leaves': 101}. Best is trial 0 with value: 23549.216504023072.\u001b[0m\n"
     ]
    },
    {
     "name": "stdout",
     "output_type": "stream",
     "text": [
      "[100]\ttraining's rmse: 10134.5\tvalid_1's rmse: 24868.5\n",
      "[110]\ttraining's rmse: 10103.4\tvalid_1's rmse: 24862.8\n",
      "Early stopping, best iteration is:\n",
      "[109]\ttraining's rmse: 10106.3\tvalid_1's rmse: 24860\n"
     ]
    },
    {
     "name": "stderr",
     "output_type": "stream",
     "text": [
      "c:\\Users\\koshi\\python\\signate\\mynabi\\venv\\lib\\site-packages\\lightgbm\\engine.py:181: UserWarning: 'early_stopping_rounds' argument is deprecated and will be removed in a future release of LightGBM. Pass 'early_stopping()' callback via 'callbacks' argument instead.\n",
      "  _log_warning(\"'early_stopping_rounds' argument is deprecated and will be removed in a future release of LightGBM. \"\n",
      "c:\\Users\\koshi\\python\\signate\\mynabi\\venv\\lib\\site-packages\\lightgbm\\engine.py:239: UserWarning: 'verbose_eval' argument is deprecated and will be removed in a future release of LightGBM. Pass 'log_evaluation()' callback via 'callbacks' argument instead.\n",
      "  _log_warning(\"'verbose_eval' argument is deprecated and will be removed in a future release of LightGBM. \"\n"
     ]
    },
    {
     "name": "stdout",
     "output_type": "stream",
     "text": [
      "[LightGBM] [Warning] Auto-choosing col-wise multi-threading, the overhead of testing was 0.000848 seconds.\n",
      "You can set `force_col_wise=true` to remove the overhead.\n",
      "[LightGBM] [Info] Total Bins 2815\n",
      "[LightGBM] [Info] Number of data points in the train set: 22029, number of used features: 5\n",
      "[LightGBM] [Info] Start training from score 118651.337373\n",
      "Training until validation scores don't improve for 10 rounds\n",
      "[10]\ttraining's rmse: 44795.3\tvalid_1's rmse: 49212.1\n",
      "[20]\ttraining's rmse: 27919.3\tvalid_1's rmse: 35988.4\n",
      "[30]\ttraining's rmse: 18298.2\tvalid_1's rmse: 29615.1\n",
      "[40]\ttraining's rmse: 12985.4\tvalid_1's rmse: 26683.4\n",
      "[50]\ttraining's rmse: 10271.2\tvalid_1's rmse: 25295.5\n",
      "[60]\ttraining's rmse: 9067.04\tvalid_1's rmse: 24665.6\n",
      "[70]\ttraining's rmse: 8523.73\tvalid_1's rmse: 24314.4\n",
      "[80]\ttraining's rmse: 8312.15\tvalid_1's rmse: 24141\n",
      "[90]\ttraining's rmse: 8225.11\tvalid_1's rmse: 24053.1\n"
     ]
    },
    {
     "name": "stderr",
     "output_type": "stream",
     "text": [
      "\u001b[32m[I 2022-09-09 17:13:47,111]\u001b[0m Trial 2 finished with value: 23996.73981623122 and parameters: {'reg_lambda': 2.054762512591133e-06, 'max_bin': 563, 'num_leaves': 126}. Best is trial 0 with value: 23549.216504023072.\u001b[0m\n"
     ]
    },
    {
     "name": "stdout",
     "output_type": "stream",
     "text": [
      "[100]\ttraining's rmse: 8179.33\tvalid_1's rmse: 24004.6\n",
      "[110]\ttraining's rmse: 8146.76\tvalid_1's rmse: 24007.6\n",
      "Early stopping, best iteration is:\n",
      "[101]\ttraining's rmse: 8175.95\tvalid_1's rmse: 23996.7\n"
     ]
    },
    {
     "name": "stderr",
     "output_type": "stream",
     "text": [
      "c:\\Users\\koshi\\python\\signate\\mynabi\\venv\\lib\\site-packages\\lightgbm\\engine.py:181: UserWarning: 'early_stopping_rounds' argument is deprecated and will be removed in a future release of LightGBM. Pass 'early_stopping()' callback via 'callbacks' argument instead.\n",
      "  _log_warning(\"'early_stopping_rounds' argument is deprecated and will be removed in a future release of LightGBM. \"\n",
      "c:\\Users\\koshi\\python\\signate\\mynabi\\venv\\lib\\site-packages\\lightgbm\\engine.py:239: UserWarning: 'verbose_eval' argument is deprecated and will be removed in a future release of LightGBM. Pass 'log_evaluation()' callback via 'callbacks' argument instead.\n",
      "  _log_warning(\"'verbose_eval' argument is deprecated and will be removed in a future release of LightGBM. \"\n"
     ]
    },
    {
     "name": "stdout",
     "output_type": "stream",
     "text": [
      "[LightGBM] [Warning] Auto-choosing col-wise multi-threading, the overhead of testing was 0.000829 seconds.\n",
      "You can set `force_col_wise=true` to remove the overhead.\n",
      "[LightGBM] [Info] Total Bins 2640\n",
      "[LightGBM] [Info] Number of data points in the train set: 22029, number of used features: 5\n",
      "[LightGBM] [Info] Start training from score 118651.337373\n",
      "Training until validation scores don't improve for 10 rounds\n",
      "[10]\ttraining's rmse: 44852.5\tvalid_1's rmse: 49181.9\n",
      "[20]\ttraining's rmse: 28065.3\tvalid_1's rmse: 36175.6\n",
      "[30]\ttraining's rmse: 18486.9\tvalid_1's rmse: 29952.6\n",
      "[40]\ttraining's rmse: 13396.9\tvalid_1's rmse: 27236.6\n",
      "[50]\ttraining's rmse: 10955.4\tvalid_1's rmse: 26104.4\n",
      "[60]\ttraining's rmse: 9866.66\tvalid_1's rmse: 25621.1\n",
      "[70]\ttraining's rmse: 9361.83\tvalid_1's rmse: 25364.4\n",
      "[80]\ttraining's rmse: 8989.45\tvalid_1's rmse: 25045.5\n",
      "[90]\ttraining's rmse: 8806.05\tvalid_1's rmse: 24864.3\n",
      "[100]\ttraining's rmse: 8674.17\tvalid_1's rmse: 24688.7\n",
      "[110]\ttraining's rmse: 8624.39\tvalid_1's rmse: 24691.7\n",
      "Early stopping, best iteration is:\n",
      "[100]\ttraining's rmse: 8674.17\tvalid_1's rmse: 24688.7\n"
     ]
    },
    {
     "name": "stderr",
     "output_type": "stream",
     "text": [
      "\u001b[32m[I 2022-09-09 17:13:47,788]\u001b[0m Trial 3 finished with value: 24688.687204494017 and parameters: {'reg_lambda': 1.4135935551752292e-06, 'max_bin': 528, 'num_leaves': 91}. Best is trial 0 with value: 23549.216504023072.\u001b[0m\n",
      "c:\\Users\\koshi\\python\\signate\\mynabi\\venv\\lib\\site-packages\\lightgbm\\engine.py:181: UserWarning: 'early_stopping_rounds' argument is deprecated and will be removed in a future release of LightGBM. Pass 'early_stopping()' callback via 'callbacks' argument instead.\n",
      "  _log_warning(\"'early_stopping_rounds' argument is deprecated and will be removed in a future release of LightGBM. \"\n",
      "c:\\Users\\koshi\\python\\signate\\mynabi\\venv\\lib\\site-packages\\lightgbm\\engine.py:239: UserWarning: 'verbose_eval' argument is deprecated and will be removed in a future release of LightGBM. Pass 'log_evaluation()' callback via 'callbacks' argument instead.\n",
      "  _log_warning(\"'verbose_eval' argument is deprecated and will be removed in a future release of LightGBM. \"\n"
     ]
    },
    {
     "name": "stdout",
     "output_type": "stream",
     "text": [
      "[LightGBM] [Warning] Auto-choosing col-wise multi-threading, the overhead of testing was 0.000803 seconds.\n",
      "You can set `force_col_wise=true` to remove the overhead.\n",
      "[LightGBM] [Info] Total Bins 2875\n",
      "[LightGBM] [Info] Number of data points in the train set: 22029, number of used features: 5\n",
      "[LightGBM] [Info] Start training from score 118651.337373\n",
      "Training until validation scores don't improve for 10 rounds\n",
      "[10]\ttraining's rmse: 44784\tvalid_1's rmse: 49269.2\n",
      "[20]\ttraining's rmse: 27900\tvalid_1's rmse: 36119.2\n",
      "[30]\ttraining's rmse: 18282.3\tvalid_1's rmse: 29744.7\n",
      "[40]\ttraining's rmse: 13155\tvalid_1's rmse: 26953.7\n",
      "[50]\ttraining's rmse: 10668.5\tvalid_1's rmse: 25770.8\n",
      "[60]\ttraining's rmse: 9545.29\tvalid_1's rmse: 25236.8\n",
      "[70]\ttraining's rmse: 9050.54\tvalid_1's rmse: 24977.6\n",
      "[80]\ttraining's rmse: 8703.95\tvalid_1's rmse: 24669.7\n",
      "[90]\ttraining's rmse: 8478.43\tvalid_1's rmse: 24385.2\n",
      "[100]\ttraining's rmse: 8384.91\tvalid_1's rmse: 24234.3\n",
      "[110]\ttraining's rmse: 8340.68\tvalid_1's rmse: 24193.6\n"
     ]
    },
    {
     "name": "stderr",
     "output_type": "stream",
     "text": [
      "\u001b[32m[I 2022-09-09 17:13:48,326]\u001b[0m Trial 4 finished with value: 24190.371513133916 and parameters: {'reg_lambda': 5.059803874660429e-06, 'max_bin': 575, 'num_leaves': 55}. Best is trial 0 with value: 23549.216504023072.\u001b[0m\n"
     ]
    },
    {
     "name": "stdout",
     "output_type": "stream",
     "text": [
      "Early stopping, best iteration is:\n",
      "[106]\ttraining's rmse: 8354.58\tvalid_1's rmse: 24190.4\n",
      "[LightGBM] [Warning] Auto-choosing col-wise multi-threading, the overhead of testing was 0.000726 seconds.\n",
      "You can set `force_col_wise=true` to remove the overhead.\n",
      "[LightGBM] [Info] Total Bins 1305\n",
      "[LightGBM] [Info] Number of data points in the train set: 22029, number of used features: 5\n",
      "[LightGBM] [Info] Start training from score 118651.337373\n",
      "Training until validation scores don't improve for 10 rounds\n",
      "[10]\ttraining's rmse: 45273.8\tvalid_1's rmse: 49799.7\n",
      "[20]\ttraining's rmse: 28992.1\tvalid_1's rmse: 37050.3\n"
     ]
    },
    {
     "name": "stderr",
     "output_type": "stream",
     "text": [
      "c:\\Users\\koshi\\python\\signate\\mynabi\\venv\\lib\\site-packages\\lightgbm\\engine.py:181: UserWarning: 'early_stopping_rounds' argument is deprecated and will be removed in a future release of LightGBM. Pass 'early_stopping()' callback via 'callbacks' argument instead.\n",
      "  _log_warning(\"'early_stopping_rounds' argument is deprecated and will be removed in a future release of LightGBM. \"\n",
      "c:\\Users\\koshi\\python\\signate\\mynabi\\venv\\lib\\site-packages\\lightgbm\\engine.py:239: UserWarning: 'verbose_eval' argument is deprecated and will be removed in a future release of LightGBM. Pass 'log_evaluation()' callback via 'callbacks' argument instead.\n",
      "  _log_warning(\"'verbose_eval' argument is deprecated and will be removed in a future release of LightGBM. \"\n"
     ]
    },
    {
     "name": "stdout",
     "output_type": "stream",
     "text": [
      "[30]\ttraining's rmse: 20126.7\tvalid_1's rmse: 30993.9\n",
      "[40]\ttraining's rmse: 15739.8\tvalid_1's rmse: 28345.9\n",
      "[50]\ttraining's rmse: 13816.2\tvalid_1's rmse: 27240.6\n",
      "[60]\ttraining's rmse: 12983.3\tvalid_1's rmse: 26692.2\n",
      "[70]\ttraining's rmse: 12625.4\tvalid_1's rmse: 26411.5\n",
      "[80]\ttraining's rmse: 12478.3\tvalid_1's rmse: 26269.7\n",
      "[90]\ttraining's rmse: 12419.1\tvalid_1's rmse: 26201\n",
      "[100]\ttraining's rmse: 12374.8\tvalid_1's rmse: 26153.7\n",
      "[110]\ttraining's rmse: 12302.2\tvalid_1's rmse: 26099.2\n",
      "[120]\ttraining's rmse: 12253.5\tvalid_1's rmse: 26063.6\n",
      "[130]\ttraining's rmse: 12214.5\tvalid_1's rmse: 26034.7\n",
      "[140]\ttraining's rmse: 12186.7\tvalid_1's rmse: 26021.2\n",
      "[150]\ttraining's rmse: 12162.6\tvalid_1's rmse: 26011\n",
      "[160]\ttraining's rmse: 12140\tvalid_1's rmse: 25998\n",
      "[170]\ttraining's rmse: 12119.7\tvalid_1's rmse: 25983.6\n",
      "[180]\ttraining's rmse: 12103\tvalid_1's rmse: 25971.5\n",
      "[190]\ttraining's rmse: 12090.8\tvalid_1's rmse: 25965\n",
      "[200]\ttraining's rmse: 12080.2\tvalid_1's rmse: 25954.6\n",
      "[210]\ttraining's rmse: 12071.6\tvalid_1's rmse: 25949.9\n",
      "[220]\ttraining's rmse: 12063.8\tvalid_1's rmse: 25943.6\n",
      "[230]\ttraining's rmse: 12057.8\tvalid_1's rmse: 25939.7\n",
      "[240]\ttraining's rmse: 12051.1\tvalid_1's rmse: 25937.3\n",
      "[250]\ttraining's rmse: 12045.1\tvalid_1's rmse: 25933.5\n",
      "[260]\ttraining's rmse: 12039.5\tvalid_1's rmse: 25932.7\n",
      "[270]\ttraining's rmse: 12034.7\tvalid_1's rmse: 25928.9\n",
      "[280]\ttraining's rmse: 12029.8\tvalid_1's rmse: 25927.5\n",
      "[290]\ttraining's rmse: 12025.7\tvalid_1's rmse: 25924.3\n",
      "[300]\ttraining's rmse: 12021.2\tvalid_1's rmse: 25924.6\n",
      "[310]\ttraining's rmse: 12017.1\tvalid_1's rmse: 25920.7\n",
      "[320]\ttraining's rmse: 12013.4\tvalid_1's rmse: 25918.4\n",
      "[330]\ttraining's rmse: 12009.6\tvalid_1's rmse: 25918.5\n",
      "Early stopping, best iteration is:\n",
      "[326]\ttraining's rmse: 12011\tvalid_1's rmse: 25917.9\n"
     ]
    },
    {
     "name": "stderr",
     "output_type": "stream",
     "text": [
      "\u001b[32m[I 2022-09-09 17:13:50,461]\u001b[0m Trial 5 finished with value: 25917.930461325075 and parameters: {'reg_lambda': 1.8255254802398994e-07, 'max_bin': 261, 'num_leaves': 115}. Best is trial 0 with value: 23549.216504023072.\u001b[0m\n",
      "c:\\Users\\koshi\\python\\signate\\mynabi\\venv\\lib\\site-packages\\lightgbm\\engine.py:181: UserWarning: 'early_stopping_rounds' argument is deprecated and will be removed in a future release of LightGBM. Pass 'early_stopping()' callback via 'callbacks' argument instead.\n",
      "  _log_warning(\"'early_stopping_rounds' argument is deprecated and will be removed in a future release of LightGBM. \"\n",
      "c:\\Users\\koshi\\python\\signate\\mynabi\\venv\\lib\\site-packages\\lightgbm\\engine.py:239: UserWarning: 'verbose_eval' argument is deprecated and will be removed in a future release of LightGBM. Pass 'log_evaluation()' callback via 'callbacks' argument instead.\n",
      "  _log_warning(\"'verbose_eval' argument is deprecated and will be removed in a future release of LightGBM. \"\n"
     ]
    },
    {
     "name": "stdout",
     "output_type": "stream",
     "text": [
      "[LightGBM] [Warning] Auto-choosing col-wise multi-threading, the overhead of testing was 0.000669 seconds.\n",
      "You can set `force_col_wise=true` to remove the overhead.\n",
      "[LightGBM] [Info] Total Bins 2780\n",
      "[LightGBM] [Info] Number of data points in the train set: 22029, number of used features: 5\n",
      "[LightGBM] [Info] Start training from score 118651.337373\n",
      "Training until validation scores don't improve for 10 rounds\n",
      "[10]\ttraining's rmse: 44795.9\tvalid_1's rmse: 49201.4\n",
      "[20]\ttraining's rmse: 27938.3\tvalid_1's rmse: 36031.9\n",
      "[30]\ttraining's rmse: 18302\tvalid_1's rmse: 29636\n",
      "[40]\ttraining's rmse: 12960.2\tvalid_1's rmse: 26651.2\n",
      "[50]\ttraining's rmse: 10271.1\tvalid_1's rmse: 25273.2\n",
      "[60]\ttraining's rmse: 9042.76\tvalid_1's rmse: 24611.4\n",
      "[70]\ttraining's rmse: 8551.26\tvalid_1's rmse: 24306.4\n",
      "[80]\ttraining's rmse: 8324.2\tvalid_1's rmse: 24112.9\n",
      "[90]\ttraining's rmse: 8234.88\tvalid_1's rmse: 24019.7\n",
      "[100]\ttraining's rmse: 8187.05\tvalid_1's rmse: 23955.2\n"
     ]
    },
    {
     "name": "stderr",
     "output_type": "stream",
     "text": [
      "\u001b[32m[I 2022-09-09 17:13:51,414]\u001b[0m Trial 6 finished with value: 23945.547222717072 and parameters: {'reg_lambda': 2.1600820741402023e-05, 'max_bin': 556, 'num_leaves': 127}. Best is trial 0 with value: 23549.216504023072.\u001b[0m\n"
     ]
    },
    {
     "name": "stdout",
     "output_type": "stream",
     "text": [
      "[110]\ttraining's rmse: 8152.98\tvalid_1's rmse: 23952.8\n",
      "[120]\ttraining's rmse: 8131.07\tvalid_1's rmse: 23967.3\n",
      "Early stopping, best iteration is:\n",
      "[111]\ttraining's rmse: 8150.02\tvalid_1's rmse: 23945.5\n",
      "[LightGBM] [Warning] Auto-choosing col-wise multi-threading, the overhead of testing was 0.000978 seconds.\n",
      "You can set `force_col_wise=true` to remove the overhead.\n",
      "[LightGBM] [Info] Total Bins 2070\n",
      "[LightGBM] [Info] Number of data points in the train set: 22029, number of used features: 5\n",
      "[LightGBM] [Info] Start training from score 118651.337373\n"
     ]
    },
    {
     "name": "stderr",
     "output_type": "stream",
     "text": [
      "c:\\Users\\koshi\\python\\signate\\mynabi\\venv\\lib\\site-packages\\lightgbm\\engine.py:181: UserWarning: 'early_stopping_rounds' argument is deprecated and will be removed in a future release of LightGBM. Pass 'early_stopping()' callback via 'callbacks' argument instead.\n",
      "  _log_warning(\"'early_stopping_rounds' argument is deprecated and will be removed in a future release of LightGBM. \"\n",
      "c:\\Users\\koshi\\python\\signate\\mynabi\\venv\\lib\\site-packages\\lightgbm\\engine.py:239: UserWarning: 'verbose_eval' argument is deprecated and will be removed in a future release of LightGBM. Pass 'log_evaluation()' callback via 'callbacks' argument instead.\n",
      "  _log_warning(\"'verbose_eval' argument is deprecated and will be removed in a future release of LightGBM. \"\n"
     ]
    },
    {
     "name": "stdout",
     "output_type": "stream",
     "text": [
      "Training until validation scores don't improve for 10 rounds\n",
      "[10]\ttraining's rmse: 44861.4\tvalid_1's rmse: 49329.1\n",
      "[20]\ttraining's rmse: 28072.6\tvalid_1's rmse: 36123.4\n",
      "[30]\ttraining's rmse: 18631\tvalid_1's rmse: 29662.9\n",
      "[40]\ttraining's rmse: 13705.2\tvalid_1's rmse: 26816.3\n",
      "[50]\ttraining's rmse: 11400.9\tvalid_1's rmse: 25586.7\n",
      "[60]\ttraining's rmse: 10433.2\tvalid_1's rmse: 25044.5\n",
      "[70]\ttraining's rmse: 10018.6\tvalid_1's rmse: 24809.3\n",
      "[80]\ttraining's rmse: 9839.3\tvalid_1's rmse: 24690.4\n",
      "[90]\ttraining's rmse: 9740.32\tvalid_1's rmse: 24623.1\n",
      "[100]\ttraining's rmse: 9686.88\tvalid_1's rmse: 24545.6\n",
      "[110]\ttraining's rmse: 9648.61\tvalid_1's rmse: 24490.4\n",
      "[120]\ttraining's rmse: 9619.06\tvalid_1's rmse: 24459\n",
      "[130]\ttraining's rmse: 9597.36\tvalid_1's rmse: 24441.8\n",
      "[140]\ttraining's rmse: 9580.53\tvalid_1's rmse: 24441.7\n",
      "[150]\ttraining's rmse: 9567.88\tvalid_1's rmse: 24434.5\n",
      "[160]\ttraining's rmse: 9550.41\tvalid_1's rmse: 24418.5\n",
      "[170]\ttraining's rmse: 9534.86\tvalid_1's rmse: 24411.7\n",
      "[180]\ttraining's rmse: 9523.12\tvalid_1's rmse: 24408\n",
      "[190]\ttraining's rmse: 9511.13\tvalid_1's rmse: 24401.5\n",
      "[200]\ttraining's rmse: 9499.76\tvalid_1's rmse: 24405.7\n",
      "[210]\ttraining's rmse: 9488.48\tvalid_1's rmse: 24403\n",
      "Early stopping, best iteration is:\n",
      "[204]\ttraining's rmse: 9494.1\tvalid_1's rmse: 24393.1\n"
     ]
    },
    {
     "name": "stderr",
     "output_type": "stream",
     "text": [
      "\u001b[32m[I 2022-09-09 17:13:52,738]\u001b[0m Trial 7 finished with value: 24393.089404687224 and parameters: {'reg_lambda': 2.4973286104060585e-05, 'max_bin': 414, 'num_leaves': 111}. Best is trial 0 with value: 23549.216504023072.\u001b[0m\n",
      "c:\\Users\\koshi\\python\\signate\\mynabi\\venv\\lib\\site-packages\\lightgbm\\engine.py:181: UserWarning: 'early_stopping_rounds' argument is deprecated and will be removed in a future release of LightGBM. Pass 'early_stopping()' callback via 'callbacks' argument instead.\n",
      "  _log_warning(\"'early_stopping_rounds' argument is deprecated and will be removed in a future release of LightGBM. \"\n",
      "c:\\Users\\koshi\\python\\signate\\mynabi\\venv\\lib\\site-packages\\lightgbm\\engine.py:239: UserWarning: 'verbose_eval' argument is deprecated and will be removed in a future release of LightGBM. Pass 'log_evaluation()' callback via 'callbacks' argument instead.\n",
      "  _log_warning(\"'verbose_eval' argument is deprecated and will be removed in a future release of LightGBM. \"\n"
     ]
    },
    {
     "name": "stdout",
     "output_type": "stream",
     "text": [
      "[LightGBM] [Warning] Auto-choosing col-wise multi-threading, the overhead of testing was 0.000710 seconds.\n",
      "You can set `force_col_wise=true` to remove the overhead.\n",
      "[LightGBM] [Info] Total Bins 2380\n",
      "[LightGBM] [Info] Number of data points in the train set: 22029, number of used features: 5\n",
      "[LightGBM] [Info] Start training from score 118651.337373\n",
      "Training until validation scores don't improve for 10 rounds\n",
      "[10]\ttraining's rmse: 44675\tvalid_1's rmse: 49056.3\n",
      "[20]\ttraining's rmse: 27704.1\tvalid_1's rmse: 35685.5\n",
      "[30]\ttraining's rmse: 18064.4\tvalid_1's rmse: 29150.3\n",
      "[40]\ttraining's rmse: 12954.8\tvalid_1's rmse: 26251.9\n",
      "[50]\ttraining's rmse: 10502.5\tvalid_1's rmse: 24994.9\n",
      "[60]\ttraining's rmse: 9449.65\tvalid_1's rmse: 24430.4\n",
      "[70]\ttraining's rmse: 9012.51\tvalid_1's rmse: 24153.7\n",
      "[80]\ttraining's rmse: 8820.88\tvalid_1's rmse: 23997.3\n",
      "[90]\ttraining's rmse: 8734.26\tvalid_1's rmse: 23900.8\n",
      "[100]\ttraining's rmse: 8675.41\tvalid_1's rmse: 23807\n",
      "[110]\ttraining's rmse: 8642.63\tvalid_1's rmse: 23790.7\n"
     ]
    },
    {
     "name": "stderr",
     "output_type": "stream",
     "text": [
      "\u001b[32m[I 2022-09-09 17:13:53,247]\u001b[0m Trial 8 finished with value: 23782.58649342469 and parameters: {'reg_lambda': 2.263722969739546e-07, 'max_bin': 476, 'num_leaves': 61}. Best is trial 0 with value: 23549.216504023072.\u001b[0m\n"
     ]
    },
    {
     "name": "stdout",
     "output_type": "stream",
     "text": [
      "[120]\ttraining's rmse: 8622\tvalid_1's rmse: 23798\n",
      "Early stopping, best iteration is:\n",
      "[111]\ttraining's rmse: 8639.55\tvalid_1's rmse: 23782.6\n",
      "[LightGBM] [Warning] Auto-choosing col-wise multi-threading, the overhead of testing was 0.000686 seconds.\n",
      "You can set `force_col_wise=true` to remove the overhead.\n",
      "[LightGBM] [Info] Total Bins 2175\n",
      "[LightGBM] [Info] Number of data points in the train set: 22029, number of used features: 5\n",
      "[LightGBM] [Info] Start training from score 118651.337373\n",
      "Training until validation scores don't improve for 10 rounds\n",
      "[10]\ttraining's rmse: 44778.3\tvalid_1's rmse: 49176.1\n",
      "[20]\ttraining's rmse: 27898.1\tvalid_1's rmse: 35930.2\n"
     ]
    },
    {
     "name": "stderr",
     "output_type": "stream",
     "text": [
      "c:\\Users\\koshi\\python\\signate\\mynabi\\venv\\lib\\site-packages\\lightgbm\\engine.py:181: UserWarning: 'early_stopping_rounds' argument is deprecated and will be removed in a future release of LightGBM. Pass 'early_stopping()' callback via 'callbacks' argument instead.\n",
      "  _log_warning(\"'early_stopping_rounds' argument is deprecated and will be removed in a future release of LightGBM. \"\n",
      "c:\\Users\\koshi\\python\\signate\\mynabi\\venv\\lib\\site-packages\\lightgbm\\engine.py:239: UserWarning: 'verbose_eval' argument is deprecated and will be removed in a future release of LightGBM. Pass 'log_evaluation()' callback via 'callbacks' argument instead.\n",
      "  _log_warning(\"'verbose_eval' argument is deprecated and will be removed in a future release of LightGBM. \"\n"
     ]
    },
    {
     "name": "stdout",
     "output_type": "stream",
     "text": [
      "[30]\ttraining's rmse: 18355.5\tvalid_1's rmse: 29470.5\n",
      "[40]\ttraining's rmse: 13293.5\tvalid_1's rmse: 26533.2\n",
      "[50]\ttraining's rmse: 10858.2\tvalid_1's rmse: 25236.6\n",
      "[60]\ttraining's rmse: 9818.07\tvalid_1's rmse: 24660.8\n",
      "[70]\ttraining's rmse: 9389.27\tvalid_1's rmse: 24401\n",
      "[80]\ttraining's rmse: 9199\tvalid_1's rmse: 24266.4\n",
      "[90]\ttraining's rmse: 9095.43\tvalid_1's rmse: 24188\n",
      "[100]\ttraining's rmse: 9043.49\tvalid_1's rmse: 24122.7\n",
      "[110]\ttraining's rmse: 9008.87\tvalid_1's rmse: 24059.2\n",
      "[120]\ttraining's rmse: 8977.49\tvalid_1's rmse: 24045.1\n",
      "[130]\ttraining's rmse: 8947.32\tvalid_1's rmse: 24024.7\n"
     ]
    },
    {
     "name": "stderr",
     "output_type": "stream",
     "text": [
      "\u001b[32m[I 2022-09-09 17:13:53,982]\u001b[0m Trial 9 finished with value: 24017.958676157778 and parameters: {'reg_lambda': 6.823493012435797e-05, 'max_bin': 435, 'num_leaves': 82}. Best is trial 0 with value: 23549.216504023072.\u001b[0m\n"
     ]
    },
    {
     "name": "stdout",
     "output_type": "stream",
     "text": [
      "[140]\ttraining's rmse: 8922.46\tvalid_1's rmse: 24019.2\n",
      "[150]\ttraining's rmse: 8902.15\tvalid_1's rmse: 24029.6\n",
      "Early stopping, best iteration is:\n",
      "[141]\ttraining's rmse: 8921.25\tvalid_1's rmse: 24018\n",
      "[LightGBM] [Warning] Auto-choosing col-wise multi-threading, the overhead of testing was 0.000697 seconds.\n",
      "You can set `force_col_wise=true` to remove the overhead.\n",
      "[LightGBM] [Info] Total Bins 2610\n",
      "[LightGBM] [Info] Number of data points in the train set: 22029, number of used features: 5\n",
      "[LightGBM] [Info] Start training from score 118651.337373\n",
      "Training until validation scores don't improve for 10 rounds\n"
     ]
    },
    {
     "name": "stderr",
     "output_type": "stream",
     "text": [
      "c:\\Users\\koshi\\python\\signate\\mynabi\\venv\\lib\\site-packages\\lightgbm\\engine.py:181: UserWarning: 'early_stopping_rounds' argument is deprecated and will be removed in a future release of LightGBM. Pass 'early_stopping()' callback via 'callbacks' argument instead.\n",
      "  _log_warning(\"'early_stopping_rounds' argument is deprecated and will be removed in a future release of LightGBM. \"\n",
      "c:\\Users\\koshi\\python\\signate\\mynabi\\venv\\lib\\site-packages\\lightgbm\\engine.py:239: UserWarning: 'verbose_eval' argument is deprecated and will be removed in a future release of LightGBM. Pass 'log_evaluation()' callback via 'callbacks' argument instead.\n",
      "  _log_warning(\"'verbose_eval' argument is deprecated and will be removed in a future release of LightGBM. \"\n"
     ]
    },
    {
     "name": "stdout",
     "output_type": "stream",
     "text": [
      "[10]\ttraining's rmse: 44854.7\tvalid_1's rmse: 49186\n",
      "[20]\ttraining's rmse: 27843.8\tvalid_1's rmse: 35955.2\n",
      "[30]\ttraining's rmse: 18221.5\tvalid_1's rmse: 29551.9\n",
      "[40]\ttraining's rmse: 13040.4\tvalid_1's rmse: 26627.2\n",
      "[50]\ttraining's rmse: 10458.3\tvalid_1's rmse: 25221.2\n",
      "[60]\ttraining's rmse: 9314.21\tvalid_1's rmse: 24599\n",
      "[70]\ttraining's rmse: 8813.48\tvalid_1's rmse: 24292.6\n",
      "[80]\ttraining's rmse: 8596.16\tvalid_1's rmse: 24102.4\n",
      "[90]\ttraining's rmse: 8484.41\tvalid_1's rmse: 23950.2\n",
      "[100]\ttraining's rmse: 8436.16\tvalid_1's rmse: 23897\n",
      "[110]\ttraining's rmse: 8408.5\tvalid_1's rmse: 23889.7\n",
      "[120]\ttraining's rmse: 8388.38\tvalid_1's rmse: 23888\n",
      "[130]\ttraining's rmse: 8375.25\tvalid_1's rmse: 23882.9\n",
      "Early stopping, best iteration is:\n",
      "[128]\ttraining's rmse: 8377.09\tvalid_1's rmse: 23879\n"
     ]
    },
    {
     "name": "stderr",
     "output_type": "stream",
     "text": [
      "\u001b[32m[I 2022-09-09 17:13:54,774]\u001b[0m Trial 10 finished with value: 23878.955005755037 and parameters: {'reg_lambda': 6.218230782016849e-07, 'max_bin': 522, 'num_leaves': 86}. Best is trial 0 with value: 23549.216504023072.\u001b[0m\n",
      "c:\\Users\\koshi\\python\\signate\\mynabi\\venv\\lib\\site-packages\\lightgbm\\engine.py:181: UserWarning: 'early_stopping_rounds' argument is deprecated and will be removed in a future release of LightGBM. Pass 'early_stopping()' callback via 'callbacks' argument instead.\n",
      "  _log_warning(\"'early_stopping_rounds' argument is deprecated and will be removed in a future release of LightGBM. \"\n",
      "c:\\Users\\koshi\\python\\signate\\mynabi\\venv\\lib\\site-packages\\lightgbm\\engine.py:239: UserWarning: 'verbose_eval' argument is deprecated and will be removed in a future release of LightGBM. Pass 'log_evaluation()' callback via 'callbacks' argument instead.\n",
      "  _log_warning(\"'verbose_eval' argument is deprecated and will be removed in a future release of LightGBM. \"\n"
     ]
    },
    {
     "name": "stdout",
     "output_type": "stream",
     "text": [
      "[LightGBM] [Warning] Auto-choosing col-wise multi-threading, the overhead of testing was 0.001962 seconds.\n",
      "You can set `force_col_wise=true` to remove the overhead.\n",
      "[LightGBM] [Info] Total Bins 1305\n",
      "[LightGBM] [Info] Number of data points in the train set: 22029, number of used features: 5\n",
      "[LightGBM] [Info] Start training from score 118651.337373\n",
      "Training until validation scores don't improve for 10 rounds\n",
      "[10]\ttraining's rmse: 45274.6\tvalid_1's rmse: 49808.1\n",
      "[20]\ttraining's rmse: 28993.9\tvalid_1's rmse: 37063.7\n",
      "[30]\ttraining's rmse: 20129.4\tvalid_1's rmse: 31004.3\n",
      "[40]\ttraining's rmse: 15751.1\tvalid_1's rmse: 28358.6\n",
      "[50]\ttraining's rmse: 13819.4\tvalid_1's rmse: 27237.8\n",
      "[60]\ttraining's rmse: 12997.9\tvalid_1's rmse: 26703\n",
      "[70]\ttraining's rmse: 12628.1\tvalid_1's rmse: 26407.9\n",
      "[80]\ttraining's rmse: 12484.4\tvalid_1's rmse: 26269.1\n",
      "[90]\ttraining's rmse: 12423.9\tvalid_1's rmse: 26198.5\n",
      "[100]\ttraining's rmse: 12378.9\tvalid_1's rmse: 26151.5\n",
      "[110]\ttraining's rmse: 12304.3\tvalid_1's rmse: 26091.4\n",
      "[120]\ttraining's rmse: 12254.2\tvalid_1's rmse: 26052.7\n",
      "[130]\ttraining's rmse: 12215.3\tvalid_1's rmse: 26025\n",
      "[140]\ttraining's rmse: 12186.3\tvalid_1's rmse: 26008.8\n",
      "[150]\ttraining's rmse: 12165\tvalid_1's rmse: 26000.5\n",
      "[160]\ttraining's rmse: 12144.6\tvalid_1's rmse: 25989.5\n",
      "[170]\ttraining's rmse: 12122.7\tvalid_1's rmse: 25971.3\n",
      "[180]\ttraining's rmse: 12106.9\tvalid_1's rmse: 25960.2\n",
      "[190]\ttraining's rmse: 12094.8\tvalid_1's rmse: 25951.8\n",
      "[200]\ttraining's rmse: 12084.9\tvalid_1's rmse: 25944\n",
      "[210]\ttraining's rmse: 12075.7\tvalid_1's rmse: 25936\n",
      "[220]\ttraining's rmse: 12068.2\tvalid_1's rmse: 25929.9\n",
      "[230]\ttraining's rmse: 12061.8\tvalid_1's rmse: 25927.8\n",
      "[240]\ttraining's rmse: 12054.5\tvalid_1's rmse: 25924.2\n",
      "[250]\ttraining's rmse: 12048.1\tvalid_1's rmse: 25920.5\n",
      "[260]\ttraining's rmse: 12042.7\tvalid_1's rmse: 25919.7\n",
      "[270]\ttraining's rmse: 12037.7\tvalid_1's rmse: 25916.6\n",
      "[280]\ttraining's rmse: 12032.1\tvalid_1's rmse: 25912\n",
      "[290]\ttraining's rmse: 12027.6\tvalid_1's rmse: 25912.4\n",
      "[300]\ttraining's rmse: 12023.5\tvalid_1's rmse: 25910.5\n",
      "[310]\ttraining's rmse: 12019.3\tvalid_1's rmse: 25908.5\n",
      "[320]\ttraining's rmse: 12015.4\tvalid_1's rmse: 25907.2\n",
      "[330]\ttraining's rmse: 12011.4\tvalid_1's rmse: 25904.6\n",
      "[340]\ttraining's rmse: 12007.7\tvalid_1's rmse: 25905\n",
      "[350]\ttraining's rmse: 12004\tvalid_1's rmse: 25901.1\n",
      "[360]\ttraining's rmse: 11999.6\tvalid_1's rmse: 25900.7\n",
      "[370]\ttraining's rmse: 11996.4\tvalid_1's rmse: 25899.9\n",
      "Early stopping, best iteration is:\n",
      "[362]\ttraining's rmse: 11998.9\tvalid_1's rmse: 25899.1\n"
     ]
    },
    {
     "name": "stderr",
     "output_type": "stream",
     "text": [
      "\u001b[32m[I 2022-09-09 17:13:56,755]\u001b[0m Trial 11 finished with value: 25899.116559466693 and parameters: {'reg_lambda': 5.073432032394335e-06, 'max_bin': 261, 'num_leaves': 98}. Best is trial 0 with value: 23549.216504023072.\u001b[0m\n",
      "c:\\Users\\koshi\\python\\signate\\mynabi\\venv\\lib\\site-packages\\lightgbm\\engine.py:181: UserWarning: 'early_stopping_rounds' argument is deprecated and will be removed in a future release of LightGBM. Pass 'early_stopping()' callback via 'callbacks' argument instead.\n",
      "  _log_warning(\"'early_stopping_rounds' argument is deprecated and will be removed in a future release of LightGBM. \"\n",
      "c:\\Users\\koshi\\python\\signate\\mynabi\\venv\\lib\\site-packages\\lightgbm\\engine.py:239: UserWarning: 'verbose_eval' argument is deprecated and will be removed in a future release of LightGBM. Pass 'log_evaluation()' callback via 'callbacks' argument instead.\n",
      "  _log_warning(\"'verbose_eval' argument is deprecated and will be removed in a future release of LightGBM. \"\n"
     ]
    },
    {
     "name": "stdout",
     "output_type": "stream",
     "text": [
      "[LightGBM] [Warning] Auto-choosing col-wise multi-threading, the overhead of testing was 0.000663 seconds.\n",
      "You can set `force_col_wise=true` to remove the overhead.\n",
      "[LightGBM] [Info] Total Bins 2340\n",
      "[LightGBM] [Info] Number of data points in the train set: 22029, number of used features: 5\n",
      "[LightGBM] [Info] Start training from score 118651.337373\n",
      "Training until validation scores don't improve for 10 rounds\n",
      "[10]\ttraining's rmse: 44745.7\tvalid_1's rmse: 49064.2\n",
      "[20]\ttraining's rmse: 27831.1\tvalid_1's rmse: 35731.9\n",
      "[30]\ttraining's rmse: 18250.3\tvalid_1's rmse: 29240.1\n",
      "[40]\ttraining's rmse: 13205.8\tvalid_1's rmse: 26382.2\n",
      "[50]\ttraining's rmse: 10789.4\tvalid_1's rmse: 25135.6\n",
      "[60]\ttraining's rmse: 9731.63\tvalid_1's rmse: 24567.8\n",
      "[70]\ttraining's rmse: 9265.57\tvalid_1's rmse: 24269.1\n",
      "[80]\ttraining's rmse: 9064.32\tvalid_1's rmse: 24109.4\n",
      "[90]\ttraining's rmse: 8939.46\tvalid_1's rmse: 23980.3\n",
      "[100]\ttraining's rmse: 8859.91\tvalid_1's rmse: 23927.4\n",
      "[110]\ttraining's rmse: 8822.78\tvalid_1's rmse: 23906.1\n",
      "[120]\ttraining's rmse: 8786.1\tvalid_1's rmse: 23901.5\n"
     ]
    },
    {
     "name": "stderr",
     "output_type": "stream",
     "text": [
      "\u001b[32m[I 2022-09-09 17:13:57,646]\u001b[0m Trial 12 finished with value: 23900.49357830696 and parameters: {'reg_lambda': 6.8594164113286965e-06, 'max_bin': 468, 'num_leaves': 124}. Best is trial 0 with value: 23549.216504023072.\u001b[0m\n"
     ]
    },
    {
     "name": "stdout",
     "output_type": "stream",
     "text": [
      "[130]\ttraining's rmse: 8760.61\tvalid_1's rmse: 23904.6\n",
      "Early stopping, best iteration is:\n",
      "[125]\ttraining's rmse: 8772.53\tvalid_1's rmse: 23900.5\n",
      "[LightGBM] [Warning] Auto-choosing col-wise multi-threading, the overhead of testing was 0.000740 seconds.\n",
      "You can set `force_col_wise=true` to remove the overhead.\n",
      "[LightGBM] [Info] Total Bins 1895\n",
      "[LightGBM] [Info] Number of data points in the train set: 22029, number of used features: 5\n",
      "[LightGBM] [Info] Start training from score 118651.337373\n",
      "Training until validation scores don't improve for 10 rounds\n"
     ]
    },
    {
     "name": "stderr",
     "output_type": "stream",
     "text": [
      "c:\\Users\\koshi\\python\\signate\\mynabi\\venv\\lib\\site-packages\\lightgbm\\engine.py:181: UserWarning: 'early_stopping_rounds' argument is deprecated and will be removed in a future release of LightGBM. Pass 'early_stopping()' callback via 'callbacks' argument instead.\n",
      "  _log_warning(\"'early_stopping_rounds' argument is deprecated and will be removed in a future release of LightGBM. \"\n",
      "c:\\Users\\koshi\\python\\signate\\mynabi\\venv\\lib\\site-packages\\lightgbm\\engine.py:239: UserWarning: 'verbose_eval' argument is deprecated and will be removed in a future release of LightGBM. Pass 'log_evaluation()' callback via 'callbacks' argument instead.\n",
      "  _log_warning(\"'verbose_eval' argument is deprecated and will be removed in a future release of LightGBM. \"\n"
     ]
    },
    {
     "name": "stdout",
     "output_type": "stream",
     "text": [
      "[10]\ttraining's rmse: 44962.3\tvalid_1's rmse: 49304.5\n",
      "[20]\ttraining's rmse: 28282.8\tvalid_1's rmse: 36225.8\n",
      "[30]\ttraining's rmse: 18976.2\tvalid_1's rmse: 29895.3\n",
      "[40]\ttraining's rmse: 14159.4\tvalid_1's rmse: 27023.2\n",
      "[50]\ttraining's rmse: 11927.4\tvalid_1's rmse: 25737.8\n",
      "[60]\ttraining's rmse: 10999.9\tvalid_1's rmse: 25171.1\n",
      "[70]\ttraining's rmse: 10632.6\tvalid_1's rmse: 24896.6\n",
      "[80]\ttraining's rmse: 10486.2\tvalid_1's rmse: 24772.9\n",
      "[90]\ttraining's rmse: 10421.3\tvalid_1's rmse: 24697.9\n",
      "[100]\ttraining's rmse: 10370.8\tvalid_1's rmse: 24617.5\n",
      "[110]\ttraining's rmse: 10343.2\tvalid_1's rmse: 24608.4\n"
     ]
    },
    {
     "name": "stderr",
     "output_type": "stream",
     "text": [
      "\u001b[32m[I 2022-09-09 17:13:58,220]\u001b[0m Trial 13 finished with value: 24602.306740197124 and parameters: {'reg_lambda': 1.1103525577197591e-05, 'max_bin': 379, 'num_leaves': 84}. Best is trial 0 with value: 23549.216504023072.\u001b[0m\n"
     ]
    },
    {
     "name": "stdout",
     "output_type": "stream",
     "text": [
      "Early stopping, best iteration is:\n",
      "[104]\ttraining's rmse: 10357.2\tvalid_1's rmse: 24602.3\n",
      "[LightGBM] [Warning] Auto-choosing col-wise multi-threading, the overhead of testing was 0.000684 seconds.\n",
      "You can set `force_col_wise=true` to remove the overhead.\n",
      "[LightGBM] [Info] Total Bins 1375\n",
      "[LightGBM] [Info] Number of data points in the train set: 22029, number of used features: 5\n",
      "[LightGBM] [Info] Start training from score 118651.337373\n",
      "Training until validation scores don't improve for 10 rounds\n",
      "[10]\ttraining's rmse: 45198\tvalid_1's rmse: 49729.1\n"
     ]
    },
    {
     "name": "stderr",
     "output_type": "stream",
     "text": [
      "c:\\Users\\koshi\\python\\signate\\mynabi\\venv\\lib\\site-packages\\lightgbm\\engine.py:181: UserWarning: 'early_stopping_rounds' argument is deprecated and will be removed in a future release of LightGBM. Pass 'early_stopping()' callback via 'callbacks' argument instead.\n",
      "  _log_warning(\"'early_stopping_rounds' argument is deprecated and will be removed in a future release of LightGBM. \"\n",
      "c:\\Users\\koshi\\python\\signate\\mynabi\\venv\\lib\\site-packages\\lightgbm\\engine.py:239: UserWarning: 'verbose_eval' argument is deprecated and will be removed in a future release of LightGBM. Pass 'log_evaluation()' callback via 'callbacks' argument instead.\n",
      "  _log_warning(\"'verbose_eval' argument is deprecated and will be removed in a future release of LightGBM. \"\n"
     ]
    },
    {
     "name": "stdout",
     "output_type": "stream",
     "text": [
      "[20]\ttraining's rmse: 28818.3\tvalid_1's rmse: 36950.7\n",
      "[30]\ttraining's rmse: 19841\tvalid_1's rmse: 30896.6\n",
      "[40]\ttraining's rmse: 15362.6\tvalid_1's rmse: 28268.9\n",
      "[50]\ttraining's rmse: 13377.9\tvalid_1's rmse: 27159.3\n",
      "[60]\ttraining's rmse: 12521.2\tvalid_1's rmse: 26633.6\n",
      "[70]\ttraining's rmse: 12157.1\tvalid_1's rmse: 26359.2\n",
      "[80]\ttraining's rmse: 11987.8\tvalid_1's rmse: 26227\n",
      "[90]\ttraining's rmse: 11910\tvalid_1's rmse: 26157.3\n",
      "[100]\ttraining's rmse: 11840.5\tvalid_1's rmse: 26078.8\n",
      "[110]\ttraining's rmse: 11792\tvalid_1's rmse: 26031\n",
      "[120]\ttraining's rmse: 11763\tvalid_1's rmse: 26012.3\n",
      "[130]\ttraining's rmse: 11741.4\tvalid_1's rmse: 26001.7\n",
      "[140]\ttraining's rmse: 11723\tvalid_1's rmse: 25992.2\n",
      "[150]\ttraining's rmse: 11707.7\tvalid_1's rmse: 25987.2\n",
      "[160]\ttraining's rmse: 11691.9\tvalid_1's rmse: 25977.8\n",
      "[170]\ttraining's rmse: 11676.4\tvalid_1's rmse: 25968.2\n",
      "[180]\ttraining's rmse: 11661.7\tvalid_1's rmse: 25960\n",
      "[190]\ttraining's rmse: 11638.6\tvalid_1's rmse: 25954\n",
      "[200]\ttraining's rmse: 11611.2\tvalid_1's rmse: 25946.9\n",
      "[210]\ttraining's rmse: 11591.3\tvalid_1's rmse: 25942.4\n",
      "[220]\ttraining's rmse: 11576.4\tvalid_1's rmse: 25938\n",
      "[230]\ttraining's rmse: 11562.8\tvalid_1's rmse: 25934.5\n",
      "[240]\ttraining's rmse: 11553.9\tvalid_1's rmse: 25935.7\n",
      "Early stopping, best iteration is:\n",
      "[238]\ttraining's rmse: 11554.9\tvalid_1's rmse: 25932.5\n"
     ]
    },
    {
     "name": "stderr",
     "output_type": "stream",
     "text": [
      "\u001b[32m[I 2022-09-09 17:13:59,829]\u001b[0m Trial 14 finished with value: 25932.516028958675 and parameters: {'reg_lambda': 1.2384930898256412e-05, 'max_bin': 275, 'num_leaves': 102}. Best is trial 0 with value: 23549.216504023072.\u001b[0m\n",
      "c:\\Users\\koshi\\python\\signate\\mynabi\\venv\\lib\\site-packages\\lightgbm\\engine.py:181: UserWarning: 'early_stopping_rounds' argument is deprecated and will be removed in a future release of LightGBM. Pass 'early_stopping()' callback via 'callbacks' argument instead.\n",
      "  _log_warning(\"'early_stopping_rounds' argument is deprecated and will be removed in a future release of LightGBM. \"\n",
      "c:\\Users\\koshi\\python\\signate\\mynabi\\venv\\lib\\site-packages\\lightgbm\\engine.py:239: UserWarning: 'verbose_eval' argument is deprecated and will be removed in a future release of LightGBM. Pass 'log_evaluation()' callback via 'callbacks' argument instead.\n",
      "  _log_warning(\"'verbose_eval' argument is deprecated and will be removed in a future release of LightGBM. \"\n"
     ]
    },
    {
     "name": "stdout",
     "output_type": "stream",
     "text": [
      "[LightGBM] [Warning] Auto-choosing col-wise multi-threading, the overhead of testing was 0.000921 seconds.\n",
      "You can set `force_col_wise=true` to remove the overhead.\n",
      "[LightGBM] [Info] Total Bins 1635\n",
      "[LightGBM] [Info] Number of data points in the train set: 22029, number of used features: 5\n",
      "[LightGBM] [Info] Start training from score 118651.337373\n",
      "Training until validation scores don't improve for 10 rounds\n",
      "[10]\ttraining's rmse: 44991.3\tvalid_1's rmse: 49415.8\n",
      "[20]\ttraining's rmse: 28356.2\tvalid_1's rmse: 36374.1\n",
      "[30]\ttraining's rmse: 19106.6\tvalid_1's rmse: 30035.3\n",
      "[40]\ttraining's rmse: 14377.9\tvalid_1's rmse: 27193.1\n",
      "[50]\ttraining's rmse: 12223.2\tvalid_1's rmse: 25942.8\n",
      "[60]\ttraining's rmse: 11332.4\tvalid_1's rmse: 25379.6\n",
      "[70]\ttraining's rmse: 10985.5\tvalid_1's rmse: 25118.2\n",
      "[80]\ttraining's rmse: 10832.9\tvalid_1's rmse: 24968.8\n",
      "[90]\ttraining's rmse: 10761.2\tvalid_1's rmse: 24880.9\n",
      "[100]\ttraining's rmse: 10720.6\tvalid_1's rmse: 24825.8\n",
      "[110]\ttraining's rmse: 10697\tvalid_1's rmse: 24804.8\n",
      "[120]\ttraining's rmse: 10671.7\tvalid_1's rmse: 24806.2\n",
      "[130]\ttraining's rmse: 10648.8\tvalid_1's rmse: 24788.6\n",
      "[140]\ttraining's rmse: 10633\tvalid_1's rmse: 24795.4\n",
      "Early stopping, best iteration is:\n",
      "[130]\ttraining's rmse: 10648.8\tvalid_1's rmse: 24788.6\n"
     ]
    },
    {
     "name": "stderr",
     "output_type": "stream",
     "text": [
      "\u001b[32m[I 2022-09-09 17:14:00,551]\u001b[0m Trial 15 finished with value: 24788.56894113299 and parameters: {'reg_lambda': 1.0278118224157019e-05, 'max_bin': 327, 'num_leaves': 60}. Best is trial 0 with value: 23549.216504023072.\u001b[0m\n",
      "c:\\Users\\koshi\\python\\signate\\mynabi\\venv\\lib\\site-packages\\lightgbm\\engine.py:181: UserWarning: 'early_stopping_rounds' argument is deprecated and will be removed in a future release of LightGBM. Pass 'early_stopping()' callback via 'callbacks' argument instead.\n",
      "  _log_warning(\"'early_stopping_rounds' argument is deprecated and will be removed in a future release of LightGBM. \"\n",
      "c:\\Users\\koshi\\python\\signate\\mynabi\\venv\\lib\\site-packages\\lightgbm\\engine.py:239: UserWarning: 'verbose_eval' argument is deprecated and will be removed in a future release of LightGBM. Pass 'log_evaluation()' callback via 'callbacks' argument instead.\n",
      "  _log_warning(\"'verbose_eval' argument is deprecated and will be removed in a future release of LightGBM. \"\n"
     ]
    },
    {
     "name": "stdout",
     "output_type": "stream",
     "text": [
      "[LightGBM] [Warning] Auto-choosing col-wise multi-threading, the overhead of testing was 0.000928 seconds.\n",
      "You can set `force_col_wise=true` to remove the overhead.\n",
      "[LightGBM] [Info] Total Bins 1900\n",
      "[LightGBM] [Info] Number of data points in the train set: 22029, number of used features: 5\n",
      "[LightGBM] [Info] Start training from score 118651.337373\n",
      "Training until validation scores don't improve for 10 rounds\n",
      "[10]\ttraining's rmse: 44961\tvalid_1's rmse: 49300.9\n",
      "[20]\ttraining's rmse: 28280.9\tvalid_1's rmse: 36221\n",
      "[30]\ttraining's rmse: 18973.9\tvalid_1's rmse: 29887.6\n",
      "[40]\ttraining's rmse: 14150.3\tvalid_1's rmse: 27006.6\n",
      "[50]\ttraining's rmse: 11921.4\tvalid_1's rmse: 25731.5\n",
      "[60]\ttraining's rmse: 10993.1\tvalid_1's rmse: 25158.8\n",
      "[70]\ttraining's rmse: 10626\tvalid_1's rmse: 24889.2\n",
      "[80]\ttraining's rmse: 10479.1\tvalid_1's rmse: 24755.4\n",
      "[90]\ttraining's rmse: 10412.2\tvalid_1's rmse: 24697\n",
      "[100]\ttraining's rmse: 10361.5\tvalid_1's rmse: 24604.6\n"
     ]
    },
    {
     "name": "stderr",
     "output_type": "stream",
     "text": [
      "\u001b[32m[I 2022-09-09 17:14:01,409]\u001b[0m Trial 16 finished with value: 24568.97636027526 and parameters: {'reg_lambda': 8.836597074694347e-07, 'max_bin': 380, 'num_leaves': 95}. Best is trial 0 with value: 23549.216504023072.\u001b[0m\n"
     ]
    },
    {
     "name": "stdout",
     "output_type": "stream",
     "text": [
      "[110]\ttraining's rmse: 10332.3\tvalid_1's rmse: 24592.6\n",
      "[120]\ttraining's rmse: 10312.8\tvalid_1's rmse: 24577.1\n",
      "Early stopping, best iteration is:\n",
      "[114]\ttraining's rmse: 10322.1\tvalid_1's rmse: 24569\n",
      "[LightGBM] [Warning] Auto-choosing col-wise multi-threading, the overhead of testing was 0.000992 seconds.\n",
      "You can set `force_col_wise=true` to remove the overhead.\n",
      "[LightGBM] [Info] Total Bins 2980\n",
      "[LightGBM] [Info] Number of data points in the train set: 22029, number of used features: 5\n",
      "[LightGBM] [Info] Start training from score 118651.337373\n",
      "Training until validation scores don't improve for 10 rounds\n"
     ]
    },
    {
     "name": "stderr",
     "output_type": "stream",
     "text": [
      "c:\\Users\\koshi\\python\\signate\\mynabi\\venv\\lib\\site-packages\\lightgbm\\engine.py:181: UserWarning: 'early_stopping_rounds' argument is deprecated and will be removed in a future release of LightGBM. Pass 'early_stopping()' callback via 'callbacks' argument instead.\n",
      "  _log_warning(\"'early_stopping_rounds' argument is deprecated and will be removed in a future release of LightGBM. \"\n",
      "c:\\Users\\koshi\\python\\signate\\mynabi\\venv\\lib\\site-packages\\lightgbm\\engine.py:239: UserWarning: 'verbose_eval' argument is deprecated and will be removed in a future release of LightGBM. Pass 'log_evaluation()' callback via 'callbacks' argument instead.\n",
      "  _log_warning(\"'verbose_eval' argument is deprecated and will be removed in a future release of LightGBM. \"\n"
     ]
    },
    {
     "name": "stdout",
     "output_type": "stream",
     "text": [
      "[10]\ttraining's rmse: 44738.6\tvalid_1's rmse: 49196.6\n",
      "[20]\ttraining's rmse: 27815.7\tvalid_1's rmse: 35989.2\n",
      "[30]\ttraining's rmse: 18140.8\tvalid_1's rmse: 29525.6\n",
      "[40]\ttraining's rmse: 12945.9\tvalid_1's rmse: 26611.9\n",
      "[50]\ttraining's rmse: 10440.2\tvalid_1's rmse: 25387.4\n",
      "[60]\ttraining's rmse: 9328.81\tvalid_1's rmse: 24823.2\n",
      "[70]\ttraining's rmse: 8851.81\tvalid_1's rmse: 24542.2\n",
      "[80]\ttraining's rmse: 8641.67\tvalid_1's rmse: 24379.7\n",
      "[90]\ttraining's rmse: 8477.76\tvalid_1's rmse: 24187.4\n",
      "[100]\ttraining's rmse: 8336.66\tvalid_1's rmse: 23973\n"
     ]
    },
    {
     "name": "stderr",
     "output_type": "stream",
     "text": [
      "\u001b[32m[I 2022-09-09 17:14:02,065]\u001b[0m Trial 17 finished with value: 23849.13791355102 and parameters: {'reg_lambda': 2.0692098656538333e-06, 'max_bin': 596, 'num_leaves': 58}. Best is trial 0 with value: 23549.216504023072.\u001b[0m\n"
     ]
    },
    {
     "name": "stdout",
     "output_type": "stream",
     "text": [
      "[110]\ttraining's rmse: 8282.1\tvalid_1's rmse: 23849.1\n",
      "[120]\ttraining's rmse: 8259.06\tvalid_1's rmse: 23864\n",
      "Early stopping, best iteration is:\n",
      "[110]\ttraining's rmse: 8282.1\tvalid_1's rmse: 23849.1\n",
      "[LightGBM] [Warning] Auto-choosing col-wise multi-threading, the overhead of testing was 0.000848 seconds.\n",
      "You can set `force_col_wise=true` to remove the overhead.\n",
      "[LightGBM] [Info] Total Bins 1550\n",
      "[LightGBM] [Info] Number of data points in the train set: 22029, number of used features: 5\n",
      "[LightGBM] [Info] Start training from score 118651.337373\n",
      "Training until validation scores don't improve for 10 rounds\n"
     ]
    },
    {
     "name": "stderr",
     "output_type": "stream",
     "text": [
      "c:\\Users\\koshi\\python\\signate\\mynabi\\venv\\lib\\site-packages\\lightgbm\\engine.py:181: UserWarning: 'early_stopping_rounds' argument is deprecated and will be removed in a future release of LightGBM. Pass 'early_stopping()' callback via 'callbacks' argument instead.\n",
      "  _log_warning(\"'early_stopping_rounds' argument is deprecated and will be removed in a future release of LightGBM. \"\n",
      "c:\\Users\\koshi\\python\\signate\\mynabi\\venv\\lib\\site-packages\\lightgbm\\engine.py:239: UserWarning: 'verbose_eval' argument is deprecated and will be removed in a future release of LightGBM. Pass 'log_evaluation()' callback via 'callbacks' argument instead.\n",
      "  _log_warning(\"'verbose_eval' argument is deprecated and will be removed in a future release of LightGBM. \"\n"
     ]
    },
    {
     "name": "stdout",
     "output_type": "stream",
     "text": [
      "[10]\ttraining's rmse: 45054.4\tvalid_1's rmse: 49565.4\n",
      "[20]\ttraining's rmse: 28508.2\tvalid_1's rmse: 36538.5\n",
      "[30]\ttraining's rmse: 19370\tvalid_1's rmse: 30184.6\n",
      "[40]\ttraining's rmse: 14755.1\tvalid_1's rmse: 27327.1\n",
      "[50]\ttraining's rmse: 12682.5\tvalid_1's rmse: 26072.7\n",
      "[60]\ttraining's rmse: 11844.1\tvalid_1's rmse: 25512\n",
      "[70]\ttraining's rmse: 11512.1\tvalid_1's rmse: 25243.6\n",
      "[80]\ttraining's rmse: 11380.5\tvalid_1's rmse: 25104.9\n",
      "[90]\ttraining's rmse: 11328.7\tvalid_1's rmse: 25036.6\n",
      "[100]\ttraining's rmse: 11298.7\tvalid_1's rmse: 25000.1\n",
      "[110]\ttraining's rmse: 11279.2\tvalid_1's rmse: 24982.2\n",
      "[120]\ttraining's rmse: 11266.7\tvalid_1's rmse: 24973.8\n",
      "[130]\ttraining's rmse: 11255.9\tvalid_1's rmse: 24975.4\n"
     ]
    },
    {
     "name": "stderr",
     "output_type": "stream",
     "text": [
      "\u001b[32m[I 2022-09-09 17:14:03,009]\u001b[0m Trial 18 finished with value: 24968.99137225707 and parameters: {'reg_lambda': 4.232824558620119e-07, 'max_bin': 310, 'num_leaves': 101}. Best is trial 0 with value: 23549.216504023072.\u001b[0m\n"
     ]
    },
    {
     "name": "stdout",
     "output_type": "stream",
     "text": [
      "Early stopping, best iteration is:\n",
      "[121]\ttraining's rmse: 11264.4\tvalid_1's rmse: 24969\n",
      "[LightGBM] [Warning] Auto-choosing col-wise multi-threading, the overhead of testing was 0.001059 seconds.\n",
      "You can set `force_col_wise=true` to remove the overhead.\n",
      "[LightGBM] [Info] Total Bins 2080\n",
      "[LightGBM] [Info] Number of data points in the train set: 22029, number of used features: 5\n",
      "[LightGBM] [Info] Start training from score 118651.337373\n",
      "Training until validation scores don't improve for 10 rounds\n",
      "[10]\ttraining's rmse: 44866.3\tvalid_1's rmse: 49342.2\n"
     ]
    },
    {
     "name": "stderr",
     "output_type": "stream",
     "text": [
      "c:\\Users\\koshi\\python\\signate\\mynabi\\venv\\lib\\site-packages\\lightgbm\\engine.py:181: UserWarning: 'early_stopping_rounds' argument is deprecated and will be removed in a future release of LightGBM. Pass 'early_stopping()' callback via 'callbacks' argument instead.\n",
      "  _log_warning(\"'early_stopping_rounds' argument is deprecated and will be removed in a future release of LightGBM. \"\n",
      "c:\\Users\\koshi\\python\\signate\\mynabi\\venv\\lib\\site-packages\\lightgbm\\engine.py:239: UserWarning: 'verbose_eval' argument is deprecated and will be removed in a future release of LightGBM. Pass 'log_evaluation()' callback via 'callbacks' argument instead.\n",
      "  _log_warning(\"'verbose_eval' argument is deprecated and will be removed in a future release of LightGBM. \"\n"
     ]
    },
    {
     "name": "stdout",
     "output_type": "stream",
     "text": [
      "[20]\ttraining's rmse: 28079.5\tvalid_1's rmse: 36140.2\n",
      "[30]\ttraining's rmse: 18639.9\tvalid_1's rmse: 29678.3\n",
      "[40]\ttraining's rmse: 13716.6\tvalid_1's rmse: 26820.9\n",
      "[50]\ttraining's rmse: 11413.9\tvalid_1's rmse: 25589.2\n",
      "[60]\ttraining's rmse: 10446.5\tvalid_1's rmse: 25043\n",
      "[70]\ttraining's rmse: 10032.6\tvalid_1's rmse: 24800.7\n",
      "[80]\ttraining's rmse: 9841.48\tvalid_1's rmse: 24670.5\n",
      "[90]\ttraining's rmse: 9740.55\tvalid_1's rmse: 24551.2\n",
      "[100]\ttraining's rmse: 9689.5\tvalid_1's rmse: 24533.4\n",
      "[110]\ttraining's rmse: 9649.03\tvalid_1's rmse: 24483.5\n",
      "[120]\ttraining's rmse: 9622.09\tvalid_1's rmse: 24447.3\n"
     ]
    },
    {
     "name": "stderr",
     "output_type": "stream",
     "text": [
      "\u001b[32m[I 2022-09-09 17:14:03,836]\u001b[0m Trial 19 finished with value: 24404.91426538973 and parameters: {'reg_lambda': 5.752740814116687e-07, 'max_bin': 416, 'num_leaves': 69}. Best is trial 0 with value: 23549.216504023072.\u001b[0m\n"
     ]
    },
    {
     "name": "stdout",
     "output_type": "stream",
     "text": [
      "[130]\ttraining's rmse: 9600.57\tvalid_1's rmse: 24420\n",
      "[140]\ttraining's rmse: 9581.44\tvalid_1's rmse: 24411.5\n",
      "[150]\ttraining's rmse: 9565.15\tvalid_1's rmse: 24408.5\n",
      "Early stopping, best iteration is:\n",
      "[146]\ttraining's rmse: 9570.5\tvalid_1's rmse: 24404.9\n"
     ]
    },
    {
     "name": "stderr",
     "output_type": "stream",
     "text": [
      "c:\\Users\\koshi\\python\\signate\\mynabi\\venv\\lib\\site-packages\\lightgbm\\engine.py:181: UserWarning: 'early_stopping_rounds' argument is deprecated and will be removed in a future release of LightGBM. Pass 'early_stopping()' callback via 'callbacks' argument instead.\n",
      "  _log_warning(\"'early_stopping_rounds' argument is deprecated and will be removed in a future release of LightGBM. \"\n",
      "c:\\Users\\koshi\\python\\signate\\mynabi\\venv\\lib\\site-packages\\lightgbm\\engine.py:239: UserWarning: 'verbose_eval' argument is deprecated and will be removed in a future release of LightGBM. Pass 'log_evaluation()' callback via 'callbacks' argument instead.\n",
      "  _log_warning(\"'verbose_eval' argument is deprecated and will be removed in a future release of LightGBM. \"\n"
     ]
    },
    {
     "name": "stdout",
     "output_type": "stream",
     "text": [
      "[LightGBM] [Warning] Auto-choosing col-wise multi-threading, the overhead of testing was 0.001342 seconds.\n",
      "You can set `force_col_wise=true` to remove the overhead.\n",
      "[LightGBM] [Info] Total Bins 1465\n",
      "[LightGBM] [Info] Number of data points in the train set: 22029, number of used features: 5\n",
      "[LightGBM] [Info] Start training from score 118651.337373\n",
      "Training until validation scores don't improve for 10 rounds\n",
      "[10]\ttraining's rmse: 45132.9\tvalid_1's rmse: 49401.6\n",
      "[20]\ttraining's rmse: 28666\tvalid_1's rmse: 36539.7\n",
      "[30]\ttraining's rmse: 19597.1\tvalid_1's rmse: 30481.5\n",
      "[40]\ttraining's rmse: 15031.8\tvalid_1's rmse: 27847.9\n",
      "[50]\ttraining's rmse: 12997.5\tvalid_1's rmse: 26758.1\n",
      "[60]\ttraining's rmse: 12160.9\tvalid_1's rmse: 26290.3\n",
      "[70]\ttraining's rmse: 11825.9\tvalid_1's rmse: 26083.6\n",
      "[80]\ttraining's rmse: 11695.6\tvalid_1's rmse: 26006.9\n",
      "[90]\ttraining's rmse: 11631.4\tvalid_1's rmse: 25941.2\n",
      "[100]\ttraining's rmse: 11599.6\tvalid_1's rmse: 25926.3\n"
     ]
    },
    {
     "name": "stderr",
     "output_type": "stream",
     "text": [
      "\u001b[32m[I 2022-09-09 17:14:04,662]\u001b[0m Trial 20 finished with value: 25922.114108275615 and parameters: {'reg_lambda': 2.9985324349454393e-07, 'max_bin': 293, 'num_leaves': 101}. Best is trial 0 with value: 23549.216504023072.\u001b[0m\n"
     ]
    },
    {
     "name": "stdout",
     "output_type": "stream",
     "text": [
      "[110]\ttraining's rmse: 11582.8\tvalid_1's rmse: 25927.6\n",
      "Early stopping, best iteration is:\n",
      "[104]\ttraining's rmse: 11591.5\tvalid_1's rmse: 25922.1\n",
      "[LightGBM] [Warning] Auto-choosing col-wise multi-threading, the overhead of testing was 0.000923 seconds.\n",
      "You can set `force_col_wise=true` to remove the overhead.\n",
      "[LightGBM] [Info] Total Bins 1615\n",
      "[LightGBM] [Info] Number of data points in the train set: 22029, number of used features: 5\n",
      "[LightGBM] [Info] Start training from score 118651.337373\n",
      "Training until validation scores don't improve for 10 rounds\n"
     ]
    },
    {
     "name": "stderr",
     "output_type": "stream",
     "text": [
      "c:\\Users\\koshi\\python\\signate\\mynabi\\venv\\lib\\site-packages\\lightgbm\\engine.py:181: UserWarning: 'early_stopping_rounds' argument is deprecated and will be removed in a future release of LightGBM. Pass 'early_stopping()' callback via 'callbacks' argument instead.\n",
      "  _log_warning(\"'early_stopping_rounds' argument is deprecated and will be removed in a future release of LightGBM. \"\n",
      "c:\\Users\\koshi\\python\\signate\\mynabi\\venv\\lib\\site-packages\\lightgbm\\engine.py:239: UserWarning: 'verbose_eval' argument is deprecated and will be removed in a future release of LightGBM. Pass 'log_evaluation()' callback via 'callbacks' argument instead.\n",
      "  _log_warning(\"'verbose_eval' argument is deprecated and will be removed in a future release of LightGBM. \"\n"
     ]
    },
    {
     "name": "stdout",
     "output_type": "stream",
     "text": [
      "[10]\ttraining's rmse: 44994.3\tvalid_1's rmse: 49369.6\n",
      "[20]\ttraining's rmse: 28366\tvalid_1's rmse: 36311.8\n",
      "[30]\ttraining's rmse: 19124.6\tvalid_1's rmse: 29959.9\n",
      "[40]\ttraining's rmse: 14408\tvalid_1's rmse: 27138.7\n",
      "[50]\ttraining's rmse: 12260.1\tvalid_1's rmse: 25895.7\n",
      "[60]\ttraining's rmse: 11374.6\tvalid_1's rmse: 25346.7\n",
      "[70]\ttraining's rmse: 11023.5\tvalid_1's rmse: 25083.5\n",
      "[80]\ttraining's rmse: 10874.8\tvalid_1's rmse: 24939.5\n",
      "[90]\ttraining's rmse: 10796.4\tvalid_1's rmse: 24845.5\n"
     ]
    },
    {
     "name": "stderr",
     "output_type": "stream",
     "text": [
      "\u001b[32m[I 2022-09-09 17:14:05,385]\u001b[0m Trial 21 finished with value: 24772.333245000387 and parameters: {'reg_lambda': 2.5974599147866054e-07, 'max_bin': 323, 'num_leaves': 79}. Best is trial 0 with value: 23549.216504023072.\u001b[0m\n"
     ]
    },
    {
     "name": "stdout",
     "output_type": "stream",
     "text": [
      "[100]\ttraining's rmse: 10757.8\tvalid_1's rmse: 24809.7\n",
      "[110]\ttraining's rmse: 10734.7\tvalid_1's rmse: 24784\n",
      "[120]\ttraining's rmse: 10718.9\tvalid_1's rmse: 24775.8\n",
      "Early stopping, best iteration is:\n",
      "[115]\ttraining's rmse: 10725.8\tvalid_1's rmse: 24772.3\n"
     ]
    },
    {
     "name": "stderr",
     "output_type": "stream",
     "text": [
      "c:\\Users\\koshi\\python\\signate\\mynabi\\venv\\lib\\site-packages\\lightgbm\\engine.py:181: UserWarning: 'early_stopping_rounds' argument is deprecated and will be removed in a future release of LightGBM. Pass 'early_stopping()' callback via 'callbacks' argument instead.\n",
      "  _log_warning(\"'early_stopping_rounds' argument is deprecated and will be removed in a future release of LightGBM. \"\n",
      "c:\\Users\\koshi\\python\\signate\\mynabi\\venv\\lib\\site-packages\\lightgbm\\engine.py:239: UserWarning: 'verbose_eval' argument is deprecated and will be removed in a future release of LightGBM. Pass 'log_evaluation()' callback via 'callbacks' argument instead.\n",
      "  _log_warning(\"'verbose_eval' argument is deprecated and will be removed in a future release of LightGBM. \"\n"
     ]
    },
    {
     "name": "stdout",
     "output_type": "stream",
     "text": [
      "[LightGBM] [Warning] Auto-choosing col-wise multi-threading, the overhead of testing was 0.000713 seconds.\n",
      "You can set `force_col_wise=true` to remove the overhead.\n",
      "[LightGBM] [Info] Total Bins 1440\n",
      "[LightGBM] [Info] Number of data points in the train set: 22029, number of used features: 5\n",
      "[LightGBM] [Info] Start training from score 118651.337373\n",
      "Training until validation scores don't improve for 10 rounds\n",
      "[10]\ttraining's rmse: 45133.9\tvalid_1's rmse: 49577.2\n",
      "[20]\ttraining's rmse: 28695.6\tvalid_1's rmse: 36664.5\n",
      "[30]\ttraining's rmse: 19671.3\tvalid_1's rmse: 30515\n",
      "[40]\ttraining's rmse: 15105.2\tvalid_1's rmse: 27821.9\n",
      "[50]\ttraining's rmse: 13052.7\tvalid_1's rmse: 26672.8\n",
      "[60]\ttraining's rmse: 12221.3\tvalid_1's rmse: 26181.2\n",
      "[70]\ttraining's rmse: 11893.5\tvalid_1's rmse: 25958.8\n",
      "[80]\ttraining's rmse: 11762.5\tvalid_1's rmse: 25862.6\n",
      "[90]\ttraining's rmse: 11703.5\tvalid_1's rmse: 25819.3\n",
      "[100]\ttraining's rmse: 11670.2\tvalid_1's rmse: 25792.6\n",
      "[110]\ttraining's rmse: 11646.1\tvalid_1's rmse: 25786\n"
     ]
    },
    {
     "name": "stderr",
     "output_type": "stream",
     "text": [
      "\u001b[32m[I 2022-09-09 17:14:06,292]\u001b[0m Trial 22 finished with value: 25779.834115899874 and parameters: {'reg_lambda': 2.903886846508796e-05, 'max_bin': 288, 'num_leaves': 116}. Best is trial 0 with value: 23549.216504023072.\u001b[0m\n"
     ]
    },
    {
     "name": "stdout",
     "output_type": "stream",
     "text": [
      "Early stopping, best iteration is:\n",
      "[107]\ttraining's rmse: 11653.6\tvalid_1's rmse: 25779.8\n",
      "[LightGBM] [Warning] Auto-choosing col-wise multi-threading, the overhead of testing was 0.001020 seconds.\n",
      "You can set `force_col_wise=true` to remove the overhead.\n",
      "[LightGBM] [Info] Total Bins 2960\n",
      "[LightGBM] [Info] Number of data points in the train set: 22029, number of used features: 5\n",
      "[LightGBM] [Info] Start training from score 118651.337373\n",
      "Training until validation scores don't improve for 10 rounds\n"
     ]
    },
    {
     "name": "stderr",
     "output_type": "stream",
     "text": [
      "c:\\Users\\koshi\\python\\signate\\mynabi\\venv\\lib\\site-packages\\lightgbm\\engine.py:181: UserWarning: 'early_stopping_rounds' argument is deprecated and will be removed in a future release of LightGBM. Pass 'early_stopping()' callback via 'callbacks' argument instead.\n",
      "  _log_warning(\"'early_stopping_rounds' argument is deprecated and will be removed in a future release of LightGBM. \"\n",
      "c:\\Users\\koshi\\python\\signate\\mynabi\\venv\\lib\\site-packages\\lightgbm\\engine.py:239: UserWarning: 'verbose_eval' argument is deprecated and will be removed in a future release of LightGBM. Pass 'log_evaluation()' callback via 'callbacks' argument instead.\n",
      "  _log_warning(\"'verbose_eval' argument is deprecated and will be removed in a future release of LightGBM. \"\n"
     ]
    },
    {
     "name": "stdout",
     "output_type": "stream",
     "text": [
      "[10]\ttraining's rmse: 44739.9\tvalid_1's rmse: 49327.1\n",
      "[20]\ttraining's rmse: 27817\tvalid_1's rmse: 36095\n",
      "[30]\ttraining's rmse: 18140.6\tvalid_1's rmse: 29615.8\n",
      "[40]\ttraining's rmse: 12949.7\tvalid_1's rmse: 26699\n",
      "[50]\ttraining's rmse: 10446.2\tvalid_1's rmse: 25465.4\n",
      "[60]\ttraining's rmse: 9331.98\tvalid_1's rmse: 24896.1\n",
      "[70]\ttraining's rmse: 8854.78\tvalid_1's rmse: 24609\n",
      "[80]\ttraining's rmse: 8595.26\tvalid_1's rmse: 24379.9\n",
      "[90]\ttraining's rmse: 8394.54\tvalid_1's rmse: 24119.6\n",
      "[100]\ttraining's rmse: 8300.91\tvalid_1's rmse: 23953.5\n",
      "[110]\ttraining's rmse: 8263.17\tvalid_1's rmse: 23893.1\n",
      "Early stopping, best iteration is:\n",
      "[106]\ttraining's rmse: 8275.55\tvalid_1's rmse: 23890.8\n"
     ]
    },
    {
     "name": "stderr",
     "output_type": "stream",
     "text": [
      "\u001b[32m[I 2022-09-09 17:14:07,125]\u001b[0m Trial 23 finished with value: 23890.799068546363 and parameters: {'reg_lambda': 1.94220569697269e-07, 'max_bin': 592, 'num_leaves': 87}. Best is trial 0 with value: 23549.216504023072.\u001b[0m\n",
      "c:\\Users\\koshi\\python\\signate\\mynabi\\venv\\lib\\site-packages\\lightgbm\\engine.py:181: UserWarning: 'early_stopping_rounds' argument is deprecated and will be removed in a future release of LightGBM. Pass 'early_stopping()' callback via 'callbacks' argument instead.\n",
      "  _log_warning(\"'early_stopping_rounds' argument is deprecated and will be removed in a future release of LightGBM. \"\n",
      "c:\\Users\\koshi\\python\\signate\\mynabi\\venv\\lib\\site-packages\\lightgbm\\engine.py:239: UserWarning: 'verbose_eval' argument is deprecated and will be removed in a future release of LightGBM. Pass 'log_evaluation()' callback via 'callbacks' argument instead.\n",
      "  _log_warning(\"'verbose_eval' argument is deprecated and will be removed in a future release of LightGBM. \"\n"
     ]
    },
    {
     "name": "stdout",
     "output_type": "stream",
     "text": [
      "[LightGBM] [Warning] Auto-choosing col-wise multi-threading, the overhead of testing was 0.001186 seconds.\n",
      "You can set `force_col_wise=true` to remove the overhead.\n",
      "[LightGBM] [Info] Total Bins 2320\n",
      "[LightGBM] [Info] Number of data points in the train set: 22029, number of used features: 5\n",
      "[LightGBM] [Info] Start training from score 118651.337373\n",
      "Training until validation scores don't improve for 10 rounds\n",
      "[10]\ttraining's rmse: 44755.2\tvalid_1's rmse: 49092.9\n",
      "[20]\ttraining's rmse: 27860.3\tvalid_1's rmse: 35775.5\n",
      "[30]\ttraining's rmse: 18304.5\tvalid_1's rmse: 29282.8\n",
      "[40]\ttraining's rmse: 13216.2\tvalid_1's rmse: 26338.2\n",
      "[50]\ttraining's rmse: 10760.4\tvalid_1's rmse: 25041.3\n",
      "[60]\ttraining's rmse: 9696.25\tvalid_1's rmse: 24460.3\n",
      "[70]\ttraining's rmse: 9250.65\tvalid_1's rmse: 24180\n",
      "[80]\ttraining's rmse: 9068.45\tvalid_1's rmse: 24045.7\n",
      "[90]\ttraining's rmse: 8945.57\tvalid_1's rmse: 23917.3\n",
      "[100]\ttraining's rmse: 8882.23\tvalid_1's rmse: 23878.4\n",
      "[110]\ttraining's rmse: 8850.81\tvalid_1's rmse: 23862\n",
      "[120]\ttraining's rmse: 8818.63\tvalid_1's rmse: 23875.7\n",
      "Early stopping, best iteration is:\n",
      "[116]\ttraining's rmse: 8826.92\tvalid_1's rmse: 23854.2\n"
     ]
    },
    {
     "name": "stderr",
     "output_type": "stream",
     "text": [
      "\u001b[32m[I 2022-09-09 17:14:08,079]\u001b[0m Trial 24 finished with value: 23854.161726149716 and parameters: {'reg_lambda': 8.516933662232e-05, 'max_bin': 464, 'num_leaves': 108}. Best is trial 0 with value: 23549.216504023072.\u001b[0m\n",
      "c:\\Users\\koshi\\python\\signate\\mynabi\\venv\\lib\\site-packages\\lightgbm\\engine.py:181: UserWarning: 'early_stopping_rounds' argument is deprecated and will be removed in a future release of LightGBM. Pass 'early_stopping()' callback via 'callbacks' argument instead.\n",
      "  _log_warning(\"'early_stopping_rounds' argument is deprecated and will be removed in a future release of LightGBM. \"\n",
      "c:\\Users\\koshi\\python\\signate\\mynabi\\venv\\lib\\site-packages\\lightgbm\\engine.py:239: UserWarning: 'verbose_eval' argument is deprecated and will be removed in a future release of LightGBM. Pass 'log_evaluation()' callback via 'callbacks' argument instead.\n",
      "  _log_warning(\"'verbose_eval' argument is deprecated and will be removed in a future release of LightGBM. \"\n"
     ]
    },
    {
     "name": "stdout",
     "output_type": "stream",
     "text": [
      "[LightGBM] [Warning] Auto-choosing col-wise multi-threading, the overhead of testing was 0.001093 seconds.\n",
      "You can set `force_col_wise=true` to remove the overhead.\n",
      "[LightGBM] [Info] Total Bins 1760\n",
      "[LightGBM] [Info] Number of data points in the train set: 22029, number of used features: 5\n",
      "[LightGBM] [Info] Start training from score 118651.337373\n",
      "Training until validation scores don't improve for 10 rounds\n",
      "[10]\ttraining's rmse: 44950.3\tvalid_1's rmse: 49352.1\n",
      "[20]\ttraining's rmse: 28267.1\tvalid_1's rmse: 36260.9\n",
      "[30]\ttraining's rmse: 18967.6\tvalid_1's rmse: 29902.9\n",
      "[40]\ttraining's rmse: 14195.2\tvalid_1's rmse: 27043.4\n",
      "[50]\ttraining's rmse: 12014.3\tvalid_1's rmse: 25791.2\n",
      "[60]\ttraining's rmse: 11109.7\tvalid_1's rmse: 25220\n",
      "[70]\ttraining's rmse: 10755.4\tvalid_1's rmse: 24945.7\n",
      "[80]\ttraining's rmse: 10616.6\tvalid_1's rmse: 24805.2\n",
      "[90]\ttraining's rmse: 10559.1\tvalid_1's rmse: 24723.6\n",
      "[100]\ttraining's rmse: 10520.9\tvalid_1's rmse: 24672\n",
      "[110]\ttraining's rmse: 10497.7\tvalid_1's rmse: 24636.6\n",
      "[120]\ttraining's rmse: 10471\tvalid_1's rmse: 24624.5\n",
      "[130]\ttraining's rmse: 10452.9\tvalid_1's rmse: 24617.6\n",
      "[140]\ttraining's rmse: 10439.9\tvalid_1's rmse: 24614.4\n",
      "[150]\ttraining's rmse: 10424.1\tvalid_1's rmse: 24608.5\n"
     ]
    },
    {
     "name": "stderr",
     "output_type": "stream",
     "text": [
      "\u001b[32m[I 2022-09-09 17:14:08,963]\u001b[0m Trial 25 finished with value: 24595.291746145096 and parameters: {'reg_lambda': 1.3108813258313487e-07, 'max_bin': 352, 'num_leaves': 59}. Best is trial 0 with value: 23549.216504023072.\u001b[0m\n"
     ]
    },
    {
     "name": "stdout",
     "output_type": "stream",
     "text": [
      "[160]\ttraining's rmse: 10410.7\tvalid_1's rmse: 24604.1\n",
      "[170]\ttraining's rmse: 10399.8\tvalid_1's rmse: 24603.6\n",
      "[180]\ttraining's rmse: 10391.1\tvalid_1's rmse: 24597.1\n",
      "Early stopping, best iteration is:\n",
      "[175]\ttraining's rmse: 10394.6\tvalid_1's rmse: 24595.3\n"
     ]
    },
    {
     "name": "stderr",
     "output_type": "stream",
     "text": [
      "c:\\Users\\koshi\\python\\signate\\mynabi\\venv\\lib\\site-packages\\lightgbm\\engine.py:181: UserWarning: 'early_stopping_rounds' argument is deprecated and will be removed in a future release of LightGBM. Pass 'early_stopping()' callback via 'callbacks' argument instead.\n",
      "  _log_warning(\"'early_stopping_rounds' argument is deprecated and will be removed in a future release of LightGBM. \"\n",
      "c:\\Users\\koshi\\python\\signate\\mynabi\\venv\\lib\\site-packages\\lightgbm\\engine.py:239: UserWarning: 'verbose_eval' argument is deprecated and will be removed in a future release of LightGBM. Pass 'log_evaluation()' callback via 'callbacks' argument instead.\n",
      "  _log_warning(\"'verbose_eval' argument is deprecated and will be removed in a future release of LightGBM. \"\n"
     ]
    },
    {
     "name": "stdout",
     "output_type": "stream",
     "text": [
      "[LightGBM] [Warning] Auto-choosing col-wise multi-threading, the overhead of testing was 0.000862 seconds.\n",
      "You can set `force_col_wise=true` to remove the overhead.\n",
      "[LightGBM] [Info] Total Bins 1480\n",
      "[LightGBM] [Info] Number of data points in the train set: 22029, number of used features: 5\n",
      "[LightGBM] [Info] Start training from score 118651.337373\n",
      "Training until validation scores don't improve for 10 rounds\n",
      "[10]\ttraining's rmse: 45132.7\tvalid_1's rmse: 49614.6\n",
      "[20]\ttraining's rmse: 28672.8\tvalid_1's rmse: 36609.7\n",
      "[30]\ttraining's rmse: 19632.1\tvalid_1's rmse: 30372\n",
      "[40]\ttraining's rmse: 15089.6\tvalid_1's rmse: 27597.9\n",
      "[50]\ttraining's rmse: 13033.3\tvalid_1's rmse: 26372.8\n",
      "[60]\ttraining's rmse: 12200.2\tvalid_1's rmse: 25839.1\n",
      "[70]\ttraining's rmse: 11875.2\tvalid_1's rmse: 25591.4\n",
      "[80]\ttraining's rmse: 11746.8\tvalid_1's rmse: 25488\n"
     ]
    },
    {
     "name": "stderr",
     "output_type": "stream",
     "text": [
      "\u001b[32m[I 2022-09-09 17:14:09,609]\u001b[0m Trial 26 finished with value: 25396.318816102426 and parameters: {'reg_lambda': 7.73429250206464e-07, 'max_bin': 296, 'num_leaves': 75}. Best is trial 0 with value: 23549.216504023072.\u001b[0m\n"
     ]
    },
    {
     "name": "stdout",
     "output_type": "stream",
     "text": [
      "[90]\ttraining's rmse: 11687.5\tvalid_1's rmse: 25431.4\n",
      "[100]\ttraining's rmse: 11660.5\tvalid_1's rmse: 25413.5\n",
      "[110]\ttraining's rmse: 11644.2\tvalid_1's rmse: 25403.4\n",
      "[120]\ttraining's rmse: 11630.5\tvalid_1's rmse: 25401.5\n",
      "Early stopping, best iteration is:\n",
      "[111]\ttraining's rmse: 11642\tvalid_1's rmse: 25396.3\n"
     ]
    },
    {
     "name": "stderr",
     "output_type": "stream",
     "text": [
      "c:\\Users\\koshi\\python\\signate\\mynabi\\venv\\lib\\site-packages\\lightgbm\\engine.py:181: UserWarning: 'early_stopping_rounds' argument is deprecated and will be removed in a future release of LightGBM. Pass 'early_stopping()' callback via 'callbacks' argument instead.\n",
      "  _log_warning(\"'early_stopping_rounds' argument is deprecated and will be removed in a future release of LightGBM. \"\n",
      "c:\\Users\\koshi\\python\\signate\\mynabi\\venv\\lib\\site-packages\\lightgbm\\engine.py:239: UserWarning: 'verbose_eval' argument is deprecated and will be removed in a future release of LightGBM. Pass 'log_evaluation()' callback via 'callbacks' argument instead.\n",
      "  _log_warning(\"'verbose_eval' argument is deprecated and will be removed in a future release of LightGBM. \"\n"
     ]
    },
    {
     "name": "stdout",
     "output_type": "stream",
     "text": [
      "[LightGBM] [Warning] Auto-choosing col-wise multi-threading, the overhead of testing was 0.000982 seconds.\n",
      "You can set `force_col_wise=true` to remove the overhead.\n",
      "[LightGBM] [Info] Total Bins 1385\n",
      "[LightGBM] [Info] Number of data points in the train set: 22029, number of used features: 5\n",
      "[LightGBM] [Info] Start training from score 118651.337373\n",
      "Training until validation scores don't improve for 10 rounds\n",
      "[10]\ttraining's rmse: 45207.8\tvalid_1's rmse: 49808.5\n",
      "[20]\ttraining's rmse: 28842.1\tvalid_1's rmse: 37036\n",
      "[30]\ttraining's rmse: 19881\tvalid_1's rmse: 30975.7\n",
      "[40]\ttraining's rmse: 15418.7\tvalid_1's rmse: 28327.9\n",
      "[50]\ttraining's rmse: 13443.5\tvalid_1's rmse: 27214.6\n",
      "[60]\ttraining's rmse: 12562.4\tvalid_1's rmse: 26674.5\n",
      "[70]\ttraining's rmse: 12203.8\tvalid_1's rmse: 26419.7\n",
      "[80]\ttraining's rmse: 12048.4\tvalid_1's rmse: 26288.8\n",
      "[90]\ttraining's rmse: 11955.4\tvalid_1's rmse: 26189.8\n",
      "[100]\ttraining's rmse: 11894.6\tvalid_1's rmse: 26111.7\n",
      "[110]\ttraining's rmse: 11859.6\tvalid_1's rmse: 26086\n",
      "[120]\ttraining's rmse: 11834.3\tvalid_1's rmse: 26070\n",
      "[130]\ttraining's rmse: 11811.4\tvalid_1's rmse: 26058.2\n",
      "[140]\ttraining's rmse: 11793.6\tvalid_1's rmse: 26053.7\n",
      "[150]\ttraining's rmse: 11775.6\tvalid_1's rmse: 26047.8\n",
      "[160]\ttraining's rmse: 11756.8\tvalid_1's rmse: 26036.3\n",
      "[170]\ttraining's rmse: 11740.8\tvalid_1's rmse: 26032.5\n",
      "[180]\ttraining's rmse: 11726.2\tvalid_1's rmse: 26026.5\n",
      "[190]\ttraining's rmse: 11710.8\tvalid_1's rmse: 26020.4\n",
      "[200]\ttraining's rmse: 11697.6\tvalid_1's rmse: 26013.4\n",
      "[210]\ttraining's rmse: 11685\tvalid_1's rmse: 26007.7\n",
      "[220]\ttraining's rmse: 11674.4\tvalid_1's rmse: 26010\n",
      "[230]\ttraining's rmse: 11663.9\tvalid_1's rmse: 26003.7\n",
      "[240]\ttraining's rmse: 11652.3\tvalid_1's rmse: 25999.9\n",
      "[250]\ttraining's rmse: 11643\tvalid_1's rmse: 25998.3\n",
      "[260]\ttraining's rmse: 11632.2\tvalid_1's rmse: 25995.9\n",
      "[270]\ttraining's rmse: 11622.3\tvalid_1's rmse: 25996\n",
      "[280]\ttraining's rmse: 11612.8\tvalid_1's rmse: 25996\n",
      "Early stopping, best iteration is:\n",
      "[276]\ttraining's rmse: 11615.7\tvalid_1's rmse: 25994.6\n"
     ]
    },
    {
     "name": "stderr",
     "output_type": "stream",
     "text": [
      "\u001b[32m[I 2022-09-09 17:14:11,695]\u001b[0m Trial 27 finished with value: 25994.590732085784 and parameters: {'reg_lambda': 1.7489966737814578e-06, 'max_bin': 277, 'num_leaves': 104}. Best is trial 0 with value: 23549.216504023072.\u001b[0m\n",
      "c:\\Users\\koshi\\python\\signate\\mynabi\\venv\\lib\\site-packages\\lightgbm\\engine.py:181: UserWarning: 'early_stopping_rounds' argument is deprecated and will be removed in a future release of LightGBM. Pass 'early_stopping()' callback via 'callbacks' argument instead.\n",
      "  _log_warning(\"'early_stopping_rounds' argument is deprecated and will be removed in a future release of LightGBM. \"\n",
      "c:\\Users\\koshi\\python\\signate\\mynabi\\venv\\lib\\site-packages\\lightgbm\\engine.py:239: UserWarning: 'verbose_eval' argument is deprecated and will be removed in a future release of LightGBM. Pass 'log_evaluation()' callback via 'callbacks' argument instead.\n",
      "  _log_warning(\"'verbose_eval' argument is deprecated and will be removed in a future release of LightGBM. \"\n"
     ]
    },
    {
     "name": "stdout",
     "output_type": "stream",
     "text": [
      "[LightGBM] [Warning] Auto-choosing col-wise multi-threading, the overhead of testing was 0.000958 seconds.\n",
      "You can set `force_col_wise=true` to remove the overhead.\n",
      "[LightGBM] [Info] Total Bins 1730\n",
      "[LightGBM] [Info] Number of data points in the train set: 22029, number of used features: 5\n",
      "[LightGBM] [Info] Start training from score 118651.337373\n",
      "Training until validation scores don't improve for 10 rounds\n",
      "[10]\ttraining's rmse: 44958.7\tvalid_1's rmse: 49340.7\n",
      "[20]\ttraining's rmse: 28286.7\tvalid_1's rmse: 36265.7\n",
      "[30]\ttraining's rmse: 19006.8\tvalid_1's rmse: 29936.8\n",
      "[40]\ttraining's rmse: 14251.8\tvalid_1's rmse: 27084.4\n",
      "[50]\ttraining's rmse: 12084.4\tvalid_1's rmse: 25840.3\n",
      "[60]\ttraining's rmse: 11190.1\tvalid_1's rmse: 25272.7\n",
      "[70]\ttraining's rmse: 10844.5\tvalid_1's rmse: 25004.4\n",
      "[80]\ttraining's rmse: 10709.3\tvalid_1's rmse: 24871.2\n",
      "[90]\ttraining's rmse: 10637.5\tvalid_1's rmse: 24775.7\n",
      "[100]\ttraining's rmse: 10598.8\tvalid_1's rmse: 24728.3\n",
      "[110]\ttraining's rmse: 10562.8\tvalid_1's rmse: 24671.8\n",
      "[120]\ttraining's rmse: 10542.8\tvalid_1's rmse: 24654.2\n",
      "[130]\ttraining's rmse: 10522.2\tvalid_1's rmse: 24637.7\n",
      "[140]\ttraining's rmse: 10506.2\tvalid_1's rmse: 24632.3\n",
      "[150]\ttraining's rmse: 10493.1\tvalid_1's rmse: 24634.5\n"
     ]
    },
    {
     "name": "stderr",
     "output_type": "stream",
     "text": [
      "\u001b[32m[I 2022-09-09 17:14:12,784]\u001b[0m Trial 28 finished with value: 24631.84534307459 and parameters: {'reg_lambda': 5.009615137983937e-06, 'max_bin': 346, 'num_leaves': 91}. Best is trial 0 with value: 23549.216504023072.\u001b[0m\n"
     ]
    },
    {
     "name": "stdout",
     "output_type": "stream",
     "text": [
      "Early stopping, best iteration is:\n",
      "[145]\ttraining's rmse: 10499.2\tvalid_1's rmse: 24631.8\n",
      "[LightGBM] [Warning] Auto-choosing col-wise multi-threading, the overhead of testing was 0.000919 seconds.\n",
      "You can set `force_col_wise=true` to remove the overhead.\n",
      "[LightGBM] [Info] Total Bins 2270\n",
      "[LightGBM] [Info] Number of data points in the train set: 22029, number of used features: 5\n",
      "[LightGBM] [Info] Start training from score 118651.337373\n",
      "Training until validation scores don't improve for 10 rounds\n"
     ]
    },
    {
     "name": "stderr",
     "output_type": "stream",
     "text": [
      "c:\\Users\\koshi\\python\\signate\\mynabi\\venv\\lib\\site-packages\\lightgbm\\engine.py:181: UserWarning: 'early_stopping_rounds' argument is deprecated and will be removed in a future release of LightGBM. Pass 'early_stopping()' callback via 'callbacks' argument instead.\n",
      "  _log_warning(\"'early_stopping_rounds' argument is deprecated and will be removed in a future release of LightGBM. \"\n",
      "c:\\Users\\koshi\\python\\signate\\mynabi\\venv\\lib\\site-packages\\lightgbm\\engine.py:239: UserWarning: 'verbose_eval' argument is deprecated and will be removed in a future release of LightGBM. Pass 'log_evaluation()' callback via 'callbacks' argument instead.\n",
      "  _log_warning(\"'verbose_eval' argument is deprecated and will be removed in a future release of LightGBM. \"\n"
     ]
    },
    {
     "name": "stdout",
     "output_type": "stream",
     "text": [
      "[10]\ttraining's rmse: 44732.6\tvalid_1's rmse: 49128.8\n",
      "[20]\ttraining's rmse: 27797.8\tvalid_1's rmse: 35821.6\n",
      "[30]\ttraining's rmse: 18188.1\tvalid_1's rmse: 29307.4\n",
      "[40]\ttraining's rmse: 13047.3\tvalid_1's rmse: 26364.6\n",
      "[50]\ttraining's rmse: 10561.7\tvalid_1's rmse: 25079.6\n",
      "[60]\ttraining's rmse: 9492.63\tvalid_1's rmse: 24511.5\n",
      "[70]\ttraining's rmse: 9058.74\tvalid_1's rmse: 24252.7\n",
      "[80]\ttraining's rmse: 8871.79\tvalid_1's rmse: 24124.2\n",
      "[90]\ttraining's rmse: 8778.96\tvalid_1's rmse: 24051.3\n",
      "[100]\ttraining's rmse: 8713.65\tvalid_1's rmse: 23966.4\n",
      "[110]\ttraining's rmse: 8673.75\tvalid_1's rmse: 23922.9\n",
      "[120]\ttraining's rmse: 8649.78\tvalid_1's rmse: 23915.3\n",
      "[130]\ttraining's rmse: 8623.49\tvalid_1's rmse: 23906.6\n",
      "[140]\ttraining's rmse: 8603.45\tvalid_1's rmse: 23901.7\n",
      "Early stopping, best iteration is:\n",
      "[136]\ttraining's rmse: 8613.76\tvalid_1's rmse: 23899.6\n"
     ]
    },
    {
     "name": "stderr",
     "output_type": "stream",
     "text": [
      "\u001b[32m[I 2022-09-09 17:14:14,174]\u001b[0m Trial 29 finished with value: 23899.600304332587 and parameters: {'reg_lambda': 1.9134694478070961e-07, 'max_bin': 454, 'num_leaves': 123}. Best is trial 0 with value: 23549.216504023072.\u001b[0m\n",
      "c:\\Users\\koshi\\python\\signate\\mynabi\\venv\\lib\\site-packages\\lightgbm\\engine.py:181: UserWarning: 'early_stopping_rounds' argument is deprecated and will be removed in a future release of LightGBM. Pass 'early_stopping()' callback via 'callbacks' argument instead.\n",
      "  _log_warning(\"'early_stopping_rounds' argument is deprecated and will be removed in a future release of LightGBM. \"\n",
      "c:\\Users\\koshi\\python\\signate\\mynabi\\venv\\lib\\site-packages\\lightgbm\\engine.py:239: UserWarning: 'verbose_eval' argument is deprecated and will be removed in a future release of LightGBM. Pass 'log_evaluation()' callback via 'callbacks' argument instead.\n",
      "  _log_warning(\"'verbose_eval' argument is deprecated and will be removed in a future release of LightGBM. \"\n"
     ]
    },
    {
     "name": "stdout",
     "output_type": "stream",
     "text": [
      "[LightGBM] [Warning] Auto-choosing col-wise multi-threading, the overhead of testing was 0.002011 seconds.\n",
      "You can set `force_col_wise=true` to remove the overhead.\n",
      "[LightGBM] [Info] Total Bins 2425\n",
      "[LightGBM] [Info] Number of data points in the train set: 22029, number of used features: 5\n",
      "[LightGBM] [Info] Start training from score 118651.337373\n",
      "Training until validation scores don't improve for 10 rounds\n",
      "[10]\ttraining's rmse: 44672.8\tvalid_1's rmse: 49048.6\n",
      "[20]\ttraining's rmse: 27703.1\tvalid_1's rmse: 35703.7\n",
      "[30]\ttraining's rmse: 18066.1\tvalid_1's rmse: 29166.9\n",
      "[40]\ttraining's rmse: 12960.2\tvalid_1's rmse: 26264.7\n",
      "[50]\ttraining's rmse: 10513.3\tvalid_1's rmse: 25014\n",
      "[60]\ttraining's rmse: 9463.36\tvalid_1's rmse: 24439.8\n",
      "[70]\ttraining's rmse: 9018.65\tvalid_1's rmse: 24139.3\n",
      "[80]\ttraining's rmse: 8823.28\tvalid_1's rmse: 23979.6\n"
     ]
    },
    {
     "name": "stderr",
     "output_type": "stream",
     "text": [
      "\u001b[32m[I 2022-09-09 17:14:14,827]\u001b[0m Trial 30 finished with value: 23792.39515861274 and parameters: {'reg_lambda': 9.030397288885926e-07, 'max_bin': 485, 'num_leaves': 60}. Best is trial 0 with value: 23549.216504023072.\u001b[0m\n"
     ]
    },
    {
     "name": "stdout",
     "output_type": "stream",
     "text": [
      "[90]\ttraining's rmse: 8732.25\tvalid_1's rmse: 23890.8\n",
      "[100]\ttraining's rmse: 8677.06\tvalid_1's rmse: 23802\n",
      "[110]\ttraining's rmse: 8645.42\tvalid_1's rmse: 23798.9\n",
      "[120]\ttraining's rmse: 8624.54\tvalid_1's rmse: 23803.3\n",
      "Early stopping, best iteration is:\n",
      "[111]\ttraining's rmse: 8642.91\tvalid_1's rmse: 23792.4\n"
     ]
    },
    {
     "name": "stderr",
     "output_type": "stream",
     "text": [
      "c:\\Users\\koshi\\python\\signate\\mynabi\\venv\\lib\\site-packages\\lightgbm\\engine.py:181: UserWarning: 'early_stopping_rounds' argument is deprecated and will be removed in a future release of LightGBM. Pass 'early_stopping()' callback via 'callbacks' argument instead.\n",
      "  _log_warning(\"'early_stopping_rounds' argument is deprecated and will be removed in a future release of LightGBM. \"\n",
      "c:\\Users\\koshi\\python\\signate\\mynabi\\venv\\lib\\site-packages\\lightgbm\\engine.py:239: UserWarning: 'verbose_eval' argument is deprecated and will be removed in a future release of LightGBM. Pass 'log_evaluation()' callback via 'callbacks' argument instead.\n",
      "  _log_warning(\"'verbose_eval' argument is deprecated and will be removed in a future release of LightGBM. \"\n"
     ]
    },
    {
     "name": "stdout",
     "output_type": "stream",
     "text": [
      "[LightGBM] [Warning] Auto-choosing col-wise multi-threading, the overhead of testing was 0.001009 seconds.\n",
      "You can set `force_col_wise=true` to remove the overhead.\n",
      "[LightGBM] [Info] Total Bins 1775\n",
      "[LightGBM] [Info] Number of data points in the train set: 22029, number of used features: 5\n",
      "[LightGBM] [Info] Start training from score 118651.337373\n",
      "Training until validation scores don't improve for 10 rounds\n",
      "[10]\ttraining's rmse: 44944\tvalid_1's rmse: 49354.1\n",
      "[20]\ttraining's rmse: 28265.4\tvalid_1's rmse: 36245.7\n",
      "[30]\ttraining's rmse: 18966.5\tvalid_1's rmse: 29897.3\n",
      "[40]\ttraining's rmse: 14196.5\tvalid_1's rmse: 27038.6\n",
      "[50]\ttraining's rmse: 12018.1\tvalid_1's rmse: 25784.5\n",
      "[60]\ttraining's rmse: 11118.3\tvalid_1's rmse: 25216.3\n",
      "[70]\ttraining's rmse: 10767\tvalid_1's rmse: 24935.1\n",
      "[80]\ttraining's rmse: 10626.8\tvalid_1's rmse: 24795.6\n",
      "[90]\ttraining's rmse: 10563.7\tvalid_1's rmse: 24713.9\n",
      "[100]\ttraining's rmse: 10531.5\tvalid_1's rmse: 24654\n",
      "[110]\ttraining's rmse: 10505.9\tvalid_1's rmse: 24623.3\n",
      "[120]\ttraining's rmse: 10485.6\tvalid_1's rmse: 24609.3\n",
      "[130]\ttraining's rmse: 10470.1\tvalid_1's rmse: 24605.8\n",
      "[140]\ttraining's rmse: 10456.1\tvalid_1's rmse: 24603.8\n",
      "[150]\ttraining's rmse: 10439.1\tvalid_1's rmse: 24596.3\n",
      "[160]\ttraining's rmse: 10424.4\tvalid_1's rmse: 24591.7\n",
      "[170]\ttraining's rmse: 10412\tvalid_1's rmse: 24579.2\n",
      "[180]\ttraining's rmse: 10403.6\tvalid_1's rmse: 24581.9\n",
      "[190]\ttraining's rmse: 10394.3\tvalid_1's rmse: 24576.8\n",
      "[200]\ttraining's rmse: 10386.6\tvalid_1's rmse: 24567.5\n",
      "[210]\ttraining's rmse: 10380.2\tvalid_1's rmse: 24562.6\n",
      "[220]\ttraining's rmse: 10372.2\tvalid_1's rmse: 24554.5\n",
      "[230]\ttraining's rmse: 10362.9\tvalid_1's rmse: 24551.6\n",
      "Early stopping, best iteration is:\n",
      "[229]\ttraining's rmse: 10363.4\tvalid_1's rmse: 24550.8\n"
     ]
    },
    {
     "name": "stderr",
     "output_type": "stream",
     "text": [
      "\u001b[32m[I 2022-09-09 17:14:16,005]\u001b[0m Trial 31 finished with value: 24550.832182500708 and parameters: {'reg_lambda': 1.4092291316435567e-05, 'max_bin': 355, 'num_leaves': 64}. Best is trial 0 with value: 23549.216504023072.\u001b[0m\n",
      "c:\\Users\\koshi\\python\\signate\\mynabi\\venv\\lib\\site-packages\\lightgbm\\engine.py:181: UserWarning: 'early_stopping_rounds' argument is deprecated and will be removed in a future release of LightGBM. Pass 'early_stopping()' callback via 'callbacks' argument instead.\n",
      "  _log_warning(\"'early_stopping_rounds' argument is deprecated and will be removed in a future release of LightGBM. \"\n",
      "c:\\Users\\koshi\\python\\signate\\mynabi\\venv\\lib\\site-packages\\lightgbm\\engine.py:239: UserWarning: 'verbose_eval' argument is deprecated and will be removed in a future release of LightGBM. Pass 'log_evaluation()' callback via 'callbacks' argument instead.\n",
      "  _log_warning(\"'verbose_eval' argument is deprecated and will be removed in a future release of LightGBM. \"\n"
     ]
    },
    {
     "name": "stdout",
     "output_type": "stream",
     "text": [
      "[LightGBM] [Warning] Auto-choosing col-wise multi-threading, the overhead of testing was 0.001176 seconds.\n",
      "You can set `force_col_wise=true` to remove the overhead.\n",
      "[LightGBM] [Info] Total Bins 1305\n",
      "[LightGBM] [Info] Number of data points in the train set: 22029, number of used features: 5\n",
      "[LightGBM] [Info] Start training from score 118651.337373\n",
      "Training until validation scores don't improve for 10 rounds\n",
      "[10]\ttraining's rmse: 45273.8\tvalid_1's rmse: 49799.7\n",
      "[20]\ttraining's rmse: 28992.1\tvalid_1's rmse: 37050.3\n",
      "[30]\ttraining's rmse: 20126.7\tvalid_1's rmse: 30993.9\n",
      "[40]\ttraining's rmse: 15739.8\tvalid_1's rmse: 28345.9\n",
      "[50]\ttraining's rmse: 13816.2\tvalid_1's rmse: 27240.6\n",
      "[60]\ttraining's rmse: 12983.3\tvalid_1's rmse: 26692.2\n",
      "[70]\ttraining's rmse: 12625.4\tvalid_1's rmse: 26411.5\n",
      "[80]\ttraining's rmse: 12478.3\tvalid_1's rmse: 26269.7\n",
      "[90]\ttraining's rmse: 12419.1\tvalid_1's rmse: 26201\n",
      "[100]\ttraining's rmse: 12374.8\tvalid_1's rmse: 26153.7\n",
      "[110]\ttraining's rmse: 12302.2\tvalid_1's rmse: 26099.2\n",
      "[120]\ttraining's rmse: 12253.5\tvalid_1's rmse: 26063.6\n",
      "[130]\ttraining's rmse: 12214.5\tvalid_1's rmse: 26034.7\n",
      "[140]\ttraining's rmse: 12186.7\tvalid_1's rmse: 26021.2\n",
      "[150]\ttraining's rmse: 12162.6\tvalid_1's rmse: 26011\n",
      "[160]\ttraining's rmse: 12140\tvalid_1's rmse: 25998\n",
      "[170]\ttraining's rmse: 12119.7\tvalid_1's rmse: 25983.6\n",
      "[180]\ttraining's rmse: 12103\tvalid_1's rmse: 25971.5\n",
      "[190]\ttraining's rmse: 12090.8\tvalid_1's rmse: 25965\n",
      "[200]\ttraining's rmse: 12080.2\tvalid_1's rmse: 25954.6\n",
      "[210]\ttraining's rmse: 12071.6\tvalid_1's rmse: 25949.9\n",
      "[220]\ttraining's rmse: 12063.8\tvalid_1's rmse: 25943.6\n",
      "[230]\ttraining's rmse: 12057.8\tvalid_1's rmse: 25939.7\n",
      "[240]\ttraining's rmse: 12051.1\tvalid_1's rmse: 25937.3\n",
      "[250]\ttraining's rmse: 12045.1\tvalid_1's rmse: 25933.5\n",
      "[260]\ttraining's rmse: 12039.5\tvalid_1's rmse: 25932.7\n",
      "[270]\ttraining's rmse: 12034.7\tvalid_1's rmse: 25928.9\n",
      "[280]\ttraining's rmse: 12029.8\tvalid_1's rmse: 25927.5\n",
      "[290]\ttraining's rmse: 12025.7\tvalid_1's rmse: 25924.3\n",
      "[300]\ttraining's rmse: 12021.2\tvalid_1's rmse: 25924.6\n",
      "[310]\ttraining's rmse: 12017.1\tvalid_1's rmse: 25920.7\n",
      "[320]\ttraining's rmse: 12013.4\tvalid_1's rmse: 25918.4\n",
      "[330]\ttraining's rmse: 12009.6\tvalid_1's rmse: 25918.5\n",
      "Early stopping, best iteration is:\n",
      "[326]\ttraining's rmse: 12011\tvalid_1's rmse: 25917.9\n"
     ]
    },
    {
     "name": "stderr",
     "output_type": "stream",
     "text": [
      "\u001b[32m[I 2022-09-09 17:14:18,468]\u001b[0m Trial 32 finished with value: 25917.93044968411 and parameters: {'reg_lambda': 5.748291778269802e-06, 'max_bin': 261, 'num_leaves': 115}. Best is trial 0 with value: 23549.216504023072.\u001b[0m\n",
      "c:\\Users\\koshi\\python\\signate\\mynabi\\venv\\lib\\site-packages\\lightgbm\\engine.py:181: UserWarning: 'early_stopping_rounds' argument is deprecated and will be removed in a future release of LightGBM. Pass 'early_stopping()' callback via 'callbacks' argument instead.\n",
      "  _log_warning(\"'early_stopping_rounds' argument is deprecated and will be removed in a future release of LightGBM. \"\n",
      "c:\\Users\\koshi\\python\\signate\\mynabi\\venv\\lib\\site-packages\\lightgbm\\engine.py:239: UserWarning: 'verbose_eval' argument is deprecated and will be removed in a future release of LightGBM. Pass 'log_evaluation()' callback via 'callbacks' argument instead.\n",
      "  _log_warning(\"'verbose_eval' argument is deprecated and will be removed in a future release of LightGBM. \"\n"
     ]
    },
    {
     "name": "stdout",
     "output_type": "stream",
     "text": [
      "[LightGBM] [Warning] Auto-choosing col-wise multi-threading, the overhead of testing was 0.001064 seconds.\n",
      "You can set `force_col_wise=true` to remove the overhead.\n",
      "[LightGBM] [Info] Total Bins 2445\n",
      "[LightGBM] [Info] Number of data points in the train set: 22029, number of used features: 5\n",
      "[LightGBM] [Info] Start training from score 118651.337373\n",
      "Training until validation scores don't improve for 10 rounds\n",
      "[10]\ttraining's rmse: 44669.5\tvalid_1's rmse: 49014.1\n",
      "[20]\ttraining's rmse: 27698.5\tvalid_1's rmse: 35650.6\n",
      "[30]\ttraining's rmse: 18060.5\tvalid_1's rmse: 29116.2\n",
      "[40]\ttraining's rmse: 12952.3\tvalid_1's rmse: 26228\n",
      "[50]\ttraining's rmse: 10506.3\tvalid_1's rmse: 24984.4\n",
      "[60]\ttraining's rmse: 9454.66\tvalid_1's rmse: 24412.5\n",
      "[70]\ttraining's rmse: 8996.49\tvalid_1's rmse: 24102.6\n",
      "[80]\ttraining's rmse: 8807.08\tvalid_1's rmse: 23951.4\n",
      "[90]\ttraining's rmse: 8716.72\tvalid_1's rmse: 23855.6\n",
      "[100]\ttraining's rmse: 8662.63\tvalid_1's rmse: 23762.6\n",
      "[110]\ttraining's rmse: 8630.62\tvalid_1's rmse: 23757.5\n",
      "[120]\ttraining's rmse: 8608.82\tvalid_1's rmse: 23761\n",
      "Early stopping, best iteration is:\n",
      "[112]\ttraining's rmse: 8625\tvalid_1's rmse: 23753.5\n"
     ]
    },
    {
     "name": "stderr",
     "output_type": "stream",
     "text": [
      "\u001b[32m[I 2022-09-09 17:14:19,225]\u001b[0m Trial 33 finished with value: 23753.456610716104 and parameters: {'reg_lambda': 1.032966955187972e-07, 'max_bin': 489, 'num_leaves': 71}. Best is trial 0 with value: 23549.216504023072.\u001b[0m\n",
      "c:\\Users\\koshi\\python\\signate\\mynabi\\venv\\lib\\site-packages\\lightgbm\\engine.py:181: UserWarning: 'early_stopping_rounds' argument is deprecated and will be removed in a future release of LightGBM. Pass 'early_stopping()' callback via 'callbacks' argument instead.\n",
      "  _log_warning(\"'early_stopping_rounds' argument is deprecated and will be removed in a future release of LightGBM. \"\n",
      "c:\\Users\\koshi\\python\\signate\\mynabi\\venv\\lib\\site-packages\\lightgbm\\engine.py:239: UserWarning: 'verbose_eval' argument is deprecated and will be removed in a future release of LightGBM. Pass 'log_evaluation()' callback via 'callbacks' argument instead.\n",
      "  _log_warning(\"'verbose_eval' argument is deprecated and will be removed in a future release of LightGBM. \"\n"
     ]
    },
    {
     "name": "stdout",
     "output_type": "stream",
     "text": [
      "[LightGBM] [Warning] Auto-choosing col-wise multi-threading, the overhead of testing was 0.000875 seconds.\n",
      "You can set `force_col_wise=true` to remove the overhead.\n",
      "[LightGBM] [Info] Total Bins 2935\n",
      "[LightGBM] [Info] Number of data points in the train set: 22029, number of used features: 5\n",
      "[LightGBM] [Info] Start training from score 118651.337373\n",
      "Training until validation scores don't improve for 10 rounds\n",
      "[10]\ttraining's rmse: 44757.6\tvalid_1's rmse: 49276.6\n",
      "[20]\ttraining's rmse: 27850.2\tvalid_1's rmse: 36052.3\n",
      "[30]\ttraining's rmse: 18182.4\tvalid_1's rmse: 29573.6\n",
      "[40]\ttraining's rmse: 13006.8\tvalid_1's rmse: 26677.2\n",
      "[50]\ttraining's rmse: 10510\tvalid_1's rmse: 25443\n",
      "[60]\ttraining's rmse: 9395.29\tvalid_1's rmse: 24877.7\n",
      "[70]\ttraining's rmse: 8915.13\tvalid_1's rmse: 24598.2\n",
      "[80]\ttraining's rmse: 8623.7\tvalid_1's rmse: 24331.9\n",
      "[90]\ttraining's rmse: 8459.02\tvalid_1's rmse: 24111.7\n",
      "[100]\ttraining's rmse: 8343.95\tvalid_1's rmse: 23930.8\n",
      "[110]\ttraining's rmse: 8300.22\tvalid_1's rmse: 23887.4\n",
      "Early stopping, best iteration is:\n",
      "[107]\ttraining's rmse: 8309.08\tvalid_1's rmse: 23873.1\n"
     ]
    },
    {
     "name": "stderr",
     "output_type": "stream",
     "text": [
      "\u001b[32m[I 2022-09-09 17:14:19,942]\u001b[0m Trial 34 finished with value: 23873.106036599507 and parameters: {'reg_lambda': 1.6053955926854326e-05, 'max_bin': 587, 'num_leaves': 69}. Best is trial 0 with value: 23549.216504023072.\u001b[0m\n",
      "c:\\Users\\koshi\\python\\signate\\mynabi\\venv\\lib\\site-packages\\lightgbm\\engine.py:181: UserWarning: 'early_stopping_rounds' argument is deprecated and will be removed in a future release of LightGBM. Pass 'early_stopping()' callback via 'callbacks' argument instead.\n",
      "  _log_warning(\"'early_stopping_rounds' argument is deprecated and will be removed in a future release of LightGBM. \"\n",
      "c:\\Users\\koshi\\python\\signate\\mynabi\\venv\\lib\\site-packages\\lightgbm\\engine.py:239: UserWarning: 'verbose_eval' argument is deprecated and will be removed in a future release of LightGBM. Pass 'log_evaluation()' callback via 'callbacks' argument instead.\n",
      "  _log_warning(\"'verbose_eval' argument is deprecated and will be removed in a future release of LightGBM. \"\n"
     ]
    },
    {
     "name": "stdout",
     "output_type": "stream",
     "text": [
      "[LightGBM] [Warning] Auto-choosing col-wise multi-threading, the overhead of testing was 0.001027 seconds.\n",
      "You can set `force_col_wise=true` to remove the overhead.\n",
      "[LightGBM] [Info] Total Bins 2295\n",
      "[LightGBM] [Info] Number of data points in the train set: 22029, number of used features: 5\n",
      "[LightGBM] [Info] Start training from score 118651.337373\n",
      "Training until validation scores don't improve for 10 rounds\n",
      "[10]\ttraining's rmse: 44757\tvalid_1's rmse: 49113.4\n",
      "[20]\ttraining's rmse: 27864.6\tvalid_1's rmse: 35806.4\n",
      "[30]\ttraining's rmse: 18312.8\tvalid_1's rmse: 29302.3\n",
      "[40]\ttraining's rmse: 13232.6\tvalid_1's rmse: 26343.8\n",
      "[50]\ttraining's rmse: 10768.7\tvalid_1's rmse: 25031.5\n",
      "[60]\ttraining's rmse: 9705.3\tvalid_1's rmse: 24441.8\n",
      "[70]\ttraining's rmse: 9263.64\tvalid_1's rmse: 24156.3\n",
      "[80]\ttraining's rmse: 9076.64\tvalid_1's rmse: 24023.3\n",
      "[90]\ttraining's rmse: 8957.68\tvalid_1's rmse: 23888.7\n",
      "[100]\ttraining's rmse: 8897.1\tvalid_1's rmse: 23843.2\n",
      "[110]\ttraining's rmse: 8861.28\tvalid_1's rmse: 23841.6\n"
     ]
    },
    {
     "name": "stderr",
     "output_type": "stream",
     "text": [
      "\u001b[32m[I 2022-09-09 17:14:20,805]\u001b[0m Trial 35 finished with value: 23836.26932131257 and parameters: {'reg_lambda': 5.351456545529514e-06, 'max_bin': 459, 'num_leaves': 95}. Best is trial 0 with value: 23549.216504023072.\u001b[0m\n"
     ]
    },
    {
     "name": "stdout",
     "output_type": "stream",
     "text": [
      "Early stopping, best iteration is:\n",
      "[109]\ttraining's rmse: 8864.92\tvalid_1's rmse: 23836.3\n",
      "[LightGBM] [Warning] Auto-choosing col-wise multi-threading, the overhead of testing was 0.000832 seconds.\n",
      "You can set `force_col_wise=true` to remove the overhead.\n",
      "[LightGBM] [Info] Total Bins 2920\n",
      "[LightGBM] [Info] Number of data points in the train set: 22029, number of used features: 5\n",
      "[LightGBM] [Info] Start training from score 118651.337373\n",
      "Training until validation scores don't improve for 10 rounds\n",
      "[10]\ttraining's rmse: 44756.5\tvalid_1's rmse: 49290.3\n"
     ]
    },
    {
     "name": "stderr",
     "output_type": "stream",
     "text": [
      "c:\\Users\\koshi\\python\\signate\\mynabi\\venv\\lib\\site-packages\\lightgbm\\engine.py:181: UserWarning: 'early_stopping_rounds' argument is deprecated and will be removed in a future release of LightGBM. Pass 'early_stopping()' callback via 'callbacks' argument instead.\n",
      "  _log_warning(\"'early_stopping_rounds' argument is deprecated and will be removed in a future release of LightGBM. \"\n",
      "c:\\Users\\koshi\\python\\signate\\mynabi\\venv\\lib\\site-packages\\lightgbm\\engine.py:239: UserWarning: 'verbose_eval' argument is deprecated and will be removed in a future release of LightGBM. Pass 'log_evaluation()' callback via 'callbacks' argument instead.\n",
      "  _log_warning(\"'verbose_eval' argument is deprecated and will be removed in a future release of LightGBM. \"\n"
     ]
    },
    {
     "name": "stdout",
     "output_type": "stream",
     "text": [
      "[20]\ttraining's rmse: 27850.7\tvalid_1's rmse: 36060.9\n",
      "[30]\ttraining's rmse: 18182.4\tvalid_1's rmse: 29597.5\n",
      "[40]\ttraining's rmse: 13017.6\tvalid_1's rmse: 26727.9\n",
      "[50]\ttraining's rmse: 10521.4\tvalid_1's rmse: 25509.8\n",
      "[60]\ttraining's rmse: 9403.01\tvalid_1's rmse: 24954.6\n",
      "[70]\ttraining's rmse: 8915.95\tvalid_1's rmse: 24682.7\n",
      "[80]\ttraining's rmse: 8628.55\tvalid_1's rmse: 24431.5\n",
      "[90]\ttraining's rmse: 8419.04\tvalid_1's rmse: 24166.6\n"
     ]
    },
    {
     "name": "stderr",
     "output_type": "stream",
     "text": [
      "\u001b[32m[I 2022-09-09 17:14:21,619]\u001b[0m Trial 36 finished with value: 23950.20026077913 and parameters: {'reg_lambda': 4.669226029558975e-07, 'max_bin': 584, 'num_leaves': 85}. Best is trial 0 with value: 23549.216504023072.\u001b[0m\n"
     ]
    },
    {
     "name": "stdout",
     "output_type": "stream",
     "text": [
      "[100]\ttraining's rmse: 8314.84\tvalid_1's rmse: 24000.5\n",
      "[110]\ttraining's rmse: 8272.84\tvalid_1's rmse: 23960.6\n",
      "Early stopping, best iteration is:\n",
      "[108]\ttraining's rmse: 8278.91\tvalid_1's rmse: 23950.2\n"
     ]
    },
    {
     "name": "stderr",
     "output_type": "stream",
     "text": [
      "c:\\Users\\koshi\\python\\signate\\mynabi\\venv\\lib\\site-packages\\lightgbm\\engine.py:181: UserWarning: 'early_stopping_rounds' argument is deprecated and will be removed in a future release of LightGBM. Pass 'early_stopping()' callback via 'callbacks' argument instead.\n",
      "  _log_warning(\"'early_stopping_rounds' argument is deprecated and will be removed in a future release of LightGBM. \"\n",
      "c:\\Users\\koshi\\python\\signate\\mynabi\\venv\\lib\\site-packages\\lightgbm\\engine.py:239: UserWarning: 'verbose_eval' argument is deprecated and will be removed in a future release of LightGBM. Pass 'log_evaluation()' callback via 'callbacks' argument instead.\n",
      "  _log_warning(\"'verbose_eval' argument is deprecated and will be removed in a future release of LightGBM. \"\n"
     ]
    },
    {
     "name": "stdout",
     "output_type": "stream",
     "text": [
      "[LightGBM] [Warning] Auto-choosing col-wise multi-threading, the overhead of testing was 0.001203 seconds.\n",
      "You can set `force_col_wise=true` to remove the overhead.\n",
      "[LightGBM] [Info] Total Bins 2485\n",
      "[LightGBM] [Info] Number of data points in the train set: 22029, number of used features: 5\n",
      "[LightGBM] [Info] Start training from score 118651.337373\n",
      "Training until validation scores don't improve for 10 rounds\n",
      "[10]\ttraining's rmse: 44656.7\tvalid_1's rmse: 49151.6\n",
      "[20]\ttraining's rmse: 27656\tvalid_1's rmse: 35714.7\n",
      "[30]\ttraining's rmse: 17982\tvalid_1's rmse: 29069.8\n",
      "[40]\ttraining's rmse: 12834.1\tvalid_1's rmse: 26027.7\n",
      "[50]\ttraining's rmse: 10369.1\tvalid_1's rmse: 24716.4\n",
      "[60]\ttraining's rmse: 9309.99\tvalid_1's rmse: 24120.8\n",
      "[70]\ttraining's rmse: 8864.61\tvalid_1's rmse: 23806.3\n",
      "[80]\ttraining's rmse: 8686.66\tvalid_1's rmse: 23644\n",
      "[90]\ttraining's rmse: 8611.05\tvalid_1's rmse: 23570.6\n",
      "[100]\ttraining's rmse: 8564.82\tvalid_1's rmse: 23513.7\n",
      "[110]\ttraining's rmse: 8532.16\tvalid_1's rmse: 23469.7\n",
      "[120]\ttraining's rmse: 8514.31\tvalid_1's rmse: 23461.2\n"
     ]
    },
    {
     "name": "stderr",
     "output_type": "stream",
     "text": [
      "\u001b[32m[I 2022-09-09 17:14:22,471]\u001b[0m Trial 37 finished with value: 23460.449289408472 and parameters: {'reg_lambda': 3.461194599494402e-05, 'max_bin': 497, 'num_leaves': 73}. Best is trial 37 with value: 23460.449289408472.\u001b[0m\n"
     ]
    },
    {
     "name": "stdout",
     "output_type": "stream",
     "text": [
      "[130]\ttraining's rmse: 8497.03\tvalid_1's rmse: 23465.2\n",
      "Early stopping, best iteration is:\n",
      "[121]\ttraining's rmse: 8513.63\tvalid_1's rmse: 23460.4\n",
      "[LightGBM] [Warning] Auto-choosing col-wise multi-threading, the overhead of testing was 0.000921 seconds.\n",
      "You can set `force_col_wise=true` to remove the overhead.\n",
      "[LightGBM] [Info] Total Bins 1960\n",
      "[LightGBM] [Info] Number of data points in the train set: 22029, number of used features: 5\n",
      "[LightGBM] [Info] Start training from score 118651.337373\n",
      "Training until validation scores don't improve for 10 rounds\n"
     ]
    },
    {
     "name": "stderr",
     "output_type": "stream",
     "text": [
      "c:\\Users\\koshi\\python\\signate\\mynabi\\venv\\lib\\site-packages\\lightgbm\\engine.py:181: UserWarning: 'early_stopping_rounds' argument is deprecated and will be removed in a future release of LightGBM. Pass 'early_stopping()' callback via 'callbacks' argument instead.\n",
      "  _log_warning(\"'early_stopping_rounds' argument is deprecated and will be removed in a future release of LightGBM. \"\n",
      "c:\\Users\\koshi\\python\\signate\\mynabi\\venv\\lib\\site-packages\\lightgbm\\engine.py:239: UserWarning: 'verbose_eval' argument is deprecated and will be removed in a future release of LightGBM. Pass 'log_evaluation()' callback via 'callbacks' argument instead.\n",
      "  _log_warning(\"'verbose_eval' argument is deprecated and will be removed in a future release of LightGBM. \"\n"
     ]
    },
    {
     "name": "stdout",
     "output_type": "stream",
     "text": [
      "[10]\ttraining's rmse: 44914.1\tvalid_1's rmse: 49276.9\n",
      "[20]\ttraining's rmse: 28186.6\tvalid_1's rmse: 36213.8\n",
      "[30]\ttraining's rmse: 18813.4\tvalid_1's rmse: 29905.5\n",
      "[40]\ttraining's rmse: 13973.6\tvalid_1's rmse: 27181.9\n",
      "[50]\ttraining's rmse: 11723.6\tvalid_1's rmse: 26054.2\n",
      "[60]\ttraining's rmse: 10788.2\tvalid_1's rmse: 25578\n",
      "[70]\ttraining's rmse: 10419.2\tvalid_1's rmse: 25363.4\n",
      "[80]\ttraining's rmse: 10262.4\tvalid_1's rmse: 25231.7\n",
      "[90]\ttraining's rmse: 10179.5\tvalid_1's rmse: 25150.7\n",
      "[100]\ttraining's rmse: 10136.7\tvalid_1's rmse: 25130.7\n",
      "[110]\ttraining's rmse: 10108.7\tvalid_1's rmse: 25111.6\n"
     ]
    },
    {
     "name": "stderr",
     "output_type": "stream",
     "text": [
      "\u001b[32m[I 2022-09-09 17:14:23,443]\u001b[0m Trial 38 finished with value: 25101.424805799816 and parameters: {'reg_lambda': 2.7630799986965487e-05, 'max_bin': 392, 'num_leaves': 119}. Best is trial 37 with value: 23460.449289408472.\u001b[0m\n"
     ]
    },
    {
     "name": "stdout",
     "output_type": "stream",
     "text": [
      "Early stopping, best iteration is:\n",
      "[108]\ttraining's rmse: 10115.1\tvalid_1's rmse: 25101.4\n",
      "[LightGBM] [Warning] Auto-choosing col-wise multi-threading, the overhead of testing was 0.000950 seconds.\n",
      "You can set `force_col_wise=true` to remove the overhead.\n",
      "[LightGBM] [Info] Total Bins 2800\n",
      "[LightGBM] [Info] Number of data points in the train set: 22029, number of used features: 5\n",
      "[LightGBM] [Info] Start training from score 118651.337373\n",
      "Training until validation scores don't improve for 10 rounds\n"
     ]
    },
    {
     "name": "stderr",
     "output_type": "stream",
     "text": [
      "c:\\Users\\koshi\\python\\signate\\mynabi\\venv\\lib\\site-packages\\lightgbm\\engine.py:181: UserWarning: 'early_stopping_rounds' argument is deprecated and will be removed in a future release of LightGBM. Pass 'early_stopping()' callback via 'callbacks' argument instead.\n",
      "  _log_warning(\"'early_stopping_rounds' argument is deprecated and will be removed in a future release of LightGBM. \"\n",
      "c:\\Users\\koshi\\python\\signate\\mynabi\\venv\\lib\\site-packages\\lightgbm\\engine.py:239: UserWarning: 'verbose_eval' argument is deprecated and will be removed in a future release of LightGBM. Pass 'log_evaluation()' callback via 'callbacks' argument instead.\n",
      "  _log_warning(\"'verbose_eval' argument is deprecated and will be removed in a future release of LightGBM. \"\n"
     ]
    },
    {
     "name": "stdout",
     "output_type": "stream",
     "text": [
      "[10]\ttraining's rmse: 44796.6\tvalid_1's rmse: 49220\n",
      "[20]\ttraining's rmse: 27921.8\tvalid_1's rmse: 35998.6\n",
      "[30]\ttraining's rmse: 18311.3\tvalid_1's rmse: 29632.9\n",
      "[40]\ttraining's rmse: 12990.6\tvalid_1's rmse: 26691.7\n",
      "[50]\ttraining's rmse: 10276\tvalid_1's rmse: 25294.8\n",
      "[60]\ttraining's rmse: 9044.01\tvalid_1's rmse: 24631.9\n",
      "[70]\ttraining's rmse: 8515.97\tvalid_1's rmse: 24293.8\n",
      "[80]\ttraining's rmse: 8302.7\tvalid_1's rmse: 24123.4\n",
      "[90]\ttraining's rmse: 8216.26\tvalid_1's rmse: 24044.8\n",
      "[100]\ttraining's rmse: 8170.84\tvalid_1's rmse: 24012.9\n"
     ]
    },
    {
     "name": "stderr",
     "output_type": "stream",
     "text": [
      "\u001b[32m[I 2022-09-09 17:14:24,413]\u001b[0m Trial 39 finished with value: 23977.03706847359 and parameters: {'reg_lambda': 5.543941231681784e-06, 'max_bin': 560, 'num_leaves': 104}. Best is trial 37 with value: 23460.449289408472.\u001b[0m\n"
     ]
    },
    {
     "name": "stdout",
     "output_type": "stream",
     "text": [
      "[110]\ttraining's rmse: 8139.6\tvalid_1's rmse: 23982.2\n",
      "[120]\ttraining's rmse: 8119.27\tvalid_1's rmse: 23993.1\n",
      "Early stopping, best iteration is:\n",
      "[111]\ttraining's rmse: 8137.3\tvalid_1's rmse: 23977\n"
     ]
    },
    {
     "data": {
      "text/plain": [
       "{'reg_lambda': 3.461194599494402e-05, 'max_bin': 497, 'num_leaves': 73}"
      ]
     },
     "execution_count": 43,
     "metadata": {},
     "output_type": "execute_result"
    }
   ],
   "source": [
    "study = optuna.create_study(sampler=optuna.samplers.RandomSampler(seed=0))\n",
    "study.optimize(objective, n_trials=40)\n",
    "study.best_params"
   ]
  },
  {
   "cell_type": "code",
   "execution_count": null,
   "metadata": {},
   "outputs": [],
   "source": []
  }
 ],
 "metadata": {
  "kernelspec": {
   "display_name": "Python 3.10.5 ('venv': venv)",
   "language": "python",
   "name": "python3"
  },
  "language_info": {
   "codemirror_mode": {
    "name": "ipython",
    "version": 3
   },
   "file_extension": ".py",
   "mimetype": "text/x-python",
   "name": "python",
   "nbconvert_exporter": "python",
   "pygments_lexer": "ipython3",
   "version": "3.10.5"
  },
  "orig_nbformat": 4,
  "vscode": {
   "interpreter": {
    "hash": "a98cf4a852aef637b580117f8642dec837d1a50d3f811fd67a8b5a8fce3bf795"
   }
  }
 },
 "nbformat": 4,
 "nbformat_minor": 2
}
