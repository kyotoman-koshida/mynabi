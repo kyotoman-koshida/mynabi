{
 "cells": [
  {
   "cell_type": "markdown",
   "metadata": {},
   "source": [
    "契約期間２&フル間取りでXGBoostのクロスバリデーションを行う。"
   ]
  },
  {
   "cell_type": "code",
   "execution_count": 1,
   "metadata": {},
   "outputs": [
    {
     "name": "stderr",
     "output_type": "stream",
     "text": [
      "Duplicate key in file PosixPath('/Users/koshidatatsuo/python/signate/mynabi/venv/lib/python3.10/site-packages/matplotlib/mpl-data/matplotlibrc'), line 258 ('font.family : IPAexGothic')\n",
      "/Users/koshidatatsuo/python/signate/mynabi/venv/lib/python3.10/site-packages/tqdm/auto.py:22: TqdmWarning: IProgress not found. Please update jupyter and ipywidgets. See https://ipywidgets.readthedocs.io/en/stable/user_install.html\n",
      "  from .autonotebook import tqdm as notebook_tqdm\n"
     ]
    }
   ],
   "source": [
    "import pandas as pd\n",
    "import numpy as np\n",
    "import matplotlib.pyplot as plt\n",
    "from sklearn.model_selection import train_test_split\n",
    "import scipy as sp\n",
    "import lightgbm as lgb\n",
    "import category_encoders as ce\n",
    "# import mojimoji\n",
    "import re\n",
    "from cmath import nan\n",
    "from sklearn.ensemble import RandomForestRegressor\n",
    "from sklearn.metrics import accuracy_score\n",
    "import optuna\n",
    "from sklearn.metrics import mean_squared_error\n",
    "import japanize_matplotlib\n",
    "import xgboost\n",
    "from sklearn.model_selection import KFold\n",
    "\n",
    "###訓練データの読み込み\n",
    "house_age = pd.read_csv('house_age.csv')\n",
    "area_size = pd.read_csv('area_size.csv')\n",
    "room_arrange = pd.read_csv('room_arrange.csv')\n",
    "contract_span = pd.read_csv('contract_span.csv')#欠損値をゼロ埋めした契約期間\n",
    "contract_span2 = pd.read_csv('contract_span2.csv')#欠損値を欠損値のままにした契約期間\n",
    "reg_rent = pd.read_csv('reg_rent.csv')\n",
    "floor_scores = pd.read_csv('floor_scores.csv')#「所在階」と「全体の階数」が連動して欠損値になる場合のある「所在階」\n",
    "floor_scores2 = pd.read_csv('floor_scores2.csv')#「所在階」と「全体の階数」が独立している「所在階」\n",
    "Floor_scores = pd.read_csv('capital_floor_scores.csv')#「所在階」と「全体の階数」が連動して欠損値になる場合のある「全体の階数」\n",
    "Floor_scores2 = pd.read_csv('capital_floor_scores2.csv')#「所在階」と「全体の階数」が独立している「全体の階数」\n",
    "stations = pd.read_csv('stations.csv')\n",
    "minits = pd.read_csv('minits.csv')\n",
    "addresses = pd.read_csv('addresses.csv')\n",
    "room_arrange = pd.read_csv('room_arrange.csv')\n",
    "buildings = pd.read_csv('buildings.csv')\n",
    "\n",
    "rent = pd.read_csv('rent.csv')\n",
    "\n",
    "\n",
    "##テストデータの読み込み\n",
    "test_house_age = pd.read_csv('test_house_age.csv')\n",
    "test_area_size = pd.read_csv('test_area_size.csv')\n",
    "test_room_arrange = pd.read_csv('test_room_arrange.csv')\n",
    "test_contract_span = pd.read_csv('test_contract_span.csv')\n",
    "test_contract_span2 = pd.read_csv('test_contract_span2.csv')\n",
    "test_reg_rent = pd.read_csv('test_reg_rent.csv')\n",
    "test_floor_scores = pd.read_csv('test_floor_scores.csv')\n",
    "test_floor_scores2 = pd.read_csv('test_floor_scores2.csv')\n",
    "test_Floor_scores = pd.read_csv('test_capital_floor_scores.csv')\n",
    "test_Floor_scores2 = pd.read_csv('test_capital_floor_scores2.csv')\n",
    "test_stations = pd.read_csv('test_stations.csv')\n",
    "test_minits = pd.read_csv('test_minits.csv')\n",
    "test_addresses = pd.read_csv('test_addresses.csv')\n",
    "test_room_arrange = pd.read_csv('test_room_arrange.csv')\n",
    "test_buildings = pd.read_csv('test_buildings.csv')"
   ]
  },
  {
   "cell_type": "code",
   "execution_count": 1,
   "metadata": {},
   "outputs": [
    {
     "ename": "NameError",
     "evalue": "name 'pd' is not defined",
     "output_type": "error",
     "traceback": [
      "\u001b[0;31m---------------------------------------------------------------------------\u001b[0m",
      "\u001b[0;31mNameError\u001b[0m                                 Traceback (most recent call last)",
      "\u001b[1;32mセル3 を /Users/koshidatatsuo/python/signate/mynabi/mynabi/XGBoost_cv.ipynb\u001b[0m in \u001b[0;36m<cell line: 1>\u001b[0;34m()\u001b[0m\n\u001b[0;32m----> <a href='vscode-notebook-cell:/Users/koshidatatsuo/python/signate/mynabi/mynabi/XGBoost_cv.ipynb#ch0000002?line=0'>1</a>\u001b[0m X_train \u001b[39m=\u001b[39m pd\u001b[39m.\u001b[39mconcat([house_age, area_size, contract_span2, reg_rent, floor_scores2, Floor_scores2, stations, minits, addresses, room_arrange[[\u001b[39m\"\u001b[39m\u001b[39m部屋数\u001b[39m\u001b[39m\"\u001b[39m,\u001b[39m\"\u001b[39m\u001b[39mL\u001b[39m\u001b[39m\"\u001b[39m,\u001b[39m\"\u001b[39m\u001b[39mD\u001b[39m\u001b[39m\"\u001b[39m,\u001b[39m\"\u001b[39m\u001b[39mK\u001b[39m\u001b[39m\"\u001b[39m,\u001b[39m\"\u001b[39m\u001b[39mS\u001b[39m\u001b[39m\"\u001b[39m]]], axis\u001b[39m=\u001b[39m\u001b[39m1\u001b[39m)\n\u001b[1;32m      <a href='vscode-notebook-cell:/Users/koshidatatsuo/python/signate/mynabi/mynabi/XGBoost_cv.ipynb#ch0000002?line=1'>2</a>\u001b[0m y_train \u001b[39m=\u001b[39m rent\n\u001b[1;32m      <a href='vscode-notebook-cell:/Users/koshidatatsuo/python/signate/mynabi/mynabi/XGBoost_cv.ipynb#ch0000002?line=3'>4</a>\u001b[0m \u001b[39m# X_train, X_valid, y_train, y_valid = train_test_split(X_train, y_train, test_size=0.3, random_state=0)\u001b[39;00m\n",
      "\u001b[0;31mNameError\u001b[0m: name 'pd' is not defined"
     ]
    }
   ],
   "source": [
    "X_train = pd.concat([house_age, area_size, contract_span2, reg_rent, floor_scores2, Floor_scores2, stations, minits, addresses, room_arrange[[\"部屋数\",\"L\",\"D\",\"K\",\"S\"]]], axis=1)\n",
    "y_train = rent\n",
    "\n",
    "# X_train, X_valid, y_train, y_valid = train_test_split(X_train, y_train, test_size=0.3, random_state=0)\n",
    "\n",
    "X_test = pd.concat([test_house_age, test_area_size, test_contract_span2, test_reg_rent, test_floor_scores2, test_Floor_scores2, test_stations, test_minits, test_addresses, test_room_arrange[[\"部屋数\",\"L\",\"D\",\"K\",\"S\"]]], axis=1)\n",
    "\n",
    "cv = KFold(n_splits=5, shuffle=True, random_state=0)\n",
    "for fold_id, (train_index, valid_index) in enumerate(cv.split(X_train)):\n",
    "    X_tr = X_train.loc[train_index,:]\n",
    "    X_val = X_train.loc[valid_index, :]\n",
    "    y_tr = y_train.loc[train_index]\n",
    "    y_val = y_train.loc[valid_index]\n",
    "    xgb_reg = xgboost.XGBRegressor(\n",
    "        #目的関数の指定 初期値も二乗誤差です\n",
    "                        objective='reg:linear',\n",
    "                        #学習のラウンド数 early_stoppingを利用するので多めに指定\n",
    "                        n_estimators=50000,\n",
    "                        #boosterに何を用いるか 初期値もgbtreeです\n",
    "                        booster='gbtree',\n",
    "                        #学習率\n",
    "                        learning_rate=0.01,\n",
    "                        #木の最大深さ\n",
    "                        max_depth=7,\n",
    "                        #シード値\n",
    "                        random_state=0,\n",
    "                            #正則化\n",
    "                        reg_alfa=6.8594164113286965e-06,\n",
    "\n",
    "                        sub_sample=0.16056047423047484,\n",
    "\n",
    "                        colsample_bytree=0.6987351856651322,\n",
    "\n",
    "                        min_child_weight=1.1103525577197584\n",
    "    )\n",
    "    xgb_reg.fit(X_train, y_train, eval_set=[(X_val, y_val)], early_stopping_rounds=10)\n",
    "    \n",
    "y_pred = xgb_reg.predict(X_test)\n"
   ]
  },
  {
   "cell_type": "code",
   "execution_count": null,
   "metadata": {},
   "outputs": [],
   "source": [
    "df = pd.read_csv('test.csv')\n",
    "id = df['id']\n",
    "y_pred = pd.DataFrame(y_pred)\n",
    "result = pd.concat([id, y_pred],axis=1)\n",
    "result.to_csv('XGB_cv_result.csv',index=False)"
   ]
  }
 ],
 "metadata": {
  "kernelspec": {
   "display_name": "Python 3.10.5 ('venv': venv)",
   "language": "python",
   "name": "python3"
  },
  "language_info": {
   "codemirror_mode": {
    "name": "ipython",
    "version": 3
   },
   "file_extension": ".py",
   "mimetype": "text/x-python",
   "name": "python",
   "nbconvert_exporter": "python",
   "pygments_lexer": "ipython3",
   "version": "3.10.5"
  },
  "orig_nbformat": 4,
  "vscode": {
   "interpreter": {
    "hash": "b37a52d913339e4f7edd98eba251795ba561325231c15b6137ab41e2758152be"
   }
  }
 },
 "nbformat": 4,
 "nbformat_minor": 2
}
