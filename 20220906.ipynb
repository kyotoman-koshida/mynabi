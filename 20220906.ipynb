{
 "cells": [
  {
   "cell_type": "markdown",
   "metadata": {},
   "source": [
    "昨日は、lightGBMに「築年数」「面積」「間取り」「契約期間」「その部屋のある階数」「全体の階数」「所在地」「最寄り駅」「最寄り駅までの所要時間」をいれてみて、過学習に陥った。<br>\n",
    "本日は正則化を試みる。"
   ]
  },
  {
   "cell_type": "code",
   "execution_count": 2,
   "metadata": {},
   "outputs": [],
   "source": [
    "import pandas as pd\n",
    "import numpy as np\n",
    "import matplotlib.pyplot as plt\n",
    "from sklearn.model_selection import train_test_split\n",
    "import lightgbm as lgb"
   ]
  },
  {
   "cell_type": "markdown",
   "metadata": {},
   "source": [
    "訓練データの読み込み"
   ]
  },
  {
   "cell_type": "code",
   "execution_count": 3,
   "metadata": {},
   "outputs": [],
   "source": [
    "house_age = pd.read_csv('house_age.csv')\n",
    "area_size = pd.read_csv('area_size.csv')\n",
    "room_arrange_scores = pd.read_csv('room_arrange_scores.csv')\n",
    "contract_span = pd.read_csv('contract_span.csv')\n",
    "floor_scores = pd.read_csv('floor_scores.csv')\n",
    "Floor_scores = pd.read_csv('capital_floor_scores.csv')\n",
    "wards = pd.read_csv('wards.csv')\n",
    "stations = pd.read_csv('stations.csv')\n",
    "minits = pd.read_csv('minits.csv')\n",
    "\n",
    "rent = pd.read_csv('rent.csv')"
   ]
  },
  {
   "cell_type": "markdown",
   "metadata": {},
   "source": [
    "テストデータの読み込み"
   ]
  },
  {
   "cell_type": "code",
   "execution_count": 4,
   "metadata": {},
   "outputs": [],
   "source": [
    "test_house_age = pd.read_csv('test_house_age.csv')\n",
    "test_area_size = pd.read_csv('test_area_size.csv')\n",
    "test_room_arrange_scores = pd.read_csv('test_room_arrange_scores.csv')\n",
    "test_contract_span = pd.read_csv('test_contract_span.csv')\n",
    "test_floor_scores = pd.read_csv('test_floor_scores.csv')\n",
    "test_Floor_scores = pd.read_csv('test_capital_floor_scores.csv')\n",
    "test_wards = pd.read_csv('test_wards.csv')\n",
    "test_stations = pd.read_csv('test_stations.csv')\n",
    "test_minits = pd.read_csv('test_minits.csv')"
   ]
  },
  {
   "cell_type": "markdown",
   "metadata": {},
   "source": [
    "訓練データの作成"
   ]
  },
  {
   "cell_type": "code",
   "execution_count": 5,
   "metadata": {},
   "outputs": [],
   "source": [
    "X_train = pd.concat([house_age, area_size, room_arrange_scores, contract_span, floor_scores, Floor_scores, wards, stations, minits], axis=1)\n",
    "y_train = rent"
   ]
  },
  {
   "cell_type": "code",
   "execution_count": 6,
   "metadata": {},
   "outputs": [],
   "source": [
    "X_train, X_valid, y_train, y_valid = train_test_split(X_train, y_train, test_size=0.3, random_state=0)"
   ]
  },
  {
   "cell_type": "markdown",
   "metadata": {},
   "source": [
    "テストデータの作成"
   ]
  },
  {
   "cell_type": "code",
   "execution_count": 7,
   "metadata": {},
   "outputs": [],
   "source": [
    "X_test = pd.concat([test_house_age, test_area_size, test_room_arrange_scores, test_contract_span, test_floor_scores, test_Floor_scores, test_wards, test_stations, test_minits], axis=1)"
   ]
  },
  {
   "cell_type": "markdown",
   "metadata": {},
   "source": [
    "lightGBMで正則化を行う。"
   ]
  },
  {
   "cell_type": "code",
   "execution_count": 8,
   "metadata": {},
   "outputs": [
    {
     "name": "stderr",
     "output_type": "stream",
     "text": [
      "/Users/koshidatatsuo/python/signate/mynabi/venv/lib/python3.10/site-packages/lightgbm/engine.py:181: UserWarning: 'early_stopping_rounds' argument is deprecated and will be removed in a future release of LightGBM. Pass 'early_stopping()' callback via 'callbacks' argument instead.\n",
      "  _log_warning(\"'early_stopping_rounds' argument is deprecated and will be removed in a future release of LightGBM. \"\n",
      "/Users/koshidatatsuo/python/signate/mynabi/venv/lib/python3.10/site-packages/lightgbm/basic.py:2068: UserWarning: categorical_feature in Dataset is overridden.\n",
      "New categorical_feature is ['市区町村', '最寄り駅']\n",
      "  _log_warning('categorical_feature in Dataset is overridden.\\n'\n",
      "/Users/koshidatatsuo/python/signate/mynabi/venv/lib/python3.10/site-packages/lightgbm/engine.py:239: UserWarning: 'verbose_eval' argument is deprecated and will be removed in a future release of LightGBM. Pass 'log_evaluation()' callback via 'callbacks' argument instead.\n",
      "  _log_warning(\"'verbose_eval' argument is deprecated and will be removed in a future release of LightGBM. \"\n",
      "/Users/koshidatatsuo/python/signate/mynabi/venv/lib/python3.10/site-packages/lightgbm/basic.py:1780: UserWarning: Overriding the parameters from Reference Dataset.\n",
      "  _log_warning('Overriding the parameters from Reference Dataset.')\n",
      "/Users/koshidatatsuo/python/signate/mynabi/venv/lib/python3.10/site-packages/lightgbm/basic.py:1513: UserWarning: categorical_column in param dict is overridden.\n",
      "  _log_warning(f'{cat_alias} in param dict is overridden.')\n"
     ]
    },
    {
     "name": "stdout",
     "output_type": "stream",
     "text": [
      "[LightGBM] [Warning] Auto-choosing row-wise multi-threading, the overhead of testing was 0.000410 seconds.\n",
      "You can set `force_row_wise=true` to remove the overhead.\n",
      "And if memory is not enough, you can set `force_col_wise=true`.\n",
      "[LightGBM] [Info] Total Bins 1089\n",
      "[LightGBM] [Info] Number of data points in the train set: 22029, number of used features: 9\n",
      "[LightGBM] [Info] Start training from score 118651.337373\n",
      "Training until validation scores don't improve for 10 rounds\n",
      "[10]\ttraining's rmse: 37666.7\tvalid_1's rmse: 42918.9\n",
      "[20]\ttraining's rmse: 23451.3\tvalid_1's rmse: 31991.2\n",
      "[30]\ttraining's rmse: 18399.6\tvalid_1's rmse: 28084.6\n",
      "[40]\ttraining's rmse: 16219.7\tvalid_1's rmse: 26579.7\n",
      "[50]\ttraining's rmse: 15034.1\tvalid_1's rmse: 25735.5\n",
      "[60]\ttraining's rmse: 14214\tvalid_1's rmse: 25165.9\n",
      "[70]\ttraining's rmse: 13584.7\tvalid_1's rmse: 24727\n",
      "[80]\ttraining's rmse: 13071.8\tvalid_1's rmse: 24491.1\n",
      "[90]\ttraining's rmse: 12561.9\tvalid_1's rmse: 24194.3\n",
      "[100]\ttraining's rmse: 12190.5\tvalid_1's rmse: 24014\n",
      "[110]\ttraining's rmse: 11820.8\tvalid_1's rmse: 23892.7\n",
      "[120]\ttraining's rmse: 11492.1\tvalid_1's rmse: 23725\n",
      "[130]\ttraining's rmse: 11160.6\tvalid_1's rmse: 23601.8\n",
      "[140]\ttraining's rmse: 10910.4\tvalid_1's rmse: 23507.6\n",
      "[150]\ttraining's rmse: 10667.4\tvalid_1's rmse: 23433.7\n",
      "[160]\ttraining's rmse: 10437.1\tvalid_1's rmse: 23374.2\n",
      "[170]\ttraining's rmse: 10230.2\tvalid_1's rmse: 23340.8\n",
      "[180]\ttraining's rmse: 10051\tvalid_1's rmse: 23313.4\n",
      "[190]\ttraining's rmse: 9885.29\tvalid_1's rmse: 23262.2\n",
      "[200]\ttraining's rmse: 9732.89\tvalid_1's rmse: 23202.1\n",
      "[210]\ttraining's rmse: 9584.64\tvalid_1's rmse: 23135.8\n",
      "[220]\ttraining's rmse: 9440.09\tvalid_1's rmse: 23072.4\n",
      "[230]\ttraining's rmse: 9309.03\tvalid_1's rmse: 23030\n",
      "[240]\ttraining's rmse: 9173.57\tvalid_1's rmse: 22970.6\n",
      "[250]\ttraining's rmse: 9081.29\tvalid_1's rmse: 22962.8\n",
      "[260]\ttraining's rmse: 9007.55\tvalid_1's rmse: 22946.5\n",
      "[270]\ttraining's rmse: 8925.93\tvalid_1's rmse: 22944.4\n",
      "[280]\ttraining's rmse: 8827.33\tvalid_1's rmse: 22906.9\n",
      "[290]\ttraining's rmse: 8742.53\tvalid_1's rmse: 22901.9\n",
      "[300]\ttraining's rmse: 8631.09\tvalid_1's rmse: 22880.7\n",
      "[310]\ttraining's rmse: 8547.89\tvalid_1's rmse: 22858\n",
      "[320]\ttraining's rmse: 8480.8\tvalid_1's rmse: 22852.4\n",
      "[330]\ttraining's rmse: 8399.52\tvalid_1's rmse: 22832.1\n",
      "[340]\ttraining's rmse: 8286.42\tvalid_1's rmse: 22805.1\n",
      "[350]\ttraining's rmse: 8208.97\tvalid_1's rmse: 22783.4\n",
      "[360]\ttraining's rmse: 8148.94\tvalid_1's rmse: 22776.3\n",
      "[370]\ttraining's rmse: 8065.75\tvalid_1's rmse: 22764.3\n",
      "[380]\ttraining's rmse: 7993.57\tvalid_1's rmse: 22759.3\n",
      "[390]\ttraining's rmse: 7926.11\tvalid_1's rmse: 22747.9\n",
      "[400]\ttraining's rmse: 7860.01\tvalid_1's rmse: 22737.8\n",
      "Early stopping, best iteration is:\n",
      "[393]\ttraining's rmse: 7906.31\tvalid_1's rmse: 22737\n"
     ]
    }
   ],
   "source": [
    "X_train = pd.concat([house_age, area_size, room_arrange_scores, contract_span, floor_scores, Floor_scores, wards, stations, minits], axis=1)\n",
    "y_train = rent\n",
    "\n",
    "\n",
    "X_train, X_valid, y_train, y_valid = train_test_split(X_train, y_train, test_size=0.3, random_state=0)\n",
    "\n",
    "X_test = pd.concat([test_house_age, test_area_size, test_room_arrange_scores, test_contract_span, test_floor_scores, test_Floor_scores, test_wards, test_stations, test_minits], axis=1)\n",
    "\n",
    "category_lists = ['市区町村','最寄り駅']\n",
    "\n",
    "lgb_train = lgb.Dataset(X_train, y_train)\n",
    "lgb_eval = lgb.Dataset(X_valid, y_valid, reference=lgb_train)\n",
    "\n",
    "params = {\n",
    "    'objective':'regression',\n",
    "    'metrics':'rmse',\n",
    "    'lambda_l2':0.1\n",
    "}\n",
    "\n",
    "model = lgb.train(\n",
    "                    params,\n",
    "                    lgb_train, \n",
    "                    valid_sets=[lgb_train, lgb_eval], \n",
    "                    verbose_eval=10, \n",
    "                    num_boost_round=3000, \n",
    "                    early_stopping_rounds=10,\n",
    "                    categorical_feature = category_lists\n",
    "                    )\n",
    "\n",
    "y_pred = model.predict(X_test, num_iteration=model.best_iteration)"
   ]
  },
  {
   "cell_type": "markdown",
   "metadata": {},
   "source": [
    "カテゴリ化がうまくいってない気がする・・・。<br>\n",
    "カテゴリデータ意外のもののみでlightGBMを走らせる。"
   ]
  },
  {
   "cell_type": "code",
   "execution_count": 9,
   "metadata": {},
   "outputs": [
    {
     "name": "stderr",
     "output_type": "stream",
     "text": [
      "/Users/koshidatatsuo/python/signate/mynabi/venv/lib/python3.10/site-packages/lightgbm/engine.py:181: UserWarning: 'early_stopping_rounds' argument is deprecated and will be removed in a future release of LightGBM. Pass 'early_stopping()' callback via 'callbacks' argument instead.\n",
      "  _log_warning(\"'early_stopping_rounds' argument is deprecated and will be removed in a future release of LightGBM. \"\n",
      "/Users/koshidatatsuo/python/signate/mynabi/venv/lib/python3.10/site-packages/lightgbm/engine.py:239: UserWarning: 'verbose_eval' argument is deprecated and will be removed in a future release of LightGBM. Pass 'log_evaluation()' callback via 'callbacks' argument instead.\n",
      "  _log_warning(\"'verbose_eval' argument is deprecated and will be removed in a future release of LightGBM. \"\n"
     ]
    },
    {
     "name": "stdout",
     "output_type": "stream",
     "text": [
      "[LightGBM] [Warning] Auto-choosing row-wise multi-threading, the overhead of testing was 0.000332 seconds.\n",
      "You can set `force_row_wise=true` to remove the overhead.\n",
      "And if memory is not enough, you can set `force_col_wise=true`.\n",
      "[LightGBM] [Info] Total Bins 669\n",
      "[LightGBM] [Info] Number of data points in the train set: 22029, number of used features: 7\n",
      "[LightGBM] [Info] Start training from score 118651.337373\n",
      "Training until validation scores don't improve for 10 rounds\n",
      "[10]\ttraining's rmse: 40592.2\tvalid_1's rmse: 45159\n",
      "[20]\ttraining's rmse: 31519.9\tvalid_1's rmse: 38615.6\n",
      "[30]\ttraining's rmse: 28648.7\tvalid_1's rmse: 36901\n",
      "[40]\ttraining's rmse: 27327.8\tvalid_1's rmse: 36181.3\n",
      "[50]\ttraining's rmse: 26480.2\tvalid_1's rmse: 35613.8\n",
      "[60]\ttraining's rmse: 25786.7\tvalid_1's rmse: 34873\n",
      "[70]\ttraining's rmse: 25255.8\tvalid_1's rmse: 34428.8\n",
      "[80]\ttraining's rmse: 24627.2\tvalid_1's rmse: 34104.4\n",
      "[90]\ttraining's rmse: 24113.3\tvalid_1's rmse: 33639.3\n",
      "[100]\ttraining's rmse: 23753.8\tvalid_1's rmse: 33450.2\n",
      "[110]\ttraining's rmse: 23383.9\tvalid_1's rmse: 33322.1\n",
      "[120]\ttraining's rmse: 23038.6\tvalid_1's rmse: 33136.2\n",
      "[130]\ttraining's rmse: 22672.8\tvalid_1's rmse: 32888.4\n",
      "[140]\ttraining's rmse: 22363.1\tvalid_1's rmse: 32730.2\n",
      "[150]\ttraining's rmse: 22063.9\tvalid_1's rmse: 32592.5\n",
      "[160]\ttraining's rmse: 21767.8\tvalid_1's rmse: 32425.6\n",
      "[170]\ttraining's rmse: 21506.2\tvalid_1's rmse: 32331.7\n",
      "[180]\ttraining's rmse: 21264\tvalid_1's rmse: 32223.8\n",
      "[190]\ttraining's rmse: 20974.5\tvalid_1's rmse: 32131.1\n",
      "[200]\ttraining's rmse: 20710.3\tvalid_1's rmse: 32047.8\n",
      "[210]\ttraining's rmse: 20525.5\tvalid_1's rmse: 31969\n",
      "[220]\ttraining's rmse: 20340.8\tvalid_1's rmse: 31898.1\n",
      "[230]\ttraining's rmse: 20126.7\tvalid_1's rmse: 31821.4\n",
      "[240]\ttraining's rmse: 19944.8\tvalid_1's rmse: 31759.9\n",
      "[250]\ttraining's rmse: 19745.3\tvalid_1's rmse: 31700.8\n",
      "[260]\ttraining's rmse: 19575.6\tvalid_1's rmse: 31617.5\n",
      "[270]\ttraining's rmse: 19439.4\tvalid_1's rmse: 31588.4\n",
      "Early stopping, best iteration is:\n",
      "[268]\ttraining's rmse: 19466.8\tvalid_1's rmse: 31574.1\n"
     ]
    }
   ],
   "source": [
    "X_train = pd.concat([house_age, area_size, room_arrange_scores, contract_span, floor_scores, Floor_scores, minits], axis=1)\n",
    "y_train = rent\n",
    "\n",
    "X_train, X_valid, y_train, y_valid = train_test_split(X_train, y_train, test_size=0.3, random_state=0)\n",
    "\n",
    "X_test = pd.concat([test_house_age, test_area_size, test_room_arrange_scores, test_contract_span, test_floor_scores, test_Floor_scores, test_minits], axis=1)\n",
    "\n",
    "lgb_train = lgb.Dataset(X_train, y_train)\n",
    "lgb_eval = lgb.Dataset(X_valid, y_valid, reference=lgb_train)\n",
    "\n",
    "params = {\n",
    "    'objective':'regression',\n",
    "    'metrics':'rmse',\n",
    "    'lambda_l2':0.00001\n",
    "}\n",
    "\n",
    "model = lgb.train(\n",
    "                    params,\n",
    "                    lgb_train, \n",
    "                    valid_sets=[lgb_train, lgb_eval], \n",
    "                    verbose_eval=10, \n",
    "                    num_boost_round=3000, \n",
    "                    early_stopping_rounds=10,\n",
    "                    )\n",
    "\n",
    "y_pred = model.predict(X_test, num_iteration=model.best_iteration)"
   ]
  },
  {
   "cell_type": "markdown",
   "metadata": {},
   "source": [
    "スコアは下がってしまった。カテゴリ化データはあったほうがよさそう。"
   ]
  },
  {
   "cell_type": "markdown",
   "metadata": {},
   "source": [
    "ほかの特徴量の組み合わせを試してみる。<br>\n",
    "以下は、最寄り駅と市区町村の情報がかぶっているという観点から「市区町村」を消したもの。"
   ]
  },
  {
   "cell_type": "code",
   "execution_count": 10,
   "metadata": {},
   "outputs": [
    {
     "name": "stderr",
     "output_type": "stream",
     "text": [
      "/Users/koshidatatsuo/python/signate/mynabi/venv/lib/python3.10/site-packages/lightgbm/engine.py:181: UserWarning: 'early_stopping_rounds' argument is deprecated and will be removed in a future release of LightGBM. Pass 'early_stopping()' callback via 'callbacks' argument instead.\n",
      "  _log_warning(\"'early_stopping_rounds' argument is deprecated and will be removed in a future release of LightGBM. \"\n",
      "/Users/koshidatatsuo/python/signate/mynabi/venv/lib/python3.10/site-packages/lightgbm/basic.py:2068: UserWarning: categorical_feature in Dataset is overridden.\n",
      "New categorical_feature is ['最寄り駅']\n",
      "  _log_warning('categorical_feature in Dataset is overridden.\\n'\n",
      "/Users/koshidatatsuo/python/signate/mynabi/venv/lib/python3.10/site-packages/lightgbm/engine.py:239: UserWarning: 'verbose_eval' argument is deprecated and will be removed in a future release of LightGBM. Pass 'log_evaluation()' callback via 'callbacks' argument instead.\n",
      "  _log_warning(\"'verbose_eval' argument is deprecated and will be removed in a future release of LightGBM. \"\n",
      "/Users/koshidatatsuo/python/signate/mynabi/venv/lib/python3.10/site-packages/lightgbm/basic.py:1780: UserWarning: Overriding the parameters from Reference Dataset.\n",
      "  _log_warning('Overriding the parameters from Reference Dataset.')\n",
      "/Users/koshidatatsuo/python/signate/mynabi/venv/lib/python3.10/site-packages/lightgbm/basic.py:1513: UserWarning: categorical_column in param dict is overridden.\n",
      "  _log_warning(f'{cat_alias} in param dict is overridden.')\n"
     ]
    },
    {
     "name": "stdout",
     "output_type": "stream",
     "text": [
      "[LightGBM] [Warning] Auto-choosing col-wise multi-threading, the overhead of testing was 0.001087 seconds.\n",
      "You can set `force_col_wise=true` to remove the overhead.\n",
      "[LightGBM] [Info] Total Bins 1065\n",
      "[LightGBM] [Info] Number of data points in the train set: 22029, number of used features: 8\n",
      "[LightGBM] [Info] Start training from score 118651.337373\n",
      "Training until validation scores don't improve for 10 rounds\n",
      "[10]\ttraining's rmse: 37643\tvalid_1's rmse: 42927.7\n",
      "[20]\ttraining's rmse: 23602.3\tvalid_1's rmse: 32015.8\n",
      "[30]\ttraining's rmse: 18486.2\tvalid_1's rmse: 28132.9\n",
      "[40]\ttraining's rmse: 16344.2\tvalid_1's rmse: 26545.6\n",
      "[50]\ttraining's rmse: 15128.1\tvalid_1's rmse: 25565.8\n",
      "[60]\ttraining's rmse: 14319.6\tvalid_1's rmse: 24945.5\n",
      "[70]\ttraining's rmse: 13692.4\tvalid_1's rmse: 24463.2\n",
      "[80]\ttraining's rmse: 13086.3\tvalid_1's rmse: 24035\n",
      "[90]\ttraining's rmse: 12638.2\tvalid_1's rmse: 23777.2\n",
      "[100]\ttraining's rmse: 12256.8\tvalid_1's rmse: 23577.5\n",
      "[110]\ttraining's rmse: 11908.8\tvalid_1's rmse: 23341.3\n",
      "[120]\ttraining's rmse: 11627.2\tvalid_1's rmse: 23208.3\n",
      "[130]\ttraining's rmse: 11363.5\tvalid_1's rmse: 23084.1\n",
      "[140]\ttraining's rmse: 11107.5\tvalid_1's rmse: 22957.2\n",
      "[150]\ttraining's rmse: 10881.6\tvalid_1's rmse: 22863.1\n",
      "[160]\ttraining's rmse: 10692.5\tvalid_1's rmse: 22774.5\n",
      "[170]\ttraining's rmse: 10492.5\tvalid_1's rmse: 22695.3\n",
      "[180]\ttraining's rmse: 10331.3\tvalid_1's rmse: 22622.6\n",
      "[190]\ttraining's rmse: 10175.6\tvalid_1's rmse: 22565\n",
      "[200]\ttraining's rmse: 10011.2\tvalid_1's rmse: 22515.6\n",
      "[210]\ttraining's rmse: 9889.07\tvalid_1's rmse: 22465.9\n",
      "[220]\ttraining's rmse: 9778.66\tvalid_1's rmse: 22417\n",
      "[230]\ttraining's rmse: 9664.92\tvalid_1's rmse: 22369.9\n",
      "[240]\ttraining's rmse: 9564.85\tvalid_1's rmse: 22332\n",
      "[250]\ttraining's rmse: 9466.08\tvalid_1's rmse: 22295.5\n",
      "[260]\ttraining's rmse: 9393.72\tvalid_1's rmse: 22272.5\n",
      "[270]\ttraining's rmse: 9287.8\tvalid_1's rmse: 22252.2\n",
      "[280]\ttraining's rmse: 9202.64\tvalid_1's rmse: 22218.2\n",
      "[290]\ttraining's rmse: 9119.53\tvalid_1's rmse: 22206.7\n",
      "[300]\ttraining's rmse: 9023.64\tvalid_1's rmse: 22161.2\n",
      "[310]\ttraining's rmse: 8951.51\tvalid_1's rmse: 22141.8\n",
      "[320]\ttraining's rmse: 8889.21\tvalid_1's rmse: 22121.4\n",
      "[330]\ttraining's rmse: 8821.93\tvalid_1's rmse: 22099.2\n",
      "[340]\ttraining's rmse: 8746.02\tvalid_1's rmse: 22062\n",
      "[350]\ttraining's rmse: 8681.33\tvalid_1's rmse: 22030.8\n",
      "[360]\ttraining's rmse: 8618.22\tvalid_1's rmse: 22014.4\n",
      "[370]\ttraining's rmse: 8555.17\tvalid_1's rmse: 22003.5\n",
      "[380]\ttraining's rmse: 8494.53\tvalid_1's rmse: 21984.5\n",
      "[390]\ttraining's rmse: 8426.83\tvalid_1's rmse: 21959\n",
      "[400]\ttraining's rmse: 8375.28\tvalid_1's rmse: 21941.9\n",
      "[410]\ttraining's rmse: 8291.53\tvalid_1's rmse: 21919.7\n",
      "[420]\ttraining's rmse: 8221.26\tvalid_1's rmse: 21908\n",
      "[430]\ttraining's rmse: 8167.11\tvalid_1's rmse: 21894.6\n",
      "[440]\ttraining's rmse: 8090.29\tvalid_1's rmse: 21873.1\n",
      "[450]\ttraining's rmse: 8030.36\tvalid_1's rmse: 21857\n",
      "[460]\ttraining's rmse: 7973.58\tvalid_1's rmse: 21836.9\n",
      "[470]\ttraining's rmse: 7923.41\tvalid_1's rmse: 21830.8\n",
      "[480]\ttraining's rmse: 7866.12\tvalid_1's rmse: 21814.8\n",
      "[490]\ttraining's rmse: 7812.09\tvalid_1's rmse: 21807.5\n",
      "[500]\ttraining's rmse: 7756.63\tvalid_1's rmse: 21796.5\n",
      "[510]\ttraining's rmse: 7704.22\tvalid_1's rmse: 21770\n",
      "[520]\ttraining's rmse: 7660.96\tvalid_1's rmse: 21770\n",
      "Early stopping, best iteration is:\n",
      "[512]\ttraining's rmse: 7692.56\tvalid_1's rmse: 21766.5\n"
     ]
    }
   ],
   "source": [
    "X_train = pd.concat([house_age, area_size, room_arrange_scores, contract_span, floor_scores, Floor_scores, stations, minits], axis=1)\n",
    "y_train = rent\n",
    "\n",
    "X_train, X_valid, y_train, y_valid = train_test_split(X_train, y_train, test_size=0.3, random_state=0)\n",
    "\n",
    "X_test = pd.concat([test_house_age, test_area_size, test_room_arrange_scores, test_contract_span, test_floor_scores, test_Floor_scores, test_stations, test_minits], axis=1)\n",
    "\n",
    "category_lists = ['最寄り駅']\n",
    "lgb_train = lgb.Dataset(X_train, y_train)\n",
    "lgb_eval = lgb.Dataset(X_valid, y_valid, reference=lgb_train)\n",
    "\n",
    "params = {\n",
    "    'objective':'regression',\n",
    "    'metrics':'rmse',\n",
    "    'lambda_l2':0.0000001\n",
    "}\n",
    "\n",
    "model = lgb.train(\n",
    "                    params,\n",
    "                    lgb_train, \n",
    "                    valid_sets=[lgb_train, lgb_eval], \n",
    "                    verbose_eval=10, \n",
    "                    num_boost_round=3000, \n",
    "                    early_stopping_rounds=10,\n",
    "                    categorical_feature = category_lists\n",
    "                    )\n",
    "\n",
    "y_pred = model.predict(X_test, num_iteration=model.best_iteration)"
   ]
  },
  {
   "cell_type": "markdown",
   "metadata": {},
   "source": [
    "今までの中であれば悪くはないが、まだまだ過学習している。"
   ]
  },
  {
   "cell_type": "markdown",
   "metadata": {},
   "source": [
    "ファイル出力"
   ]
  },
  {
   "cell_type": "code",
   "execution_count": 11,
   "metadata": {},
   "outputs": [],
   "source": [
    "df = pd.read_csv('test.csv')\n",
    "id = df['id']\n",
    "y_pred = pd.DataFrame(y_pred)\n",
    "result = pd.concat([id, y_pred],axis=1)\n",
    "result.to_csv('result.csv',index=False)"
   ]
  },
  {
   "cell_type": "code",
   "execution_count": null,
   "metadata": {},
   "outputs": [],
   "source": []
  }
 ],
 "metadata": {
  "kernelspec": {
   "display_name": "Python 3.10.5 ('venv': venv)",
   "language": "python",
   "name": "python3"
  },
  "language_info": {
   "codemirror_mode": {
    "name": "ipython",
    "version": 3
   },
   "file_extension": ".py",
   "mimetype": "text/x-python",
   "name": "python",
   "nbconvert_exporter": "python",
   "pygments_lexer": "ipython3",
   "version": "3.10.5"
  },
  "orig_nbformat": 4,
  "vscode": {
   "interpreter": {
    "hash": "b37a52d913339e4f7edd98eba251795ba561325231c15b6137ab41e2758152be"
   }
  }
 },
 "nbformat": 4,
 "nbformat_minor": 2
}
