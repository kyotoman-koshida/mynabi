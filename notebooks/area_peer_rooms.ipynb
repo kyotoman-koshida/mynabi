{
 "cells": [
  {
   "cell_type": "markdown",
   "metadata": {},
   "source": [
    "# 一部屋あたりの面積を特徴量として算出する。"
   ]
  },
  {
   "cell_type": "code",
   "execution_count": 1,
   "metadata": {},
   "outputs": [],
   "source": [
    "import pandas as pd"
   ]
  },
  {
   "cell_type": "code",
   "execution_count": 26,
   "metadata": {},
   "outputs": [],
   "source": [
    "area_size = pd.read_csv('../data/handmade_data/area_size.csv')\n",
    "test_area_size = pd.read_csv('../data/test_data/test_area_size.csv')\n",
    "\n",
    "room_arrange = pd.read_csv('../data/handmade_data/room_arrange.csv')\n",
    "test_room_arrange = pd.read_csv('../data/test_data/test_room_arrange.csv')\n",
    "num_of_rooms = room_arrange['部屋数']\n",
    "test_num_of_rooms = test_room_arrange['部屋数']"
   ]
  },
  {
   "cell_type": "code",
   "execution_count": 27,
   "metadata": {},
   "outputs": [],
   "source": [
    "area_per_rooms = area_size['面積']/num_of_rooms\n",
    "area_per_rooms = pd.DataFrame(area_per_rooms)\n",
    "area_per_rooms.columns = ['一部屋あたりの面積']\n",
    "area_per_rooms.to_csv('../data/handmade_data/area_per_rooms.csv',index=False)\n",
    "test_area_per_rooms = test_area_size['面積']/test_num_of_rooms\n",
    "test_area_per_rooms = pd.DataFrame(test_area_per_rooms)\n",
    "test_area_per_rooms.columns = ['一部屋あたりの面積']\n",
    "test_area_per_rooms.to_csv('../data/test_data/test_area_per_rooms.csv', index=False)"
   ]
  },
  {
   "cell_type": "markdown",
   "metadata": {},
   "source": [
    "作成完了"
   ]
  },
  {
   "cell_type": "markdown",
   "metadata": {},
   "source": [
    "### おかしくないか検証する"
   ]
  },
  {
   "cell_type": "markdown",
   "metadata": {},
   "source": [
    "訓練データのidが134の部屋について"
   ]
  },
  {
   "cell_type": "code",
   "execution_count": 28,
   "metadata": {},
   "outputs": [
    {
     "data": {
      "text/plain": [
       "一部屋あたりの面積    25.79\n",
       "Name: 134, dtype: float64"
      ]
     },
     "execution_count": 28,
     "metadata": {},
     "output_type": "execute_result"
    }
   ],
   "source": [
    "area_per_rooms.loc[134]"
   ]
  },
  {
   "cell_type": "code",
   "execution_count": 29,
   "metadata": {},
   "outputs": [
    {
     "name": "stdout",
     "output_type": "stream",
     "text": [
      "25.79\n",
      "1\n",
      "25.79\n"
     ]
    }
   ],
   "source": [
    "print(area_size['面積'][134])\n",
    "print(num_of_rooms[134])\n",
    "print(area_size['面積'][134]/num_of_rooms[134])"
   ]
  },
  {
   "cell_type": "markdown",
   "metadata": {},
   "source": [
    "テストデータのidが2229について"
   ]
  },
  {
   "cell_type": "code",
   "execution_count": 30,
   "metadata": {},
   "outputs": [
    {
     "data": {
      "text/plain": [
       "一部屋あたりの面積    25.56\n",
       "Name: 2229, dtype: float64"
      ]
     },
     "execution_count": 30,
     "metadata": {},
     "output_type": "execute_result"
    }
   ],
   "source": [
    "test_area_per_rooms.loc[2229]"
   ]
  },
  {
   "cell_type": "code",
   "execution_count": 31,
   "metadata": {},
   "outputs": [
    {
     "name": "stdout",
     "output_type": "stream",
     "text": [
      "51.12\n",
      "2\n",
      "25.56\n"
     ]
    }
   ],
   "source": [
    "print(test_area_size['面積'][2229])\n",
    "print(test_num_of_rooms[2229])\n",
    "print(test_area_size['面積'][2229]/test_num_of_rooms[2229])"
   ]
  },
  {
   "cell_type": "markdown",
   "metadata": {},
   "source": [
    "大丈夫そう"
   ]
  },
  {
   "cell_type": "code",
   "execution_count": null,
   "metadata": {},
   "outputs": [],
   "source": []
  }
 ],
 "metadata": {
  "kernelspec": {
   "display_name": "Python 3.10.5 ('venv': venv)",
   "language": "python",
   "name": "python3"
  },
  "language_info": {
   "codemirror_mode": {
    "name": "ipython",
    "version": 3
   },
   "file_extension": ".py",
   "mimetype": "text/x-python",
   "name": "python",
   "nbconvert_exporter": "python",
   "pygments_lexer": "ipython3",
   "version": "3.10.5"
  },
  "orig_nbformat": 4,
  "vscode": {
   "interpreter": {
    "hash": "b37a52d913339e4f7edd98eba251795ba561325231c15b6137ab41e2758152be"
   }
  }
 },
 "nbformat": 4,
 "nbformat_minor": 2
}
