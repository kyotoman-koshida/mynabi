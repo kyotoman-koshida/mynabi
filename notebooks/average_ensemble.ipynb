{
 "cells": [
  {
   "cell_type": "markdown",
   "metadata": {},
   "source": [
    "アンサンブル用シート"
   ]
  },
  {
   "cell_type": "code",
   "execution_count": 1,
   "metadata": {},
   "outputs": [
    {
     "name": "stderr",
     "output_type": "stream",
     "text": [
      "Duplicate key in file PosixPath('/Users/koshidatatsuo/python/signate/mynabi/venv/lib/python3.10/site-packages/matplotlib/mpl-data/matplotlibrc'), line 258 ('font.family : IPAexGothic')\n"
     ]
    }
   ],
   "source": [
    "import pandas as pd\n",
    "import numpy as np\n",
    "import matplotlib.pyplot as plt\n",
    "from sklearn.model_selection import train_test_split\n",
    "import scipy as sp\n",
    "import lightgbm as lgb\n",
    "import category_encoders as ce\n",
    "# import mojimoji\n",
    "import re\n",
    "from cmath import nan\n",
    "from sklearn.ensemble import RandomForestRegressor\n",
    "from sklearn.metrics import accuracy_score\n",
    "import optuna\n",
    "from sklearn.metrics import mean_squared_error\n",
    "import japanize_matplotlib\n",
    "\n",
    "###訓練データの読み込み\n",
    "house_age = pd.read_csv('../data/handmade_data/house_age.csv')\n",
    "area_size = pd.read_csv('../data/handmade_data/area_size.csv')\n",
    "room_arrange = pd.read_csv('../data/handmade_data/room_arrange.csv')\n",
    "contract_span = pd.read_csv('../data/handmade_data/contract_span.csv')#欠損値をゼロ埋めした契約期間\n",
    "contract_span2 = pd.read_csv('../data/handmade_data/contract_span2.csv')#欠損値を欠損値のままにした契約期間\n",
    "reg_rent = pd.read_csv('../data/handmade_data/reg_rent.csv')\n",
    "floor_scores = pd.read_csv('../data/handmade_data/floor_scores.csv')#「所在階」と「全体の階数」が連動して欠損値になる場合のある「所在階」\n",
    "floor_scores2 = pd.read_csv('../data/handmade_data/floor_scores2.csv')#「所在階」と「全体の階数」が独立している「所在階」\n",
    "Floor_scores = pd.read_csv('../data/handmade_data/capital_floor_scores.csv')#「所在階」と「全体の階数」が連動して欠損値になる場合のある「全体の階数」\n",
    "Floor_scores2 = pd.read_csv('../data/handmade_data/capital_floor_scores2.csv')#「所在階」と「全体の階数」が独立している「全体の階数」\n",
    "stations = pd.read_csv('../data/handmade_data/stations.csv')\n",
    "minits = pd.read_csv('../data/handmade_data/minits.csv')\n",
    "addresses = pd.read_csv('../data/handmade_data/addresses.csv')\n",
    "room_arrange = pd.read_csv('../data/handmade_data/room_arrange.csv')\n",
    "buildings = pd.read_csv('../data/handmade_data/buildings.csv')\n",
    "\n",
    "rent = pd.read_csv('../data/handmade_data/rent.csv')\n",
    "\n",
    "\n",
    "##テストデータの読み込み\n",
    "test_house_age = pd.read_csv('../data/test_data/test_house_age.csv')\n",
    "test_area_size = pd.read_csv('../data/test_data/test_area_size.csv')\n",
    "test_room_arrange = pd.read_csv('../data/test_data/test_room_arrange.csv')\n",
    "test_contract_span = pd.read_csv('../data/test_data/test_contract_span.csv')\n",
    "test_contract_span2 = pd.read_csv('../data/test_data/test_contract_span2.csv')\n",
    "test_reg_rent = pd.read_csv('../data/test_data/test_reg_rent.csv')\n",
    "test_floor_scores = pd.read_csv('../data/test_data/test_floor_scores.csv')\n",
    "test_floor_scores2 = pd.read_csv('../data/test_data/test_floor_scores2.csv')\n",
    "test_Floor_scores = pd.read_csv('../data/test_data/test_capital_floor_scores.csv')\n",
    "test_Floor_scores2 = pd.read_csv('../data/test_data/test_capital_floor_scores2.csv')\n",
    "test_stations = pd.read_csv('../data/test_data/test_stations.csv')\n",
    "test_minits = pd.read_csv('../data/test_data/test_minits.csv')\n",
    "test_addresses = pd.read_csv('../data/test_data/test_addresses.csv')\n",
    "test_room_arrange = pd.read_csv('../data/test_data/test_room_arrange.csv')\n",
    "test_buildings = pd.read_csv('../data/test_data/test_buildings.csv')"
   ]
  },
  {
   "cell_type": "code",
   "execution_count": 2,
   "metadata": {},
   "outputs": [
    {
     "data": {
      "text/html": [
       "<div>\n",
       "<style scoped>\n",
       "    .dataframe tbody tr th:only-of-type {\n",
       "        vertical-align: middle;\n",
       "    }\n",
       "\n",
       "    .dataframe tbody tr th {\n",
       "        vertical-align: top;\n",
       "    }\n",
       "\n",
       "    .dataframe thead th {\n",
       "        text-align: right;\n",
       "    }\n",
       "</style>\n",
       "<table border=\"1\" class=\"dataframe\">\n",
       "  <thead>\n",
       "    <tr style=\"text-align: right;\">\n",
       "      <th></th>\n",
       "      <th>index</th>\n",
       "      <th>0</th>\n",
       "    </tr>\n",
       "  </thead>\n",
       "  <tbody>\n",
       "    <tr>\n",
       "      <th>0</th>\n",
       "      <td>0</td>\n",
       "      <td>131437.574027</td>\n",
       "    </tr>\n",
       "    <tr>\n",
       "      <th>1</th>\n",
       "      <td>1</td>\n",
       "      <td>120543.732748</td>\n",
       "    </tr>\n",
       "    <tr>\n",
       "      <th>2</th>\n",
       "      <td>2</td>\n",
       "      <td>77631.903069</td>\n",
       "    </tr>\n",
       "    <tr>\n",
       "      <th>3</th>\n",
       "      <td>3</td>\n",
       "      <td>59248.807982</td>\n",
       "    </tr>\n",
       "    <tr>\n",
       "      <th>4</th>\n",
       "      <td>4</td>\n",
       "      <td>109710.084264</td>\n",
       "    </tr>\n",
       "    <tr>\n",
       "      <th>...</th>\n",
       "      <td>...</td>\n",
       "      <td>...</td>\n",
       "    </tr>\n",
       "    <tr>\n",
       "      <th>31257</th>\n",
       "      <td>31257</td>\n",
       "      <td>109648.173645</td>\n",
       "    </tr>\n",
       "    <tr>\n",
       "      <th>31258</th>\n",
       "      <td>31258</td>\n",
       "      <td>98944.063686</td>\n",
       "    </tr>\n",
       "    <tr>\n",
       "      <th>31259</th>\n",
       "      <td>31259</td>\n",
       "      <td>174627.612451</td>\n",
       "    </tr>\n",
       "    <tr>\n",
       "      <th>31260</th>\n",
       "      <td>31260</td>\n",
       "      <td>253093.054171</td>\n",
       "    </tr>\n",
       "    <tr>\n",
       "      <th>31261</th>\n",
       "      <td>31261</td>\n",
       "      <td>79868.113133</td>\n",
       "    </tr>\n",
       "  </tbody>\n",
       "</table>\n",
       "<p>31262 rows × 2 columns</p>\n",
       "</div>"
      ],
      "text/plain": [
       "       index              0\n",
       "0          0  131437.574027\n",
       "1          1  120543.732748\n",
       "2          2   77631.903069\n",
       "3          3   59248.807982\n",
       "4          4  109710.084264\n",
       "...      ...            ...\n",
       "31257  31257  109648.173645\n",
       "31258  31258   98944.063686\n",
       "31259  31259  174627.612451\n",
       "31260  31260  253093.054171\n",
       "31261  31261   79868.113133\n",
       "\n",
       "[31262 rows x 2 columns]"
      ]
     },
     "execution_count": 2,
     "metadata": {},
     "output_type": "execute_result"
    }
   ],
   "source": [
    "average_result = []\n",
    "average_result = pd.DataFrame(average_result)\n",
    "\n",
    "GBDT_result = pd.read_csv('../data/result_data/GBDT_cv_result.csv')\n",
    "DART_result = pd.read_csv('../data/result_data/DART_cv_result.csv')\n",
    "GOSS_result = pd.read_csv('../data/result_data/GOSS_cv_result.csv')\n",
    "XGB_result = pd.read_csv('../data/result_data/XGB_cv_result.csv')\n",
    "CatBoost_result = pd.read_csv('../data/result_data/CatBoost_cv_result.csv')\n",
    "\n",
    "average_result = (GBDT_result['0'] + DART_result['0']+ GOSS_result['0'] + XGB_result['0'] + CatBoost_result['0'])/5\n",
    "average_result.reset_index()"
   ]
  },
  {
   "cell_type": "code",
   "execution_count": 3,
   "metadata": {},
   "outputs": [],
   "source": [
    "df = pd.read_csv('../data/outer_data/test.csv')\n",
    "id = df['id']\n",
    "average_result = pd.concat([id, average_result],axis=1)\n",
    "average_result.to_csv('../data/result_data/average_result.csv',index=False)"
   ]
  },
  {
   "cell_type": "code",
   "execution_count": 4,
   "metadata": {},
   "outputs": [
    {
     "data": {
      "text/plain": [
       "[<matplotlib.lines.Line2D at 0x1404aaf80>,\n",
       " <matplotlib.lines.Line2D at 0x1404aae30>]"
      ]
     },
     "execution_count": 4,
     "metadata": {},
     "output_type": "execute_result"
    },
    {
     "data": {
      "image/png": "[encoded data removed]",
      "text/plain": [
       "<Figure size 640x480 with 1 Axes>"
      ]
     },
     "metadata": {},
     "output_type": "display_data"
    }
   ],
   "source": [
    "plt.plot(average_result)"
   ]
  },
  {
   "cell_type": "code",
   "execution_count": 5,
   "metadata": {},
   "outputs": [
    {
     "data": {
      "text/html": [
       "<div>\n",
       "<style scoped>\n",
       "    .dataframe tbody tr th:only-of-type {\n",
       "        vertical-align: middle;\n",
       "    }\n",
       "\n",
       "    .dataframe tbody tr th {\n",
       "        vertical-align: top;\n",
       "    }\n",
       "\n",
       "    .dataframe thead th {\n",
       "        text-align: right;\n",
       "    }\n",
       "</style>\n",
       "<table border=\"1\" class=\"dataframe\">\n",
       "  <thead>\n",
       "    <tr style=\"text-align: right;\">\n",
       "      <th></th>\n",
       "      <th>id</th>\n",
       "      <th>0</th>\n",
       "    </tr>\n",
       "  </thead>\n",
       "  <tbody>\n",
       "    <tr>\n",
       "      <th>id</th>\n",
       "      <td>1.000000</td>\n",
       "      <td>0.004537</td>\n",
       "    </tr>\n",
       "    <tr>\n",
       "      <th>0</th>\n",
       "      <td>0.004537</td>\n",
       "      <td>1.000000</td>\n",
       "    </tr>\n",
       "  </tbody>\n",
       "</table>\n",
       "</div>"
      ],
      "text/plain": [
       "          id         0\n",
       "id  1.000000  0.004537\n",
       "0   0.004537  1.000000"
      ]
     },
     "execution_count": 5,
     "metadata": {},
     "output_type": "execute_result"
    }
   ],
   "source": [
    "average_result.corr()"
   ]
  },
  {
   "cell_type": "code",
   "execution_count": 14,
   "metadata": {},
   "outputs": [
    {
     "data": {
      "text/html": [
       "<div>\n",
       "<style scoped>\n",
       "    .dataframe tbody tr th:only-of-type {\n",
       "        vertical-align: middle;\n",
       "    }\n",
       "\n",
       "    .dataframe tbody tr th {\n",
       "        vertical-align: top;\n",
       "    }\n",
       "\n",
       "    .dataframe thead th {\n",
       "        text-align: right;\n",
       "    }\n",
       "</style>\n",
       "<table border=\"1\" class=\"dataframe\">\n",
       "  <thead>\n",
       "    <tr style=\"text-align: right;\">\n",
       "      <th></th>\n",
       "      <th>0</th>\n",
       "      <th>0</th>\n",
       "      <th>0</th>\n",
       "      <th>0</th>\n",
       "    </tr>\n",
       "  </thead>\n",
       "  <tbody>\n",
       "    <tr>\n",
       "      <th>0</th>\n",
       "      <td>1.000000</td>\n",
       "      <td>0.993256</td>\n",
       "      <td>0.992790</td>\n",
       "      <td>0.984456</td>\n",
       "    </tr>\n",
       "    <tr>\n",
       "      <th>0</th>\n",
       "      <td>0.993256</td>\n",
       "      <td>1.000000</td>\n",
       "      <td>0.990285</td>\n",
       "      <td>0.985869</td>\n",
       "    </tr>\n",
       "    <tr>\n",
       "      <th>0</th>\n",
       "      <td>0.992790</td>\n",
       "      <td>0.990285</td>\n",
       "      <td>1.000000</td>\n",
       "      <td>0.987695</td>\n",
       "    </tr>\n",
       "    <tr>\n",
       "      <th>0</th>\n",
       "      <td>0.984456</td>\n",
       "      <td>0.985869</td>\n",
       "      <td>0.987695</td>\n",
       "      <td>1.000000</td>\n",
       "    </tr>\n",
       "  </tbody>\n",
       "</table>\n",
       "</div>"
      ],
      "text/plain": [
       "          0         0         0         0\n",
       "0  1.000000  0.993256  0.992790  0.984456\n",
       "0  0.993256  1.000000  0.990285  0.985869\n",
       "0  0.992790  0.990285  1.000000  0.987695\n",
       "0  0.984456  0.985869  0.987695  1.000000"
      ]
     },
     "execution_count": 14,
     "metadata": {},
     "output_type": "execute_result"
    }
   ],
   "source": [
    "corr = pd.concat([GBDT_result['0'], DART_result['0'], GOSS_result['0'], XGB_result['0']], axis=1)\n",
    "corr.corr()"
   ]
  },
  {
   "cell_type": "code",
   "execution_count": null,
   "metadata": {},
   "outputs": [],
   "source": []
  }
 ],
 "metadata": {
  "kernelspec": {
   "display_name": "Python 3.10.5 ('venv': venv)",
   "language": "python",
   "name": "python3"
  },
  "language_info": {
   "codemirror_mode": {
    "name": "ipython",
    "version": 3
   },
   "file_extension": ".py",
   "mimetype": "text/x-python",
   "name": "python",
   "nbconvert_exporter": "python",
   "pygments_lexer": "ipython3",
   "version": "3.10.5"
  },
  "orig_nbformat": 4,
  "vscode": {
   "interpreter": {
    "hash": "b37a52d913339e4f7edd98eba251795ba561325231c15b6137ab41e2758152be"
   }
  }
 },
 "nbformat": 4,
 "nbformat_minor": 2
}
