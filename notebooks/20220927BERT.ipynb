{
 "cells": [
  {
   "cell_type": "markdown",
   "metadata": {},
   "source": [
    "### 「バス・トイレ別」などのようなテキストデータ主体のデータをBERTでベクトル化する"
   ]
  },
  {
   "cell_type": "code",
   "execution_count": 33,
   "metadata": {},
   "outputs": [],
   "source": [
    "import pandas as pd\n",
    "import numpy as np\n",
    "import matplotlib.pyplot as plt\n",
    "from sklearn.model_selection import train_test_split\n",
    "import scipy as sp\n",
    "import lightgbm as lgb\n",
    "import category_encoders as ce\n",
    "# import mojimoji\n",
    "import re\n",
    "from cmath import nan\n",
    "from sklearn.ensemble import RandomForestRegressor\n",
    "from sklearn.metrics import accuracy_score\n",
    "import optuna\n",
    "from sklearn.metrics import mean_squared_error\n",
    "import japanize_matplotlib\n",
    "from sklearn.model_selection import KFold\n",
    "import xgboost\n",
    "\n",
    "###訓練データの読み込み\n",
    "house_age = pd.read_csv('../data/handmade_data/house_age.csv')\n",
    "area_size = pd.read_csv('../data/handmade_data/area_size.csv')\n",
    "room_arrange = pd.read_csv('../data/handmade_data/room_arrange.csv')\n",
    "contract_span = pd.read_csv('../data/handmade_data/contract_span.csv')#欠損値をゼロ埋めした契約期間\n",
    "contract_span2 = pd.read_csv('../data/handmade_data/contract_span2.csv')#欠損値を欠損値のままにした契約期間\n",
    "reg_rent = pd.read_csv('../data/handmade_data/reg_rent.csv')\n",
    "floor_scores = pd.read_csv('../data/handmade_data/floor_scores.csv')#「所在階」と「全体の階数」が連動して欠損値になる場合のある「所在階」\n",
    "floor_scores2 = pd.read_csv('../data/handmade_data/floor_scores2.csv')#「所在階」と「全体の階数」が独立している「所在階」\n",
    "Floor_scores = pd.read_csv('../data/handmade_data/capital_floor_scores.csv')#「所在階」と「全体の階数」が連動して欠損値になる場合のある「全体の階数」\n",
    "Floor_scores2 = pd.read_csv('../data/handmade_data/capital_floor_scores2.csv')#「所在階」と「全体の階数」が独立している「全体の階数」\n",
    "stations = pd.read_csv('../data/handmade_data/stations.csv')\n",
    "minits = pd.read_csv('../data/handmade_data/minits.csv')\n",
    "addresses = pd.read_csv('../data/handmade_data/addresses.csv')\n",
    "room_arrange = pd.read_csv('../data/handmade_data/room_arrange.csv')\n",
    "buildings = pd.read_csv('../data/handmade_data/buildings.csv')\n",
    "land_aveprice = pd.read_csv('../data/handmade_data/land_aveprice.csv')\n",
    "land_aveprice.columns = ['平均地価']\n",
    "over100m2 = pd.read_csv('../data/handmade_data/over100m2.csv')\n",
    "bt75and100m2 = pd.read_csv('../data/handmade_data/bt75and100m2.csv')\n",
    "bt50and75m2 = pd.read_csv('../data/handmade_data/bt50and75m2.csv')\n",
    "sepa_bath_toilets = pd.read_csv('../data/handmade_data/sepa_bath_toilets.csv')\n",
    "washlets = pd.read_csv('../data/handmade_data/washlets.csv')\n",
    "\n",
    "rent = pd.read_csv('../data/handmade_data/rent.csv')\n",
    "\n",
    "\n",
    "##テストデータの読み込み\n",
    "test_house_age = pd.read_csv('../data/test_data/test_house_age.csv')\n",
    "test_area_size = pd.read_csv('../data/test_data/test_area_size.csv')\n",
    "test_room_arrange = pd.read_csv('../data/test_data/test_room_arrange.csv')\n",
    "test_contract_span = pd.read_csv('../data/test_data/test_contract_span.csv')\n",
    "test_contract_span2 = pd.read_csv('../data/test_data/test_contract_span2.csv')\n",
    "test_contract_span2.columns = ['契約期間']\n",
    "test_reg_rent = pd.read_csv('../data/test_data/test_reg_rent.csv')\n",
    "test_floor_scores = pd.read_csv('../data/test_data/test_floor_scores.csv')\n",
    "test_floor_scores2 = pd.read_csv('../data/test_data/test_floor_scores2.csv')\n",
    "test_Floor_scores = pd.read_csv('../data/test_data/test_capital_floor_scores.csv')\n",
    "test_Floor_scores2 = pd.read_csv('../data/test_data/test_capital_floor_scores2.csv')\n",
    "test_stations = pd.read_csv('../data/test_data/test_stations.csv')\n",
    "test_minits = pd.read_csv('../data/test_data/test_minits.csv')\n",
    "test_addresses = pd.read_csv('../data/test_data/test_addresses.csv')\n",
    "test_room_arrange = pd.read_csv('../data/test_data/test_room_arrange.csv')\n",
    "test_buildings = pd.read_csv('../data/test_data/test_buildings.csv')\n",
    "test_land_aveprice = pd.read_csv('../data/test_data/test_land_aveprice.csv')\n",
    "test_land_aveprice.columns = ['平均地価']\n",
    "test_over100m2 = pd.read_csv('../data/test_data/test_over100m2.csv')\n",
    "test_bt75and100m2 = pd.read_csv('../data/test_data/test_bt75and100m2.csv')\n",
    "test_bt50and75m2 = pd.read_csv('../data/test_data/test_bt50and75m2.csv')\n",
    "test_sepa_bath_toilets = pd.read_csv('../data/test_data/test_sepa_bath_toilets.csv')\n",
    "test_washlets = pd.read_csv('../data/test_data/test_washlets.csv')\n",
    "\n",
    "\n",
    "X_train = pd.concat([house_age, area_size, contract_span2, reg_rent, floor_scores2, Floor_scores2, stations, minits, land_aveprice, addresses, room_arrange[[\"部屋数\",\"L\",\"D\",'K',\"S\"]], over100m2, bt75and100m2, bt50and75m2], axis=1)\n",
    "y_train = pd.read_csv('../data/handmade_data/rent.csv')\n",
    "y_train.loc[[5775], '賃料'] = y_train.loc[[5775], '賃料']/10\n",
    "X_test = pd.concat([test_house_age, test_area_size, test_contract_span2, test_reg_rent, test_floor_scores2, test_Floor_scores2, test_stations, test_minits, test_land_aveprice, test_addresses, test_room_arrange[[\"部屋数\",\"L\",\"D\",'K','S']], test_over100m2, test_bt75and100m2, test_bt50and75m2], axis=1)\n",
    "category_lists = ['定期借家','最寄り駅', '所在地', 'L', 'D','K', 'S', '100m^2以上', '75m^2以上100m^2未満']"
   ]
  },
  {
   "cell_type": "code",
   "execution_count": 34,
   "metadata": {},
   "outputs": [],
   "source": [
    "train_df = pd.read_csv('../data/outer_data/train.csv')\n",
    "test_df = pd.read_csv('../data/outer_data/test.csv')"
   ]
  },
  {
   "cell_type": "markdown",
   "metadata": {},
   "source": [
    "BERTを導入する"
   ]
  },
  {
   "cell_type": "code",
   "execution_count": 17,
   "metadata": {},
   "outputs": [
    {
     "name": "stderr",
     "output_type": "stream",
     "text": [
      "[nltk_data] Downloading package wordnet to\n",
      "[nltk_data]     /Users/koshidatatsuo/nltk_data...\n",
      "[nltk_data]   Package wordnet is already up-to-date!\n",
      "[nltk_data] Downloading package stopwords to\n",
      "[nltk_data]     /Users/koshidatatsuo/nltk_data...\n",
      "[nltk_data]   Package stopwords is already up-to-date!\n",
      "[nltk_data] Downloading package punkt to\n",
      "[nltk_data]     /Users/koshidatatsuo/nltk_data...\n",
      "[nltk_data]   Package punkt is already up-to-date!\n"
     ]
    },
    {
     "data": {
      "text/plain": [
       "True"
      ]
     },
     "execution_count": 17,
     "metadata": {},
     "output_type": "execute_result"
    }
   ],
   "source": [
    "import torch\n",
    "import transformers\n",
    "from transformers import BertTokenizer, BertJapaneseTokenizer\n",
    "import re\n",
    "import requests\n",
    "import unicodedata\n",
    "import nltk\n",
    "from nltk.corpus import wordnet\n",
    "from bs4 import BeautifulSoup\n",
    "nltk.download(['wordnet', 'stopwords', 'punkt'])"
   ]
  },
  {
   "cell_type": "code",
   "execution_count": 18,
   "metadata": {},
   "outputs": [],
   "source": [
    "def clean_text(text):\n",
    "    replaced_text = text.lower()\n",
    "    replaced_text = re.sub(r'[【】]', ' ', replaced_text)       # 【】の除去\n",
    "    replaced_text = re.sub(r'[（）()]', ' ', replaced_text)     # （）の除去\n",
    "    replaced_text = re.sub(r'[［］\\[\\]]', ' ', replaced_text)   # ［］の除去\n",
    "    replaced_text = re.sub(r'[『』]', ' ', replaced_text)   # 『』の除去\n",
    "    replaced_text = re.sub(r'[@＠]\\w+', '', replaced_text)  # メンションの除去\n",
    "    replaced_text = re.sub(r'https?:\\/\\/.*?[\\r\\n ]', '', replaced_text)  # URLの除去\n",
    "    replaced_text = re.sub(r'　', ' ', replaced_text)  # 全角空白の除去\n",
    "    replaced_text = re.sub(r' ', '', replaced_text)  # 空白の除去\n",
    "    return replaced_text\n",
    "\n",
    "\n",
    "def clean_html_tags(html_text):\n",
    "    soup = BeautifulSoup(html_text, 'html.parser')\n",
    "    cleaned_text = soup.get_text()\n",
    "    cleaned_text = ''.join(cleaned_text.splitlines())\n",
    "    return cleaned_text\n",
    "\n",
    "\n",
    "def clean_html_and_js_tags(html_text):\n",
    "    soup = BeautifulSoup(html_text, 'html.parser')\n",
    "    [x.extract() for x in soup.findAll(['script', 'style'])]\n",
    "    cleaned_text = soup.get_text()\n",
    "    cleaned_text = ''.join(cleaned_text.splitlines())\n",
    "    return cleaned_text\n",
    "\n",
    "\n",
    "def clean_url(html_text):\n",
    "    cleaned_text = re.sub(r'http\\S+', '', html_text)\n",
    "    return cleaned_text\n",
    "\n",
    "\n",
    "def normalize(text):\n",
    "    normalized_text = normalize_unicode(text)\n",
    "    normalized_text = normalize_number(normalized_text)\n",
    "    normalized_text = lower_text(normalized_text)\n",
    "    return normalized_text\n",
    "\n",
    "\n",
    "def lower_text(text):\n",
    "    return text.lower()\n",
    "\n",
    "\n",
    "def normalize_unicode(text, form='NFKC'):\n",
    "    normalized_text = unicodedata.normalize(form, text)\n",
    "    return normalized_text\n",
    "\n",
    "\n",
    "def normalize_number(text):\n",
    "    replaced_text = re.sub(r'\\d+', '0', text)\n",
    "    return replaced_text\n",
    "\n",
    "\n",
    "def text_cleaning(text):\n",
    "    text = clean_text(text)\n",
    "    text = clean_html_tags(text)\n",
    "    text = clean_html_and_js_tags(text)\n",
    "    text = clean_url(text)\n",
    "    text = normalize(text)\n",
    "    text = lower_text(text)\n",
    "    text = normalize_unicode(text)\n",
    "\n",
    "    return text"
   ]
  },
  {
   "cell_type": "code",
   "execution_count": 19,
   "metadata": {},
   "outputs": [],
   "source": [
    "class BertSequenceVectorizer:\n",
    "    def __init__(self, model_name: str):\n",
    "        self.device = 'cuda' if torch.cuda.is_available() else 'cpu'\n",
    "        self.model_name = model_name\n",
    "        self.tokenizer = transformers.T5Tokenizer.from_pretrained(self.model_name)\n",
    "        self.tokenizer.do_lower_case = True \n",
    "        self.bert_model = transformers.RobertaModel.from_pretrained(self.model_name)\n",
    "        self.bert_model = self.bert_model.to(self.device)\n",
    "        self.max_len = 256\n",
    "\n",
    "\n",
    "    def vectorize(self, sentence : str) -> np.array:\n",
    "        inp = self.tokenizer.encode(sentence)\n",
    "        len_inp = len(inp)\n",
    "\n",
    "        if len_inp >= self.max_len:\n",
    "            inputs = inp[:self.max_len]\n",
    "            masks = [1] * self.max_len\n",
    "        else:\n",
    "            inputs = inp + [0] * (self.max_len - len_inp)\n",
    "            masks = [1] * len_inp + [0] * (self.max_len - len_inp)\n",
    "\n",
    "        inputs_tensor = torch.tensor([inputs], dtype=torch.long).to(self.device)\n",
    "        masks_tensor = torch.tensor([masks], dtype=torch.long).to(self.device)\n",
    "\n",
    "        bert_out = self.bert_model(inputs_tensor, masks_tensor)\n",
    "        seq_out, pooled_out = bert_out['last_hidden_state'], bert_out['pooler_output']\n",
    "\n",
    "        if torch.cuda.is_available():    \n",
    "            return seq_out[0][0].cpu().detach().numpy()\n",
    "        else:\n",
    "            return seq_out[0][0].detach().numpy()"
   ]
  },
  {
   "cell_type": "code",
   "execution_count": 20,
   "metadata": {},
   "outputs": [
    {
     "name": "stderr",
     "output_type": "stream",
     "text": [
      "Some weights of the model checkpoint at rinna/japanese-roberta-base were not used when initializing RobertaModel: ['lm_head.layer_norm.bias', 'lm_head.decoder.bias', 'lm_head.dense.weight', 'lm_head.decoder.weight', 'lm_head.bias', 'lm_head.dense.bias', 'lm_head.layer_norm.weight']\n",
      "- This IS expected if you are initializing RobertaModel from the checkpoint of a model trained on another task or with another architecture (e.g. initializing a BertForSequenceClassification model from a BertForPreTraining model).\n",
      "- This IS NOT expected if you are initializing RobertaModel from the checkpoint of a model that you expect to be exactly identical (initializing a BertForSequenceClassification model from a BertForSequenceClassification model).\n",
      "Some weights of RobertaModel were not initialized from the model checkpoint at rinna/japanese-roberta-base and are newly initialized: ['roberta.pooler.dense.bias', 'roberta.pooler.dense.weight']\n",
      "You should probably TRAIN this model on a down-stream task to be able to use it for predictions and inference.\n"
     ]
    }
   ],
   "source": [
    "BSV = BertSequenceVectorizer('rinna/japanese-roberta-base')\n",
    "\n",
    "## テキストの欠損値を補間します\n",
    "train_df[\"周辺環境\"] = train_df[\"周辺環境\"].fillna('NaN')\n",
    "test_df[\"周辺環境\"] = test_df[\"周辺環境\"].fillna('NaN')\n",
    "\n",
    "## BERT特徴量 \n",
    "features_text_train = np.stack(train_df[\"周辺環境\"].fillna(\"\").map(lambda x: BSV.vectorize(x).reshape(-1)).values)\n",
    "features_text_test = np.stack(test_df[\"周辺環境\"].fillna(\"\").map(lambda x: BSV.vectorize(x).reshape(-1)).values)"
   ]
  },
  {
   "cell_type": "code",
   "execution_count": 35,
   "metadata": {},
   "outputs": [],
   "source": [
    "## テキスト特徴量\n",
    "features_text_train_df = pd.DataFrame(features_text_train).add_prefix(\"Roberta-text\")\n",
    "features_text_test_df = pd.DataFrame(features_text_test).add_prefix(\"Roberta-text\")\n",
    "\n",
    "train_df = pd.concat([X_train, features_text_train_df], axis=1)\n",
    "test_df = pd.concat([X_test, features_text_test_df], axis=1)"
   ]
  },
  {
   "cell_type": "code",
   "execution_count": 36,
   "metadata": {},
   "outputs": [
    {
     "name": "stdout",
     "output_type": "stream",
     "text": [
      "(31470, 786)\n",
      "(31262, 786)\n"
     ]
    }
   ],
   "source": [
    "print(train_df.shape)\n",
    "print(test_df.shape)"
   ]
  },
  {
   "cell_type": "code",
   "execution_count": 24,
   "metadata": {},
   "outputs": [],
   "source": [
    "features_text_train_df.to_csv('../data/handmade_data/text_bert1.csv',index=False)\n",
    "features_text_test_df.to_csv('../data/test_data/test_text_bert.csv',index=False)"
   ]
  },
  {
   "cell_type": "markdown",
   "metadata": {},
   "source": [
    "BERTで特徴良化したテキストデータを突っ込んで、LightGBMを動かしてみる！"
   ]
  },
  {
   "cell_type": "code",
   "execution_count": 37,
   "metadata": {},
   "outputs": [],
   "source": [
    "X_train = train_df\n",
    "X_test = test_df"
   ]
  },
  {
   "cell_type": "code",
   "execution_count": 38,
   "metadata": {},
   "outputs": [
    {
     "name": "stdout",
     "output_type": "stream",
     "text": [
      "Start training...\n"
     ]
    },
    {
     "name": "stderr",
     "output_type": "stream",
     "text": [
      "/Users/koshidatatsuo/python/signate/mynabi/venv/lib/python3.10/site-packages/lightgbm/engine.py:181: UserWarning: 'early_stopping_rounds' argument is deprecated and will be removed in a future release of LightGBM. Pass 'early_stopping()' callback via 'callbacks' argument instead.\n",
      "  _log_warning(\"'early_stopping_rounds' argument is deprecated and will be removed in a future release of LightGBM. \"\n",
      "/Users/koshidatatsuo/python/signate/mynabi/venv/lib/python3.10/site-packages/lightgbm/basic.py:2068: UserWarning: categorical_feature in Dataset is overridden.\n",
      "New categorical_feature is ['100m^2以上', '75m^2以上100m^2未満', 'D', 'K', 'L', 'S', '定期借家', '所在地', '最寄り駅']\n",
      "  _log_warning('categorical_feature in Dataset is overridden.\\n'\n",
      "/Users/koshidatatsuo/python/signate/mynabi/venv/lib/python3.10/site-packages/lightgbm/engine.py:239: UserWarning: 'verbose_eval' argument is deprecated and will be removed in a future release of LightGBM. Pass 'log_evaluation()' callback via 'callbacks' argument instead.\n",
      "  _log_warning(\"'verbose_eval' argument is deprecated and will be removed in a future release of LightGBM. \"\n",
      "/Users/koshidatatsuo/python/signate/mynabi/venv/lib/python3.10/site-packages/lightgbm/engine.py:260: UserWarning: 'evals_result' argument is deprecated and will be removed in a future release of LightGBM. Pass 'record_evaluation()' callback via 'callbacks' argument instead.\n",
      "  _log_warning(\"'evals_result' argument is deprecated and will be removed in a future release of LightGBM. \"\n"
     ]
    },
    {
     "name": "stdout",
     "output_type": "stream",
     "text": [
      "[LightGBM] [Warning] Auto-choosing col-wise multi-threading, the overhead of testing was 0.077794 seconds.\n",
      "You can set `force_col_wise=true` to remove the overhead.\n",
      "[LightGBM] [Info] Total Bins 266330\n",
      "[LightGBM] [Info] Number of data points in the train set: 25176, number of used features: 786\n",
      "[LightGBM] [Info] Start training from score 118516.069987\n"
     ]
    },
    {
     "name": "stderr",
     "output_type": "stream",
     "text": [
      "/Users/koshidatatsuo/python/signate/mynabi/venv/lib/python3.10/site-packages/lightgbm/basic.py:1780: UserWarning: Overriding the parameters from Reference Dataset.\n",
      "  _log_warning('Overriding the parameters from Reference Dataset.')\n",
      "/Users/koshidatatsuo/python/signate/mynabi/venv/lib/python3.10/site-packages/lightgbm/basic.py:1513: UserWarning: categorical_column in param dict is overridden.\n",
      "  _log_warning(f'{cat_alias} in param dict is overridden.')\n"
     ]
    },
    {
     "name": "stdout",
     "output_type": "stream",
     "text": [
      "Training until validation scores don't improve for 10 rounds\n",
      "[10]\ttraining's rmse: 48733.3\tvalid_1's rmse: 50236.2\n",
      "[20]\ttraining's rmse: 34334.1\tvalid_1's rmse: 38048.3\n",
      "[30]\ttraining's rmse: 25903.9\tvalid_1's rmse: 31644.4\n",
      "[40]\ttraining's rmse: 20789.8\tvalid_1's rmse: 27793.7\n",
      "[50]\ttraining's rmse: 17475.2\tvalid_1's rmse: 25532.5\n",
      "[60]\ttraining's rmse: 15364.3\tvalid_1's rmse: 24186.1\n",
      "[70]\ttraining's rmse: 13944.7\tvalid_1's rmse: 23327.6\n",
      "[80]\ttraining's rmse: 12949\tvalid_1's rmse: 22735.3\n",
      "[90]\ttraining's rmse: 12180.9\tvalid_1's rmse: 22302.8\n",
      "[100]\ttraining's rmse: 11522.9\tvalid_1's rmse: 21911.4\n",
      "[110]\ttraining's rmse: 10984.8\tvalid_1's rmse: 21553.3\n",
      "[120]\ttraining's rmse: 10514\tvalid_1's rmse: 21262.3\n",
      "[130]\ttraining's rmse: 10089.1\tvalid_1's rmse: 21024.4\n",
      "[140]\ttraining's rmse: 9693.47\tvalid_1's rmse: 20822\n",
      "[150]\ttraining's rmse: 9343.8\tvalid_1's rmse: 20623.7\n",
      "[160]\ttraining's rmse: 9028.97\tvalid_1's rmse: 20429.8\n",
      "[170]\ttraining's rmse: 8747.34\tvalid_1's rmse: 20249.7\n",
      "[180]\ttraining's rmse: 8473.86\tvalid_1's rmse: 20120.9\n",
      "[190]\ttraining's rmse: 8230.36\tvalid_1's rmse: 19945.8\n",
      "[200]\ttraining's rmse: 8006.95\tvalid_1's rmse: 19808.4\n",
      "[210]\ttraining's rmse: 7787.92\tvalid_1's rmse: 19693.8\n",
      "[220]\ttraining's rmse: 7564.49\tvalid_1's rmse: 19535.1\n",
      "[230]\ttraining's rmse: 7374.18\tvalid_1's rmse: 19412.5\n",
      "[240]\ttraining's rmse: 7192.38\tvalid_1's rmse: 19306.8\n",
      "[250]\ttraining's rmse: 7002.28\tvalid_1's rmse: 19211\n",
      "[260]\ttraining's rmse: 6846.12\tvalid_1's rmse: 19119.8\n",
      "[270]\ttraining's rmse: 6686.79\tvalid_1's rmse: 19033.9\n",
      "[280]\ttraining's rmse: 6544.16\tvalid_1's rmse: 18943.5\n",
      "[290]\ttraining's rmse: 6392.38\tvalid_1's rmse: 18875.3\n",
      "[300]\ttraining's rmse: 6264.94\tvalid_1's rmse: 18809.6\n",
      "[310]\ttraining's rmse: 6125.89\tvalid_1's rmse: 18733.6\n",
      "[320]\ttraining's rmse: 6011.59\tvalid_1's rmse: 18674\n",
      "[330]\ttraining's rmse: 5883.87\tvalid_1's rmse: 18628.9\n",
      "[340]\ttraining's rmse: 5769.47\tvalid_1's rmse: 18580.4\n",
      "[350]\ttraining's rmse: 5656.77\tvalid_1's rmse: 18530.2\n",
      "[360]\ttraining's rmse: 5548.13\tvalid_1's rmse: 18480.7\n",
      "[370]\ttraining's rmse: 5440.63\tvalid_1's rmse: 18435.2\n",
      "[380]\ttraining's rmse: 5334.04\tvalid_1's rmse: 18386.4\n",
      "[390]\ttraining's rmse: 5237.11\tvalid_1's rmse: 18336\n",
      "[400]\ttraining's rmse: 5138.03\tvalid_1's rmse: 18306.5\n",
      "[410]\ttraining's rmse: 5050.72\tvalid_1's rmse: 18258.8\n",
      "[420]\ttraining's rmse: 4966.49\tvalid_1's rmse: 18215.8\n",
      "[430]\ttraining's rmse: 4877.16\tvalid_1's rmse: 18179.8\n",
      "[440]\ttraining's rmse: 4798.51\tvalid_1's rmse: 18140.7\n",
      "[450]\ttraining's rmse: 4725.18\tvalid_1's rmse: 18110.7\n",
      "[460]\ttraining's rmse: 4638.49\tvalid_1's rmse: 18068.5\n",
      "[470]\ttraining's rmse: 4569.15\tvalid_1's rmse: 18043.5\n",
      "[480]\ttraining's rmse: 4500.68\tvalid_1's rmse: 18016.6\n",
      "[490]\ttraining's rmse: 4434.87\tvalid_1's rmse: 17987.1\n",
      "[500]\ttraining's rmse: 4367.97\tvalid_1's rmse: 17956.9\n",
      "[510]\ttraining's rmse: 4302.59\tvalid_1's rmse: 17929.2\n",
      "[520]\ttraining's rmse: 4236.75\tvalid_1's rmse: 17905.7\n",
      "[530]\ttraining's rmse: 4172.74\tvalid_1's rmse: 17882.6\n",
      "[540]\ttraining's rmse: 4112.86\tvalid_1's rmse: 17849.5\n",
      "[550]\ttraining's rmse: 4045.46\tvalid_1's rmse: 17832.9\n",
      "[560]\ttraining's rmse: 3992.06\tvalid_1's rmse: 17811.7\n",
      "[570]\ttraining's rmse: 3938.77\tvalid_1's rmse: 17795.5\n",
      "[580]\ttraining's rmse: 3880.74\tvalid_1's rmse: 17776.2\n",
      "[590]\ttraining's rmse: 3823.08\tvalid_1's rmse: 17758.1\n",
      "[600]\ttraining's rmse: 3773.52\tvalid_1's rmse: 17743.2\n",
      "[610]\ttraining's rmse: 3718.03\tvalid_1's rmse: 17732.9\n",
      "[620]\ttraining's rmse: 3671.71\tvalid_1's rmse: 17711.2\n",
      "[630]\ttraining's rmse: 3623.01\tvalid_1's rmse: 17688.8\n",
      "[640]\ttraining's rmse: 3576.08\tvalid_1's rmse: 17677.5\n",
      "[650]\ttraining's rmse: 3527.49\tvalid_1's rmse: 17660.7\n",
      "[660]\ttraining's rmse: 3483.17\tvalid_1's rmse: 17652\n",
      "[670]\ttraining's rmse: 3439.57\tvalid_1's rmse: 17634.1\n",
      "[680]\ttraining's rmse: 3404.28\tvalid_1's rmse: 17621.5\n",
      "[690]\ttraining's rmse: 3362.94\tvalid_1's rmse: 17608\n",
      "[700]\ttraining's rmse: 3324.26\tvalid_1's rmse: 17592.2\n",
      "[710]\ttraining's rmse: 3286.12\tvalid_1's rmse: 17584.1\n",
      "[720]\ttraining's rmse: 3246.83\tvalid_1's rmse: 17574.4\n",
      "[730]\ttraining's rmse: 3212.61\tvalid_1's rmse: 17565.6\n",
      "[740]\ttraining's rmse: 3173.76\tvalid_1's rmse: 17556.3\n",
      "[750]\ttraining's rmse: 3138.18\tvalid_1's rmse: 17542.4\n",
      "[760]\ttraining's rmse: 3095.66\tvalid_1's rmse: 17532.3\n",
      "[770]\ttraining's rmse: 3063.82\tvalid_1's rmse: 17525.3\n",
      "[780]\ttraining's rmse: 3027.76\tvalid_1's rmse: 17513.7\n",
      "[790]\ttraining's rmse: 2998.1\tvalid_1's rmse: 17509\n",
      "[800]\ttraining's rmse: 2962.33\tvalid_1's rmse: 17496.4\n",
      "[810]\ttraining's rmse: 2928.31\tvalid_1's rmse: 17483.5\n",
      "[820]\ttraining's rmse: 2893.08\tvalid_1's rmse: 17474.5\n",
      "[830]\ttraining's rmse: 2855.53\tvalid_1's rmse: 17461.3\n",
      "[840]\ttraining's rmse: 2821.4\tvalid_1's rmse: 17453.3\n",
      "[850]\ttraining's rmse: 2788.16\tvalid_1's rmse: 17441.4\n",
      "[860]\ttraining's rmse: 2754.14\tvalid_1's rmse: 17426.1\n",
      "[870]\ttraining's rmse: 2726.62\tvalid_1's rmse: 17414.9\n",
      "[880]\ttraining's rmse: 2697.2\tvalid_1's rmse: 17410.9\n",
      "[890]\ttraining's rmse: 2670.09\tvalid_1's rmse: 17404\n",
      "[900]\ttraining's rmse: 2639.42\tvalid_1's rmse: 17400.9\n",
      "[910]\ttraining's rmse: 2614.38\tvalid_1's rmse: 17396.8\n",
      "[920]\ttraining's rmse: 2590\tvalid_1's rmse: 17387.8\n",
      "[930]\ttraining's rmse: 2564.29\tvalid_1's rmse: 17377.9\n",
      "[940]\ttraining's rmse: 2537.12\tvalid_1's rmse: 17370.9\n",
      "[950]\ttraining's rmse: 2512.58\tvalid_1's rmse: 17365.5\n",
      "[960]\ttraining's rmse: 2485.9\tvalid_1's rmse: 17357.9\n",
      "[970]\ttraining's rmse: 2463.71\tvalid_1's rmse: 17355.7\n",
      "[980]\ttraining's rmse: 2439.03\tvalid_1's rmse: 17353.9\n",
      "[990]\ttraining's rmse: 2415.73\tvalid_1's rmse: 17344.5\n",
      "[1000]\ttraining's rmse: 2390.62\tvalid_1's rmse: 17335.7\n",
      "Did not meet early stopping. Best iteration is:\n",
      "[1000]\ttraining's rmse: 2390.62\tvalid_1's rmse: 17335.7\n",
      "Start training...\n"
     ]
    },
    {
     "name": "stderr",
     "output_type": "stream",
     "text": [
      "/Users/koshidatatsuo/python/signate/mynabi/venv/lib/python3.10/site-packages/lightgbm/engine.py:181: UserWarning: 'early_stopping_rounds' argument is deprecated and will be removed in a future release of LightGBM. Pass 'early_stopping()' callback via 'callbacks' argument instead.\n",
      "  _log_warning(\"'early_stopping_rounds' argument is deprecated and will be removed in a future release of LightGBM. \"\n",
      "/Users/koshidatatsuo/python/signate/mynabi/venv/lib/python3.10/site-packages/lightgbm/basic.py:2068: UserWarning: categorical_feature in Dataset is overridden.\n",
      "New categorical_feature is ['100m^2以上', '75m^2以上100m^2未満', 'D', 'K', 'L', 'S', '定期借家', '所在地', '最寄り駅']\n",
      "  _log_warning('categorical_feature in Dataset is overridden.\\n'\n",
      "/Users/koshidatatsuo/python/signate/mynabi/venv/lib/python3.10/site-packages/lightgbm/engine.py:239: UserWarning: 'verbose_eval' argument is deprecated and will be removed in a future release of LightGBM. Pass 'log_evaluation()' callback via 'callbacks' argument instead.\n",
      "  _log_warning(\"'verbose_eval' argument is deprecated and will be removed in a future release of LightGBM. \"\n",
      "/Users/koshidatatsuo/python/signate/mynabi/venv/lib/python3.10/site-packages/lightgbm/engine.py:260: UserWarning: 'evals_result' argument is deprecated and will be removed in a future release of LightGBM. Pass 'record_evaluation()' callback via 'callbacks' argument instead.\n",
      "  _log_warning(\"'evals_result' argument is deprecated and will be removed in a future release of LightGBM. \"\n"
     ]
    },
    {
     "name": "stdout",
     "output_type": "stream",
     "text": [
      "[LightGBM] [Warning] Auto-choosing col-wise multi-threading, the overhead of testing was 0.077085 seconds.\n",
      "You can set `force_col_wise=true` to remove the overhead.\n",
      "[LightGBM] [Info] Total Bins 266385\n",
      "[LightGBM] [Info] Number of data points in the train set: 25176, number of used features: 786\n",
      "[LightGBM] [Info] Start training from score 118435.786702\n"
     ]
    },
    {
     "name": "stderr",
     "output_type": "stream",
     "text": [
      "/Users/koshidatatsuo/python/signate/mynabi/venv/lib/python3.10/site-packages/lightgbm/basic.py:1780: UserWarning: Overriding the parameters from Reference Dataset.\n",
      "  _log_warning('Overriding the parameters from Reference Dataset.')\n",
      "/Users/koshidatatsuo/python/signate/mynabi/venv/lib/python3.10/site-packages/lightgbm/basic.py:1513: UserWarning: categorical_column in param dict is overridden.\n",
      "  _log_warning(f'{cat_alias} in param dict is overridden.')\n"
     ]
    },
    {
     "name": "stdout",
     "output_type": "stream",
     "text": [
      "Training until validation scores don't improve for 10 rounds\n",
      "[10]\ttraining's rmse: 48921.2\tvalid_1's rmse: 49476.2\n",
      "[20]\ttraining's rmse: 34788.1\tvalid_1's rmse: 35969.2\n",
      "[30]\ttraining's rmse: 26424.5\tvalid_1's rmse: 28720.2\n",
      "[40]\ttraining's rmse: 21546.9\tvalid_1's rmse: 24861.6\n",
      "[50]\ttraining's rmse: 18633\tvalid_1's rmse: 22576.9\n",
      "[60]\ttraining's rmse: 16745.9\tvalid_1's rmse: 21520.1\n",
      "[70]\ttraining's rmse: 15374.1\tvalid_1's rmse: 20907.3\n",
      "[80]\ttraining's rmse: 14314.5\tvalid_1's rmse: 20507.3\n",
      "[90]\ttraining's rmse: 13447.1\tvalid_1's rmse: 20421.4\n",
      "[100]\ttraining's rmse: 12762\tvalid_1's rmse: 20365.4\n",
      "[110]\ttraining's rmse: 12172.6\tvalid_1's rmse: 20287.1\n",
      "[120]\ttraining's rmse: 11633.9\tvalid_1's rmse: 20220.4\n",
      "Early stopping, best iteration is:\n",
      "[117]\ttraining's rmse: 11791.6\tvalid_1's rmse: 20200.8\n",
      "Start training...\n"
     ]
    },
    {
     "name": "stderr",
     "output_type": "stream",
     "text": [
      "/Users/koshidatatsuo/python/signate/mynabi/venv/lib/python3.10/site-packages/lightgbm/engine.py:181: UserWarning: 'early_stopping_rounds' argument is deprecated and will be removed in a future release of LightGBM. Pass 'early_stopping()' callback via 'callbacks' argument instead.\n",
      "  _log_warning(\"'early_stopping_rounds' argument is deprecated and will be removed in a future release of LightGBM. \"\n",
      "/Users/koshidatatsuo/python/signate/mynabi/venv/lib/python3.10/site-packages/lightgbm/basic.py:2068: UserWarning: categorical_feature in Dataset is overridden.\n",
      "New categorical_feature is ['100m^2以上', '75m^2以上100m^2未満', 'D', 'K', 'L', 'S', '定期借家', '所在地', '最寄り駅']\n",
      "  _log_warning('categorical_feature in Dataset is overridden.\\n'\n",
      "/Users/koshidatatsuo/python/signate/mynabi/venv/lib/python3.10/site-packages/lightgbm/engine.py:239: UserWarning: 'verbose_eval' argument is deprecated and will be removed in a future release of LightGBM. Pass 'log_evaluation()' callback via 'callbacks' argument instead.\n",
      "  _log_warning(\"'verbose_eval' argument is deprecated and will be removed in a future release of LightGBM. \"\n",
      "/Users/koshidatatsuo/python/signate/mynabi/venv/lib/python3.10/site-packages/lightgbm/engine.py:260: UserWarning: 'evals_result' argument is deprecated and will be removed in a future release of LightGBM. Pass 'record_evaluation()' callback via 'callbacks' argument instead.\n",
      "  _log_warning(\"'evals_result' argument is deprecated and will be removed in a future release of LightGBM. \"\n"
     ]
    },
    {
     "name": "stdout",
     "output_type": "stream",
     "text": [
      "[LightGBM] [Warning] Auto-choosing col-wise multi-threading, the overhead of testing was 0.080788 seconds.\n",
      "You can set `force_col_wise=true` to remove the overhead.\n",
      "[LightGBM] [Info] Total Bins 266381\n",
      "[LightGBM] [Info] Number of data points in the train set: 25176, number of used features: 786\n",
      "[LightGBM] [Info] Start training from score 117892.049333\n"
     ]
    },
    {
     "name": "stderr",
     "output_type": "stream",
     "text": [
      "/Users/koshidatatsuo/python/signate/mynabi/venv/lib/python3.10/site-packages/lightgbm/basic.py:1780: UserWarning: Overriding the parameters from Reference Dataset.\n",
      "  _log_warning('Overriding the parameters from Reference Dataset.')\n",
      "/Users/koshidatatsuo/python/signate/mynabi/venv/lib/python3.10/site-packages/lightgbm/basic.py:1513: UserWarning: categorical_column in param dict is overridden.\n",
      "  _log_warning(f'{cat_alias} in param dict is overridden.')\n"
     ]
    },
    {
     "name": "stdout",
     "output_type": "stream",
     "text": [
      "Training until validation scores don't improve for 10 rounds\n",
      "[10]\ttraining's rmse: 48908.5\tvalid_1's rmse: 49058.6\n",
      "[20]\ttraining's rmse: 34959.9\tvalid_1's rmse: 35071.1\n",
      "[30]\ttraining's rmse: 26640.5\tvalid_1's rmse: 27616.6\n",
      "[40]\ttraining's rmse: 21833.4\tvalid_1's rmse: 23563.1\n",
      "[50]\ttraining's rmse: 18832.4\tvalid_1's rmse: 21217.2\n",
      "[60]\ttraining's rmse: 16866.2\tvalid_1's rmse: 19970.2\n",
      "[70]\ttraining's rmse: 15528.7\tvalid_1's rmse: 19187.7\n",
      "[80]\ttraining's rmse: 14505.4\tvalid_1's rmse: 18879.1\n",
      "[90]\ttraining's rmse: 13670.9\tvalid_1's rmse: 18619.5\n",
      "[100]\ttraining's rmse: 12989.1\tvalid_1's rmse: 18441.4\n",
      "[110]\ttraining's rmse: 12429.5\tvalid_1's rmse: 18384\n",
      "[120]\ttraining's rmse: 11946.4\tvalid_1's rmse: 18272.3\n",
      "[130]\ttraining's rmse: 11495.4\tvalid_1's rmse: 18235.3\n",
      "[140]\ttraining's rmse: 11083.1\tvalid_1's rmse: 18173.8\n",
      "[150]\ttraining's rmse: 10697.5\tvalid_1's rmse: 18132.6\n",
      "[160]\ttraining's rmse: 10354.1\tvalid_1's rmse: 18115.9\n",
      "[170]\ttraining's rmse: 10031.2\tvalid_1's rmse: 18088.6\n",
      "[180]\ttraining's rmse: 9712.6\tvalid_1's rmse: 18045\n",
      "[190]\ttraining's rmse: 9427.55\tvalid_1's rmse: 18040.8\n",
      "Early stopping, best iteration is:\n",
      "[184]\ttraining's rmse: 9593\tvalid_1's rmse: 18018.2\n",
      "Start training...\n"
     ]
    },
    {
     "name": "stderr",
     "output_type": "stream",
     "text": [
      "/Users/koshidatatsuo/python/signate/mynabi/venv/lib/python3.10/site-packages/lightgbm/engine.py:181: UserWarning: 'early_stopping_rounds' argument is deprecated and will be removed in a future release of LightGBM. Pass 'early_stopping()' callback via 'callbacks' argument instead.\n",
      "  _log_warning(\"'early_stopping_rounds' argument is deprecated and will be removed in a future release of LightGBM. \"\n",
      "/Users/koshidatatsuo/python/signate/mynabi/venv/lib/python3.10/site-packages/lightgbm/basic.py:2068: UserWarning: categorical_feature in Dataset is overridden.\n",
      "New categorical_feature is ['100m^2以上', '75m^2以上100m^2未満', 'D', 'K', 'L', 'S', '定期借家', '所在地', '最寄り駅']\n",
      "  _log_warning('categorical_feature in Dataset is overridden.\\n'\n",
      "/Users/koshidatatsuo/python/signate/mynabi/venv/lib/python3.10/site-packages/lightgbm/engine.py:239: UserWarning: 'verbose_eval' argument is deprecated and will be removed in a future release of LightGBM. Pass 'log_evaluation()' callback via 'callbacks' argument instead.\n",
      "  _log_warning(\"'verbose_eval' argument is deprecated and will be removed in a future release of LightGBM. \"\n",
      "/Users/koshidatatsuo/python/signate/mynabi/venv/lib/python3.10/site-packages/lightgbm/engine.py:260: UserWarning: 'evals_result' argument is deprecated and will be removed in a future release of LightGBM. Pass 'record_evaluation()' callback via 'callbacks' argument instead.\n",
      "  _log_warning(\"'evals_result' argument is deprecated and will be removed in a future release of LightGBM. \"\n"
     ]
    },
    {
     "name": "stdout",
     "output_type": "stream",
     "text": [
      "[LightGBM] [Warning] Auto-choosing col-wise multi-threading, the overhead of testing was 0.073659 seconds.\n",
      "You can set `force_col_wise=true` to remove the overhead.\n",
      "[LightGBM] [Info] Total Bins 266408\n",
      "[LightGBM] [Info] Number of data points in the train set: 25176, number of used features: 786\n",
      "[LightGBM] [Info] Start training from score 118280.850532\n"
     ]
    },
    {
     "name": "stderr",
     "output_type": "stream",
     "text": [
      "/Users/koshidatatsuo/python/signate/mynabi/venv/lib/python3.10/site-packages/lightgbm/basic.py:1780: UserWarning: Overriding the parameters from Reference Dataset.\n",
      "  _log_warning('Overriding the parameters from Reference Dataset.')\n",
      "/Users/koshidatatsuo/python/signate/mynabi/venv/lib/python3.10/site-packages/lightgbm/basic.py:1513: UserWarning: categorical_column in param dict is overridden.\n",
      "  _log_warning(f'{cat_alias} in param dict is overridden.')\n"
     ]
    },
    {
     "name": "stdout",
     "output_type": "stream",
     "text": [
      "Training until validation scores don't improve for 10 rounds\n",
      "[10]\ttraining's rmse: 49008.7\tvalid_1's rmse: 48062.5\n",
      "[20]\ttraining's rmse: 34588.3\tvalid_1's rmse: 35876.9\n",
      "[30]\ttraining's rmse: 25915.5\tvalid_1's rmse: 29381.8\n",
      "[40]\ttraining's rmse: 21039.2\tvalid_1's rmse: 26260.8\n",
      "[50]\ttraining's rmse: 17883\tvalid_1's rmse: 24623.6\n",
      "[60]\ttraining's rmse: 15881.5\tvalid_1's rmse: 23697.6\n",
      "[70]\ttraining's rmse: 14551.4\tvalid_1's rmse: 23140.2\n",
      "[80]\ttraining's rmse: 13597.9\tvalid_1's rmse: 22815.5\n",
      "[90]\ttraining's rmse: 12815.7\tvalid_1's rmse: 22550.6\n",
      "[100]\ttraining's rmse: 12143.7\tvalid_1's rmse: 22405.8\n",
      "[110]\ttraining's rmse: 11585.8\tvalid_1's rmse: 22245.4\n",
      "[120]\ttraining's rmse: 11114\tvalid_1's rmse: 22150.9\n",
      "[130]\ttraining's rmse: 10679.7\tvalid_1's rmse: 22043.5\n",
      "[140]\ttraining's rmse: 10290.9\tvalid_1's rmse: 22014.5\n",
      "[150]\ttraining's rmse: 9927.35\tvalid_1's rmse: 22003.6\n",
      "[160]\ttraining's rmse: 9606.6\tvalid_1's rmse: 21925.8\n",
      "[170]\ttraining's rmse: 9287.16\tvalid_1's rmse: 21888.3\n",
      "[180]\ttraining's rmse: 9007.48\tvalid_1's rmse: 21817.3\n",
      "[190]\ttraining's rmse: 8745.29\tvalid_1's rmse: 21751.9\n",
      "[200]\ttraining's rmse: 8511.25\tvalid_1's rmse: 21708.1\n",
      "[210]\ttraining's rmse: 8294.41\tvalid_1's rmse: 21675\n",
      "[220]\ttraining's rmse: 8077.47\tvalid_1's rmse: 21616.8\n",
      "[230]\ttraining's rmse: 7883.34\tvalid_1's rmse: 21559.7\n",
      "[240]\ttraining's rmse: 7693.82\tvalid_1's rmse: 21488.3\n",
      "[250]\ttraining's rmse: 7533.76\tvalid_1's rmse: 21430.1\n",
      "[260]\ttraining's rmse: 7363.12\tvalid_1's rmse: 21411\n",
      "[270]\ttraining's rmse: 7204.44\tvalid_1's rmse: 21367.1\n",
      "[280]\ttraining's rmse: 7047.01\tvalid_1's rmse: 21331.1\n",
      "[290]\ttraining's rmse: 6904.02\tvalid_1's rmse: 21288.7\n",
      "[300]\ttraining's rmse: 6771.87\tvalid_1's rmse: 21238.5\n",
      "[310]\ttraining's rmse: 6650.62\tvalid_1's rmse: 21228.5\n",
      "[320]\ttraining's rmse: 6528.39\tvalid_1's rmse: 21213.3\n",
      "[330]\ttraining's rmse: 6421.57\tvalid_1's rmse: 21180.5\n",
      "[340]\ttraining's rmse: 6312.7\tvalid_1's rmse: 21187.6\n",
      "Early stopping, best iteration is:\n",
      "[336]\ttraining's rmse: 6360.45\tvalid_1's rmse: 21166\n",
      "Start training...\n"
     ]
    },
    {
     "name": "stderr",
     "output_type": "stream",
     "text": [
      "/Users/koshidatatsuo/python/signate/mynabi/venv/lib/python3.10/site-packages/lightgbm/engine.py:181: UserWarning: 'early_stopping_rounds' argument is deprecated and will be removed in a future release of LightGBM. Pass 'early_stopping()' callback via 'callbacks' argument instead.\n",
      "  _log_warning(\"'early_stopping_rounds' argument is deprecated and will be removed in a future release of LightGBM. \"\n",
      "/Users/koshidatatsuo/python/signate/mynabi/venv/lib/python3.10/site-packages/lightgbm/basic.py:2068: UserWarning: categorical_feature in Dataset is overridden.\n",
      "New categorical_feature is ['100m^2以上', '75m^2以上100m^2未満', 'D', 'K', 'L', 'S', '定期借家', '所在地', '最寄り駅']\n",
      "  _log_warning('categorical_feature in Dataset is overridden.\\n'\n",
      "/Users/koshidatatsuo/python/signate/mynabi/venv/lib/python3.10/site-packages/lightgbm/engine.py:239: UserWarning: 'verbose_eval' argument is deprecated and will be removed in a future release of LightGBM. Pass 'log_evaluation()' callback via 'callbacks' argument instead.\n",
      "  _log_warning(\"'verbose_eval' argument is deprecated and will be removed in a future release of LightGBM. \"\n",
      "/Users/koshidatatsuo/python/signate/mynabi/venv/lib/python3.10/site-packages/lightgbm/engine.py:260: UserWarning: 'evals_result' argument is deprecated and will be removed in a future release of LightGBM. Pass 'record_evaluation()' callback via 'callbacks' argument instead.\n",
      "  _log_warning(\"'evals_result' argument is deprecated and will be removed in a future release of LightGBM. \"\n"
     ]
    },
    {
     "name": "stdout",
     "output_type": "stream",
     "text": [
      "[LightGBM] [Warning] Auto-choosing col-wise multi-threading, the overhead of testing was 0.077405 seconds.\n",
      "You can set `force_col_wise=true` to remove the overhead.\n",
      "[LightGBM] [Info] Total Bins 266332\n",
      "[LightGBM] [Info] Number of data points in the train set: 25176, number of used features: 786\n",
      "[LightGBM] [Info] Start training from score 118154.683071\n"
     ]
    },
    {
     "name": "stderr",
     "output_type": "stream",
     "text": [
      "/Users/koshidatatsuo/python/signate/mynabi/venv/lib/python3.10/site-packages/lightgbm/basic.py:1780: UserWarning: Overriding the parameters from Reference Dataset.\n",
      "  _log_warning('Overriding the parameters from Reference Dataset.')\n",
      "/Users/koshidatatsuo/python/signate/mynabi/venv/lib/python3.10/site-packages/lightgbm/basic.py:1513: UserWarning: categorical_column in param dict is overridden.\n",
      "  _log_warning(f'{cat_alias} in param dict is overridden.')\n"
     ]
    },
    {
     "name": "stdout",
     "output_type": "stream",
     "text": [
      "Training until validation scores don't improve for 10 rounds\n",
      "[10]\ttraining's rmse: 48693.3\tvalid_1's rmse: 51272.8\n",
      "[20]\ttraining's rmse: 35002.7\tvalid_1's rmse: 37280.8\n",
      "[30]\ttraining's rmse: 26901.8\tvalid_1's rmse: 29017.4\n",
      "[40]\ttraining's rmse: 22203.1\tvalid_1's rmse: 24356.6\n",
      "[50]\ttraining's rmse: 18970.7\tvalid_1's rmse: 21508.4\n",
      "[60]\ttraining's rmse: 16944.6\tvalid_1's rmse: 19932.8\n",
      "[70]\ttraining's rmse: 15594.7\tvalid_1's rmse: 19004.7\n",
      "[80]\ttraining's rmse: 14601.5\tvalid_1's rmse: 18418.6\n",
      "[90]\ttraining's rmse: 13811.2\tvalid_1's rmse: 18014.3\n",
      "[100]\ttraining's rmse: 13184.1\tvalid_1's rmse: 17768.4\n",
      "[110]\ttraining's rmse: 12661.4\tvalid_1's rmse: 17584.9\n",
      "[120]\ttraining's rmse: 12199.2\tvalid_1's rmse: 17423.1\n",
      "[130]\ttraining's rmse: 11795.1\tvalid_1's rmse: 17303.6\n",
      "[140]\ttraining's rmse: 11394.9\tvalid_1's rmse: 17209.1\n",
      "[150]\ttraining's rmse: 11027.5\tvalid_1's rmse: 17084.8\n",
      "[160]\ttraining's rmse: 10664.4\tvalid_1's rmse: 17039.6\n",
      "[170]\ttraining's rmse: 10358.3\tvalid_1's rmse: 16945\n",
      "[180]\ttraining's rmse: 10084.7\tvalid_1's rmse: 16873.4\n",
      "[190]\ttraining's rmse: 9801.72\tvalid_1's rmse: 16837.2\n",
      "[200]\ttraining's rmse: 9535.56\tvalid_1's rmse: 16811.1\n",
      "[210]\ttraining's rmse: 9296.66\tvalid_1's rmse: 16759.2\n",
      "[220]\ttraining's rmse: 9063.08\tvalid_1's rmse: 16716\n",
      "[230]\ttraining's rmse: 8846.65\tvalid_1's rmse: 16684.4\n",
      "[240]\ttraining's rmse: 8635.21\tvalid_1's rmse: 16650.3\n",
      "[250]\ttraining's rmse: 8445.42\tvalid_1's rmse: 16644\n",
      "[260]\ttraining's rmse: 8256.2\tvalid_1's rmse: 16611.4\n",
      "[270]\ttraining's rmse: 8070.73\tvalid_1's rmse: 16576.2\n",
      "[280]\ttraining's rmse: 7893.17\tvalid_1's rmse: 16565\n",
      "[290]\ttraining's rmse: 7725.1\tvalid_1's rmse: 16554.7\n",
      "Early stopping, best iteration is:\n",
      "[283]\ttraining's rmse: 7838.04\tvalid_1's rmse: 16544.5\n",
      "whole valid rmse: 18653.009759450924\n",
      "Start predicting...\n",
      "Plot metrics during training...\n"
     ]
    },
    {
     "data": {
      "image/png": "[encoded data removed]",
      "text/plain": [
       "<Figure size 640x480 with 1 Axes>"
      ]
     },
     "metadata": {},
     "output_type": "display_data"
    },
    {
     "data": {
      "text/html": [
       "<div>\n",
       "<style scoped>\n",
       "    .dataframe tbody tr th:only-of-type {\n",
       "        vertical-align: middle;\n",
       "    }\n",
       "\n",
       "    .dataframe tbody tr th {\n",
       "        vertical-align: top;\n",
       "    }\n",
       "\n",
       "    .dataframe thead th {\n",
       "        text-align: right;\n",
       "    }\n",
       "</style>\n",
       "<table border=\"1\" class=\"dataframe\">\n",
       "  <thead>\n",
       "    <tr style=\"text-align: right;\">\n",
       "      <th></th>\n",
       "      <th>importance</th>\n",
       "    </tr>\n",
       "  </thead>\n",
       "  <tbody>\n",
       "    <tr>\n",
       "      <th>面積</th>\n",
       "      <td>4.525002e+14</td>\n",
       "    </tr>\n",
       "    <tr>\n",
       "      <th>L</th>\n",
       "      <td>3.995189e+14</td>\n",
       "    </tr>\n",
       "    <tr>\n",
       "      <th>平均地価</th>\n",
       "      <td>2.003394e+14</td>\n",
       "    </tr>\n",
       "    <tr>\n",
       "      <th>最寄り駅</th>\n",
       "      <td>9.047677e+13</td>\n",
       "    </tr>\n",
       "    <tr>\n",
       "      <th>築年数</th>\n",
       "      <td>6.474215e+13</td>\n",
       "    </tr>\n",
       "    <tr>\n",
       "      <th>...</th>\n",
       "      <td>...</td>\n",
       "    </tr>\n",
       "    <tr>\n",
       "      <th>Roberta-text681</th>\n",
       "      <td>3.664193e+09</td>\n",
       "    </tr>\n",
       "    <tr>\n",
       "      <th>Roberta-text726</th>\n",
       "      <td>3.071994e+09</td>\n",
       "    </tr>\n",
       "    <tr>\n",
       "      <th>Roberta-text758</th>\n",
       "      <td>2.991845e+09</td>\n",
       "    </tr>\n",
       "    <tr>\n",
       "      <th>Roberta-text437</th>\n",
       "      <td>2.038579e+09</td>\n",
       "    </tr>\n",
       "    <tr>\n",
       "      <th>Roberta-text423</th>\n",
       "      <td>2.036825e+09</td>\n",
       "    </tr>\n",
       "  </tbody>\n",
       "</table>\n",
       "<p>786 rows × 1 columns</p>\n",
       "</div>"
      ],
      "text/plain": [
       "                   importance\n",
       "面積               4.525002e+14\n",
       "L                3.995189e+14\n",
       "平均地価             2.003394e+14\n",
       "最寄り駅             9.047677e+13\n",
       "築年数              6.474215e+13\n",
       "...                       ...\n",
       "Roberta-text681  3.664193e+09\n",
       "Roberta-text726  3.071994e+09\n",
       "Roberta-text758  2.991845e+09\n",
       "Roberta-text437  2.038579e+09\n",
       "Roberta-text423  2.036825e+09\n",
       "\n",
       "[786 rows x 1 columns]"
      ]
     },
     "metadata": {},
     "output_type": "display_data"
    }
   ],
   "source": [
    "n_split = 5\n",
    "cv = KFold(n_splits=n_split, shuffle=True, random_state=0)\n",
    "valid_rmses_list = []\n",
    "valid_GBDT = np.zeros(X_train.shape[0])\n",
    "for fold_id, (train_index, valid_index) in enumerate(cv.split(X_train)):\n",
    "    X_tr = X_train.loc[train_index,:]\n",
    "    X_val = X_train.loc[valid_index, :]\n",
    "    y_tr = y_train.loc[train_index]\n",
    "    y_val = y_train.loc[valid_index]\n",
    "\n",
    "    evals_result = {} \n",
    "    lgb_train = lgb.Dataset(X_tr, y_tr)\n",
    "    lgb_eval = lgb.Dataset(X_val, y_val, reference=lgb_train)\n",
    "\n",
    "    params = {\n",
    "        'objective':'regression',\n",
    "        'boosting_type':'gbdt',\n",
    "        'metrics':'rmse',\n",
    "        'learning_rate':0.05,\n",
    "        'reg_lambda':  5.009615137983937e-06,\n",
    "        'max_bin': 346,\n",
    "        'num_leaves': 91,\n",
    "    }\n",
    "\n",
    "    print('Start training...')\n",
    "    model = lgb.train(\n",
    "                        params,\n",
    "                        lgb_train, \n",
    "                        valid_sets=[lgb_train, lgb_eval], \n",
    "                        verbose_eval=10, \n",
    "                        num_boost_round=1000, \n",
    "                        early_stopping_rounds=10,\n",
    "                        categorical_feature = category_lists,\n",
    "                        evals_result=evals_result,\n",
    "                        )\n",
    "\n",
    "    pred_y_val = model.predict(X_val)\n",
    "    rmse = mean_squared_error(y_val, pred_y_val, squared=False)\n",
    "    valid_rmses_list.append(rmse)\n",
    "\n",
    "valid_rmse = np.mean(valid_rmses_list)\n",
    "print(\"whole valid rmse:\", valid_rmse)\n",
    "\n",
    "print('Start predicting...')\n",
    "y_pred = model.predict(X_test, num_iteration=model.best_iteration)\n",
    "print('Plot metrics during training...')\n",
    "ax = lgb.plot_metric(evals_result, metric='rmse')\n",
    "plt.show()\n",
    "# feature importanceを表示\n",
    "importance = pd.DataFrame(model.feature_importance(importance_type = \"gain\"), index=X_train.columns, columns=['importance'])\n",
    "df_importance = pd.DataFrame(importance)\n",
    "df_importance = df_importance.sort_values('importance', ascending=False) # 降順ソート\n",
    "display(df_importance)"
   ]
  },
  {
   "cell_type": "code",
   "execution_count": 39,
   "metadata": {},
   "outputs": [],
   "source": [
    "df = pd.read_csv('../data/outer_data/test.csv')\n",
    "id = df['id']\n",
    "y_pred = pd.DataFrame(y_pred)\n",
    "result = pd.concat([id, y_pred],axis=1)\n",
    "result.to_csv('../data/result_data/text_BERT1_result.csv',index=False)"
   ]
  },
  {
   "cell_type": "code",
   "execution_count": null,
   "metadata": {},
   "outputs": [],
   "source": []
  }
 ],
 "metadata": {
  "kernelspec": {
   "display_name": "Python 3.10.5 ('venv': venv)",
   "language": "python",
   "name": "python3"
  },
  "language_info": {
   "codemirror_mode": {
    "name": "ipython",
    "version": 3
   },
   "file_extension": ".py",
   "mimetype": "text/x-python",
   "name": "python",
   "nbconvert_exporter": "python",
   "pygments_lexer": "ipython3",
   "version": "3.10.5"
  },
  "orig_nbformat": 4,
  "vscode": {
   "interpreter": {
    "hash": "b37a52d913339e4f7edd98eba251795ba561325231c15b6137ab41e2758152be"
   }
  }
 },
 "nbformat": 4,
 "nbformat_minor": 2
}
