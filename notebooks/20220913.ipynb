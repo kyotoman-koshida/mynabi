{
 "cells": [
  {
   "cell_type": "markdown",
   "metadata": {},
   "source": [
    "東京２３区の各区における平均地価の外部データを取得したので、それを使ってモデルを動かしてみる！"
   ]
  },
  {
   "cell_type": "code",
   "execution_count": 1,
   "metadata": {},
   "outputs": [],
   "source": [
    "import pandas as pd"
   ]
  },
  {
   "cell_type": "markdown",
   "metadata": {},
   "source": [
    "２３区のデータ取り込み"
   ]
  },
  {
   "cell_type": "code",
   "execution_count": 27,
   "metadata": {},
   "outputs": [],
   "source": [
    "df_adachi = pd.read_csv('../data/handmade_data/block_aveprice_adachi2019.csv')\n",
    "df_arakawa = pd.read_csv('../data/handmade_data/block_aveprice_arakawa2019.csv')\n",
    "df_bunkyo = pd.read_csv('../data/handmade_data/block_aveprice_bunkyo2019.csv')\n",
    "df_chiyoda = pd.read_csv('../data/handmade_data/block_aveprice_chiyoda2019.csv')\n",
    "df_chuo = pd.read_csv('../data/handmade_data/block_aveprice_chuo2019.csv')\n",
    "df_edogawa = pd.read_csv('../data/handmade_data/block_aveprice_edogawa2019.csv')\n",
    "df_itabashi = pd.read_csv('../data/handmade_data/block_aveprice_itabashi2019.csv')\n",
    "df_katsushika = pd.read_csv('../data/handmade_data/block_aveprice_katsushika2019.csv')\n",
    "df_kita = pd.read_csv('../data/handmade_data/block_aveprice_kita2019.csv')\n",
    "df_koto = pd.read_csv('../data/handmade_data/block_aveprice_koto2019.csv')\n",
    "df_meguro = pd.read_csv('../data/handmade_data/block_aveprice_meguro2019.csv')\n",
    "df_minato = pd.read_csv('../data/handmade_data/block_aveprice_minato2019.csv')\n",
    "df_nakano = pd.read_csv('../data/handmade_data/block_aveprice_nakano2019.csv')\n",
    "df_nerima = pd.read_csv('../data/handmade_data/block_aveprice_nerima2019.csv')\n",
    "df_ota = pd.read_csv('../data/handmade_data/block_aveprice_ota2019.csv')\n",
    "df_setagaya = pd.read_csv('../data/handmade_data/block_aveprice_setagaya2019.csv')\n",
    "df_shibuya = pd.read_csv('../data/handmade_data/block_aveprice_shibuya2019.csv')\n",
    "df_shinagawa = pd.read_csv('../data/handmade_data/block_aveprice_shinagawa2019.csv')\n",
    "df_shinjuku = pd.read_csv('../data/handmade_data/block_aveprice_shinjuku2019.csv')\n",
    "df_suginami = pd.read_csv('../data/handmade_data/block_aveprice_suginami2019.csv')\n",
    "df_sumida = pd.read_csv('../data/handmade_data/block_aveprice_sumida2019.csv')\n",
    "df_taito = pd.read_csv('../data/handmade_data/block_aveprice_taito2019.csv')\n",
    "df_toshima = pd.read_csv('../data/handmade_data/block_aveprice_toshima2019.csv')\n",
    "\n",
    "df_23wards = pd.concat([\n",
    "    df_adachi,\n",
    "    df_arakawa,\n",
    "    df_bunkyo,\n",
    "    df_chiyoda,\n",
    "    df_chuo,\n",
    "    df_edogawa,\n",
    "    df_itabashi,\n",
    "    df_katsushika,\n",
    "    df_kita,\n",
    "    df_koto,\n",
    "    df_meguro,\n",
    "    df_minato,\n",
    "    df_nakano,\n",
    "    df_nerima,\n",
    "    df_ota,\n",
    "    df_setagaya,\n",
    "    df_shibuya,\n",
    "    df_shinjuku,\n",
    "    df_shinagawa,\n",
    "    df_suginami,\n",
    "    df_sumida,\n",
    "    df_taito,\n",
    "    df_toshima\n",
    "])\n",
    "df_23wards.columns = [['区町名', '平均地価']]"
   ]
  },
  {
   "cell_type": "markdown",
   "metadata": {},
   "source": [
    "カテゴリ化したデータとマージする"
   ]
  },
  {
   "cell_type": "code",
   "execution_count": null,
   "metadata": {},
   "outputs": [],
   "source": []
  }
 ],
 "metadata": {
  "kernelspec": {
   "display_name": "Python 3.10.5 ('venv': venv)",
   "language": "python",
   "name": "python3"
  },
  "language_info": {
   "codemirror_mode": {
    "name": "ipython",
    "version": 3
   },
   "file_extension": ".py",
   "mimetype": "text/x-python",
   "name": "python",
   "nbconvert_exporter": "python",
   "pygments_lexer": "ipython3",
   "version": "3.10.5"
  },
  "orig_nbformat": 4,
  "vscode": {
   "interpreter": {
    "hash": "b37a52d913339e4f7edd98eba251795ba561325231c15b6137ab41e2758152be"
   }
  }
 },
 "nbformat": 4,
 "nbformat_minor": 2
}
