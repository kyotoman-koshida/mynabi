{
 "cells": [
  {
   "cell_type": "markdown",
   "metadata": {},
   "source": [
    "### 近隣1kmに入る物件の特徴量から、新規特徴量を生成する！"
   ]
  },
  {
   "cell_type": "code",
   "execution_count": 2,
   "metadata": {},
   "outputs": [],
   "source": [
    "import pandas as pd\n",
    "import numpy as np\n",
    "import matplotlib.pyplot as plt\n",
    "from sklearn.model_selection import train_test_split\n",
    "import scipy as sp\n",
    "import lightgbm as lgb\n",
    "import category_encoders as ce\n",
    "# import mojimoji\n",
    "import re\n",
    "from cmath import nan\n",
    "from sklearn.ensemble import RandomForestRegressor\n",
    "from sklearn.metrics import accuracy_score\n",
    "import optuna\n",
    "from sklearn.metrics import mean_squared_error\n",
    "import japanize_matplotlib\n",
    "from sklearn.model_selection import KFold\n",
    "import xgboost\n",
    "from catboost import CatBoostRegressor\n",
    "from catboost import Pool\n",
    "\n",
    "###訓練データの読み込み\n",
    "house_age = pd.read_csv('../data/handmade_data/house_age.csv')\n",
    "area_size = pd.read_csv('../data/handmade_data/area_size.csv')\n",
    "room_arrange = pd.read_csv('../data/handmade_data/room_arrange.csv')\n",
    "contract_span = pd.read_csv('../data/handmade_data/contract_span.csv')#欠損値をゼロ埋めした契約期間\n",
    "contract_span2 = pd.read_csv('../data/handmade_data/contract_span2.csv')#欠損値を欠損値のままにした契約期間\n",
    "reg_rent = pd.read_csv('../data/handmade_data/reg_rent.csv')\n",
    "floor_scores = pd.read_csv('../data/handmade_data/floor_scores.csv')#「所在階」と「全体の階数」が連動して欠損値になる場合のある「所在階」\n",
    "floor_scores2 = pd.read_csv('../data/handmade_data/floor_scores2.csv')#「所在階」と「全体の階数」が独立している「所在階」\n",
    "Floor_scores = pd.read_csv('../data/handmade_data/capital_floor_scores.csv')#「所在階」と「全体の階数」が連動して欠損値になる場合のある「全体の階数」\n",
    "Floor_scores2 = pd.read_csv('../data/handmade_data/capital_floor_scores2.csv')#「所在階」と「全体の階数」が独立している「全体の階数」\n",
    "stations = pd.read_csv('../data/handmade_data/stations.csv')\n",
    "minits = pd.read_csv('../data/handmade_data/minits.csv')\n",
    "addresses = pd.read_csv('../data/handmade_data/addresses.csv')\n",
    "room_arrange = pd.read_csv('../data/handmade_data/room_arrange.csv')\n",
    "building = pd.read_csv('../data/handmade_data/building.csv')\n",
    "buildings = pd.read_csv('../data/handmade_data/buildings.csv')\n",
    "land_aveprice = pd.read_csv('../data/handmade_data/land_aveprice.csv')\n",
    "land_aveprice.columns = ['平均地価']\n",
    "over110m2 = pd.read_csv('../data/handmade_data/over110m2.csv')\n",
    "over100m2 = pd.read_csv('../data/handmade_data/over100m2.csv')\n",
    "over90m2 = pd.read_csv('../data/handmade_data/over90m2.csv')\n",
    "bt75and100m2 = pd.read_csv('../data/handmade_data/bt75and100m2.csv')\n",
    "bt50and75m2 = pd.read_csv('../data/handmade_data/bt50and75m2.csv')\n",
    "sepa_bath_toilets = pd.read_csv('../data/handmade_data/sepa_bath_toilets.csv')\n",
    "sepa_bath_toilets.columns = ['バス・トイレ別']\n",
    "washlets = pd.read_csv('../data/handmade_data/washlets.csv')\n",
    "area_per_rooms = pd.read_csv('../data/handmade_data/area_per_rooms.csv')\n",
    "kitchen_points = pd.read_csv('../data/handmade_data/kitchen_points.csv')\n",
    "equipments = pd.read_csv('../data/handmade_data/equipments.csv')\n",
    "latitude_longitude = pd.read_csv('../data/handmade_data/latitude_longitude.csv')\n",
    "broadcasts = pd.read_csv('../data/handmade_data/broadcasts.csv')\n",
    "stations_te = pd.read_csv('../data/handmade_data/stations_te.csv')\n",
    "\n",
    "rent = pd.read_csv('../data/handmade_data/rent.csv')\n",
    "\n",
    "\n",
    "##テストデータの読み込み\n",
    "test_house_age = pd.read_csv('../data/test_data/test_house_age.csv')\n",
    "test_area_size = pd.read_csv('../data/test_data/test_area_size.csv')\n",
    "test_room_arrange = pd.read_csv('../data/test_data/test_room_arrange.csv')\n",
    "test_contract_span = pd.read_csv('../data/test_data/test_contract_span.csv')\n",
    "test_contract_span2 = pd.read_csv('../data/test_data/test_contract_span2.csv')\n",
    "test_contract_span2.columns = ['契約期間']\n",
    "test_reg_rent = pd.read_csv('../data/test_data/test_reg_rent.csv')\n",
    "test_floor_scores = pd.read_csv('../data/test_data/test_floor_scores.csv')\n",
    "test_floor_scores2 = pd.read_csv('../data/test_data/test_floor_scores2.csv')\n",
    "test_Floor_scores = pd.read_csv('../data/test_data/test_capital_floor_scores.csv')\n",
    "test_Floor_scores2 = pd.read_csv('../data/test_data/test_capital_floor_scores2.csv')\n",
    "test_stations = pd.read_csv('../data/test_data/test_stations.csv')\n",
    "test_minits = pd.read_csv('../data/test_data/test_minits.csv')\n",
    "test_addresses = pd.read_csv('../data/test_data/test_addresses.csv')\n",
    "test_room_arrange = pd.read_csv('../data/test_data/test_room_arrange.csv')\n",
    "test_building = pd.read_csv('../data/test_data/test_building.csv')\n",
    "test_buildings = pd.read_csv('../data/test_data/test_buildings.csv')\n",
    "test_land_aveprice = pd.read_csv('../data/test_data/test_land_aveprice.csv')\n",
    "test_land_aveprice.columns = ['平均地価']\n",
    "test_over110m2 = pd.read_csv('../data/test_data/test_over110m2.csv')\n",
    "test_over100m2 = pd.read_csv('../data/test_data/test_over100m2.csv')\n",
    "test_over90m2 = pd.read_csv('../data/test_data/test_over90m2.csv')\n",
    "test_bt75and100m2 = pd.read_csv('../data/test_data/test_bt75and100m2.csv')\n",
    "test_bt50and75m2 = pd.read_csv('../data/test_data/test_bt50and75m2.csv')\n",
    "test_sepa_bath_toilets = pd.read_csv('../data/test_data/test_sepa_bath_toilets.csv')\n",
    "test_sepa_bath_toilets.columns = ['バス・トイレ別']\n",
    "test_washlets = pd.read_csv('../data/test_data/test_washlets.csv')\n",
    "test_area_per_rooms = pd.read_csv('../data/test_data/test_area_per_rooms.csv')\n",
    "test_kitchen_points = pd.read_csv('../data/test_data/test_kitchen_points.csv')\n",
    "test_equipments = pd.read_csv('../data/test_data/test_equipments.csv')\n",
    "test_latitude_longitude = pd.read_csv('../data/test_data/test_latitude_longitude.csv')\n",
    "test_broadcasts = pd.read_csv('../data/test_data/test_broadcasts.csv')\n",
    "test_stations_te = pd.read_csv('../data/test_data/test_stations_te.csv')"
   ]
  },
  {
   "cell_type": "code",
   "execution_count": 6,
   "metadata": {},
   "outputs": [
    {
     "data": {
      "text/plain": [
       "13"
      ]
     },
     "execution_count": 6,
     "metadata": {},
     "output_type": "execute_result"
    }
   ],
   "source": [
    "stations.index[13]"
   ]
  },
  {
   "cell_type": "code",
   "execution_count": 8,
   "metadata": {},
   "outputs": [],
   "source": [
    "list = [[1,2],[3,4],[5,6]]"
   ]
  },
  {
   "cell_type": "code",
   "execution_count": 12,
   "metadata": {},
   "outputs": [],
   "source": [
    "df = pd.DataFrame(list)"
   ]
  },
  {
   "cell_type": "code",
   "execution_count": 20,
   "metadata": {},
   "outputs": [
    {
     "data": {
      "text/plain": [
       "2    6\n",
       "1    4\n",
       "Name: 1, dtype: int64"
      ]
     },
     "execution_count": 20,
     "metadata": {},
     "output_type": "execute_result"
    }
   ],
   "source": [
    "df[1].sort_values(ascending=False)[:2]"
   ]
  },
  {
   "cell_type": "code",
   "execution_count": null,
   "metadata": {},
   "outputs": [],
   "source": [
    "# 近い物件を10件取得する関数\n",
    "def get_neibours(df, n):\n",
    "    this_lat = df.loc[n]['平均緯度']\n",
    "    this_lon = df.lpc[n]['平均経度']\n",
    "\n",
    "    distances = []\n",
    "    for i in range(len(df)):\n",
    "        if i != n:\n",
    "            distance_square = (this_lat - df.loc[i]['平均緯度'])**2 + (this_lon - df.loc[i]['平均経度'])**2\n",
    "            distances.append([df.index[i],distance_square])#比較した物件のidと、そこまでの距離を渡す\n",
    "\n",
    "    # 近い順に並び替えて、近いほうから10件のidを取得する\n",
    "    distances = pd.DataFrame(distances)\n",
    "    neibours = distances[1].sort_values()[:10]\n",
    "    neibour_ids = neibours.index\n",
    "    return neibour_ids\n",
    "\n",
    "# 近い物件の平均\n"
   ]
  }
 ],
 "metadata": {
  "kernelspec": {
   "display_name": "Python 3.10.5 ('venv': venv)",
   "language": "python",
   "name": "python3"
  },
  "language_info": {
   "codemirror_mode": {
    "name": "ipython",
    "version": 3
   },
   "file_extension": ".py",
   "mimetype": "text/x-python",
   "name": "python",
   "nbconvert_exporter": "python",
   "pygments_lexer": "ipython3",
   "version": "3.10.5"
  },
  "orig_nbformat": 4,
  "vscode": {
   "interpreter": {
    "hash": "a98cf4a852aef637b580117f8642dec837d1a50d3f811fd67a8b5a8fce3bf795"
   }
  }
 },
 "nbformat": 4,
 "nbformat_minor": 2
}
